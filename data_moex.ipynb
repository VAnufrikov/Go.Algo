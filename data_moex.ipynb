{
 "cells": [
  {
   "cell_type": "code",
   "execution_count": 2,
   "outputs": [
    {
     "name": "stdout",
     "output_type": "stream",
     "text": [
      "Requirement already satisfied: pytz in /Users/valentin/anaconda3/envs/Go_Algo_3_10/lib/python3.10/site-packages (2023.3.post1)\r\n"
     ]
    }
   ],
   "source": [
    "!pip install pytz"
   ],
   "metadata": {
    "collapsed": false,
    "ExecuteTime": {
     "end_time": "2023-12-03T11:10:35.620560Z",
     "start_time": "2023-12-03T11:10:33.122970Z"
    }
   },
   "id": "245ecea3eb87c20"
  },
  {
   "cell_type": "code",
   "execution_count": 3,
   "id": "initial_id",
   "metadata": {
    "collapsed": true,
    "ExecuteTime": {
     "end_time": "2023-12-03T11:10:35.632700Z",
     "start_time": "2023-12-03T11:10:35.621478Z"
    }
   },
   "outputs": [],
   "source": [
    "import pandas as pd\n",
    "from moexalgo import Market, Ticker"
   ]
  },
  {
   "cell_type": "code",
   "execution_count": null,
   "outputs": [],
   "source": [
    "df = pd.read_csv('data/ListingSecurityList.csv', engine='python', encoding='cp1251', sep=';')"
   ],
   "metadata": {
    "collapsed": false,
    "is_executing": true
   },
   "id": "138d3d6d109de82b"
  },
  {
   "cell_type": "code",
   "execution_count": 71,
   "outputs": [
    {
     "data": {
      "text/plain": "Index(['DATESTAMP', 'INSTRUMENT_ID', 'LIST_SECTION', 'RN', 'SUPERTYPE',\n       'INSTRUMENT_TYPE', 'INSTRUMENT_CATEGORY', 'TRADE_CODE', 'ISIN',\n       'REGISTRY_NUMBER', 'REGISTRY_DATE', 'EMITENT_FULL_NAME', 'INN',\n       'NOMINAL', 'CURRENCY', 'ISSUE_AMOUNT', 'DECISION_DATE', 'OKSM_EDR',\n       'ONLY_EMITENT_FULL_NAME', 'REG_COUNTRY', 'QUALIFIED_INVESTOR',\n       'HAS_PROSPECTUS', 'IS_CONCESSION_AGREEMENT', 'IS_MORTGAGE_AGENT',\n       'INCLUDED_DURING_CREATION', 'SECURITY_HAS_DEFAULT',\n       'SECURITY_HAS_TECH_DEFAULT', 'INCLUDED_WITHOUT_COMPLIANCE',\n       'RETAINED_WITHOUT_COMPLIANCE', 'HAS_RESTRICTION_CIRCULATION',\n       'LISTING_LEVEL_HIST', 'OBLIGATION_PROGRAM_RN', 'COUPON_PERCENT',\n       'EARLY_REPAYMENT', 'EARLY_REDEMPTION', 'ISS_BOARDS', 'OTHER_SECURITIES',\n       'DISCLOSURE_PART_PAGE', 'DISCLOSURE_RF_INFO_PAGE', 'INCLUDE_DATE',\n       'CFI_FOREIGN', 'ISIN_UNDERLYING_ASSET', 'CFI_UNDERLYING_ASSET',\n       'PIF_STATUS', 'PIF_STATUS_HIST', 'OBLIGATION_PROGRAM_DATE',\n       'ISS_BOARDS_HASH', 'OTHER_SECURITIES_HASH', 'CACHING_TIMESTAMP',\n       'Unnamed: 49'],\n      dtype='object')"
     },
     "execution_count": 71,
     "metadata": {},
     "output_type": "execute_result"
    }
   ],
   "source": [
    "df.columns"
   ],
   "metadata": {
    "collapsed": false,
    "ExecuteTime": {
     "end_time": "2023-12-02T13:12:07.643494Z",
     "start_time": "2023-12-02T13:12:07.636610Z"
    }
   },
   "id": "77b9b32c9d2e20d1"
  },
  {
   "cell_type": "code",
   "execution_count": 40,
   "outputs": [],
   "source": [
    "df = df[['TRADE_CODE','EMITENT_FULL_NAME','INSTRUMENT_TYPE', 'LIST_SECTION', 'INSTRUMENT_CATEGORY','CURRENCY','NOMINAL','ISSUE_AMOUNT']]"
   ],
   "metadata": {
    "collapsed": false,
    "ExecuteTime": {
     "end_time": "2023-12-02T12:10:16.916846Z",
     "start_time": "2023-12-02T12:10:16.903884Z"
    }
   },
   "id": "c93b7a9c00f24931"
  },
  {
   "cell_type": "code",
   "execution_count": 58,
   "outputs": [
    {
     "data": {
      "text/plain": "'CBOM'"
     },
     "execution_count": 58,
     "metadata": {},
     "output_type": "execute_result"
    }
   ],
   "source": [
    "df['TRADE_CODE'][11]"
   ],
   "metadata": {
    "collapsed": false,
    "ExecuteTime": {
     "end_time": "2023-12-02T12:55:48.667489Z",
     "start_time": "2023-12-02T12:55:48.660110Z"
    }
   },
   "id": "ed6f3cd19f9cad84"
  },
  {
   "cell_type": "code",
   "execution_count": 59,
   "outputs": [],
   "source": [
    "df = df.reset_index(drop=True)"
   ],
   "metadata": {
    "collapsed": false,
    "ExecuteTime": {
     "end_time": "2023-12-02T12:56:16.761282Z",
     "start_time": "2023-12-02T12:56:16.758385Z"
    }
   },
   "id": "c8dfd4e990fa15a8"
  },
  {
   "cell_type": "code",
   "execution_count": 74,
   "outputs": [
    {
     "data": {
      "text/plain": "              DATESTAMP  INSTRUMENT_ID    LIST_SECTION   RN SUPERTYPE  \\\n11   01.12.2023 0:00:00           5771  Первый уровень   12     Акции   \n26   01.12.2023 0:00:00           5201  Первый уровень   27     Акции   \n27   01.12.2023 0:00:00           5923  Первый уровень   28     Акции   \n41   01.12.2023 0:00:00           3762  Первый уровень   42     Акции   \n101  01.12.2023 0:00:00             99  Первый уровень  102     Акции   \n\n                 INSTRUMENT_TYPE  \\\n11            Акция обыкновенная   \n26   Акции иностранного эмитента   \n27   Акции иностранного эмитента   \n41            Акция обыкновенная   \n101           Акция обыкновенная   \n\n                                   INSTRUMENT_CATEGORY TRADE_CODE  \\\n11                                  акции обыкновенные       CBOM   \n26         Акции обыкновенные бездокументарные именные       POLY   \n27   Обыкновенные именные бездокументарные акции кл...       YNDX   \n41                                  акции обыкновенные       ALRS   \n101                                 акции обыкновенные       VTBR   \n\n             ISIN REGISTRY_NUMBER       REGISTRY_DATE  \\\n11   RU000A0JUG31       10101978B  18.08.1999 0:00:00   \n26   JE00B6T5S470             NaN                 NaN   \n27   NL0009805522             NaN                 NaN   \n41   RU0007252813    1-03-40046-N  25.08.2011 0:00:00   \n101  RU000A0JP5V6       10401000B  29.09.2006 0:00:00   \n\n                                     EMITENT_FULL_NAME           INN NOMINAL  \\\n11   \"МОСКОВСКИЙ КРЕДИТНЫЙ БАНК\" (публичное акционе...  7.734203e+09       1   \n26                         Polymetal International plc           NaN    0,03   \n27        Public Limited Liability Company Yandex N.V.           NaN    0,01   \n41   Акционерная компания \"АЛРОСА\" (публичное акцио...  1.433000e+09     0,5   \n101          Банк ВТБ (публичное акционерное общество)  7.702070e+09    0,01   \n\n       CURRENCY    ISSUE_AMOUNT       DECISION_DATE OKSM_EDR  \\\n11        Рубль     33429709866  11.03.2014 0:00:00      NaN   \n26   Доллар США       515259819  14.06.2013 0:00:00      NaN   \n27         Евро       326342270  03.06.2014 0:00:00      NaN   \n41        Рубль      7364965630  23.11.2011 0:00:00      NaN   \n101       Рубль  26849669465190  28.04.2007 0:00:00      NaN   \n\n    ONLY_EMITENT_FULL_NAME REG_COUNTRY QUALIFIED_INVESTOR HAS_PROSPECTUS  \\\n11                     NaN         NaN                NaN              +   \n26                     NaN         NaN                NaN            NaN   \n27                     NaN         NaN                NaN            NaN   \n41                     NaN         NaN                NaN              +   \n101                    NaN         NaN                NaN              +   \n\n    IS_CONCESSION_AGREEMENT IS_MORTGAGE_AGENT INCLUDED_DURING_CREATION  \\\n11                      NaN               NaN                      NaN   \n26                      NaN               NaN                      NaN   \n27                      NaN               NaN                      NaN   \n41                      NaN               NaN                      NaN   \n101                     NaN               NaN                      NaN   \n\n    SECURITY_HAS_DEFAULT SECURITY_HAS_TECH_DEFAULT  \\\n11                   NaN                       NaN   \n26                   NaN                       NaN   \n27                   NaN                       NaN   \n41                   NaN                       NaN   \n101                  NaN                       NaN   \n\n    INCLUDED_WITHOUT_COMPLIANCE RETAINED_WITHOUT_COMPLIANCE  \\\n11                          NaN                         NaN   \n26                          NaN                         NaN   \n27                          NaN                         NaN   \n41                          NaN                         NaN   \n101                         NaN                         NaN   \n\n    HAS_RESTRICTION_CIRCULATION  \\\n11                          NaN   \n26                          NaN   \n27                          NaN   \n41                          NaN   \n101                         NaN   \n\n                                    LISTING_LEVEL_HIST OBLIGATION_PROGRAM_RN  \\\n11   22.06.2015 Включение в Первый уровень 09.06.20...                   NaN   \n26   09.06.2014 Включение в Первый уровень 06.08.20...                   NaN   \n27   09.06.2014 Включение в Первый уровень 03.06.20...                   NaN   \n41   09.06.2014 Включение в Первый уровень 02.10.20...                   NaN   \n101  09.06.2014 Включение в Первый уровень 28.02.20...                   NaN   \n\n    COUPON_PERCENT EARLY_REPAYMENT EARLY_REDEMPTION  \\\n11             NaN             NaN              NaN   \n26             NaN             NaN              NaN   \n27             NaN             NaN              NaN   \n41             NaN             NaN              NaN   \n101            NaN             NaN              NaN   \n\n                                            ISS_BOARDS  \\\n11   РПС: Акции - адрес. РЕПО в ин. валюте: USD РЕП...   \n26   РПС: Акции - адрес. РЕПО в ин. валюте: USD РЕП...   \n27   РПС: Акции - адрес. РЕПО в ин. валюте: USD РЕП...   \n41   РПС: Акции - адрес. РЕПО в ин. валюте: USD РЕП...   \n101  РПС: Акции - адрес. РЕПО в ин. валюте: USD РЕП...   \n\n                                      OTHER_SECURITIES  \\\n11   Облигация биржевая, 4B020801978B, RU000A0JV3K6...   \n26                                                 NaN   \n27                                                 NaN   \n41   Облигация биржевая, 4B02-03-40046-N, RU000A101...   \n101  Облигация биржевая, 4B023001000B, RU000A0JV3Q3...   \n\n                                  DISCLOSURE_PART_PAGE  \\\n11                                  http:// www.mkb.ru   \n26   https://www.polymetalinternational.com/ru/inve...   \n27                https://ir.yandex/financial-releases   \n41       http://www.alrosa.ru/инвесторам-и-акционерам/   \n101                                  http://www.vtb.ru   \n\n                               DISCLOSURE_RF_INFO_PAGE        INCLUDE_DATE  \\\n11   http://www.e-disclosure.ru/portal/company.aspx...  22.06.2015 0:00:00   \n26   https://e-disclosure.ru/portal/company.aspx?id...  09.06.2014 0:00:00   \n27   https://e-disclosure.ru/portal/company.aspx?id...  09.06.2014 0:00:00   \n41   https://e-disclosure.ru/portal/company.aspx?id...  09.06.2014 0:00:00   \n101  http://www.e-disclosure.ru/portal/company.aspx...  09.06.2014 0:00:00   \n\n    CFI_FOREIGN ISIN_UNDERLYING_ASSET CFI_UNDERLYING_ASSET PIF_STATUS  \\\n11          NaN                   NaN                  NaN        NaN   \n26       ESVUFR                   NaN                  NaN        NaN   \n27       ESVUFN                   NaN                  NaN        NaN   \n41          NaN                   NaN                  NaN        NaN   \n101         NaN                   NaN                  NaN        NaN   \n\n    PIF_STATUS_HIST OBLIGATION_PROGRAM_DATE  \\\n11              NaN                     NaN   \n26              NaN                     NaN   \n27              NaN                     NaN   \n41              NaN                     NaN   \n101             NaN                     NaN   \n\n                              ISS_BOARDS_HASH  \\\n11   A60652A98E90C448583A793EB5E9E28DF2995C9A   \n26   394491565781EB41BF42CEA3121F14281F3037E3   \n27   394491565781EB41BF42CEA3121F14281F3037E3   \n41   A60652A98E90C448583A793EB5E9E28DF2995C9A   \n101  A60652A98E90C448583A793EB5E9E28DF2995C9A   \n\n                        OTHER_SECURITIES_HASH    CACHING_TIMESTAMP  \\\n11   6E2F5512613604886B4A11CCB20DEDF8C053E1C6  02.12.2023 10:26:12   \n26   DA39A3EE5E6B4B0D3255BFEF95601890AFD80709  02.12.2023 10:26:12   \n27   DA39A3EE5E6B4B0D3255BFEF95601890AFD80709  02.12.2023 10:26:12   \n41   3FED59C01CBE883FF3719BE731A6A0F0A03D72BE  02.12.2023 10:26:12   \n101  2A91C8E5DF920F2FA4CE99FAA143876E6DED45F4  02.12.2023 10:26:12   \n\n     Unnamed: 49  \n11           NaN  \n26           NaN  \n27           NaN  \n41           NaN  \n101          NaN  ",
      "text/html": "<div>\n<style scoped>\n    .dataframe tbody tr th:only-of-type {\n        vertical-align: middle;\n    }\n\n    .dataframe tbody tr th {\n        vertical-align: top;\n    }\n\n    .dataframe thead th {\n        text-align: right;\n    }\n</style>\n<table border=\"1\" class=\"dataframe\">\n  <thead>\n    <tr style=\"text-align: right;\">\n      <th></th>\n      <th>DATESTAMP</th>\n      <th>INSTRUMENT_ID</th>\n      <th>LIST_SECTION</th>\n      <th>RN</th>\n      <th>SUPERTYPE</th>\n      <th>INSTRUMENT_TYPE</th>\n      <th>INSTRUMENT_CATEGORY</th>\n      <th>TRADE_CODE</th>\n      <th>ISIN</th>\n      <th>REGISTRY_NUMBER</th>\n      <th>REGISTRY_DATE</th>\n      <th>EMITENT_FULL_NAME</th>\n      <th>INN</th>\n      <th>NOMINAL</th>\n      <th>CURRENCY</th>\n      <th>ISSUE_AMOUNT</th>\n      <th>DECISION_DATE</th>\n      <th>OKSM_EDR</th>\n      <th>ONLY_EMITENT_FULL_NAME</th>\n      <th>REG_COUNTRY</th>\n      <th>QUALIFIED_INVESTOR</th>\n      <th>HAS_PROSPECTUS</th>\n      <th>IS_CONCESSION_AGREEMENT</th>\n      <th>IS_MORTGAGE_AGENT</th>\n      <th>INCLUDED_DURING_CREATION</th>\n      <th>SECURITY_HAS_DEFAULT</th>\n      <th>SECURITY_HAS_TECH_DEFAULT</th>\n      <th>INCLUDED_WITHOUT_COMPLIANCE</th>\n      <th>RETAINED_WITHOUT_COMPLIANCE</th>\n      <th>HAS_RESTRICTION_CIRCULATION</th>\n      <th>LISTING_LEVEL_HIST</th>\n      <th>OBLIGATION_PROGRAM_RN</th>\n      <th>COUPON_PERCENT</th>\n      <th>EARLY_REPAYMENT</th>\n      <th>EARLY_REDEMPTION</th>\n      <th>ISS_BOARDS</th>\n      <th>OTHER_SECURITIES</th>\n      <th>DISCLOSURE_PART_PAGE</th>\n      <th>DISCLOSURE_RF_INFO_PAGE</th>\n      <th>INCLUDE_DATE</th>\n      <th>CFI_FOREIGN</th>\n      <th>ISIN_UNDERLYING_ASSET</th>\n      <th>CFI_UNDERLYING_ASSET</th>\n      <th>PIF_STATUS</th>\n      <th>PIF_STATUS_HIST</th>\n      <th>OBLIGATION_PROGRAM_DATE</th>\n      <th>ISS_BOARDS_HASH</th>\n      <th>OTHER_SECURITIES_HASH</th>\n      <th>CACHING_TIMESTAMP</th>\n      <th>Unnamed: 49</th>\n    </tr>\n  </thead>\n  <tbody>\n    <tr>\n      <th>11</th>\n      <td>01.12.2023 0:00:00</td>\n      <td>5771</td>\n      <td>Первый уровень</td>\n      <td>12</td>\n      <td>Акции</td>\n      <td>Акция обыкновенная</td>\n      <td>акции обыкновенные</td>\n      <td>CBOM</td>\n      <td>RU000A0JUG31</td>\n      <td>10101978B</td>\n      <td>18.08.1999 0:00:00</td>\n      <td>\"МОСКОВСКИЙ КРЕДИТНЫЙ БАНК\" (публичное акционе...</td>\n      <td>7.734203e+09</td>\n      <td>1</td>\n      <td>Рубль</td>\n      <td>33429709866</td>\n      <td>11.03.2014 0:00:00</td>\n      <td>NaN</td>\n      <td>NaN</td>\n      <td>NaN</td>\n      <td>NaN</td>\n      <td>+</td>\n      <td>NaN</td>\n      <td>NaN</td>\n      <td>NaN</td>\n      <td>NaN</td>\n      <td>NaN</td>\n      <td>NaN</td>\n      <td>NaN</td>\n      <td>NaN</td>\n      <td>22.06.2015 Включение в Первый уровень 09.06.20...</td>\n      <td>NaN</td>\n      <td>NaN</td>\n      <td>NaN</td>\n      <td>NaN</td>\n      <td>РПС: Акции - адрес. РЕПО в ин. валюте: USD РЕП...</td>\n      <td>Облигация биржевая, 4B020801978B, RU000A0JV3K6...</td>\n      <td>http:// www.mkb.ru</td>\n      <td>http://www.e-disclosure.ru/portal/company.aspx...</td>\n      <td>22.06.2015 0:00:00</td>\n      <td>NaN</td>\n      <td>NaN</td>\n      <td>NaN</td>\n      <td>NaN</td>\n      <td>NaN</td>\n      <td>NaN</td>\n      <td>A60652A98E90C448583A793EB5E9E28DF2995C9A</td>\n      <td>6E2F5512613604886B4A11CCB20DEDF8C053E1C6</td>\n      <td>02.12.2023 10:26:12</td>\n      <td>NaN</td>\n    </tr>\n    <tr>\n      <th>26</th>\n      <td>01.12.2023 0:00:00</td>\n      <td>5201</td>\n      <td>Первый уровень</td>\n      <td>27</td>\n      <td>Акции</td>\n      <td>Акции иностранного эмитента</td>\n      <td>Акции обыкновенные бездокументарные именные</td>\n      <td>POLY</td>\n      <td>JE00B6T5S470</td>\n      <td>NaN</td>\n      <td>NaN</td>\n      <td>Polymetal International plc</td>\n      <td>NaN</td>\n      <td>0,03</td>\n      <td>Доллар США</td>\n      <td>515259819</td>\n      <td>14.06.2013 0:00:00</td>\n      <td>NaN</td>\n      <td>NaN</td>\n      <td>NaN</td>\n      <td>NaN</td>\n      <td>NaN</td>\n      <td>NaN</td>\n      <td>NaN</td>\n      <td>NaN</td>\n      <td>NaN</td>\n      <td>NaN</td>\n      <td>NaN</td>\n      <td>NaN</td>\n      <td>NaN</td>\n      <td>09.06.2014 Включение в Первый уровень 06.08.20...</td>\n      <td>NaN</td>\n      <td>NaN</td>\n      <td>NaN</td>\n      <td>NaN</td>\n      <td>РПС: Акции - адрес. РЕПО в ин. валюте: USD РЕП...</td>\n      <td>NaN</td>\n      <td>https://www.polymetalinternational.com/ru/inve...</td>\n      <td>https://e-disclosure.ru/portal/company.aspx?id...</td>\n      <td>09.06.2014 0:00:00</td>\n      <td>ESVUFR</td>\n      <td>NaN</td>\n      <td>NaN</td>\n      <td>NaN</td>\n      <td>NaN</td>\n      <td>NaN</td>\n      <td>394491565781EB41BF42CEA3121F14281F3037E3</td>\n      <td>DA39A3EE5E6B4B0D3255BFEF95601890AFD80709</td>\n      <td>02.12.2023 10:26:12</td>\n      <td>NaN</td>\n    </tr>\n    <tr>\n      <th>27</th>\n      <td>01.12.2023 0:00:00</td>\n      <td>5923</td>\n      <td>Первый уровень</td>\n      <td>28</td>\n      <td>Акции</td>\n      <td>Акции иностранного эмитента</td>\n      <td>Обыкновенные именные бездокументарные акции кл...</td>\n      <td>YNDX</td>\n      <td>NL0009805522</td>\n      <td>NaN</td>\n      <td>NaN</td>\n      <td>Public Limited Liability Company Yandex N.V.</td>\n      <td>NaN</td>\n      <td>0,01</td>\n      <td>Евро</td>\n      <td>326342270</td>\n      <td>03.06.2014 0:00:00</td>\n      <td>NaN</td>\n      <td>NaN</td>\n      <td>NaN</td>\n      <td>NaN</td>\n      <td>NaN</td>\n      <td>NaN</td>\n      <td>NaN</td>\n      <td>NaN</td>\n      <td>NaN</td>\n      <td>NaN</td>\n      <td>NaN</td>\n      <td>NaN</td>\n      <td>NaN</td>\n      <td>09.06.2014 Включение в Первый уровень 03.06.20...</td>\n      <td>NaN</td>\n      <td>NaN</td>\n      <td>NaN</td>\n      <td>NaN</td>\n      <td>РПС: Акции - адрес. РЕПО в ин. валюте: USD РЕП...</td>\n      <td>NaN</td>\n      <td>https://ir.yandex/financial-releases</td>\n      <td>https://e-disclosure.ru/portal/company.aspx?id...</td>\n      <td>09.06.2014 0:00:00</td>\n      <td>ESVUFN</td>\n      <td>NaN</td>\n      <td>NaN</td>\n      <td>NaN</td>\n      <td>NaN</td>\n      <td>NaN</td>\n      <td>394491565781EB41BF42CEA3121F14281F3037E3</td>\n      <td>DA39A3EE5E6B4B0D3255BFEF95601890AFD80709</td>\n      <td>02.12.2023 10:26:12</td>\n      <td>NaN</td>\n    </tr>\n    <tr>\n      <th>41</th>\n      <td>01.12.2023 0:00:00</td>\n      <td>3762</td>\n      <td>Первый уровень</td>\n      <td>42</td>\n      <td>Акции</td>\n      <td>Акция обыкновенная</td>\n      <td>акции обыкновенные</td>\n      <td>ALRS</td>\n      <td>RU0007252813</td>\n      <td>1-03-40046-N</td>\n      <td>25.08.2011 0:00:00</td>\n      <td>Акционерная компания \"АЛРОСА\" (публичное акцио...</td>\n      <td>1.433000e+09</td>\n      <td>0,5</td>\n      <td>Рубль</td>\n      <td>7364965630</td>\n      <td>23.11.2011 0:00:00</td>\n      <td>NaN</td>\n      <td>NaN</td>\n      <td>NaN</td>\n      <td>NaN</td>\n      <td>+</td>\n      <td>NaN</td>\n      <td>NaN</td>\n      <td>NaN</td>\n      <td>NaN</td>\n      <td>NaN</td>\n      <td>NaN</td>\n      <td>NaN</td>\n      <td>NaN</td>\n      <td>09.06.2014 Включение в Первый уровень 02.10.20...</td>\n      <td>NaN</td>\n      <td>NaN</td>\n      <td>NaN</td>\n      <td>NaN</td>\n      <td>РПС: Акции - адрес. РЕПО в ин. валюте: USD РЕП...</td>\n      <td>Облигация биржевая, 4B02-03-40046-N, RU000A101...</td>\n      <td>http://www.alrosa.ru/инвесторам-и-акционерам/</td>\n      <td>https://e-disclosure.ru/portal/company.aspx?id...</td>\n      <td>09.06.2014 0:00:00</td>\n      <td>NaN</td>\n      <td>NaN</td>\n      <td>NaN</td>\n      <td>NaN</td>\n      <td>NaN</td>\n      <td>NaN</td>\n      <td>A60652A98E90C448583A793EB5E9E28DF2995C9A</td>\n      <td>3FED59C01CBE883FF3719BE731A6A0F0A03D72BE</td>\n      <td>02.12.2023 10:26:12</td>\n      <td>NaN</td>\n    </tr>\n    <tr>\n      <th>101</th>\n      <td>01.12.2023 0:00:00</td>\n      <td>99</td>\n      <td>Первый уровень</td>\n      <td>102</td>\n      <td>Акции</td>\n      <td>Акция обыкновенная</td>\n      <td>акции обыкновенные</td>\n      <td>VTBR</td>\n      <td>RU000A0JP5V6</td>\n      <td>10401000B</td>\n      <td>29.09.2006 0:00:00</td>\n      <td>Банк ВТБ (публичное акционерное общество)</td>\n      <td>7.702070e+09</td>\n      <td>0,01</td>\n      <td>Рубль</td>\n      <td>26849669465190</td>\n      <td>28.04.2007 0:00:00</td>\n      <td>NaN</td>\n      <td>NaN</td>\n      <td>NaN</td>\n      <td>NaN</td>\n      <td>+</td>\n      <td>NaN</td>\n      <td>NaN</td>\n      <td>NaN</td>\n      <td>NaN</td>\n      <td>NaN</td>\n      <td>NaN</td>\n      <td>NaN</td>\n      <td>NaN</td>\n      <td>09.06.2014 Включение в Первый уровень 28.02.20...</td>\n      <td>NaN</td>\n      <td>NaN</td>\n      <td>NaN</td>\n      <td>NaN</td>\n      <td>РПС: Акции - адрес. РЕПО в ин. валюте: USD РЕП...</td>\n      <td>Облигация биржевая, 4B023001000B, RU000A0JV3Q3...</td>\n      <td>http://www.vtb.ru</td>\n      <td>http://www.e-disclosure.ru/portal/company.aspx...</td>\n      <td>09.06.2014 0:00:00</td>\n      <td>NaN</td>\n      <td>NaN</td>\n      <td>NaN</td>\n      <td>NaN</td>\n      <td>NaN</td>\n      <td>NaN</td>\n      <td>A60652A98E90C448583A793EB5E9E28DF2995C9A</td>\n      <td>2A91C8E5DF920F2FA4CE99FAA143876E6DED45F4</td>\n      <td>02.12.2023 10:26:12</td>\n      <td>NaN</td>\n    </tr>\n  </tbody>\n</table>\n</div>"
     },
     "execution_count": 74,
     "metadata": {},
     "output_type": "execute_result"
    }
   ],
   "source": [
    "df.head()"
   ],
   "metadata": {
    "collapsed": false,
    "ExecuteTime": {
     "end_time": "2023-12-02T13:12:31.326260Z",
     "start_time": "2023-12-02T13:12:31.317447Z"
    }
   },
   "id": "bdaf3a8f641e5e2"
  },
  {
   "cell_type": "code",
   "execution_count": 47,
   "outputs": [],
   "source": [
    "pd.set_option('display.max_columns', 100)"
   ],
   "metadata": {
    "collapsed": false,
    "ExecuteTime": {
     "end_time": "2023-12-02T12:42:39.307929Z",
     "start_time": "2023-12-02T12:42:39.303744Z"
    }
   },
   "id": "b45d8ed2a8757661"
  },
  {
   "cell_type": "code",
   "execution_count": 73,
   "outputs": [],
   "source": [
    "df = df[(df['INSTRUMENT_TYPE'] == 'Акция обыкновенная') | (df['INSTRUMENT_TYPE'] == 'Акции иностранного эмитента')]"
   ],
   "metadata": {
    "collapsed": false,
    "ExecuteTime": {
     "end_time": "2023-12-02T13:12:29.308848Z",
     "start_time": "2023-12-02T13:12:29.302599Z"
    }
   },
   "id": "8b4b74dc17807f39"
  },
  {
   "cell_type": "code",
   "execution_count": 64,
   "outputs": [],
   "source": [
    "# Акции SBER\n",
    "sber = Ticker('POLY')\n",
    "\n",
    "# Все акции\n",
    "stocks = Market('stocks')"
   ],
   "metadata": {
    "collapsed": false,
    "ExecuteTime": {
     "end_time": "2023-12-02T12:58:37.791282Z",
     "start_time": "2023-12-02T12:58:37.783918Z"
    }
   },
   "id": "77ee8728e8ba13b7"
  },
  {
   "cell_type": "code",
   "execution_count": 75,
   "outputs": [
    {
     "data": {
      "text/plain": "    open  close   high    low       value   volume               begin  \\\n0  525.3  525.3  525.3  525.3   2129566.2   4054.0 2023-10-10 09:50:00   \n1  525.2  520.9  525.2  519.5  35211261.8  67509.0 2023-10-10 10:00:00   \n2  521.2  519.3  522.7  517.3  27345103.6  52578.0 2023-10-10 10:10:00   \n3  518.8  519.0  519.5  516.3  23626505.3  45626.0 2023-10-10 10:20:00   \n4  519.1  519.3  519.4  518.3   6536669.2  12599.0 2023-10-10 10:30:00   \n\n                  end  \n0 2023-10-10 09:59:59  \n1 2023-10-10 10:09:59  \n2 2023-10-10 10:19:59  \n3 2023-10-10 10:29:59  \n4 2023-10-10 10:39:59  ",
      "text/html": "<div>\n<style scoped>\n    .dataframe tbody tr th:only-of-type {\n        vertical-align: middle;\n    }\n\n    .dataframe tbody tr th {\n        vertical-align: top;\n    }\n\n    .dataframe thead th {\n        text-align: right;\n    }\n</style>\n<table border=\"1\" class=\"dataframe\">\n  <thead>\n    <tr style=\"text-align: right;\">\n      <th></th>\n      <th>open</th>\n      <th>close</th>\n      <th>high</th>\n      <th>low</th>\n      <th>value</th>\n      <th>volume</th>\n      <th>begin</th>\n      <th>end</th>\n    </tr>\n  </thead>\n  <tbody>\n    <tr>\n      <th>0</th>\n      <td>525.3</td>\n      <td>525.3</td>\n      <td>525.3</td>\n      <td>525.3</td>\n      <td>2129566.2</td>\n      <td>4054.0</td>\n      <td>2023-10-10 09:50:00</td>\n      <td>2023-10-10 09:59:59</td>\n    </tr>\n    <tr>\n      <th>1</th>\n      <td>525.2</td>\n      <td>520.9</td>\n      <td>525.2</td>\n      <td>519.5</td>\n      <td>35211261.8</td>\n      <td>67509.0</td>\n      <td>2023-10-10 10:00:00</td>\n      <td>2023-10-10 10:09:59</td>\n    </tr>\n    <tr>\n      <th>2</th>\n      <td>521.2</td>\n      <td>519.3</td>\n      <td>522.7</td>\n      <td>517.3</td>\n      <td>27345103.6</td>\n      <td>52578.0</td>\n      <td>2023-10-10 10:10:00</td>\n      <td>2023-10-10 10:19:59</td>\n    </tr>\n    <tr>\n      <th>3</th>\n      <td>518.8</td>\n      <td>519.0</td>\n      <td>519.5</td>\n      <td>516.3</td>\n      <td>23626505.3</td>\n      <td>45626.0</td>\n      <td>2023-10-10 10:20:00</td>\n      <td>2023-10-10 10:29:59</td>\n    </tr>\n    <tr>\n      <th>4</th>\n      <td>519.1</td>\n      <td>519.3</td>\n      <td>519.4</td>\n      <td>518.3</td>\n      <td>6536669.2</td>\n      <td>12599.0</td>\n      <td>2023-10-10 10:30:00</td>\n      <td>2023-10-10 10:39:59</td>\n    </tr>\n  </tbody>\n</table>\n</div>"
     },
     "execution_count": 75,
     "metadata": {},
     "output_type": "execute_result"
    }
   ],
   "source": [
    "# Свечи по акциям SBER за период\n",
    "sber.candles(date='2023-10-10', till_date='2023-10-18', period='10m').head()"
   ],
   "metadata": {
    "collapsed": false,
    "ExecuteTime": {
     "end_time": "2023-12-02T13:21:18.755661Z",
     "start_time": "2023-12-02T13:21:18.025747Z"
    }
   },
   "id": "7598fc823850b060"
  },
  {
   "cell_type": "code",
   "execution_count": 67,
   "outputs": [],
   "source": [
    "DATE_START = '2023-01-01'\n",
    "DATE_END = '2023-01-02'"
   ],
   "metadata": {
    "collapsed": false,
    "ExecuteTime": {
     "end_time": "2023-12-02T13:00:10.474025Z",
     "start_time": "2023-12-02T13:00:10.473081Z"
    }
   },
   "id": "790cdff19c4ea42b"
  },
  {
   "cell_type": "code",
   "execution_count": 78,
   "outputs": [
    {
     "data": {
      "text/plain": "Empty DataFrame\nColumns: []\nIndex: []",
      "text/html": "<div>\n<style scoped>\n    .dataframe tbody tr th:only-of-type {\n        vertical-align: middle;\n    }\n\n    .dataframe tbody tr th {\n        vertical-align: top;\n    }\n\n    .dataframe thead th {\n        text-align: right;\n    }\n</style>\n<table border=\"1\" class=\"dataframe\">\n  <thead>\n    <tr style=\"text-align: right;\">\n      <th></th>\n    </tr>\n  </thead>\n  <tbody>\n  </tbody>\n</table>\n</div>"
     },
     "execution_count": 78,
     "metadata": {},
     "output_type": "execute_result"
    }
   ],
   "source": [
    "sber.tradestats(date='2023-01-01', till_date='2023-01-02').head()"
   ],
   "metadata": {
    "collapsed": false,
    "ExecuteTime": {
     "end_time": "2023-12-02T13:22:20.893866Z",
     "start_time": "2023-12-02T13:22:20.598981Z"
    }
   },
   "id": "f7f62d19b1cc7380"
  },
  {
   "cell_type": "code",
   "execution_count": 76,
   "outputs": [
    {
     "data": {
      "text/plain": "Empty DataFrame\nColumns: []\nIndex: []",
      "text/html": "<div>\n<style scoped>\n    .dataframe tbody tr th:only-of-type {\n        vertical-align: middle;\n    }\n\n    .dataframe tbody tr th {\n        vertical-align: top;\n    }\n\n    .dataframe thead th {\n        text-align: right;\n    }\n</style>\n<table border=\"1\" class=\"dataframe\">\n  <thead>\n    <tr style=\"text-align: right;\">\n      <th></th>\n    </tr>\n  </thead>\n  <tbody>\n  </tbody>\n</table>\n</div>"
     },
     "execution_count": 76,
     "metadata": {},
     "output_type": "execute_result"
    }
   ],
   "source": [
    "# Данные по акциям SBER за период\n",
    "sber.tradestats(date=DATE_START, till_date=DATE_END).head()"
   ],
   "metadata": {
    "collapsed": false,
    "ExecuteTime": {
     "end_time": "2023-12-02T13:21:49.232268Z",
     "start_time": "2023-12-02T13:21:48.920064Z"
    }
   },
   "id": "e52da95c7e859e7e"
  },
  {
   "cell_type": "code",
   "execution_count": 52,
   "outputs": [
    {
     "name": "stdout",
     "output_type": "stream",
     "text": [
      "<class 'pandas.core.frame.DataFrame'>\n",
      "RangeIndex: 5 entries, 0 to 4\n",
      "Data columns (total 23 columns):\n",
      " #   Column     Non-Null Count  Dtype         \n",
      "---  ------     --------------  -----         \n",
      " 0   ticker     5 non-null      object        \n",
      " 1   tradedate  5 non-null      object        \n",
      " 2   tradetime  5 non-null      object        \n",
      " 3   pr_open    5 non-null      float64       \n",
      " 4   pr_high    5 non-null      float64       \n",
      " 5   pr_low     5 non-null      float64       \n",
      " 6   pr_close   5 non-null      float64       \n",
      " 7   pr_std     5 non-null      float64       \n",
      " 8   vol        5 non-null      int64         \n",
      " 9   val        5 non-null      float64       \n",
      " 10  trades     5 non-null      int64         \n",
      " 11  pr_vwap    5 non-null      float64       \n",
      " 12  pr_change  5 non-null      float64       \n",
      " 13  trades_b   5 non-null      int64         \n",
      " 14  trades_s   5 non-null      int64         \n",
      " 15  val_b      5 non-null      float64       \n",
      " 16  val_s      5 non-null      float64       \n",
      " 17  vol_b      5 non-null      int64         \n",
      " 18  vol_s      5 non-null      int64         \n",
      " 19  disb       5 non-null      float64       \n",
      " 20  pr_vwap_b  5 non-null      float64       \n",
      " 21  pr_vwap_s  5 non-null      float64       \n",
      " 22  systime    5 non-null      datetime64[ns]\n",
      "dtypes: datetime64[ns](1), float64(13), int64(6), object(3)\n",
      "memory usage: 1.0+ KB\n"
     ]
    }
   ],
   "source": [
    "df_poly.info()"
   ],
   "metadata": {
    "collapsed": false,
    "ExecuteTime": {
     "end_time": "2023-12-02T12:51:27.556449Z",
     "start_time": "2023-12-02T12:51:27.552567Z"
    }
   },
   "id": "dd2e1eda24342940"
  },
  {
   "cell_type": "code",
   "execution_count": 98,
   "outputs": [
    {
     "data": {
      "text/plain": "['ABIO',\n 'ABRD',\n 'AFKS',\n 'AFLT',\n 'AGRO',\n 'AKRN',\n 'ALRS',\n 'AMEZ',\n 'APTK',\n 'AQUA',\n 'ASSB',\n 'AVAN',\n 'BANE',\n 'BANEP',\n 'BELU',\n 'BISVP',\n 'BLNG',\n 'BSPB',\n 'BSPBP',\n 'CARM',\n 'CBOM',\n 'CHGZ',\n 'CHMF',\n 'CHMK',\n 'CIAN',\n 'CNTL',\n 'CNTLP',\n 'DIOD',\n 'DSKY',\n 'DVEC',\n 'DZRD',\n 'DZRDP',\n 'EELT',\n 'ELFV',\n 'ELTZ',\n 'ENPG',\n 'ETLN',\n 'FEES',\n 'FESH',\n 'FIVE',\n 'FIXP',\n 'FLOT',\n 'GAZA',\n 'GAZAP',\n 'GAZP',\n 'GCHE',\n 'GECO',\n 'GEMA',\n 'GEMC',\n 'GLTR',\n 'GMKN',\n 'GTRK',\n 'HHRU',\n 'HIMCP',\n 'HMSG',\n 'HYDR',\n 'IGST',\n 'IGSTP',\n 'INGR',\n 'IRAO',\n 'IRKT',\n 'JNOS',\n 'JNOSP',\n 'KAZT',\n 'KAZTP',\n 'KBSB',\n 'KLSB',\n 'KMAZ',\n 'KMEZ',\n 'KMTZ',\n 'KRKN',\n 'KRKOP',\n 'KROT',\n 'KROTP',\n 'KRSBP',\n 'KUBE',\n 'KUZB',\n 'KZOS',\n 'KZOSP',\n 'LENT',\n 'LIFE',\n 'LKOH',\n 'LNZL',\n 'LNZLP',\n 'LSNG',\n 'LSNGP',\n 'LSRG',\n 'LVHK',\n 'MAGE',\n 'MAGEP',\n 'MAGN',\n 'MDMG',\n 'MFGS',\n 'MFGSP',\n 'MGNT',\n 'MGTS',\n 'MGTSP',\n 'MISBP',\n 'MOEX',\n 'MRKC',\n 'MRKK',\n 'MRKP',\n 'MRKS',\n 'MRKU',\n 'MRKV',\n 'MRKY',\n 'MRKZ',\n 'MSNG',\n 'MSRS',\n 'MSTT',\n 'MTLR',\n 'MTLRP',\n 'MTSS',\n 'MVID',\n 'NAUK',\n 'NFAZ',\n 'NKHP',\n 'NKNC',\n 'NKNCP',\n 'NLMK',\n 'NMTP',\n 'NNSBP',\n 'NSVZ',\n 'NVTK',\n 'OGKB',\n 'OKEY',\n 'OMZZP',\n 'OZON',\n 'PAZA',\n 'PHOR',\n 'PIKK',\n 'PLZL',\n 'PMSB',\n 'PMSBP',\n 'POLY',\n 'POSI',\n 'PRFN',\n 'QIWI',\n 'RASP',\n 'RBCM',\n 'RDRB',\n 'RENI',\n 'RGSS',\n 'RKKE',\n 'RNFT',\n 'ROLO',\n 'ROSB',\n 'ROSN',\n 'RTKM',\n 'RTKMP',\n 'RTSB',\n 'RUAL',\n 'RUSI',\n 'SAGO',\n 'SBER',\n 'SBERP',\n 'SELG',\n 'SFIN',\n 'SGZH',\n 'SIBN',\n 'SLEN',\n 'SMLT',\n 'SNGS',\n 'SNGSP',\n 'SOFL',\n 'SPBE',\n 'STSBP',\n 'SVAV',\n 'SVET',\n 'TATN',\n 'TATNP',\n 'TCSG',\n 'TGKA',\n 'TGKB',\n 'TGKBP',\n 'TGKN',\n 'TRMK',\n 'TRNFP',\n 'TTLK',\n 'TUZA',\n 'UCSS',\n 'UNAC',\n 'UNKL',\n 'UPRO',\n 'VEON-RX',\n 'VGSB',\n 'VJGZP',\n 'VLHZ',\n 'VRSB',\n 'VSMO',\n 'VTBR',\n 'WTCM',\n 'WTCMP',\n 'WUSH',\n 'YAKG',\n 'YKENP',\n 'YNDX',\n 'YRSBP',\n 'ZILL',\n 'ZVEZ',\n 'ARSA',\n 'BRZL',\n 'KRSB',\n 'MRSB',\n 'NKSH',\n 'ROST',\n 'RTSBP',\n 'TORS',\n 'UKUZ',\n 'USBN',\n 'UTAR',\n 'VGSBP',\n 'YKEN',\n 'KGKCP',\n 'KTSB',\n 'KTSBP',\n 'MISB',\n 'PRMB',\n 'RZSB',\n 'SARE',\n 'STSB',\n 'TNSE',\n 'TORSP',\n 'URKZ',\n 'VRSBP',\n 'SAREP',\n 'KCHEP',\n 'KOGK',\n 'KRKNP',\n 'VJGZ',\n 'VSYD',\n 'KCHE',\n 'KGKC',\n 'SAGOP',\n 'TASBP',\n 'VSYDP',\n 'TASB',\n 'RTGZ',\n 'YRSB',\n 'CHKZ',\n 'NNSB']"
     },
     "execution_count": 98,
     "metadata": {},
     "output_type": "execute_result"
    }
   ],
   "source": [
    "# Данные по всем акциям за дату. Чтобы получить данные за период, нужно запустить цикл по датам\n",
    "stocks.tradestats(date='2023-10-10')['ticker'].unique().tolist()"
   ],
   "metadata": {
    "collapsed": false,
    "ExecuteTime": {
     "end_time": "2023-12-02T20:01:24.436452Z",
     "start_time": "2023-12-02T20:01:18.521524Z"
    }
   },
   "id": "431ce1b673b9361e"
  },
  {
   "cell_type": "code",
   "execution_count": null,
   "outputs": [],
   "source": [],
   "metadata": {
    "collapsed": false
   },
   "id": "ba7d694919891831"
  },
  {
   "cell_type": "code",
   "execution_count": 41,
   "outputs": [
    {
     "name": "stdout",
     "output_type": "stream",
     "text": [
      "Unexpected exception formatting exception. Falling back to standard exception\n"
     ]
    },
    {
     "name": "stderr",
     "output_type": "stream",
     "text": [
      "Traceback (most recent call last):\n",
      "  File \"/Users/valentin/anaconda3/envs/Go.Algo/lib/python3.11/site-packages/IPython/core/interactiveshell.py\", line 3526, in run_code\n",
      "  File \"/var/folders/mw/pz7p6b0x7j7355t1s1v855dh0000gn/T/ipykernel_70093/1818763544.py\", line 1, in <module>\n",
      "    df = pd.read_csv('tradestats_CBOM.csv', engine='python', encoding='cp1251', sep=',')\n",
      "         ^^\n",
      "NameError: name 'pd' is not defined\n",
      "\n",
      "During handling of the above exception, another exception occurred:\n",
      "\n",
      "Traceback (most recent call last):\n",
      "  File \"/Users/valentin/anaconda3/envs/Go.Algo/lib/python3.11/site-packages/pygments/styles/__init__.py\", line 89, in get_style_by_name\n",
      "ModuleNotFoundError: No module named 'pygments.styles.default'\n",
      "\n",
      "During handling of the above exception, another exception occurred:\n",
      "\n",
      "Traceback (most recent call last):\n",
      "  File \"/Users/valentin/anaconda3/envs/Go.Algo/lib/python3.11/site-packages/IPython/core/interactiveshell.py\", line 2120, in showtraceback\n",
      "  File \"/Users/valentin/anaconda3/envs/Go.Algo/lib/python3.11/site-packages/IPython/core/ultratb.py\", line 1435, in structured_traceback\n",
      "  File \"/Users/valentin/anaconda3/envs/Go.Algo/lib/python3.11/site-packages/IPython/core/ultratb.py\", line 1326, in structured_traceback\n",
      "  File \"/Users/valentin/anaconda3/envs/Go.Algo/lib/python3.11/site-packages/IPython/core/ultratb.py\", line 1173, in structured_traceback\n",
      "  File \"/Users/valentin/anaconda3/envs/Go.Algo/lib/python3.11/site-packages/IPython/core/ultratb.py\", line 1063, in format_exception_as_a_whole\n",
      "  File \"/Users/valentin/anaconda3/envs/Go.Algo/lib/python3.11/site-packages/IPython/core/ultratb.py\", line 1114, in get_records\n",
      "  File \"/Users/valentin/anaconda3/envs/Go.Algo/lib/python3.11/site-packages/pygments/styles/__init__.py\", line 91, in get_style_by_name\n",
      "pygments.util.ClassNotFound: Could not find style module 'default', though it should be builtin.\n"
     ]
    }
   ],
   "source": [
    "df = pd.read_csv('tradestats_CBOM.csv', engine='python', encoding='cp1251', sep=',')"
   ],
   "metadata": {
    "collapsed": false,
    "ExecuteTime": {
     "end_time": "2023-12-03T11:04:43.258824Z",
     "start_time": "2023-12-03T11:04:43.244431Z"
    }
   },
   "id": "96f5eb435c0e16d5"
  },
  {
   "cell_type": "code",
   "execution_count": 113,
   "outputs": [
    {
     "data": {
      "text/plain": "<Figure size 640x480 with 1 Axes>",
      "image/png": "[encoded data removed]"
     },
     "metadata": {},
     "output_type": "display_data"
    }
   ],
   "source": [
    "from matplotlib import pyplot as plt   \n",
    "   \n",
    "x = df[df['tradedate']=='2023-10-02']['tradetime']   \n",
    "y = df[df['tradedate']=='2023-10-02']['pr_close']   \n",
    "   \n",
    "plt.plot(x,y)   \n",
    "   \n",
    "plt.title(\"Line graph\")   \n",
    "plt.ylabel('pr_close')   \n",
    "plt.xlabel('tradetime')   \n",
    "plt.show()   "
   ],
   "metadata": {
    "collapsed": false,
    "ExecuteTime": {
     "end_time": "2023-12-02T21:42:52.687070Z",
     "start_time": "2023-12-02T21:42:52.418822Z"
    }
   },
   "id": "35d4f68f7c05e260"
  },
  {
   "cell_type": "code",
   "execution_count": 114,
   "outputs": [
    {
     "data": {
      "text/plain": "<Figure size 640x480 with 1 Axes>",
      "image/png": "[encoded data removed]"
     },
     "metadata": {},
     "output_type": "display_data"
    }
   ],
   "source": [
    "x = df[df['tradedate']=='2023-10-02']['tradetime']   \n",
    "y = df[df['tradedate']=='2023-10-02']['trades']   \n",
    "   \n",
    "plt.plot(x,y)   \n",
    "   \n",
    "plt.title(\"Line graph\")   \n",
    "plt.ylabel('pr_close')   \n",
    "plt.xlabel('trades')   \n",
    "plt.show()   "
   ],
   "metadata": {
    "collapsed": false,
    "ExecuteTime": {
     "end_time": "2023-12-02T21:42:54.654063Z",
     "start_time": "2023-12-02T21:42:54.482187Z"
    }
   },
   "id": "937463989ad08e95"
  },
  {
   "cell_type": "code",
   "execution_count": 115,
   "outputs": [
    {
     "data": {
      "text/plain": "Index(['tradedate', 'tradetime', 'secid', 'pr_open', 'pr_high', 'pr_low',\n       'pr_close', 'pr_std', 'vol', 'val', 'trades', 'pr_vwap', 'pr_change',\n       'trades_b', 'trades_s', 'val_b', 'val_s', 'vol_b', 'vol_s', 'disb',\n       'pr_vwap_b', 'pr_vwap_s', 'SYSTIME'],\n      dtype='object')"
     },
     "execution_count": 115,
     "metadata": {},
     "output_type": "execute_result"
    }
   ],
   "source": [
    "df.columns"
   ],
   "metadata": {
    "collapsed": false,
    "ExecuteTime": {
     "end_time": "2023-12-02T21:42:54.768061Z",
     "start_time": "2023-12-02T21:42:54.763003Z"
    }
   },
   "id": "ca74c8b3cd4bb050"
  },
  {
   "cell_type": "markdown",
   "source": [],
   "metadata": {
    "collapsed": false
   },
   "id": "6979e3241203c8b0"
  },
  {
   "cell_type": "code",
   "execution_count": 116,
   "outputs": [
    {
     "data": {
      "text/plain": "      tradedate tradetime secid  pr_open  pr_high  pr_low  pr_close  pr_std  \\\n0    2023-10-02  10:05:00  CBOM    7.050    7.050   7.043     7.048  0.0002   \n312  2023-10-05  10:05:00  CBOM    6.964    6.971   6.954     6.954  0.0006   \n518  2023-10-09  10:05:00  CBOM    7.000    7.000   6.948     6.987  0.0013   \n104  2023-10-03  10:05:00  CBOM    7.022    7.022   6.954     6.990  0.0015   \n622  2023-10-10  10:05:00  CBOM    7.006    7.006   6.998     7.000  0.0002   \n..          ...       ...   ...      ...      ...     ...       ...     ...   \n517  2023-10-06  18:40:00  CBOM    6.933    6.943   6.933     6.939  0.0006   \n207  2023-10-03  18:40:00  CBOM    7.026    7.026   7.025     7.025  0.0001   \n414  2023-10-05  18:40:00  CBOM    6.931    6.931   6.931     6.931  0.0000   \n621  2023-10-09  18:40:00  CBOM    7.004    7.005   7.003     7.003  0.0001   \n725  2023-10-10  18:40:00  CBOM    7.012    7.012   7.012     7.012     NaN   \n\n      vol      val  trades  pr_vwap  pr_change  trades_b  trades_s    val_b  \\\n0    3556  2506629      43    7.049    -0.0284        26        17  1294299   \n312  1110   772113      45    6.956    -0.1436        13        32    58546   \n518  5670  3956370     130    6.978    -0.1857        44        86  1557634   \n104  8104  5674245     165    7.002    -0.4557        82        83   706830   \n622  1981  1387411     117    7.004    -0.0856        96        21  1005202   \n..    ...      ...     ...      ...        ...       ...       ...      ...   \n517   812   562971       9    6.933     0.0865         4         5     5553   \n207    29    20372       3    7.025    -0.0142         0         3        0   \n414     7     4851       7    6.931     0.0000         0         7        0   \n621   745   521759       9    7.003    -0.0143         2         7     1401   \n725     3     2103       1    7.012     0.0000         0         1        0   \n\n       val_s  vol_b  vol_s  disb  pr_vwap_b  pr_vwap_s              SYSTIME  \n0    1212330   1836   1720  0.03      7.050      7.048  2023-10-26 16:02:26  \n312   713566     84   1026 -0.85      6.970      6.955  2023-10-26 15:53:38  \n518  2398735   2229   3441 -0.21      6.988      6.971  2023-10-26 15:47:58  \n104  4967415   1012   7092 -0.75      6.984      7.004  2023-10-26 15:58:50  \n622   382208   1435    546  0.45      7.005      7.000  2023-10-26 15:44:37  \n..       ...    ...    ...   ...        ...        ...                  ...  \n517   557418      8    804 -0.98      6.941      6.933  2023-10-26 15:51:48  \n207    20372      0     29 -1.00        NaN      7.025  2023-10-26 15:59:52  \n414     4851      0      7 -1.00        NaN      6.931  2023-10-26 15:54:38  \n621   520358      2    743 -0.99      7.005      7.003  2023-10-26 15:48:58  \n725     2103      0      3 -1.00        NaN      7.012  2023-10-26 15:45:39  \n\n[726 rows x 23 columns]",
      "text/html": "<div>\n<style scoped>\n    .dataframe tbody tr th:only-of-type {\n        vertical-align: middle;\n    }\n\n    .dataframe tbody tr th {\n        vertical-align: top;\n    }\n\n    .dataframe thead th {\n        text-align: right;\n    }\n</style>\n<table border=\"1\" class=\"dataframe\">\n  <thead>\n    <tr style=\"text-align: right;\">\n      <th></th>\n      <th>tradedate</th>\n      <th>tradetime</th>\n      <th>secid</th>\n      <th>pr_open</th>\n      <th>pr_high</th>\n      <th>pr_low</th>\n      <th>pr_close</th>\n      <th>pr_std</th>\n      <th>vol</th>\n      <th>val</th>\n      <th>trades</th>\n      <th>pr_vwap</th>\n      <th>pr_change</th>\n      <th>trades_b</th>\n      <th>trades_s</th>\n      <th>val_b</th>\n      <th>val_s</th>\n      <th>vol_b</th>\n      <th>vol_s</th>\n      <th>disb</th>\n      <th>pr_vwap_b</th>\n      <th>pr_vwap_s</th>\n      <th>SYSTIME</th>\n    </tr>\n  </thead>\n  <tbody>\n    <tr>\n      <th>0</th>\n      <td>2023-10-02</td>\n      <td>10:05:00</td>\n      <td>CBOM</td>\n      <td>7.050</td>\n      <td>7.050</td>\n      <td>7.043</td>\n      <td>7.048</td>\n      <td>0.0002</td>\n      <td>3556</td>\n      <td>2506629</td>\n      <td>43</td>\n      <td>7.049</td>\n      <td>-0.0284</td>\n      <td>26</td>\n      <td>17</td>\n      <td>1294299</td>\n      <td>1212330</td>\n      <td>1836</td>\n      <td>1720</td>\n      <td>0.03</td>\n      <td>7.050</td>\n      <td>7.048</td>\n      <td>2023-10-26 16:02:26</td>\n    </tr>\n    <tr>\n      <th>312</th>\n      <td>2023-10-05</td>\n      <td>10:05:00</td>\n      <td>CBOM</td>\n      <td>6.964</td>\n      <td>6.971</td>\n      <td>6.954</td>\n      <td>6.954</td>\n      <td>0.0006</td>\n      <td>1110</td>\n      <td>772113</td>\n      <td>45</td>\n      <td>6.956</td>\n      <td>-0.1436</td>\n      <td>13</td>\n      <td>32</td>\n      <td>58546</td>\n      <td>713566</td>\n      <td>84</td>\n      <td>1026</td>\n      <td>-0.85</td>\n      <td>6.970</td>\n      <td>6.955</td>\n      <td>2023-10-26 15:53:38</td>\n    </tr>\n    <tr>\n      <th>518</th>\n      <td>2023-10-09</td>\n      <td>10:05:00</td>\n      <td>CBOM</td>\n      <td>7.000</td>\n      <td>7.000</td>\n      <td>6.948</td>\n      <td>6.987</td>\n      <td>0.0013</td>\n      <td>5670</td>\n      <td>3956370</td>\n      <td>130</td>\n      <td>6.978</td>\n      <td>-0.1857</td>\n      <td>44</td>\n      <td>86</td>\n      <td>1557634</td>\n      <td>2398735</td>\n      <td>2229</td>\n      <td>3441</td>\n      <td>-0.21</td>\n      <td>6.988</td>\n      <td>6.971</td>\n      <td>2023-10-26 15:47:58</td>\n    </tr>\n    <tr>\n      <th>104</th>\n      <td>2023-10-03</td>\n      <td>10:05:00</td>\n      <td>CBOM</td>\n      <td>7.022</td>\n      <td>7.022</td>\n      <td>6.954</td>\n      <td>6.990</td>\n      <td>0.0015</td>\n      <td>8104</td>\n      <td>5674245</td>\n      <td>165</td>\n      <td>7.002</td>\n      <td>-0.4557</td>\n      <td>82</td>\n      <td>83</td>\n      <td>706830</td>\n      <td>4967415</td>\n      <td>1012</td>\n      <td>7092</td>\n      <td>-0.75</td>\n      <td>6.984</td>\n      <td>7.004</td>\n      <td>2023-10-26 15:58:50</td>\n    </tr>\n    <tr>\n      <th>622</th>\n      <td>2023-10-10</td>\n      <td>10:05:00</td>\n      <td>CBOM</td>\n      <td>7.006</td>\n      <td>7.006</td>\n      <td>6.998</td>\n      <td>7.000</td>\n      <td>0.0002</td>\n      <td>1981</td>\n      <td>1387411</td>\n      <td>117</td>\n      <td>7.004</td>\n      <td>-0.0856</td>\n      <td>96</td>\n      <td>21</td>\n      <td>1005202</td>\n      <td>382208</td>\n      <td>1435</td>\n      <td>546</td>\n      <td>0.45</td>\n      <td>7.005</td>\n      <td>7.000</td>\n      <td>2023-10-26 15:44:37</td>\n    </tr>\n    <tr>\n      <th>...</th>\n      <td>...</td>\n      <td>...</td>\n      <td>...</td>\n      <td>...</td>\n      <td>...</td>\n      <td>...</td>\n      <td>...</td>\n      <td>...</td>\n      <td>...</td>\n      <td>...</td>\n      <td>...</td>\n      <td>...</td>\n      <td>...</td>\n      <td>...</td>\n      <td>...</td>\n      <td>...</td>\n      <td>...</td>\n      <td>...</td>\n      <td>...</td>\n      <td>...</td>\n      <td>...</td>\n      <td>...</td>\n      <td>...</td>\n    </tr>\n    <tr>\n      <th>517</th>\n      <td>2023-10-06</td>\n      <td>18:40:00</td>\n      <td>CBOM</td>\n      <td>6.933</td>\n      <td>6.943</td>\n      <td>6.933</td>\n      <td>6.939</td>\n      <td>0.0006</td>\n      <td>812</td>\n      <td>562971</td>\n      <td>9</td>\n      <td>6.933</td>\n      <td>0.0865</td>\n      <td>4</td>\n      <td>5</td>\n      <td>5553</td>\n      <td>557418</td>\n      <td>8</td>\n      <td>804</td>\n      <td>-0.98</td>\n      <td>6.941</td>\n      <td>6.933</td>\n      <td>2023-10-26 15:51:48</td>\n    </tr>\n    <tr>\n      <th>207</th>\n      <td>2023-10-03</td>\n      <td>18:40:00</td>\n      <td>CBOM</td>\n      <td>7.026</td>\n      <td>7.026</td>\n      <td>7.025</td>\n      <td>7.025</td>\n      <td>0.0001</td>\n      <td>29</td>\n      <td>20372</td>\n      <td>3</td>\n      <td>7.025</td>\n      <td>-0.0142</td>\n      <td>0</td>\n      <td>3</td>\n      <td>0</td>\n      <td>20372</td>\n      <td>0</td>\n      <td>29</td>\n      <td>-1.00</td>\n      <td>NaN</td>\n      <td>7.025</td>\n      <td>2023-10-26 15:59:52</td>\n    </tr>\n    <tr>\n      <th>414</th>\n      <td>2023-10-05</td>\n      <td>18:40:00</td>\n      <td>CBOM</td>\n      <td>6.931</td>\n      <td>6.931</td>\n      <td>6.931</td>\n      <td>6.931</td>\n      <td>0.0000</td>\n      <td>7</td>\n      <td>4851</td>\n      <td>7</td>\n      <td>6.931</td>\n      <td>0.0000</td>\n      <td>0</td>\n      <td>7</td>\n      <td>0</td>\n      <td>4851</td>\n      <td>0</td>\n      <td>7</td>\n      <td>-1.00</td>\n      <td>NaN</td>\n      <td>6.931</td>\n      <td>2023-10-26 15:54:38</td>\n    </tr>\n    <tr>\n      <th>621</th>\n      <td>2023-10-09</td>\n      <td>18:40:00</td>\n      <td>CBOM</td>\n      <td>7.004</td>\n      <td>7.005</td>\n      <td>7.003</td>\n      <td>7.003</td>\n      <td>0.0001</td>\n      <td>745</td>\n      <td>521759</td>\n      <td>9</td>\n      <td>7.003</td>\n      <td>-0.0143</td>\n      <td>2</td>\n      <td>7</td>\n      <td>1401</td>\n      <td>520358</td>\n      <td>2</td>\n      <td>743</td>\n      <td>-0.99</td>\n      <td>7.005</td>\n      <td>7.003</td>\n      <td>2023-10-26 15:48:58</td>\n    </tr>\n    <tr>\n      <th>725</th>\n      <td>2023-10-10</td>\n      <td>18:40:00</td>\n      <td>CBOM</td>\n      <td>7.012</td>\n      <td>7.012</td>\n      <td>7.012</td>\n      <td>7.012</td>\n      <td>NaN</td>\n      <td>3</td>\n      <td>2103</td>\n      <td>1</td>\n      <td>7.012</td>\n      <td>0.0000</td>\n      <td>0</td>\n      <td>1</td>\n      <td>0</td>\n      <td>2103</td>\n      <td>0</td>\n      <td>3</td>\n      <td>-1.00</td>\n      <td>NaN</td>\n      <td>7.012</td>\n      <td>2023-10-26 15:45:39</td>\n    </tr>\n  </tbody>\n</table>\n<p>726 rows × 23 columns</p>\n</div>"
     },
     "execution_count": 116,
     "metadata": {},
     "output_type": "execute_result"
    }
   ],
   "source": [
    "df.sort_values(by='tradetime', ascending=True)"
   ],
   "metadata": {
    "collapsed": false,
    "ExecuteTime": {
     "end_time": "2023-12-02T21:42:56.380043Z",
     "start_time": "2023-12-02T21:42:56.368315Z"
    }
   },
   "id": "8636127741d4a7a4"
  },
  {
   "cell_type": "code",
   "execution_count": 91,
   "outputs": [
    {
     "data": {
      "text/plain": "['2023-10-02',\n '2023-10-03',\n '2023-10-04',\n '2023-10-05',\n '2023-10-06',\n '2023-10-09',\n '2023-10-10']"
     },
     "execution_count": 91,
     "metadata": {},
     "output_type": "execute_result"
    }
   ],
   "source": [
    "df['tradedate']"
   ],
   "metadata": {
    "collapsed": false,
    "ExecuteTime": {
     "end_time": "2023-12-02T15:36:33.463037Z",
     "start_time": "2023-12-02T15:36:33.451158Z"
    }
   },
   "id": "50acc2c0cb7d6ad7"
  },
  {
   "cell_type": "code",
   "execution_count": 100,
   "outputs": [
    {
     "data": {
      "text/plain": "    tradedate tradetime secid  pr_open  pr_high  pr_low  pr_close  pr_std  \\\n0  2023-10-02  10:05:00  CBOM    7.050    7.050   7.043     7.048  0.0002   \n1  2023-10-02  10:10:00  CBOM    7.049    7.054   7.045     7.053  0.0002   \n2  2023-10-02  10:15:00  CBOM    7.053    7.054   7.031     7.047  0.0003   \n3  2023-10-02  10:20:00  CBOM    7.047    7.067   7.047     7.058  0.0002   \n4  2023-10-02  10:25:00  CBOM    7.058    7.060   7.054     7.059  0.0003   \n\n    vol      val  trades  pr_vwap  pr_change  trades_b  trades_s    val_b  \\\n0  3556  2506629      43    7.049    -0.0284        26        17  1294299   \n1  3284  2314612      56    7.048     0.0567        39        17   881339   \n2  6544  4610734      77    7.046    -0.0851        49        28  1855260   \n3  2754  1941936      69    7.051     0.1561        46        23  1719004   \n4  1766  1246480      42    7.058     0.0142        22        20  1028474   \n\n     val_s  vol_b  vol_s  disb  pr_vwap_b  pr_vwap_s              SYSTIME  \n0  1212330   1836   1720  0.03      7.050      7.048  2023-10-26 16:02:26  \n1  1433272   1250   2034 -0.24      7.051      7.047  2023-10-26 16:02:26  \n2  2755473   2633   3911 -0.20      7.046      7.045  2023-10-26 16:02:27  \n3   222932   2438    316  0.77      7.051      7.055  2023-10-26 16:02:27  \n4   218005   1457    309  0.65      7.059      7.055  2023-10-26 16:02:28  ",
      "text/html": "<div>\n<style scoped>\n    .dataframe tbody tr th:only-of-type {\n        vertical-align: middle;\n    }\n\n    .dataframe tbody tr th {\n        vertical-align: top;\n    }\n\n    .dataframe thead th {\n        text-align: right;\n    }\n</style>\n<table border=\"1\" class=\"dataframe\">\n  <thead>\n    <tr style=\"text-align: right;\">\n      <th></th>\n      <th>tradedate</th>\n      <th>tradetime</th>\n      <th>secid</th>\n      <th>pr_open</th>\n      <th>pr_high</th>\n      <th>pr_low</th>\n      <th>pr_close</th>\n      <th>pr_std</th>\n      <th>vol</th>\n      <th>val</th>\n      <th>trades</th>\n      <th>pr_vwap</th>\n      <th>pr_change</th>\n      <th>trades_b</th>\n      <th>trades_s</th>\n      <th>val_b</th>\n      <th>val_s</th>\n      <th>vol_b</th>\n      <th>vol_s</th>\n      <th>disb</th>\n      <th>pr_vwap_b</th>\n      <th>pr_vwap_s</th>\n      <th>SYSTIME</th>\n    </tr>\n  </thead>\n  <tbody>\n    <tr>\n      <th>0</th>\n      <td>2023-10-02</td>\n      <td>10:05:00</td>\n      <td>CBOM</td>\n      <td>7.050</td>\n      <td>7.050</td>\n      <td>7.043</td>\n      <td>7.048</td>\n      <td>0.0002</td>\n      <td>3556</td>\n      <td>2506629</td>\n      <td>43</td>\n      <td>7.049</td>\n      <td>-0.0284</td>\n      <td>26</td>\n      <td>17</td>\n      <td>1294299</td>\n      <td>1212330</td>\n      <td>1836</td>\n      <td>1720</td>\n      <td>0.03</td>\n      <td>7.050</td>\n      <td>7.048</td>\n      <td>2023-10-26 16:02:26</td>\n    </tr>\n    <tr>\n      <th>1</th>\n      <td>2023-10-02</td>\n      <td>10:10:00</td>\n      <td>CBOM</td>\n      <td>7.049</td>\n      <td>7.054</td>\n      <td>7.045</td>\n      <td>7.053</td>\n      <td>0.0002</td>\n      <td>3284</td>\n      <td>2314612</td>\n      <td>56</td>\n      <td>7.048</td>\n      <td>0.0567</td>\n      <td>39</td>\n      <td>17</td>\n      <td>881339</td>\n      <td>1433272</td>\n      <td>1250</td>\n      <td>2034</td>\n      <td>-0.24</td>\n      <td>7.051</td>\n      <td>7.047</td>\n      <td>2023-10-26 16:02:26</td>\n    </tr>\n    <tr>\n      <th>2</th>\n      <td>2023-10-02</td>\n      <td>10:15:00</td>\n      <td>CBOM</td>\n      <td>7.053</td>\n      <td>7.054</td>\n      <td>7.031</td>\n      <td>7.047</td>\n      <td>0.0003</td>\n      <td>6544</td>\n      <td>4610734</td>\n      <td>77</td>\n      <td>7.046</td>\n      <td>-0.0851</td>\n      <td>49</td>\n      <td>28</td>\n      <td>1855260</td>\n      <td>2755473</td>\n      <td>2633</td>\n      <td>3911</td>\n      <td>-0.20</td>\n      <td>7.046</td>\n      <td>7.045</td>\n      <td>2023-10-26 16:02:27</td>\n    </tr>\n    <tr>\n      <th>3</th>\n      <td>2023-10-02</td>\n      <td>10:20:00</td>\n      <td>CBOM</td>\n      <td>7.047</td>\n      <td>7.067</td>\n      <td>7.047</td>\n      <td>7.058</td>\n      <td>0.0002</td>\n      <td>2754</td>\n      <td>1941936</td>\n      <td>69</td>\n      <td>7.051</td>\n      <td>0.1561</td>\n      <td>46</td>\n      <td>23</td>\n      <td>1719004</td>\n      <td>222932</td>\n      <td>2438</td>\n      <td>316</td>\n      <td>0.77</td>\n      <td>7.051</td>\n      <td>7.055</td>\n      <td>2023-10-26 16:02:27</td>\n    </tr>\n    <tr>\n      <th>4</th>\n      <td>2023-10-02</td>\n      <td>10:25:00</td>\n      <td>CBOM</td>\n      <td>7.058</td>\n      <td>7.060</td>\n      <td>7.054</td>\n      <td>7.059</td>\n      <td>0.0003</td>\n      <td>1766</td>\n      <td>1246480</td>\n      <td>42</td>\n      <td>7.058</td>\n      <td>0.0142</td>\n      <td>22</td>\n      <td>20</td>\n      <td>1028474</td>\n      <td>218005</td>\n      <td>1457</td>\n      <td>309</td>\n      <td>0.65</td>\n      <td>7.059</td>\n      <td>7.055</td>\n      <td>2023-10-26 16:02:28</td>\n    </tr>\n  </tbody>\n</table>\n</div>"
     },
     "execution_count": 100,
     "metadata": {},
     "output_type": "execute_result"
    }
   ],
   "source": [
    "df.head()"
   ],
   "metadata": {
    "collapsed": false,
    "ExecuteTime": {
     "end_time": "2023-12-02T20:26:39.356215Z",
     "start_time": "2023-12-02T20:26:39.342976Z"
    }
   },
   "id": "8b6fb1b0dca16419"
  },
  {
   "cell_type": "code",
   "execution_count": 40,
   "outputs": [
    {
     "name": "stdout",
     "output_type": "stream",
     "text": [
      "Unexpected exception formatting exception. Falling back to standard exception\n"
     ]
    },
    {
     "name": "stderr",
     "output_type": "stream",
     "text": [
      "Traceback (most recent call last):\n",
      "  File \"/Users/valentin/anaconda3/envs/Go.Algo/lib/python3.11/site-packages/IPython/core/interactiveshell.py\", line 3526, in run_code\n",
      "  File \"/var/folders/mw/pz7p6b0x7j7355t1s1v855dh0000gn/T/ipykernel_70093/2420516957.py\", line 1, in <module>\n",
      "    df.columns\n",
      "    ^^\n",
      "NameError: name 'df' is not defined\n",
      "\n",
      "During handling of the above exception, another exception occurred:\n",
      "\n",
      "Traceback (most recent call last):\n",
      "  File \"/Users/valentin/anaconda3/envs/Go.Algo/lib/python3.11/site-packages/pygments/styles/__init__.py\", line 89, in get_style_by_name\n",
      "ModuleNotFoundError: No module named 'pygments.styles.default'\n",
      "\n",
      "During handling of the above exception, another exception occurred:\n",
      "\n",
      "Traceback (most recent call last):\n",
      "  File \"/Users/valentin/anaconda3/envs/Go.Algo/lib/python3.11/site-packages/IPython/core/interactiveshell.py\", line 2120, in showtraceback\n",
      "  File \"/Users/valentin/anaconda3/envs/Go.Algo/lib/python3.11/site-packages/IPython/core/ultratb.py\", line 1435, in structured_traceback\n",
      "  File \"/Users/valentin/anaconda3/envs/Go.Algo/lib/python3.11/site-packages/IPython/core/ultratb.py\", line 1326, in structured_traceback\n",
      "  File \"/Users/valentin/anaconda3/envs/Go.Algo/lib/python3.11/site-packages/IPython/core/ultratb.py\", line 1173, in structured_traceback\n",
      "  File \"/Users/valentin/anaconda3/envs/Go.Algo/lib/python3.11/site-packages/IPython/core/ultratb.py\", line 1063, in format_exception_as_a_whole\n",
      "  File \"/Users/valentin/anaconda3/envs/Go.Algo/lib/python3.11/site-packages/IPython/core/ultratb.py\", line 1114, in get_records\n",
      "  File \"/Users/valentin/anaconda3/envs/Go.Algo/lib/python3.11/site-packages/pygments/styles/__init__.py\", line 91, in get_style_by_name\n",
      "pygments.util.ClassNotFound: Could not find style module 'default', though it should be builtin.\n"
     ]
    }
   ],
   "source": [
    "df.columns"
   ],
   "metadata": {
    "collapsed": false,
    "ExecuteTime": {
     "end_time": "2023-12-03T11:04:36.456341Z",
     "start_time": "2023-12-03T11:04:36.452616Z"
    }
   },
   "id": "bfdd593556dc8f11"
  },
  {
   "cell_type": "code",
   "execution_count": 126,
   "outputs": [],
   "source": [
    "df = pd.read_csv('tradestats_CBOM.csv', engine='python', encoding='cp1251', sep=',')"
   ],
   "metadata": {
    "collapsed": false,
    "ExecuteTime": {
     "end_time": "2023-12-02T21:45:28.820399Z",
     "start_time": "2023-12-02T21:45:28.807339Z"
    }
   },
   "id": "981319b8a50580e8"
  },
  {
   "cell_type": "code",
   "execution_count": 127,
   "outputs": [],
   "source": [
    "df.loc[:,'trade_datetime'] = pd.to_datetime(df.tradedate.astype(str)+' '+df.tradetime.astype(str))\n",
    "\n",
    "df = df[['trade_datetime', 'pr_open', 'pr_high', 'pr_low', 'vol', 'val', 'trades','trades_b', 'trades_s', 'val_b', 'val_s', 'vol_b', 'vol_s','pr_close']]\n",
    "\n",
    "df.columns = ['trade_datetime', 'pr_open', 'pr_high', 'pr_low', 'vol', 'val', 'trades','trades_b', 'trades_s', 'val_b', 'val_s', 'vol_b', 'vol_s','target']\n",
    "\n",
    "df[\"segment\"] = \"main\"\n",
    "\n",
    "df_etna = df\n"
   ],
   "metadata": {
    "collapsed": false,
    "ExecuteTime": {
     "end_time": "2023-12-02T21:45:29.028181Z",
     "start_time": "2023-12-02T21:45:29.023455Z"
    }
   },
   "id": "16667581683f532c"
  },
  {
   "cell_type": "code",
   "execution_count": 128,
   "outputs": [
    {
     "name": "stdout",
     "output_type": "stream",
     "text": [
      "<class 'pandas.core.frame.DataFrame'>\n",
      "RangeIndex: 726 entries, 0 to 725\n",
      "Data columns (total 15 columns):\n",
      " #   Column          Non-Null Count  Dtype         \n",
      "---  ------          --------------  -----         \n",
      " 0   trade_datetime  726 non-null    datetime64[ns]\n",
      " 1   pr_open         726 non-null    float64       \n",
      " 2   pr_high         726 non-null    float64       \n",
      " 3   pr_low          726 non-null    float64       \n",
      " 4   vol             726 non-null    int64         \n",
      " 5   val             726 non-null    int64         \n",
      " 6   trades          726 non-null    int64         \n",
      " 7   trades_b        726 non-null    int64         \n",
      " 8   trades_s        726 non-null    int64         \n",
      " 9   val_b           726 non-null    int64         \n",
      " 10  val_s           726 non-null    int64         \n",
      " 11  vol_b           726 non-null    int64         \n",
      " 12  vol_s           726 non-null    int64         \n",
      " 13  target          726 non-null    float64       \n",
      " 14  segment         726 non-null    object        \n",
      "dtypes: datetime64[ns](1), float64(4), int64(9), object(1)\n",
      "memory usage: 85.2+ KB\n"
     ]
    }
   ],
   "source": [
    "df_etna.info()"
   ],
   "metadata": {
    "collapsed": false,
    "ExecuteTime": {
     "end_time": "2023-12-02T21:45:34.613686Z",
     "start_time": "2023-12-02T21:45:34.609401Z"
    }
   },
   "id": "a724ff75ad926437"
  },
  {
   "cell_type": "raw",
   "source": [
    "!conda install python=3.10"
   ],
   "metadata": {
    "collapsed": false
   },
   "id": "3f9c8e2958ef54ea"
  },
  {
   "cell_type": "code",
   "execution_count": 35,
   "outputs": [
    {
     "name": "stdout",
     "output_type": "stream",
     "text": [
      "Python 3.10.13\r\n"
     ]
    }
   ],
   "source": [
    "!python -V "
   ],
   "metadata": {
    "collapsed": false,
    "ExecuteTime": {
     "end_time": "2023-12-03T09:51:22.092706Z",
     "start_time": "2023-12-03T09:51:21.891082Z"
    }
   },
   "id": "391b6d2a7dcfb3ce"
  },
  {
   "cell_type": "code",
   "execution_count": 17,
   "outputs": [
    {
     "name": "stdout",
     "output_type": "stream",
     "text": [
      "Requirement already satisfied: pip in /Users/valentin/anaconda3/envs/Go_Algo_3_10/lib/python3.10/site-packages (23.3.1)\r\n",
      "Requirement already satisfied: etna in /Users/valentin/anaconda3/envs/Go_Algo_3_10/lib/python3.10/site-packages (2.3.0)\r\n",
      "Requirement already satisfied: Bottleneck<2.0.0,>=1.3.4 in /Users/valentin/anaconda3/envs/Go_Algo_3_10/lib/python3.10/site-packages (from etna) (1.3.5)\r\n",
      "Requirement already satisfied: Deprecated==1.2.13 in /Users/valentin/anaconda3/envs/Go_Algo_3_10/lib/python3.10/site-packages (from etna) (1.2.13)\r\n",
      "Requirement already satisfied: boto3<2.0,>=1.5 in /Users/valentin/anaconda3/envs/Go_Algo_3_10/lib/python3.10/site-packages (from etna) (1.33.6)\r\n",
      "Requirement already satisfied: botocore in /Users/valentin/anaconda3/envs/Go_Algo_3_10/lib/python3.10/site-packages (from etna) (1.33.6)\r\n",
      "Requirement already satisfied: catboost>=0.21 in /Users/valentin/anaconda3/envs/Go_Algo_3_10/lib/python3.10/site-packages (from etna) (1.2.2)\r\n",
      "Requirement already satisfied: dill<0.4.0,>=0.3.4 in /Users/valentin/anaconda3/envs/Go_Algo_3_10/lib/python3.10/site-packages (from etna) (0.3.7)\r\n",
      "Requirement already satisfied: holidays<1.0,>=0.13 in /Users/valentin/anaconda3/envs/Go_Algo_3_10/lib/python3.10/site-packages (from etna) (0.37)\r\n",
      "Requirement already satisfied: hydra-slayer<0.3.0,>=0.2.0 in /Users/valentin/anaconda3/envs/Go_Algo_3_10/lib/python3.10/site-packages (from etna) (0.2.0)\r\n",
      "Requirement already satisfied: ipywidgets<8.0.0,>=7.6.5 in /Users/valentin/anaconda3/envs/Go_Algo_3_10/lib/python3.10/site-packages (from etna) (7.8.1)\r\n",
      "Requirement already satisfied: joblib in /Users/valentin/anaconda3/envs/Go_Algo_3_10/lib/python3.10/site-packages (from etna) (1.3.2)\r\n",
      "Requirement already satisfied: loguru<0.6.0,>=0.5.3 in /Users/valentin/anaconda3/envs/Go_Algo_3_10/lib/python3.10/site-packages (from etna) (0.5.3)\r\n",
      "Requirement already satisfied: matplotlib in /Users/valentin/anaconda3/envs/Go_Algo_3_10/lib/python3.10/site-packages (from etna) (3.8.2)\r\n",
      "Requirement already satisfied: numba>=0.53.1 in /Users/valentin/anaconda3/envs/Go_Algo_3_10/lib/python3.10/site-packages (from etna) (0.58.1)\r\n",
      "Requirement already satisfied: numpy in /Users/valentin/anaconda3/envs/Go_Algo_3_10/lib/python3.10/site-packages (from etna) (1.26.2)\r\n",
      "Requirement already satisfied: omegaconf<3.0.0,>=2.1.1 in /Users/valentin/anaconda3/envs/Go_Algo_3_10/lib/python3.10/site-packages (from etna) (2.3.0)\r\n",
      "Requirement already satisfied: pandas<2.0,>=1.1 in /Users/valentin/anaconda3/envs/Go_Algo_3_10/lib/python3.10/site-packages (from etna) (1.5.3)\r\n",
      "Requirement already satisfied: plotly in /Users/valentin/anaconda3/envs/Go_Algo_3_10/lib/python3.10/site-packages (from etna) (5.18.0)\r\n",
      "Requirement already satisfied: pmdarima>=1.8.0 in /Users/valentin/anaconda3/envs/Go_Algo_3_10/lib/python3.10/site-packages (from etna) (2.0.4)\r\n",
      "Requirement already satisfied: ruptures<2.0.0,>=1.1.5 in /Users/valentin/anaconda3/envs/Go_Algo_3_10/lib/python3.10/site-packages (from etna) (1.1.8)\r\n",
      "Requirement already satisfied: scikit-learn<2,>=0.24 in /Users/valentin/anaconda3/envs/Go_Algo_3_10/lib/python3.10/site-packages (from etna) (1.0.2)\r\n",
      "Requirement already satisfied: scipy<2.0,>=1.0 in /Users/valentin/anaconda3/envs/Go_Algo_3_10/lib/python3.10/site-packages (from etna) (1.11.4)\r\n",
      "Requirement already satisfied: seaborn<0.12.0,>=0.11.1 in /Users/valentin/anaconda3/envs/Go_Algo_3_10/lib/python3.10/site-packages (from etna) (0.11.2)\r\n",
      "Requirement already satisfied: statsmodels<0.14,>=0.12 in /Users/valentin/anaconda3/envs/Go_Algo_3_10/lib/python3.10/site-packages (from etna) (0.13.5)\r\n",
      "Requirement already satisfied: tbats<2.0.0,>=1.1.0 in /Users/valentin/anaconda3/envs/Go_Algo_3_10/lib/python3.10/site-packages (from etna) (1.1.3)\r\n",
      "Requirement already satisfied: toml<0.11.0,>=0.10.2 in /Users/valentin/anaconda3/envs/Go_Algo_3_10/lib/python3.10/site-packages (from etna) (0.10.2)\r\n",
      "Requirement already satisfied: typer<0.5.0,>=0.4.0 in /Users/valentin/anaconda3/envs/Go_Algo_3_10/lib/python3.10/site-packages (from etna) (0.4.2)\r\n",
      "Requirement already satisfied: types-Deprecated==1.2.9 in /Users/valentin/anaconda3/envs/Go_Algo_3_10/lib/python3.10/site-packages (from etna) (1.2.9)\r\n",
      "Requirement already satisfied: typing_extensions in /Users/valentin/anaconda3/envs/Go_Algo_3_10/lib/python3.10/site-packages (from etna) (4.8.0)\r\n",
      "Requirement already satisfied: wrapt<2,>=1.10 in /Users/valentin/anaconda3/envs/Go_Algo_3_10/lib/python3.10/site-packages (from Deprecated==1.2.13->etna) (1.16.0)\r\n",
      "Requirement already satisfied: jmespath<2.0.0,>=0.7.1 in /Users/valentin/anaconda3/envs/Go_Algo_3_10/lib/python3.10/site-packages (from boto3<2.0,>=1.5->etna) (1.0.1)\r\n",
      "Requirement already satisfied: s3transfer<0.9.0,>=0.8.2 in /Users/valentin/anaconda3/envs/Go_Algo_3_10/lib/python3.10/site-packages (from boto3<2.0,>=1.5->etna) (0.8.2)\r\n",
      "Requirement already satisfied: python-dateutil<3.0.0,>=2.1 in /Users/valentin/anaconda3/envs/Go_Algo_3_10/lib/python3.10/site-packages (from botocore->etna) (2.8.2)\r\n",
      "Requirement already satisfied: urllib3<2.1,>=1.25.4 in /Users/valentin/anaconda3/envs/Go_Algo_3_10/lib/python3.10/site-packages (from botocore->etna) (2.0.7)\r\n",
      "Requirement already satisfied: graphviz in /Users/valentin/anaconda3/envs/Go_Algo_3_10/lib/python3.10/site-packages (from catboost>=0.21->etna) (0.20.1)\r\n",
      "Requirement already satisfied: six in /Users/valentin/anaconda3/envs/Go_Algo_3_10/lib/python3.10/site-packages (from catboost>=0.21->etna) (1.16.0)\r\n",
      "Requirement already satisfied: comm>=0.1.3 in /Users/valentin/anaconda3/envs/Go_Algo_3_10/lib/python3.10/site-packages (from ipywidgets<8.0.0,>=7.6.5->etna) (0.2.0)\r\n",
      "Requirement already satisfied: ipython-genutils~=0.2.0 in /Users/valentin/anaconda3/envs/Go_Algo_3_10/lib/python3.10/site-packages (from ipywidgets<8.0.0,>=7.6.5->etna) (0.2.0)\r\n",
      "Requirement already satisfied: traitlets>=4.3.1 in /Users/valentin/anaconda3/envs/Go_Algo_3_10/lib/python3.10/site-packages (from ipywidgets<8.0.0,>=7.6.5->etna) (5.14.0)\r\n",
      "Requirement already satisfied: widgetsnbextension~=3.6.6 in /Users/valentin/anaconda3/envs/Go_Algo_3_10/lib/python3.10/site-packages (from ipywidgets<8.0.0,>=7.6.5->etna) (3.6.6)\r\n",
      "Requirement already satisfied: ipython>=4.0.0 in /Users/valentin/anaconda3/envs/Go_Algo_3_10/lib/python3.10/site-packages (from ipywidgets<8.0.0,>=7.6.5->etna) (8.18.1)\r\n",
      "Requirement already satisfied: jupyterlab-widgets<3,>=1.0.0 in /Users/valentin/anaconda3/envs/Go_Algo_3_10/lib/python3.10/site-packages (from ipywidgets<8.0.0,>=7.6.5->etna) (1.1.7)\r\n",
      "Requirement already satisfied: llvmlite<0.42,>=0.41.0dev0 in /Users/valentin/anaconda3/envs/Go_Algo_3_10/lib/python3.10/site-packages (from numba>=0.53.1->etna) (0.41.1)\r\n",
      "Requirement already satisfied: antlr4-python3-runtime==4.9.* in /Users/valentin/anaconda3/envs/Go_Algo_3_10/lib/python3.10/site-packages (from omegaconf<3.0.0,>=2.1.1->etna) (4.9.3)\r\n",
      "Requirement already satisfied: PyYAML>=5.1.0 in /Users/valentin/anaconda3/envs/Go_Algo_3_10/lib/python3.10/site-packages (from omegaconf<3.0.0,>=2.1.1->etna) (6.0.1)\r\n",
      "Requirement already satisfied: pytz>=2020.1 in /Users/valentin/anaconda3/envs/Go_Algo_3_10/lib/python3.10/site-packages (from pandas<2.0,>=1.1->etna) (2023.3.post1)\r\n",
      "Requirement already satisfied: Cython!=0.29.18,!=0.29.31,>=0.29 in /Users/valentin/anaconda3/envs/Go_Algo_3_10/lib/python3.10/site-packages (from pmdarima>=1.8.0->etna) (3.0.6)\r\n",
      "Requirement already satisfied: setuptools!=50.0.0,>=38.6.0 in /Users/valentin/anaconda3/envs/Go_Algo_3_10/lib/python3.10/site-packages (from pmdarima>=1.8.0->etna) (68.0.0)\r\n",
      "Requirement already satisfied: packaging>=17.1 in /Users/valentin/anaconda3/envs/Go_Algo_3_10/lib/python3.10/site-packages (from pmdarima>=1.8.0->etna) (23.2)\r\n",
      "Requirement already satisfied: threadpoolctl>=2.0.0 in /Users/valentin/anaconda3/envs/Go_Algo_3_10/lib/python3.10/site-packages (from scikit-learn<2,>=0.24->etna) (3.2.0)\r\n",
      "Requirement already satisfied: contourpy>=1.0.1 in /Users/valentin/anaconda3/envs/Go_Algo_3_10/lib/python3.10/site-packages (from matplotlib->etna) (1.2.0)\r\n",
      "Requirement already satisfied: cycler>=0.10 in /Users/valentin/anaconda3/envs/Go_Algo_3_10/lib/python3.10/site-packages (from matplotlib->etna) (0.12.1)\r\n",
      "Requirement already satisfied: fonttools>=4.22.0 in /Users/valentin/anaconda3/envs/Go_Algo_3_10/lib/python3.10/site-packages (from matplotlib->etna) (4.46.0)\r\n",
      "Requirement already satisfied: kiwisolver>=1.3.1 in /Users/valentin/anaconda3/envs/Go_Algo_3_10/lib/python3.10/site-packages (from matplotlib->etna) (1.4.5)\r\n",
      "Requirement already satisfied: pillow>=8 in /Users/valentin/anaconda3/envs/Go_Algo_3_10/lib/python3.10/site-packages (from matplotlib->etna) (10.1.0)\r\n",
      "Requirement already satisfied: pyparsing>=2.3.1 in /Users/valentin/anaconda3/envs/Go_Algo_3_10/lib/python3.10/site-packages (from matplotlib->etna) (3.1.1)\r\n",
      "Requirement already satisfied: patsy>=0.5.2 in /Users/valentin/anaconda3/envs/Go_Algo_3_10/lib/python3.10/site-packages (from statsmodels<0.14,>=0.12->etna) (0.5.4)\r\n",
      "Requirement already satisfied: click<9.0.0,>=7.1.1 in /Users/valentin/anaconda3/envs/Go_Algo_3_10/lib/python3.10/site-packages (from typer<0.5.0,>=0.4.0->etna) (8.1.7)\r\n",
      "Requirement already satisfied: tenacity>=6.2.0 in /Users/valentin/anaconda3/envs/Go_Algo_3_10/lib/python3.10/site-packages (from plotly->etna) (8.2.3)\r\n",
      "Requirement already satisfied: decorator in /Users/valentin/anaconda3/envs/Go_Algo_3_10/lib/python3.10/site-packages (from ipython>=4.0.0->ipywidgets<8.0.0,>=7.6.5->etna) (5.1.1)\r\n",
      "Requirement already satisfied: jedi>=0.16 in /Users/valentin/anaconda3/envs/Go_Algo_3_10/lib/python3.10/site-packages (from ipython>=4.0.0->ipywidgets<8.0.0,>=7.6.5->etna) (0.19.1)\r\n",
      "Requirement already satisfied: matplotlib-inline in /Users/valentin/anaconda3/envs/Go_Algo_3_10/lib/python3.10/site-packages (from ipython>=4.0.0->ipywidgets<8.0.0,>=7.6.5->etna) (0.1.6)\r\n",
      "Requirement already satisfied: prompt-toolkit<3.1.0,>=3.0.41 in /Users/valentin/anaconda3/envs/Go_Algo_3_10/lib/python3.10/site-packages (from ipython>=4.0.0->ipywidgets<8.0.0,>=7.6.5->etna) (3.0.41)\r\n",
      "Requirement already satisfied: pygments>=2.4.0 in /Users/valentin/anaconda3/envs/Go_Algo_3_10/lib/python3.10/site-packages (from ipython>=4.0.0->ipywidgets<8.0.0,>=7.6.5->etna) (2.17.2)\r\n",
      "Requirement already satisfied: stack-data in /Users/valentin/anaconda3/envs/Go_Algo_3_10/lib/python3.10/site-packages (from ipython>=4.0.0->ipywidgets<8.0.0,>=7.6.5->etna) (0.6.3)\r\n",
      "Requirement already satisfied: exceptiongroup in /Users/valentin/anaconda3/envs/Go_Algo_3_10/lib/python3.10/site-packages (from ipython>=4.0.0->ipywidgets<8.0.0,>=7.6.5->etna) (1.2.0)\r\n",
      "Requirement already satisfied: pexpect>4.3 in /Users/valentin/anaconda3/envs/Go_Algo_3_10/lib/python3.10/site-packages (from ipython>=4.0.0->ipywidgets<8.0.0,>=7.6.5->etna) (4.9.0)\r\n",
      "Requirement already satisfied: notebook>=4.4.1 in /Users/valentin/anaconda3/envs/Go_Algo_3_10/lib/python3.10/site-packages (from widgetsnbextension~=3.6.6->ipywidgets<8.0.0,>=7.6.5->etna) (7.0.6)\r\n",
      "Requirement already satisfied: parso<0.9.0,>=0.8.3 in /Users/valentin/anaconda3/envs/Go_Algo_3_10/lib/python3.10/site-packages (from jedi>=0.16->ipython>=4.0.0->ipywidgets<8.0.0,>=7.6.5->etna) (0.8.3)\r\n",
      "Requirement already satisfied: jupyter-server<3,>=2.4.0 in /Users/valentin/anaconda3/envs/Go_Algo_3_10/lib/python3.10/site-packages (from notebook>=4.4.1->widgetsnbextension~=3.6.6->ipywidgets<8.0.0,>=7.6.5->etna) (2.11.1)\r\n",
      "Requirement already satisfied: jupyterlab-server<3,>=2.22.1 in /Users/valentin/anaconda3/envs/Go_Algo_3_10/lib/python3.10/site-packages (from notebook>=4.4.1->widgetsnbextension~=3.6.6->ipywidgets<8.0.0,>=7.6.5->etna) (2.25.2)\r\n",
      "Requirement already satisfied: jupyterlab<5,>=4.0.2 in /Users/valentin/anaconda3/envs/Go_Algo_3_10/lib/python3.10/site-packages (from notebook>=4.4.1->widgetsnbextension~=3.6.6->ipywidgets<8.0.0,>=7.6.5->etna) (4.0.9)\r\n",
      "Requirement already satisfied: notebook-shim<0.3,>=0.2 in /Users/valentin/anaconda3/envs/Go_Algo_3_10/lib/python3.10/site-packages (from notebook>=4.4.1->widgetsnbextension~=3.6.6->ipywidgets<8.0.0,>=7.6.5->etna) (0.2.3)\r\n",
      "Requirement already satisfied: tornado>=6.2.0 in /Users/valentin/anaconda3/envs/Go_Algo_3_10/lib/python3.10/site-packages (from notebook>=4.4.1->widgetsnbextension~=3.6.6->ipywidgets<8.0.0,>=7.6.5->etna) (6.4)\r\n",
      "Requirement already satisfied: ptyprocess>=0.5 in /Users/valentin/anaconda3/envs/Go_Algo_3_10/lib/python3.10/site-packages (from pexpect>4.3->ipython>=4.0.0->ipywidgets<8.0.0,>=7.6.5->etna) (0.7.0)\r\n",
      "Requirement already satisfied: wcwidth in /Users/valentin/anaconda3/envs/Go_Algo_3_10/lib/python3.10/site-packages (from prompt-toolkit<3.1.0,>=3.0.41->ipython>=4.0.0->ipywidgets<8.0.0,>=7.6.5->etna) (0.2.12)\r\n",
      "Requirement already satisfied: executing>=1.2.0 in /Users/valentin/anaconda3/envs/Go_Algo_3_10/lib/python3.10/site-packages (from stack-data->ipython>=4.0.0->ipywidgets<8.0.0,>=7.6.5->etna) (2.0.1)\r\n",
      "Requirement already satisfied: asttokens>=2.1.0 in /Users/valentin/anaconda3/envs/Go_Algo_3_10/lib/python3.10/site-packages (from stack-data->ipython>=4.0.0->ipywidgets<8.0.0,>=7.6.5->etna) (2.4.1)\r\n",
      "Requirement already satisfied: pure-eval in /Users/valentin/anaconda3/envs/Go_Algo_3_10/lib/python3.10/site-packages (from stack-data->ipython>=4.0.0->ipywidgets<8.0.0,>=7.6.5->etna) (0.2.2)\r\n",
      "Requirement already satisfied: anyio>=3.1.0 in /Users/valentin/anaconda3/envs/Go_Algo_3_10/lib/python3.10/site-packages (from jupyter-server<3,>=2.4.0->notebook>=4.4.1->widgetsnbextension~=3.6.6->ipywidgets<8.0.0,>=7.6.5->etna) (4.1.0)\r\n",
      "Requirement already satisfied: argon2-cffi in /Users/valentin/anaconda3/envs/Go_Algo_3_10/lib/python3.10/site-packages (from jupyter-server<3,>=2.4.0->notebook>=4.4.1->widgetsnbextension~=3.6.6->ipywidgets<8.0.0,>=7.6.5->etna) (23.1.0)\r\n",
      "Requirement already satisfied: jinja2 in /Users/valentin/anaconda3/envs/Go_Algo_3_10/lib/python3.10/site-packages (from jupyter-server<3,>=2.4.0->notebook>=4.4.1->widgetsnbextension~=3.6.6->ipywidgets<8.0.0,>=7.6.5->etna) (3.1.2)\r\n",
      "Requirement already satisfied: jupyter-client>=7.4.4 in /Users/valentin/anaconda3/envs/Go_Algo_3_10/lib/python3.10/site-packages (from jupyter-server<3,>=2.4.0->notebook>=4.4.1->widgetsnbextension~=3.6.6->ipywidgets<8.0.0,>=7.6.5->etna) (8.6.0)\r\n",
      "Requirement already satisfied: jupyter-core!=5.0.*,>=4.12 in /Users/valentin/anaconda3/envs/Go_Algo_3_10/lib/python3.10/site-packages (from jupyter-server<3,>=2.4.0->notebook>=4.4.1->widgetsnbextension~=3.6.6->ipywidgets<8.0.0,>=7.6.5->etna) (5.5.0)\r\n",
      "Requirement already satisfied: jupyter-events>=0.9.0 in /Users/valentin/anaconda3/envs/Go_Algo_3_10/lib/python3.10/site-packages (from jupyter-server<3,>=2.4.0->notebook>=4.4.1->widgetsnbextension~=3.6.6->ipywidgets<8.0.0,>=7.6.5->etna) (0.9.0)\r\n",
      "Requirement already satisfied: jupyter-server-terminals in /Users/valentin/anaconda3/envs/Go_Algo_3_10/lib/python3.10/site-packages (from jupyter-server<3,>=2.4.0->notebook>=4.4.1->widgetsnbextension~=3.6.6->ipywidgets<8.0.0,>=7.6.5->etna) (0.4.4)\r\n",
      "Requirement already satisfied: nbconvert>=6.4.4 in /Users/valentin/anaconda3/envs/Go_Algo_3_10/lib/python3.10/site-packages (from jupyter-server<3,>=2.4.0->notebook>=4.4.1->widgetsnbextension~=3.6.6->ipywidgets<8.0.0,>=7.6.5->etna) (7.11.0)\r\n",
      "Requirement already satisfied: nbformat>=5.3.0 in /Users/valentin/anaconda3/envs/Go_Algo_3_10/lib/python3.10/site-packages (from jupyter-server<3,>=2.4.0->notebook>=4.4.1->widgetsnbextension~=3.6.6->ipywidgets<8.0.0,>=7.6.5->etna) (5.9.2)\r\n",
      "Requirement already satisfied: overrides in /Users/valentin/anaconda3/envs/Go_Algo_3_10/lib/python3.10/site-packages (from jupyter-server<3,>=2.4.0->notebook>=4.4.1->widgetsnbextension~=3.6.6->ipywidgets<8.0.0,>=7.6.5->etna) (7.4.0)\r\n",
      "Requirement already satisfied: prometheus-client in /Users/valentin/anaconda3/envs/Go_Algo_3_10/lib/python3.10/site-packages (from jupyter-server<3,>=2.4.0->notebook>=4.4.1->widgetsnbextension~=3.6.6->ipywidgets<8.0.0,>=7.6.5->etna) (0.19.0)\r\n",
      "Requirement already satisfied: pyzmq>=24 in /Users/valentin/anaconda3/envs/Go_Algo_3_10/lib/python3.10/site-packages (from jupyter-server<3,>=2.4.0->notebook>=4.4.1->widgetsnbextension~=3.6.6->ipywidgets<8.0.0,>=7.6.5->etna) (25.1.1)\r\n",
      "Requirement already satisfied: send2trash>=1.8.2 in /Users/valentin/anaconda3/envs/Go_Algo_3_10/lib/python3.10/site-packages (from jupyter-server<3,>=2.4.0->notebook>=4.4.1->widgetsnbextension~=3.6.6->ipywidgets<8.0.0,>=7.6.5->etna) (1.8.2)\r\n",
      "Requirement already satisfied: terminado>=0.8.3 in /Users/valentin/anaconda3/envs/Go_Algo_3_10/lib/python3.10/site-packages (from jupyter-server<3,>=2.4.0->notebook>=4.4.1->widgetsnbextension~=3.6.6->ipywidgets<8.0.0,>=7.6.5->etna) (0.18.0)\r\n",
      "Requirement already satisfied: websocket-client in /Users/valentin/anaconda3/envs/Go_Algo_3_10/lib/python3.10/site-packages (from jupyter-server<3,>=2.4.0->notebook>=4.4.1->widgetsnbextension~=3.6.6->ipywidgets<8.0.0,>=7.6.5->etna) (1.6.4)\r\n",
      "Requirement already satisfied: async-lru>=1.0.0 in /Users/valentin/anaconda3/envs/Go_Algo_3_10/lib/python3.10/site-packages (from jupyterlab<5,>=4.0.2->notebook>=4.4.1->widgetsnbextension~=3.6.6->ipywidgets<8.0.0,>=7.6.5->etna) (2.0.4)\r\n",
      "Requirement already satisfied: ipykernel in /Users/valentin/anaconda3/envs/Go_Algo_3_10/lib/python3.10/site-packages (from jupyterlab<5,>=4.0.2->notebook>=4.4.1->widgetsnbextension~=3.6.6->ipywidgets<8.0.0,>=7.6.5->etna) (6.27.1)\r\n",
      "Requirement already satisfied: jupyter-lsp>=2.0.0 in /Users/valentin/anaconda3/envs/Go_Algo_3_10/lib/python3.10/site-packages (from jupyterlab<5,>=4.0.2->notebook>=4.4.1->widgetsnbextension~=3.6.6->ipywidgets<8.0.0,>=7.6.5->etna) (2.2.1)\r\n",
      "Requirement already satisfied: tomli in /Users/valentin/anaconda3/envs/Go_Algo_3_10/lib/python3.10/site-packages (from jupyterlab<5,>=4.0.2->notebook>=4.4.1->widgetsnbextension~=3.6.6->ipywidgets<8.0.0,>=7.6.5->etna) (2.0.1)\r\n",
      "Requirement already satisfied: babel>=2.10 in /Users/valentin/anaconda3/envs/Go_Algo_3_10/lib/python3.10/site-packages (from jupyterlab-server<3,>=2.22.1->notebook>=4.4.1->widgetsnbextension~=3.6.6->ipywidgets<8.0.0,>=7.6.5->etna) (2.13.1)\r\n",
      "Requirement already satisfied: json5>=0.9.0 in /Users/valentin/anaconda3/envs/Go_Algo_3_10/lib/python3.10/site-packages (from jupyterlab-server<3,>=2.22.1->notebook>=4.4.1->widgetsnbextension~=3.6.6->ipywidgets<8.0.0,>=7.6.5->etna) (0.9.14)\r\n",
      "Requirement already satisfied: jsonschema>=4.18.0 in /Users/valentin/anaconda3/envs/Go_Algo_3_10/lib/python3.10/site-packages (from jupyterlab-server<3,>=2.22.1->notebook>=4.4.1->widgetsnbextension~=3.6.6->ipywidgets<8.0.0,>=7.6.5->etna) (4.20.0)\r\n",
      "Requirement already satisfied: requests>=2.31 in /Users/valentin/anaconda3/envs/Go_Algo_3_10/lib/python3.10/site-packages (from jupyterlab-server<3,>=2.22.1->notebook>=4.4.1->widgetsnbextension~=3.6.6->ipywidgets<8.0.0,>=7.6.5->etna) (2.31.0)\r\n",
      "Requirement already satisfied: idna>=2.8 in /Users/valentin/anaconda3/envs/Go_Algo_3_10/lib/python3.10/site-packages (from anyio>=3.1.0->jupyter-server<3,>=2.4.0->notebook>=4.4.1->widgetsnbextension~=3.6.6->ipywidgets<8.0.0,>=7.6.5->etna) (3.6)\r\n",
      "Requirement already satisfied: sniffio>=1.1 in /Users/valentin/anaconda3/envs/Go_Algo_3_10/lib/python3.10/site-packages (from anyio>=3.1.0->jupyter-server<3,>=2.4.0->notebook>=4.4.1->widgetsnbextension~=3.6.6->ipywidgets<8.0.0,>=7.6.5->etna) (1.3.0)\r\n",
      "Requirement already satisfied: MarkupSafe>=2.0 in /Users/valentin/anaconda3/envs/Go_Algo_3_10/lib/python3.10/site-packages (from jinja2->jupyter-server<3,>=2.4.0->notebook>=4.4.1->widgetsnbextension~=3.6.6->ipywidgets<8.0.0,>=7.6.5->etna) (2.1.3)\r\n",
      "Requirement already satisfied: attrs>=22.2.0 in /Users/valentin/anaconda3/envs/Go_Algo_3_10/lib/python3.10/site-packages (from jsonschema>=4.18.0->jupyterlab-server<3,>=2.22.1->notebook>=4.4.1->widgetsnbextension~=3.6.6->ipywidgets<8.0.0,>=7.6.5->etna) (23.1.0)\r\n",
      "Requirement already satisfied: jsonschema-specifications>=2023.03.6 in /Users/valentin/anaconda3/envs/Go_Algo_3_10/lib/python3.10/site-packages (from jsonschema>=4.18.0->jupyterlab-server<3,>=2.22.1->notebook>=4.4.1->widgetsnbextension~=3.6.6->ipywidgets<8.0.0,>=7.6.5->etna) (2023.11.2)\r\n",
      "Requirement already satisfied: referencing>=0.28.4 in /Users/valentin/anaconda3/envs/Go_Algo_3_10/lib/python3.10/site-packages (from jsonschema>=4.18.0->jupyterlab-server<3,>=2.22.1->notebook>=4.4.1->widgetsnbextension~=3.6.6->ipywidgets<8.0.0,>=7.6.5->etna) (0.31.1)\r\n",
      "Requirement already satisfied: rpds-py>=0.7.1 in /Users/valentin/anaconda3/envs/Go_Algo_3_10/lib/python3.10/site-packages (from jsonschema>=4.18.0->jupyterlab-server<3,>=2.22.1->notebook>=4.4.1->widgetsnbextension~=3.6.6->ipywidgets<8.0.0,>=7.6.5->etna) (0.13.2)\r\n",
      "Requirement already satisfied: platformdirs>=2.5 in /Users/valentin/anaconda3/envs/Go_Algo_3_10/lib/python3.10/site-packages (from jupyter-core!=5.0.*,>=4.12->jupyter-server<3,>=2.4.0->notebook>=4.4.1->widgetsnbextension~=3.6.6->ipywidgets<8.0.0,>=7.6.5->etna) (4.0.0)\r\n",
      "Requirement already satisfied: python-json-logger>=2.0.4 in /Users/valentin/anaconda3/envs/Go_Algo_3_10/lib/python3.10/site-packages (from jupyter-events>=0.9.0->jupyter-server<3,>=2.4.0->notebook>=4.4.1->widgetsnbextension~=3.6.6->ipywidgets<8.0.0,>=7.6.5->etna) (2.0.7)\r\n",
      "Requirement already satisfied: rfc3339-validator in /Users/valentin/anaconda3/envs/Go_Algo_3_10/lib/python3.10/site-packages (from jupyter-events>=0.9.0->jupyter-server<3,>=2.4.0->notebook>=4.4.1->widgetsnbextension~=3.6.6->ipywidgets<8.0.0,>=7.6.5->etna) (0.1.4)\r\n",
      "Requirement already satisfied: rfc3986-validator>=0.1.1 in /Users/valentin/anaconda3/envs/Go_Algo_3_10/lib/python3.10/site-packages (from jupyter-events>=0.9.0->jupyter-server<3,>=2.4.0->notebook>=4.4.1->widgetsnbextension~=3.6.6->ipywidgets<8.0.0,>=7.6.5->etna) (0.1.1)\r\n",
      "Requirement already satisfied: beautifulsoup4 in /Users/valentin/anaconda3/envs/Go_Algo_3_10/lib/python3.10/site-packages (from nbconvert>=6.4.4->jupyter-server<3,>=2.4.0->notebook>=4.4.1->widgetsnbextension~=3.6.6->ipywidgets<8.0.0,>=7.6.5->etna) (4.12.2)\r\n",
      "Requirement already satisfied: bleach!=5.0.0 in /Users/valentin/anaconda3/envs/Go_Algo_3_10/lib/python3.10/site-packages (from nbconvert>=6.4.4->jupyter-server<3,>=2.4.0->notebook>=4.4.1->widgetsnbextension~=3.6.6->ipywidgets<8.0.0,>=7.6.5->etna) (6.1.0)\r\n",
      "Requirement already satisfied: defusedxml in /Users/valentin/anaconda3/envs/Go_Algo_3_10/lib/python3.10/site-packages (from nbconvert>=6.4.4->jupyter-server<3,>=2.4.0->notebook>=4.4.1->widgetsnbextension~=3.6.6->ipywidgets<8.0.0,>=7.6.5->etna) (0.7.1)\r\n",
      "Requirement already satisfied: jupyterlab-pygments in /Users/valentin/anaconda3/envs/Go_Algo_3_10/lib/python3.10/site-packages (from nbconvert>=6.4.4->jupyter-server<3,>=2.4.0->notebook>=4.4.1->widgetsnbextension~=3.6.6->ipywidgets<8.0.0,>=7.6.5->etna) (0.3.0)\r\n",
      "Requirement already satisfied: mistune<4,>=2.0.3 in /Users/valentin/anaconda3/envs/Go_Algo_3_10/lib/python3.10/site-packages (from nbconvert>=6.4.4->jupyter-server<3,>=2.4.0->notebook>=4.4.1->widgetsnbextension~=3.6.6->ipywidgets<8.0.0,>=7.6.5->etna) (3.0.2)\r\n",
      "Requirement already satisfied: nbclient>=0.5.0 in /Users/valentin/anaconda3/envs/Go_Algo_3_10/lib/python3.10/site-packages (from nbconvert>=6.4.4->jupyter-server<3,>=2.4.0->notebook>=4.4.1->widgetsnbextension~=3.6.6->ipywidgets<8.0.0,>=7.6.5->etna) (0.9.0)\r\n",
      "Requirement already satisfied: pandocfilters>=1.4.1 in /Users/valentin/anaconda3/envs/Go_Algo_3_10/lib/python3.10/site-packages (from nbconvert>=6.4.4->jupyter-server<3,>=2.4.0->notebook>=4.4.1->widgetsnbextension~=3.6.6->ipywidgets<8.0.0,>=7.6.5->etna) (1.5.0)\r\n",
      "Requirement already satisfied: tinycss2 in /Users/valentin/anaconda3/envs/Go_Algo_3_10/lib/python3.10/site-packages (from nbconvert>=6.4.4->jupyter-server<3,>=2.4.0->notebook>=4.4.1->widgetsnbextension~=3.6.6->ipywidgets<8.0.0,>=7.6.5->etna) (1.2.1)\r\n",
      "Requirement already satisfied: fastjsonschema in /Users/valentin/anaconda3/envs/Go_Algo_3_10/lib/python3.10/site-packages (from nbformat>=5.3.0->jupyter-server<3,>=2.4.0->notebook>=4.4.1->widgetsnbextension~=3.6.6->ipywidgets<8.0.0,>=7.6.5->etna) (2.19.0)\r\n",
      "Requirement already satisfied: charset-normalizer<4,>=2 in /Users/valentin/anaconda3/envs/Go_Algo_3_10/lib/python3.10/site-packages (from requests>=2.31->jupyterlab-server<3,>=2.22.1->notebook>=4.4.1->widgetsnbextension~=3.6.6->ipywidgets<8.0.0,>=7.6.5->etna) (3.3.2)\r\n",
      "Requirement already satisfied: certifi>=2017.4.17 in /Users/valentin/anaconda3/envs/Go_Algo_3_10/lib/python3.10/site-packages (from requests>=2.31->jupyterlab-server<3,>=2.22.1->notebook>=4.4.1->widgetsnbextension~=3.6.6->ipywidgets<8.0.0,>=7.6.5->etna) (2023.11.17)\r\n",
      "Requirement already satisfied: argon2-cffi-bindings in /Users/valentin/anaconda3/envs/Go_Algo_3_10/lib/python3.10/site-packages (from argon2-cffi->jupyter-server<3,>=2.4.0->notebook>=4.4.1->widgetsnbextension~=3.6.6->ipywidgets<8.0.0,>=7.6.5->etna) (21.2.0)\r\n",
      "Requirement already satisfied: appnope in /Users/valentin/anaconda3/envs/Go_Algo_3_10/lib/python3.10/site-packages (from ipykernel->jupyterlab<5,>=4.0.2->notebook>=4.4.1->widgetsnbextension~=3.6.6->ipywidgets<8.0.0,>=7.6.5->etna) (0.1.3)\r\n",
      "Requirement already satisfied: debugpy>=1.6.5 in /Users/valentin/anaconda3/envs/Go_Algo_3_10/lib/python3.10/site-packages (from ipykernel->jupyterlab<5,>=4.0.2->notebook>=4.4.1->widgetsnbextension~=3.6.6->ipywidgets<8.0.0,>=7.6.5->etna) (1.8.0)\r\n",
      "Requirement already satisfied: nest-asyncio in /Users/valentin/anaconda3/envs/Go_Algo_3_10/lib/python3.10/site-packages (from ipykernel->jupyterlab<5,>=4.0.2->notebook>=4.4.1->widgetsnbextension~=3.6.6->ipywidgets<8.0.0,>=7.6.5->etna) (1.5.8)\r\n",
      "Requirement already satisfied: psutil in /Users/valentin/anaconda3/envs/Go_Algo_3_10/lib/python3.10/site-packages (from ipykernel->jupyterlab<5,>=4.0.2->notebook>=4.4.1->widgetsnbextension~=3.6.6->ipywidgets<8.0.0,>=7.6.5->etna) (5.9.6)\r\n",
      "Requirement already satisfied: webencodings in /Users/valentin/anaconda3/envs/Go_Algo_3_10/lib/python3.10/site-packages (from bleach!=5.0.0->nbconvert>=6.4.4->jupyter-server<3,>=2.4.0->notebook>=4.4.1->widgetsnbextension~=3.6.6->ipywidgets<8.0.0,>=7.6.5->etna) (0.5.1)\r\n",
      "Requirement already satisfied: fqdn in /Users/valentin/anaconda3/envs/Go_Algo_3_10/lib/python3.10/site-packages (from jsonschema[format-nongpl]>=4.18.0->jupyter-events>=0.9.0->jupyter-server<3,>=2.4.0->notebook>=4.4.1->widgetsnbextension~=3.6.6->ipywidgets<8.0.0,>=7.6.5->etna) (1.5.1)\r\n",
      "Requirement already satisfied: isoduration in /Users/valentin/anaconda3/envs/Go_Algo_3_10/lib/python3.10/site-packages (from jsonschema[format-nongpl]>=4.18.0->jupyter-events>=0.9.0->jupyter-server<3,>=2.4.0->notebook>=4.4.1->widgetsnbextension~=3.6.6->ipywidgets<8.0.0,>=7.6.5->etna) (20.11.0)\r\n",
      "Requirement already satisfied: jsonpointer>1.13 in /Users/valentin/anaconda3/envs/Go_Algo_3_10/lib/python3.10/site-packages (from jsonschema[format-nongpl]>=4.18.0->jupyter-events>=0.9.0->jupyter-server<3,>=2.4.0->notebook>=4.4.1->widgetsnbextension~=3.6.6->ipywidgets<8.0.0,>=7.6.5->etna) (2.4)\r\n",
      "Requirement already satisfied: uri-template in /Users/valentin/anaconda3/envs/Go_Algo_3_10/lib/python3.10/site-packages (from jsonschema[format-nongpl]>=4.18.0->jupyter-events>=0.9.0->jupyter-server<3,>=2.4.0->notebook>=4.4.1->widgetsnbextension~=3.6.6->ipywidgets<8.0.0,>=7.6.5->etna) (1.3.0)\r\n",
      "Requirement already satisfied: webcolors>=1.11 in /Users/valentin/anaconda3/envs/Go_Algo_3_10/lib/python3.10/site-packages (from jsonschema[format-nongpl]>=4.18.0->jupyter-events>=0.9.0->jupyter-server<3,>=2.4.0->notebook>=4.4.1->widgetsnbextension~=3.6.6->ipywidgets<8.0.0,>=7.6.5->etna) (1.13)\r\n",
      "Requirement already satisfied: cffi>=1.0.1 in /Users/valentin/anaconda3/envs/Go_Algo_3_10/lib/python3.10/site-packages (from argon2-cffi-bindings->argon2-cffi->jupyter-server<3,>=2.4.0->notebook>=4.4.1->widgetsnbextension~=3.6.6->ipywidgets<8.0.0,>=7.6.5->etna) (1.16.0)\r\n",
      "Requirement already satisfied: soupsieve>1.2 in /Users/valentin/anaconda3/envs/Go_Algo_3_10/lib/python3.10/site-packages (from beautifulsoup4->nbconvert>=6.4.4->jupyter-server<3,>=2.4.0->notebook>=4.4.1->widgetsnbextension~=3.6.6->ipywidgets<8.0.0,>=7.6.5->etna) (2.5)\r\n",
      "Requirement already satisfied: pycparser in /Users/valentin/anaconda3/envs/Go_Algo_3_10/lib/python3.10/site-packages (from cffi>=1.0.1->argon2-cffi-bindings->argon2-cffi->jupyter-server<3,>=2.4.0->notebook>=4.4.1->widgetsnbextension~=3.6.6->ipywidgets<8.0.0,>=7.6.5->etna) (2.21)\r\n",
      "Requirement already satisfied: arrow>=0.15.0 in /Users/valentin/anaconda3/envs/Go_Algo_3_10/lib/python3.10/site-packages (from isoduration->jsonschema[format-nongpl]>=4.18.0->jupyter-events>=0.9.0->jupyter-server<3,>=2.4.0->notebook>=4.4.1->widgetsnbextension~=3.6.6->ipywidgets<8.0.0,>=7.6.5->etna) (1.3.0)\r\n",
      "Requirement already satisfied: types-python-dateutil>=2.8.10 in /Users/valentin/anaconda3/envs/Go_Algo_3_10/lib/python3.10/site-packages (from arrow>=0.15.0->isoduration->jsonschema[format-nongpl]>=4.18.0->jupyter-events>=0.9.0->jupyter-server<3,>=2.4.0->notebook>=4.4.1->widgetsnbextension~=3.6.6->ipywidgets<8.0.0,>=7.6.5->etna) (2.8.19.14)\r\n",
      "Requirement already satisfied: etna[all] in /Users/valentin/anaconda3/envs/Go_Algo_3_10/lib/python3.10/site-packages (2.3.0)\r\n",
      "Requirement already satisfied: Bottleneck<2.0.0,>=1.3.4 in /Users/valentin/anaconda3/envs/Go_Algo_3_10/lib/python3.10/site-packages (from etna[all]) (1.3.5)\r\n",
      "Requirement already satisfied: Deprecated==1.2.13 in /Users/valentin/anaconda3/envs/Go_Algo_3_10/lib/python3.10/site-packages (from etna[all]) (1.2.13)\r\n",
      "Requirement already satisfied: boto3<2.0,>=1.5 in /Users/valentin/anaconda3/envs/Go_Algo_3_10/lib/python3.10/site-packages (from etna[all]) (1.33.6)\r\n",
      "Requirement already satisfied: botocore in /Users/valentin/anaconda3/envs/Go_Algo_3_10/lib/python3.10/site-packages (from etna[all]) (1.33.6)\r\n",
      "Requirement already satisfied: catboost>=0.21 in /Users/valentin/anaconda3/envs/Go_Algo_3_10/lib/python3.10/site-packages (from etna[all]) (1.2.2)\r\n",
      "Requirement already satisfied: dill<0.4.0,>=0.3.4 in /Users/valentin/anaconda3/envs/Go_Algo_3_10/lib/python3.10/site-packages (from etna[all]) (0.3.7)\r\n",
      "Requirement already satisfied: holidays<1.0,>=0.13 in /Users/valentin/anaconda3/envs/Go_Algo_3_10/lib/python3.10/site-packages (from etna[all]) (0.37)\r\n",
      "Requirement already satisfied: hydra-slayer<0.3.0,>=0.2.0 in /Users/valentin/anaconda3/envs/Go_Algo_3_10/lib/python3.10/site-packages (from etna[all]) (0.2.0)\r\n",
      "Requirement already satisfied: ipywidgets<8.0.0,>=7.6.5 in /Users/valentin/anaconda3/envs/Go_Algo_3_10/lib/python3.10/site-packages (from etna[all]) (7.8.1)\r\n",
      "Requirement already satisfied: joblib in /Users/valentin/anaconda3/envs/Go_Algo_3_10/lib/python3.10/site-packages (from etna[all]) (1.3.2)\r\n",
      "Requirement already satisfied: loguru<0.6.0,>=0.5.3 in /Users/valentin/anaconda3/envs/Go_Algo_3_10/lib/python3.10/site-packages (from etna[all]) (0.5.3)\r\n",
      "Requirement already satisfied: matplotlib in /Users/valentin/anaconda3/envs/Go_Algo_3_10/lib/python3.10/site-packages (from etna[all]) (3.8.2)\r\n",
      "Requirement already satisfied: numba>=0.53.1 in /Users/valentin/anaconda3/envs/Go_Algo_3_10/lib/python3.10/site-packages (from etna[all]) (0.58.1)\r\n",
      "Requirement already satisfied: numpy in /Users/valentin/anaconda3/envs/Go_Algo_3_10/lib/python3.10/site-packages (from etna[all]) (1.26.2)\r\n",
      "Requirement already satisfied: omegaconf<3.0.0,>=2.1.1 in /Users/valentin/anaconda3/envs/Go_Algo_3_10/lib/python3.10/site-packages (from etna[all]) (2.3.0)\r\n",
      "Requirement already satisfied: pandas<2.0,>=1.1 in /Users/valentin/anaconda3/envs/Go_Algo_3_10/lib/python3.10/site-packages (from etna[all]) (1.5.3)\r\n",
      "Requirement already satisfied: plotly in /Users/valentin/anaconda3/envs/Go_Algo_3_10/lib/python3.10/site-packages (from etna[all]) (5.18.0)\r\n",
      "Requirement already satisfied: pmdarima>=1.8.0 in /Users/valentin/anaconda3/envs/Go_Algo_3_10/lib/python3.10/site-packages (from etna[all]) (2.0.4)\r\n",
      "Requirement already satisfied: ruptures<2.0.0,>=1.1.5 in /Users/valentin/anaconda3/envs/Go_Algo_3_10/lib/python3.10/site-packages (from etna[all]) (1.1.8)\r\n",
      "Requirement already satisfied: scikit-learn<2,>=0.24 in /Users/valentin/anaconda3/envs/Go_Algo_3_10/lib/python3.10/site-packages (from etna[all]) (1.0.2)\r\n",
      "Requirement already satisfied: scipy<2.0,>=1.0 in /Users/valentin/anaconda3/envs/Go_Algo_3_10/lib/python3.10/site-packages (from etna[all]) (1.11.4)\r\n",
      "Requirement already satisfied: seaborn<0.12.0,>=0.11.1 in /Users/valentin/anaconda3/envs/Go_Algo_3_10/lib/python3.10/site-packages (from etna[all]) (0.11.2)\r\n",
      "Requirement already satisfied: statsmodels<0.14,>=0.12 in /Users/valentin/anaconda3/envs/Go_Algo_3_10/lib/python3.10/site-packages (from etna[all]) (0.13.5)\r\n",
      "Requirement already satisfied: tbats<2.0.0,>=1.1.0 in /Users/valentin/anaconda3/envs/Go_Algo_3_10/lib/python3.10/site-packages (from etna[all]) (1.1.3)\r\n",
      "Requirement already satisfied: toml<0.11.0,>=0.10.2 in /Users/valentin/anaconda3/envs/Go_Algo_3_10/lib/python3.10/site-packages (from etna[all]) (0.10.2)\r\n",
      "Requirement already satisfied: typer<0.5.0,>=0.4.0 in /Users/valentin/anaconda3/envs/Go_Algo_3_10/lib/python3.10/site-packages (from etna[all]) (0.4.2)\r\n",
      "Requirement already satisfied: types-Deprecated==1.2.9 in /Users/valentin/anaconda3/envs/Go_Algo_3_10/lib/python3.10/site-packages (from etna[all]) (1.2.9)\r\n",
      "Requirement already satisfied: typing_extensions in /Users/valentin/anaconda3/envs/Go_Algo_3_10/lib/python3.10/site-packages (from etna[all]) (4.8.0)\r\n",
      "Requirement already satisfied: optuna<3.0.0,>=2.5.0 in /Users/valentin/anaconda3/envs/Go_Algo_3_10/lib/python3.10/site-packages (from etna[all]) (2.10.1)\r\n",
      "Requirement already satisfied: prophet<2.0,>=1.0 in /Users/valentin/anaconda3/envs/Go_Algo_3_10/lib/python3.10/site-packages (from etna[all]) (1.1.5)\r\n",
      "Requirement already satisfied: pytorch-forecasting<0.10.0,>=0.9.0 in /Users/valentin/anaconda3/envs/Go_Algo_3_10/lib/python3.10/site-packages (from etna[all]) (0.9.2)\r\n",
      "Requirement already satisfied: pytorch-lightning in /Users/valentin/anaconda3/envs/Go_Algo_3_10/lib/python3.10/site-packages (from etna[all]) (1.9.5)\r\n",
      "Requirement already satisfied: pyts<0.13.0,>=0.12.0 in /Users/valentin/anaconda3/envs/Go_Algo_3_10/lib/python3.10/site-packages (from etna[all]) (0.12.0)\r\n",
      "Requirement already satisfied: sqlalchemy<2.0.0,>=1.1.0 in /Users/valentin/anaconda3/envs/Go_Algo_3_10/lib/python3.10/site-packages (from etna[all]) (1.4.50)\r\n",
      "Requirement already satisfied: statsforecast==1.4 in /Users/valentin/anaconda3/envs/Go_Algo_3_10/lib/python3.10/site-packages (from etna[all]) (1.4.0)\r\n",
      "Requirement already satisfied: torch<3,>=1.8.0 in /Users/valentin/anaconda3/envs/Go_Algo_3_10/lib/python3.10/site-packages (from etna[all]) (1.13.1)\r\n",
      "Requirement already satisfied: tsfresh<0.21.0,>=0.20.0 in /Users/valentin/anaconda3/envs/Go_Algo_3_10/lib/python3.10/site-packages (from etna[all]) (0.20.1)\r\n",
      "Requirement already satisfied: wandb<0.13.0,>=0.12.2 in /Users/valentin/anaconda3/envs/Go_Algo_3_10/lib/python3.10/site-packages (from etna[all]) (0.12.21)\r\n",
      "Requirement already satisfied: wrapt<2,>=1.10 in /Users/valentin/anaconda3/envs/Go_Algo_3_10/lib/python3.10/site-packages (from Deprecated==1.2.13->etna[all]) (1.16.0)\r\n",
      "Requirement already satisfied: tqdm in /Users/valentin/anaconda3/envs/Go_Algo_3_10/lib/python3.10/site-packages (from statsforecast==1.4->etna[all]) (4.66.1)\r\n",
      "Requirement already satisfied: jmespath<2.0.0,>=0.7.1 in /Users/valentin/anaconda3/envs/Go_Algo_3_10/lib/python3.10/site-packages (from boto3<2.0,>=1.5->etna[all]) (1.0.1)\r\n",
      "Requirement already satisfied: s3transfer<0.9.0,>=0.8.2 in /Users/valentin/anaconda3/envs/Go_Algo_3_10/lib/python3.10/site-packages (from boto3<2.0,>=1.5->etna[all]) (0.8.2)\r\n",
      "Requirement already satisfied: python-dateutil<3.0.0,>=2.1 in /Users/valentin/anaconda3/envs/Go_Algo_3_10/lib/python3.10/site-packages (from botocore->etna[all]) (2.8.2)\r\n",
      "Requirement already satisfied: urllib3<2.1,>=1.25.4 in /Users/valentin/anaconda3/envs/Go_Algo_3_10/lib/python3.10/site-packages (from botocore->etna[all]) (2.0.7)\r\n",
      "Requirement already satisfied: graphviz in /Users/valentin/anaconda3/envs/Go_Algo_3_10/lib/python3.10/site-packages (from catboost>=0.21->etna[all]) (0.20.1)\r\n",
      "Requirement already satisfied: six in /Users/valentin/anaconda3/envs/Go_Algo_3_10/lib/python3.10/site-packages (from catboost>=0.21->etna[all]) (1.16.0)\r\n",
      "Requirement already satisfied: comm>=0.1.3 in /Users/valentin/anaconda3/envs/Go_Algo_3_10/lib/python3.10/site-packages (from ipywidgets<8.0.0,>=7.6.5->etna[all]) (0.2.0)\r\n",
      "Requirement already satisfied: ipython-genutils~=0.2.0 in /Users/valentin/anaconda3/envs/Go_Algo_3_10/lib/python3.10/site-packages (from ipywidgets<8.0.0,>=7.6.5->etna[all]) (0.2.0)\r\n",
      "Requirement already satisfied: traitlets>=4.3.1 in /Users/valentin/anaconda3/envs/Go_Algo_3_10/lib/python3.10/site-packages (from ipywidgets<8.0.0,>=7.6.5->etna[all]) (5.14.0)\r\n",
      "Requirement already satisfied: widgetsnbextension~=3.6.6 in /Users/valentin/anaconda3/envs/Go_Algo_3_10/lib/python3.10/site-packages (from ipywidgets<8.0.0,>=7.6.5->etna[all]) (3.6.6)\r\n",
      "Requirement already satisfied: ipython>=4.0.0 in /Users/valentin/anaconda3/envs/Go_Algo_3_10/lib/python3.10/site-packages (from ipywidgets<8.0.0,>=7.6.5->etna[all]) (8.18.1)\r\n",
      "Requirement already satisfied: jupyterlab-widgets<3,>=1.0.0 in /Users/valentin/anaconda3/envs/Go_Algo_3_10/lib/python3.10/site-packages (from ipywidgets<8.0.0,>=7.6.5->etna[all]) (1.1.7)\r\n",
      "Requirement already satisfied: llvmlite<0.42,>=0.41.0dev0 in /Users/valentin/anaconda3/envs/Go_Algo_3_10/lib/python3.10/site-packages (from numba>=0.53.1->etna[all]) (0.41.1)\r\n",
      "Requirement already satisfied: antlr4-python3-runtime==4.9.* in /Users/valentin/anaconda3/envs/Go_Algo_3_10/lib/python3.10/site-packages (from omegaconf<3.0.0,>=2.1.1->etna[all]) (4.9.3)\r\n",
      "Requirement already satisfied: PyYAML>=5.1.0 in /Users/valentin/anaconda3/envs/Go_Algo_3_10/lib/python3.10/site-packages (from omegaconf<3.0.0,>=2.1.1->etna[all]) (6.0.1)\r\n",
      "Requirement already satisfied: alembic in /Users/valentin/anaconda3/envs/Go_Algo_3_10/lib/python3.10/site-packages (from optuna<3.0.0,>=2.5.0->etna[all]) (1.13.0)\r\n",
      "Requirement already satisfied: cliff in /Users/valentin/anaconda3/envs/Go_Algo_3_10/lib/python3.10/site-packages (from optuna<3.0.0,>=2.5.0->etna[all]) (4.4.0)\r\n",
      "Requirement already satisfied: cmaes>=0.8.2 in /Users/valentin/anaconda3/envs/Go_Algo_3_10/lib/python3.10/site-packages (from optuna<3.0.0,>=2.5.0->etna[all]) (0.10.0)\r\n",
      "Requirement already satisfied: colorlog in /Users/valentin/anaconda3/envs/Go_Algo_3_10/lib/python3.10/site-packages (from optuna<3.0.0,>=2.5.0->etna[all]) (6.8.0)\r\n",
      "Requirement already satisfied: packaging>=20.0 in /Users/valentin/anaconda3/envs/Go_Algo_3_10/lib/python3.10/site-packages (from optuna<3.0.0,>=2.5.0->etna[all]) (23.2)\r\n",
      "Requirement already satisfied: pytz>=2020.1 in /Users/valentin/anaconda3/envs/Go_Algo_3_10/lib/python3.10/site-packages (from pandas<2.0,>=1.1->etna[all]) (2023.3.post1)\r\n",
      "Requirement already satisfied: Cython!=0.29.18,!=0.29.31,>=0.29 in /Users/valentin/anaconda3/envs/Go_Algo_3_10/lib/python3.10/site-packages (from pmdarima>=1.8.0->etna[all]) (3.0.6)\r\n",
      "Requirement already satisfied: setuptools!=50.0.0,>=38.6.0 in /Users/valentin/anaconda3/envs/Go_Algo_3_10/lib/python3.10/site-packages (from pmdarima>=1.8.0->etna[all]) (68.0.0)\r\n",
      "Requirement already satisfied: cmdstanpy>=1.0.4 in /Users/valentin/anaconda3/envs/Go_Algo_3_10/lib/python3.10/site-packages (from prophet<2.0,>=1.0->etna[all]) (1.2.0)\r\n",
      "Requirement already satisfied: importlib-resources in /Users/valentin/anaconda3/envs/Go_Algo_3_10/lib/python3.10/site-packages (from prophet<2.0,>=1.0->etna[all]) (6.1.1)\r\n",
      "Requirement already satisfied: contourpy>=1.0.1 in /Users/valentin/anaconda3/envs/Go_Algo_3_10/lib/python3.10/site-packages (from matplotlib->etna[all]) (1.2.0)\r\n",
      "Requirement already satisfied: cycler>=0.10 in /Users/valentin/anaconda3/envs/Go_Algo_3_10/lib/python3.10/site-packages (from matplotlib->etna[all]) (0.12.1)\r\n",
      "Requirement already satisfied: fonttools>=4.22.0 in /Users/valentin/anaconda3/envs/Go_Algo_3_10/lib/python3.10/site-packages (from matplotlib->etna[all]) (4.46.0)\r\n",
      "Requirement already satisfied: kiwisolver>=1.3.1 in /Users/valentin/anaconda3/envs/Go_Algo_3_10/lib/python3.10/site-packages (from matplotlib->etna[all]) (1.4.5)\r\n",
      "Requirement already satisfied: pillow>=8 in /Users/valentin/anaconda3/envs/Go_Algo_3_10/lib/python3.10/site-packages (from matplotlib->etna[all]) (10.1.0)\r\n",
      "Requirement already satisfied: pyparsing>=2.3.1 in /Users/valentin/anaconda3/envs/Go_Algo_3_10/lib/python3.10/site-packages (from matplotlib->etna[all]) (3.1.1)\r\n",
      "Requirement already satisfied: fsspec>2021.06.0 in /Users/valentin/anaconda3/envs/Go_Algo_3_10/lib/python3.10/site-packages (from fsspec[http]>2021.06.0->pytorch-lightning->etna[all]) (2023.12.0)\r\n",
      "Requirement already satisfied: torchmetrics>=0.7.0 in /Users/valentin/anaconda3/envs/Go_Algo_3_10/lib/python3.10/site-packages (from pytorch-lightning->etna[all]) (1.2.1)\r\n",
      "Requirement already satisfied: lightning-utilities>=0.6.0.post0 in /Users/valentin/anaconda3/envs/Go_Algo_3_10/lib/python3.10/site-packages (from pytorch-lightning->etna[all]) (0.10.0)\r\n",
      "Requirement already satisfied: threadpoolctl>=2.0.0 in /Users/valentin/anaconda3/envs/Go_Algo_3_10/lib/python3.10/site-packages (from scikit-learn<2,>=0.24->etna[all]) (3.2.0)\r\n",
      "Requirement already satisfied: patsy>=0.5.2 in /Users/valentin/anaconda3/envs/Go_Algo_3_10/lib/python3.10/site-packages (from statsmodels<0.14,>=0.12->etna[all]) (0.5.4)\r\n",
      "Requirement already satisfied: requests>=2.9.1 in /Users/valentin/anaconda3/envs/Go_Algo_3_10/lib/python3.10/site-packages (from tsfresh<0.21.0,>=0.20.0->etna[all]) (2.31.0)\r\n",
      "Requirement already satisfied: dask>=2.9.0 in /Users/valentin/anaconda3/envs/Go_Algo_3_10/lib/python3.10/site-packages (from dask[dataframe]>=2.9.0->tsfresh<0.21.0,>=0.20.0->etna[all]) (2023.12.0)\r\n",
      "Requirement already satisfied: distributed>=2.11.0 in /Users/valentin/anaconda3/envs/Go_Algo_3_10/lib/python3.10/site-packages (from tsfresh<0.21.0,>=0.20.0->etna[all]) (2023.12.0)\r\n",
      "Requirement already satisfied: stumpy>=1.7.2 in /Users/valentin/anaconda3/envs/Go_Algo_3_10/lib/python3.10/site-packages (from tsfresh<0.21.0,>=0.20.0->etna[all]) (1.12.0)\r\n",
      "Requirement already satisfied: cloudpickle in /Users/valentin/anaconda3/envs/Go_Algo_3_10/lib/python3.10/site-packages (from tsfresh<0.21.0,>=0.20.0->etna[all]) (3.0.0)\r\n",
      "Requirement already satisfied: click<9.0.0,>=7.1.1 in /Users/valentin/anaconda3/envs/Go_Algo_3_10/lib/python3.10/site-packages (from typer<0.5.0,>=0.4.0->etna[all]) (8.1.7)\r\n",
      "Requirement already satisfied: GitPython>=1.0.0 in /Users/valentin/anaconda3/envs/Go_Algo_3_10/lib/python3.10/site-packages (from wandb<0.13.0,>=0.12.2->etna[all]) (3.1.40)\r\n",
      "Requirement already satisfied: promise<3,>=2.0 in /Users/valentin/anaconda3/envs/Go_Algo_3_10/lib/python3.10/site-packages (from wandb<0.13.0,>=0.12.2->etna[all]) (2.3)\r\n",
      "Requirement already satisfied: shortuuid>=0.5.0 in /Users/valentin/anaconda3/envs/Go_Algo_3_10/lib/python3.10/site-packages (from wandb<0.13.0,>=0.12.2->etna[all]) (1.0.11)\r\n",
      "Requirement already satisfied: psutil>=5.0.0 in /Users/valentin/anaconda3/envs/Go_Algo_3_10/lib/python3.10/site-packages (from wandb<0.13.0,>=0.12.2->etna[all]) (5.9.6)\r\n",
      "Requirement already satisfied: sentry-sdk>=1.0.0 in /Users/valentin/anaconda3/envs/Go_Algo_3_10/lib/python3.10/site-packages (from wandb<0.13.0,>=0.12.2->etna[all]) (1.38.0)\r\n",
      "Requirement already satisfied: docker-pycreds>=0.4.0 in /Users/valentin/anaconda3/envs/Go_Algo_3_10/lib/python3.10/site-packages (from wandb<0.13.0,>=0.12.2->etna[all]) (0.4.0)\r\n",
      "Requirement already satisfied: protobuf<4.0dev,>=3.12.0 in /Users/valentin/anaconda3/envs/Go_Algo_3_10/lib/python3.10/site-packages (from wandb<0.13.0,>=0.12.2->etna[all]) (3.20.3)\r\n",
      "Requirement already satisfied: pathtools in /Users/valentin/anaconda3/envs/Go_Algo_3_10/lib/python3.10/site-packages (from wandb<0.13.0,>=0.12.2->etna[all]) (0.1.2)\r\n",
      "Requirement already satisfied: setproctitle in /Users/valentin/anaconda3/envs/Go_Algo_3_10/lib/python3.10/site-packages (from wandb<0.13.0,>=0.12.2->etna[all]) (1.3.3)\r\n",
      "Requirement already satisfied: tenacity>=6.2.0 in /Users/valentin/anaconda3/envs/Go_Algo_3_10/lib/python3.10/site-packages (from plotly->etna[all]) (8.2.3)\r\n",
      "Requirement already satisfied: stanio~=0.3.0 in /Users/valentin/anaconda3/envs/Go_Algo_3_10/lib/python3.10/site-packages (from cmdstanpy>=1.0.4->prophet<2.0,>=1.0->etna[all]) (0.3.0)\r\n",
      "Requirement already satisfied: partd>=1.2.0 in /Users/valentin/anaconda3/envs/Go_Algo_3_10/lib/python3.10/site-packages (from dask>=2.9.0->dask[dataframe]>=2.9.0->tsfresh<0.21.0,>=0.20.0->etna[all]) (1.4.1)\r\n",
      "Requirement already satisfied: toolz>=0.10.0 in /Users/valentin/anaconda3/envs/Go_Algo_3_10/lib/python3.10/site-packages (from dask>=2.9.0->dask[dataframe]>=2.9.0->tsfresh<0.21.0,>=0.20.0->etna[all]) (0.12.0)\r\n",
      "Requirement already satisfied: importlib-metadata>=4.13.0 in /Users/valentin/anaconda3/envs/Go_Algo_3_10/lib/python3.10/site-packages (from dask>=2.9.0->dask[dataframe]>=2.9.0->tsfresh<0.21.0,>=0.20.0->etna[all]) (6.9.0)\r\n",
      "Requirement already satisfied: jinja2>=2.10.3 in /Users/valentin/anaconda3/envs/Go_Algo_3_10/lib/python3.10/site-packages (from distributed>=2.11.0->tsfresh<0.21.0,>=0.20.0->etna[all]) (3.1.2)\r\n",
      "Requirement already satisfied: locket>=1.0.0 in /Users/valentin/anaconda3/envs/Go_Algo_3_10/lib/python3.10/site-packages (from distributed>=2.11.0->tsfresh<0.21.0,>=0.20.0->etna[all]) (1.0.0)\r\n",
      "Requirement already satisfied: msgpack>=1.0.0 in /Users/valentin/anaconda3/envs/Go_Algo_3_10/lib/python3.10/site-packages (from distributed>=2.11.0->tsfresh<0.21.0,>=0.20.0->etna[all]) (1.0.7)\r\n",
      "Requirement already satisfied: sortedcontainers>=2.0.5 in /Users/valentin/anaconda3/envs/Go_Algo_3_10/lib/python3.10/site-packages (from distributed>=2.11.0->tsfresh<0.21.0,>=0.20.0->etna[all]) (2.4.0)\r\n",
      "Requirement already satisfied: tblib>=1.6.0 in /Users/valentin/anaconda3/envs/Go_Algo_3_10/lib/python3.10/site-packages (from distributed>=2.11.0->tsfresh<0.21.0,>=0.20.0->etna[all]) (3.0.0)\r\n",
      "Requirement already satisfied: tornado>=6.0.4 in /Users/valentin/anaconda3/envs/Go_Algo_3_10/lib/python3.10/site-packages (from distributed>=2.11.0->tsfresh<0.21.0,>=0.20.0->etna[all]) (6.4)\r\n",
      "Requirement already satisfied: zict>=3.0.0 in /Users/valentin/anaconda3/envs/Go_Algo_3_10/lib/python3.10/site-packages (from distributed>=2.11.0->tsfresh<0.21.0,>=0.20.0->etna[all]) (3.0.0)\r\n",
      "Requirement already satisfied: aiohttp!=4.0.0a0,!=4.0.0a1 in /Users/valentin/anaconda3/envs/Go_Algo_3_10/lib/python3.10/site-packages (from fsspec[http]>2021.06.0->pytorch-lightning->etna[all]) (3.9.1)\r\n",
      "Requirement already satisfied: gitdb<5,>=4.0.1 in /Users/valentin/anaconda3/envs/Go_Algo_3_10/lib/python3.10/site-packages (from GitPython>=1.0.0->wandb<0.13.0,>=0.12.2->etna[all]) (4.0.11)\r\n",
      "Requirement already satisfied: decorator in /Users/valentin/anaconda3/envs/Go_Algo_3_10/lib/python3.10/site-packages (from ipython>=4.0.0->ipywidgets<8.0.0,>=7.6.5->etna[all]) (5.1.1)\r\n",
      "Requirement already satisfied: jedi>=0.16 in /Users/valentin/anaconda3/envs/Go_Algo_3_10/lib/python3.10/site-packages (from ipython>=4.0.0->ipywidgets<8.0.0,>=7.6.5->etna[all]) (0.19.1)\r\n",
      "Requirement already satisfied: matplotlib-inline in /Users/valentin/anaconda3/envs/Go_Algo_3_10/lib/python3.10/site-packages (from ipython>=4.0.0->ipywidgets<8.0.0,>=7.6.5->etna[all]) (0.1.6)\r\n",
      "Requirement already satisfied: prompt-toolkit<3.1.0,>=3.0.41 in /Users/valentin/anaconda3/envs/Go_Algo_3_10/lib/python3.10/site-packages (from ipython>=4.0.0->ipywidgets<8.0.0,>=7.6.5->etna[all]) (3.0.41)\r\n",
      "Requirement already satisfied: pygments>=2.4.0 in /Users/valentin/anaconda3/envs/Go_Algo_3_10/lib/python3.10/site-packages (from ipython>=4.0.0->ipywidgets<8.0.0,>=7.6.5->etna[all]) (2.17.2)\r\n",
      "Requirement already satisfied: stack-data in /Users/valentin/anaconda3/envs/Go_Algo_3_10/lib/python3.10/site-packages (from ipython>=4.0.0->ipywidgets<8.0.0,>=7.6.5->etna[all]) (0.6.3)\r\n",
      "Requirement already satisfied: exceptiongroup in /Users/valentin/anaconda3/envs/Go_Algo_3_10/lib/python3.10/site-packages (from ipython>=4.0.0->ipywidgets<8.0.0,>=7.6.5->etna[all]) (1.2.0)\r\n",
      "Requirement already satisfied: pexpect>4.3 in /Users/valentin/anaconda3/envs/Go_Algo_3_10/lib/python3.10/site-packages (from ipython>=4.0.0->ipywidgets<8.0.0,>=7.6.5->etna[all]) (4.9.0)\r\n",
      "Requirement already satisfied: charset-normalizer<4,>=2 in /Users/valentin/anaconda3/envs/Go_Algo_3_10/lib/python3.10/site-packages (from requests>=2.9.1->tsfresh<0.21.0,>=0.20.0->etna[all]) (3.3.2)\r\n",
      "Requirement already satisfied: idna<4,>=2.5 in /Users/valentin/anaconda3/envs/Go_Algo_3_10/lib/python3.10/site-packages (from requests>=2.9.1->tsfresh<0.21.0,>=0.20.0->etna[all]) (3.6)\r\n",
      "Requirement already satisfied: certifi>=2017.4.17 in /Users/valentin/anaconda3/envs/Go_Algo_3_10/lib/python3.10/site-packages (from requests>=2.9.1->tsfresh<0.21.0,>=0.20.0->etna[all]) (2023.11.17)\r\n",
      "Requirement already satisfied: notebook>=4.4.1 in /Users/valentin/anaconda3/envs/Go_Algo_3_10/lib/python3.10/site-packages (from widgetsnbextension~=3.6.6->ipywidgets<8.0.0,>=7.6.5->etna[all]) (7.0.6)\r\n",
      "Requirement already satisfied: Mako in /Users/valentin/anaconda3/envs/Go_Algo_3_10/lib/python3.10/site-packages (from alembic->optuna<3.0.0,>=2.5.0->etna[all]) (1.3.0)\r\n",
      "Requirement already satisfied: PrettyTable>=0.7.2 in /Users/valentin/anaconda3/envs/Go_Algo_3_10/lib/python3.10/site-packages (from cliff->optuna<3.0.0,>=2.5.0->etna[all]) (3.9.0)\r\n",
      "Requirement already satisfied: autopage>=0.4.0 in /Users/valentin/anaconda3/envs/Go_Algo_3_10/lib/python3.10/site-packages (from cliff->optuna<3.0.0,>=2.5.0->etna[all]) (0.5.2)\r\n",
      "Requirement already satisfied: cmd2>=1.0.0 in /Users/valentin/anaconda3/envs/Go_Algo_3_10/lib/python3.10/site-packages (from cliff->optuna<3.0.0,>=2.5.0->etna[all]) (2.4.3)\r\n",
      "Requirement already satisfied: stevedore>=2.0.1 in /Users/valentin/anaconda3/envs/Go_Algo_3_10/lib/python3.10/site-packages (from cliff->optuna<3.0.0,>=2.5.0->etna[all]) (5.1.0)\r\n",
      "Requirement already satisfied: attrs>=17.3.0 in /Users/valentin/anaconda3/envs/Go_Algo_3_10/lib/python3.10/site-packages (from aiohttp!=4.0.0a0,!=4.0.0a1->fsspec[http]>2021.06.0->pytorch-lightning->etna[all]) (23.1.0)\r\n",
      "Requirement already satisfied: multidict<7.0,>=4.5 in /Users/valentin/anaconda3/envs/Go_Algo_3_10/lib/python3.10/site-packages (from aiohttp!=4.0.0a0,!=4.0.0a1->fsspec[http]>2021.06.0->pytorch-lightning->etna[all]) (6.0.4)\r\n",
      "Requirement already satisfied: yarl<2.0,>=1.0 in /Users/valentin/anaconda3/envs/Go_Algo_3_10/lib/python3.10/site-packages (from aiohttp!=4.0.0a0,!=4.0.0a1->fsspec[http]>2021.06.0->pytorch-lightning->etna[all]) (1.9.3)\r\n",
      "Requirement already satisfied: frozenlist>=1.1.1 in /Users/valentin/anaconda3/envs/Go_Algo_3_10/lib/python3.10/site-packages (from aiohttp!=4.0.0a0,!=4.0.0a1->fsspec[http]>2021.06.0->pytorch-lightning->etna[all]) (1.4.0)\r\n",
      "Requirement already satisfied: aiosignal>=1.1.2 in /Users/valentin/anaconda3/envs/Go_Algo_3_10/lib/python3.10/site-packages (from aiohttp!=4.0.0a0,!=4.0.0a1->fsspec[http]>2021.06.0->pytorch-lightning->etna[all]) (1.3.1)\r\n",
      "Requirement already satisfied: async-timeout<5.0,>=4.0 in /Users/valentin/anaconda3/envs/Go_Algo_3_10/lib/python3.10/site-packages (from aiohttp!=4.0.0a0,!=4.0.0a1->fsspec[http]>2021.06.0->pytorch-lightning->etna[all]) (4.0.3)\r\n",
      "Requirement already satisfied: pyperclip>=1.6 in /Users/valentin/anaconda3/envs/Go_Algo_3_10/lib/python3.10/site-packages (from cmd2>=1.0.0->cliff->optuna<3.0.0,>=2.5.0->etna[all]) (1.8.2)\r\n",
      "Requirement already satisfied: wcwidth>=0.1.7 in /Users/valentin/anaconda3/envs/Go_Algo_3_10/lib/python3.10/site-packages (from cmd2>=1.0.0->cliff->optuna<3.0.0,>=2.5.0->etna[all]) (0.2.12)\r\n",
      "Requirement already satisfied: smmap<6,>=3.0.1 in /Users/valentin/anaconda3/envs/Go_Algo_3_10/lib/python3.10/site-packages (from gitdb<5,>=4.0.1->GitPython>=1.0.0->wandb<0.13.0,>=0.12.2->etna[all]) (5.0.1)\r\n",
      "Requirement already satisfied: zipp>=0.5 in /Users/valentin/anaconda3/envs/Go_Algo_3_10/lib/python3.10/site-packages (from importlib-metadata>=4.13.0->dask>=2.9.0->dask[dataframe]>=2.9.0->tsfresh<0.21.0,>=0.20.0->etna[all]) (3.17.0)\r\n",
      "Requirement already satisfied: parso<0.9.0,>=0.8.3 in /Users/valentin/anaconda3/envs/Go_Algo_3_10/lib/python3.10/site-packages (from jedi>=0.16->ipython>=4.0.0->ipywidgets<8.0.0,>=7.6.5->etna[all]) (0.8.3)\r\n",
      "Requirement already satisfied: MarkupSafe>=2.0 in /Users/valentin/anaconda3/envs/Go_Algo_3_10/lib/python3.10/site-packages (from jinja2>=2.10.3->distributed>=2.11.0->tsfresh<0.21.0,>=0.20.0->etna[all]) (2.1.3)\r\n",
      "Requirement already satisfied: jupyter-server<3,>=2.4.0 in /Users/valentin/anaconda3/envs/Go_Algo_3_10/lib/python3.10/site-packages (from notebook>=4.4.1->widgetsnbextension~=3.6.6->ipywidgets<8.0.0,>=7.6.5->etna[all]) (2.11.1)\r\n",
      "Requirement already satisfied: jupyterlab-server<3,>=2.22.1 in /Users/valentin/anaconda3/envs/Go_Algo_3_10/lib/python3.10/site-packages (from notebook>=4.4.1->widgetsnbextension~=3.6.6->ipywidgets<8.0.0,>=7.6.5->etna[all]) (2.25.2)\r\n",
      "Requirement already satisfied: jupyterlab<5,>=4.0.2 in /Users/valentin/anaconda3/envs/Go_Algo_3_10/lib/python3.10/site-packages (from notebook>=4.4.1->widgetsnbextension~=3.6.6->ipywidgets<8.0.0,>=7.6.5->etna[all]) (4.0.9)\r\n",
      "Requirement already satisfied: notebook-shim<0.3,>=0.2 in /Users/valentin/anaconda3/envs/Go_Algo_3_10/lib/python3.10/site-packages (from notebook>=4.4.1->widgetsnbextension~=3.6.6->ipywidgets<8.0.0,>=7.6.5->etna[all]) (0.2.3)\r\n",
      "Requirement already satisfied: ptyprocess>=0.5 in /Users/valentin/anaconda3/envs/Go_Algo_3_10/lib/python3.10/site-packages (from pexpect>4.3->ipython>=4.0.0->ipywidgets<8.0.0,>=7.6.5->etna[all]) (0.7.0)\r\n",
      "Requirement already satisfied: pbr!=2.1.0,>=2.0.0 in /Users/valentin/anaconda3/envs/Go_Algo_3_10/lib/python3.10/site-packages (from stevedore>=2.0.1->cliff->optuna<3.0.0,>=2.5.0->etna[all]) (6.0.0)\r\n",
      "Requirement already satisfied: executing>=1.2.0 in /Users/valentin/anaconda3/envs/Go_Algo_3_10/lib/python3.10/site-packages (from stack-data->ipython>=4.0.0->ipywidgets<8.0.0,>=7.6.5->etna[all]) (2.0.1)\r\n",
      "Requirement already satisfied: asttokens>=2.1.0 in /Users/valentin/anaconda3/envs/Go_Algo_3_10/lib/python3.10/site-packages (from stack-data->ipython>=4.0.0->ipywidgets<8.0.0,>=7.6.5->etna[all]) (2.4.1)\r\n",
      "Requirement already satisfied: pure-eval in /Users/valentin/anaconda3/envs/Go_Algo_3_10/lib/python3.10/site-packages (from stack-data->ipython>=4.0.0->ipywidgets<8.0.0,>=7.6.5->etna[all]) (0.2.2)\r\n",
      "Requirement already satisfied: anyio>=3.1.0 in /Users/valentin/anaconda3/envs/Go_Algo_3_10/lib/python3.10/site-packages (from jupyter-server<3,>=2.4.0->notebook>=4.4.1->widgetsnbextension~=3.6.6->ipywidgets<8.0.0,>=7.6.5->etna[all]) (4.1.0)\r\n",
      "Requirement already satisfied: argon2-cffi in /Users/valentin/anaconda3/envs/Go_Algo_3_10/lib/python3.10/site-packages (from jupyter-server<3,>=2.4.0->notebook>=4.4.1->widgetsnbextension~=3.6.6->ipywidgets<8.0.0,>=7.6.5->etna[all]) (23.1.0)\r\n",
      "Requirement already satisfied: jupyter-client>=7.4.4 in /Users/valentin/anaconda3/envs/Go_Algo_3_10/lib/python3.10/site-packages (from jupyter-server<3,>=2.4.0->notebook>=4.4.1->widgetsnbextension~=3.6.6->ipywidgets<8.0.0,>=7.6.5->etna[all]) (8.6.0)\r\n",
      "Requirement already satisfied: jupyter-core!=5.0.*,>=4.12 in /Users/valentin/anaconda3/envs/Go_Algo_3_10/lib/python3.10/site-packages (from jupyter-server<3,>=2.4.0->notebook>=4.4.1->widgetsnbextension~=3.6.6->ipywidgets<8.0.0,>=7.6.5->etna[all]) (5.5.0)\r\n",
      "Requirement already satisfied: jupyter-events>=0.9.0 in /Users/valentin/anaconda3/envs/Go_Algo_3_10/lib/python3.10/site-packages (from jupyter-server<3,>=2.4.0->notebook>=4.4.1->widgetsnbextension~=3.6.6->ipywidgets<8.0.0,>=7.6.5->etna[all]) (0.9.0)\r\n",
      "Requirement already satisfied: jupyter-server-terminals in /Users/valentin/anaconda3/envs/Go_Algo_3_10/lib/python3.10/site-packages (from jupyter-server<3,>=2.4.0->notebook>=4.4.1->widgetsnbextension~=3.6.6->ipywidgets<8.0.0,>=7.6.5->etna[all]) (0.4.4)\r\n",
      "Requirement already satisfied: nbconvert>=6.4.4 in /Users/valentin/anaconda3/envs/Go_Algo_3_10/lib/python3.10/site-packages (from jupyter-server<3,>=2.4.0->notebook>=4.4.1->widgetsnbextension~=3.6.6->ipywidgets<8.0.0,>=7.6.5->etna[all]) (7.11.0)\r\n",
      "Requirement already satisfied: nbformat>=5.3.0 in /Users/valentin/anaconda3/envs/Go_Algo_3_10/lib/python3.10/site-packages (from jupyter-server<3,>=2.4.0->notebook>=4.4.1->widgetsnbextension~=3.6.6->ipywidgets<8.0.0,>=7.6.5->etna[all]) (5.9.2)\r\n",
      "Requirement already satisfied: overrides in /Users/valentin/anaconda3/envs/Go_Algo_3_10/lib/python3.10/site-packages (from jupyter-server<3,>=2.4.0->notebook>=4.4.1->widgetsnbextension~=3.6.6->ipywidgets<8.0.0,>=7.6.5->etna[all]) (7.4.0)\r\n",
      "Requirement already satisfied: prometheus-client in /Users/valentin/anaconda3/envs/Go_Algo_3_10/lib/python3.10/site-packages (from jupyter-server<3,>=2.4.0->notebook>=4.4.1->widgetsnbextension~=3.6.6->ipywidgets<8.0.0,>=7.6.5->etna[all]) (0.19.0)\r\n",
      "Requirement already satisfied: pyzmq>=24 in /Users/valentin/anaconda3/envs/Go_Algo_3_10/lib/python3.10/site-packages (from jupyter-server<3,>=2.4.0->notebook>=4.4.1->widgetsnbextension~=3.6.6->ipywidgets<8.0.0,>=7.6.5->etna[all]) (25.1.1)\r\n",
      "Requirement already satisfied: send2trash>=1.8.2 in /Users/valentin/anaconda3/envs/Go_Algo_3_10/lib/python3.10/site-packages (from jupyter-server<3,>=2.4.0->notebook>=4.4.1->widgetsnbextension~=3.6.6->ipywidgets<8.0.0,>=7.6.5->etna[all]) (1.8.2)\r\n",
      "Requirement already satisfied: terminado>=0.8.3 in /Users/valentin/anaconda3/envs/Go_Algo_3_10/lib/python3.10/site-packages (from jupyter-server<3,>=2.4.0->notebook>=4.4.1->widgetsnbextension~=3.6.6->ipywidgets<8.0.0,>=7.6.5->etna[all]) (0.18.0)\r\n",
      "Requirement already satisfied: websocket-client in /Users/valentin/anaconda3/envs/Go_Algo_3_10/lib/python3.10/site-packages (from jupyter-server<3,>=2.4.0->notebook>=4.4.1->widgetsnbextension~=3.6.6->ipywidgets<8.0.0,>=7.6.5->etna[all]) (1.6.4)\r\n",
      "Requirement already satisfied: async-lru>=1.0.0 in /Users/valentin/anaconda3/envs/Go_Algo_3_10/lib/python3.10/site-packages (from jupyterlab<5,>=4.0.2->notebook>=4.4.1->widgetsnbextension~=3.6.6->ipywidgets<8.0.0,>=7.6.5->etna[all]) (2.0.4)\r\n",
      "Requirement already satisfied: ipykernel in /Users/valentin/anaconda3/envs/Go_Algo_3_10/lib/python3.10/site-packages (from jupyterlab<5,>=4.0.2->notebook>=4.4.1->widgetsnbextension~=3.6.6->ipywidgets<8.0.0,>=7.6.5->etna[all]) (6.27.1)\r\n",
      "Requirement already satisfied: jupyter-lsp>=2.0.0 in /Users/valentin/anaconda3/envs/Go_Algo_3_10/lib/python3.10/site-packages (from jupyterlab<5,>=4.0.2->notebook>=4.4.1->widgetsnbextension~=3.6.6->ipywidgets<8.0.0,>=7.6.5->etna[all]) (2.2.1)\r\n",
      "Requirement already satisfied: tomli in /Users/valentin/anaconda3/envs/Go_Algo_3_10/lib/python3.10/site-packages (from jupyterlab<5,>=4.0.2->notebook>=4.4.1->widgetsnbextension~=3.6.6->ipywidgets<8.0.0,>=7.6.5->etna[all]) (2.0.1)\r\n",
      "Requirement already satisfied: babel>=2.10 in /Users/valentin/anaconda3/envs/Go_Algo_3_10/lib/python3.10/site-packages (from jupyterlab-server<3,>=2.22.1->notebook>=4.4.1->widgetsnbextension~=3.6.6->ipywidgets<8.0.0,>=7.6.5->etna[all]) (2.13.1)\r\n",
      "Requirement already satisfied: json5>=0.9.0 in /Users/valentin/anaconda3/envs/Go_Algo_3_10/lib/python3.10/site-packages (from jupyterlab-server<3,>=2.22.1->notebook>=4.4.1->widgetsnbextension~=3.6.6->ipywidgets<8.0.0,>=7.6.5->etna[all]) (0.9.14)\r\n",
      "Requirement already satisfied: jsonschema>=4.18.0 in /Users/valentin/anaconda3/envs/Go_Algo_3_10/lib/python3.10/site-packages (from jupyterlab-server<3,>=2.22.1->notebook>=4.4.1->widgetsnbextension~=3.6.6->ipywidgets<8.0.0,>=7.6.5->etna[all]) (4.20.0)\r\n",
      "Requirement already satisfied: sniffio>=1.1 in /Users/valentin/anaconda3/envs/Go_Algo_3_10/lib/python3.10/site-packages (from anyio>=3.1.0->jupyter-server<3,>=2.4.0->notebook>=4.4.1->widgetsnbextension~=3.6.6->ipywidgets<8.0.0,>=7.6.5->etna[all]) (1.3.0)\r\n",
      "Requirement already satisfied: jsonschema-specifications>=2023.03.6 in /Users/valentin/anaconda3/envs/Go_Algo_3_10/lib/python3.10/site-packages (from jsonschema>=4.18.0->jupyterlab-server<3,>=2.22.1->notebook>=4.4.1->widgetsnbextension~=3.6.6->ipywidgets<8.0.0,>=7.6.5->etna[all]) (2023.11.2)\r\n",
      "Requirement already satisfied: referencing>=0.28.4 in /Users/valentin/anaconda3/envs/Go_Algo_3_10/lib/python3.10/site-packages (from jsonschema>=4.18.0->jupyterlab-server<3,>=2.22.1->notebook>=4.4.1->widgetsnbextension~=3.6.6->ipywidgets<8.0.0,>=7.6.5->etna[all]) (0.31.1)\r\n",
      "Requirement already satisfied: rpds-py>=0.7.1 in /Users/valentin/anaconda3/envs/Go_Algo_3_10/lib/python3.10/site-packages (from jsonschema>=4.18.0->jupyterlab-server<3,>=2.22.1->notebook>=4.4.1->widgetsnbextension~=3.6.6->ipywidgets<8.0.0,>=7.6.5->etna[all]) (0.13.2)\r\n",
      "Requirement already satisfied: platformdirs>=2.5 in /Users/valentin/anaconda3/envs/Go_Algo_3_10/lib/python3.10/site-packages (from jupyter-core!=5.0.*,>=4.12->jupyter-server<3,>=2.4.0->notebook>=4.4.1->widgetsnbextension~=3.6.6->ipywidgets<8.0.0,>=7.6.5->etna[all]) (4.0.0)\r\n",
      "Requirement already satisfied: python-json-logger>=2.0.4 in /Users/valentin/anaconda3/envs/Go_Algo_3_10/lib/python3.10/site-packages (from jupyter-events>=0.9.0->jupyter-server<3,>=2.4.0->notebook>=4.4.1->widgetsnbextension~=3.6.6->ipywidgets<8.0.0,>=7.6.5->etna[all]) (2.0.7)\r\n",
      "Requirement already satisfied: rfc3339-validator in /Users/valentin/anaconda3/envs/Go_Algo_3_10/lib/python3.10/site-packages (from jupyter-events>=0.9.0->jupyter-server<3,>=2.4.0->notebook>=4.4.1->widgetsnbextension~=3.6.6->ipywidgets<8.0.0,>=7.6.5->etna[all]) (0.1.4)\r\n",
      "Requirement already satisfied: rfc3986-validator>=0.1.1 in /Users/valentin/anaconda3/envs/Go_Algo_3_10/lib/python3.10/site-packages (from jupyter-events>=0.9.0->jupyter-server<3,>=2.4.0->notebook>=4.4.1->widgetsnbextension~=3.6.6->ipywidgets<8.0.0,>=7.6.5->etna[all]) (0.1.1)\r\n",
      "Requirement already satisfied: beautifulsoup4 in /Users/valentin/anaconda3/envs/Go_Algo_3_10/lib/python3.10/site-packages (from nbconvert>=6.4.4->jupyter-server<3,>=2.4.0->notebook>=4.4.1->widgetsnbextension~=3.6.6->ipywidgets<8.0.0,>=7.6.5->etna[all]) (4.12.2)\r\n",
      "Requirement already satisfied: bleach!=5.0.0 in /Users/valentin/anaconda3/envs/Go_Algo_3_10/lib/python3.10/site-packages (from nbconvert>=6.4.4->jupyter-server<3,>=2.4.0->notebook>=4.4.1->widgetsnbextension~=3.6.6->ipywidgets<8.0.0,>=7.6.5->etna[all]) (6.1.0)\r\n",
      "Requirement already satisfied: defusedxml in /Users/valentin/anaconda3/envs/Go_Algo_3_10/lib/python3.10/site-packages (from nbconvert>=6.4.4->jupyter-server<3,>=2.4.0->notebook>=4.4.1->widgetsnbextension~=3.6.6->ipywidgets<8.0.0,>=7.6.5->etna[all]) (0.7.1)\r\n",
      "Requirement already satisfied: jupyterlab-pygments in /Users/valentin/anaconda3/envs/Go_Algo_3_10/lib/python3.10/site-packages (from nbconvert>=6.4.4->jupyter-server<3,>=2.4.0->notebook>=4.4.1->widgetsnbextension~=3.6.6->ipywidgets<8.0.0,>=7.6.5->etna[all]) (0.3.0)\r\n",
      "Requirement already satisfied: mistune<4,>=2.0.3 in /Users/valentin/anaconda3/envs/Go_Algo_3_10/lib/python3.10/site-packages (from nbconvert>=6.4.4->jupyter-server<3,>=2.4.0->notebook>=4.4.1->widgetsnbextension~=3.6.6->ipywidgets<8.0.0,>=7.6.5->etna[all]) (3.0.2)\r\n",
      "Requirement already satisfied: nbclient>=0.5.0 in /Users/valentin/anaconda3/envs/Go_Algo_3_10/lib/python3.10/site-packages (from nbconvert>=6.4.4->jupyter-server<3,>=2.4.0->notebook>=4.4.1->widgetsnbextension~=3.6.6->ipywidgets<8.0.0,>=7.6.5->etna[all]) (0.9.0)\r\n",
      "Requirement already satisfied: pandocfilters>=1.4.1 in /Users/valentin/anaconda3/envs/Go_Algo_3_10/lib/python3.10/site-packages (from nbconvert>=6.4.4->jupyter-server<3,>=2.4.0->notebook>=4.4.1->widgetsnbextension~=3.6.6->ipywidgets<8.0.0,>=7.6.5->etna[all]) (1.5.0)\r\n",
      "Requirement already satisfied: tinycss2 in /Users/valentin/anaconda3/envs/Go_Algo_3_10/lib/python3.10/site-packages (from nbconvert>=6.4.4->jupyter-server<3,>=2.4.0->notebook>=4.4.1->widgetsnbextension~=3.6.6->ipywidgets<8.0.0,>=7.6.5->etna[all]) (1.2.1)\r\n",
      "Requirement already satisfied: fastjsonschema in /Users/valentin/anaconda3/envs/Go_Algo_3_10/lib/python3.10/site-packages (from nbformat>=5.3.0->jupyter-server<3,>=2.4.0->notebook>=4.4.1->widgetsnbextension~=3.6.6->ipywidgets<8.0.0,>=7.6.5->etna[all]) (2.19.0)\r\n",
      "Requirement already satisfied: argon2-cffi-bindings in /Users/valentin/anaconda3/envs/Go_Algo_3_10/lib/python3.10/site-packages (from argon2-cffi->jupyter-server<3,>=2.4.0->notebook>=4.4.1->widgetsnbextension~=3.6.6->ipywidgets<8.0.0,>=7.6.5->etna[all]) (21.2.0)\r\n",
      "Requirement already satisfied: appnope in /Users/valentin/anaconda3/envs/Go_Algo_3_10/lib/python3.10/site-packages (from ipykernel->jupyterlab<5,>=4.0.2->notebook>=4.4.1->widgetsnbextension~=3.6.6->ipywidgets<8.0.0,>=7.6.5->etna[all]) (0.1.3)\r\n",
      "Requirement already satisfied: debugpy>=1.6.5 in /Users/valentin/anaconda3/envs/Go_Algo_3_10/lib/python3.10/site-packages (from ipykernel->jupyterlab<5,>=4.0.2->notebook>=4.4.1->widgetsnbextension~=3.6.6->ipywidgets<8.0.0,>=7.6.5->etna[all]) (1.8.0)\r\n",
      "Requirement already satisfied: nest-asyncio in /Users/valentin/anaconda3/envs/Go_Algo_3_10/lib/python3.10/site-packages (from ipykernel->jupyterlab<5,>=4.0.2->notebook>=4.4.1->widgetsnbextension~=3.6.6->ipywidgets<8.0.0,>=7.6.5->etna[all]) (1.5.8)\r\n",
      "Requirement already satisfied: webencodings in /Users/valentin/anaconda3/envs/Go_Algo_3_10/lib/python3.10/site-packages (from bleach!=5.0.0->nbconvert>=6.4.4->jupyter-server<3,>=2.4.0->notebook>=4.4.1->widgetsnbextension~=3.6.6->ipywidgets<8.0.0,>=7.6.5->etna[all]) (0.5.1)\r\n",
      "Requirement already satisfied: fqdn in /Users/valentin/anaconda3/envs/Go_Algo_3_10/lib/python3.10/site-packages (from jsonschema[format-nongpl]>=4.18.0->jupyter-events>=0.9.0->jupyter-server<3,>=2.4.0->notebook>=4.4.1->widgetsnbextension~=3.6.6->ipywidgets<8.0.0,>=7.6.5->etna[all]) (1.5.1)\r\n",
      "Requirement already satisfied: isoduration in /Users/valentin/anaconda3/envs/Go_Algo_3_10/lib/python3.10/site-packages (from jsonschema[format-nongpl]>=4.18.0->jupyter-events>=0.9.0->jupyter-server<3,>=2.4.0->notebook>=4.4.1->widgetsnbextension~=3.6.6->ipywidgets<8.0.0,>=7.6.5->etna[all]) (20.11.0)\r\n",
      "Requirement already satisfied: jsonpointer>1.13 in /Users/valentin/anaconda3/envs/Go_Algo_3_10/lib/python3.10/site-packages (from jsonschema[format-nongpl]>=4.18.0->jupyter-events>=0.9.0->jupyter-server<3,>=2.4.0->notebook>=4.4.1->widgetsnbextension~=3.6.6->ipywidgets<8.0.0,>=7.6.5->etna[all]) (2.4)\r\n",
      "Requirement already satisfied: uri-template in /Users/valentin/anaconda3/envs/Go_Algo_3_10/lib/python3.10/site-packages (from jsonschema[format-nongpl]>=4.18.0->jupyter-events>=0.9.0->jupyter-server<3,>=2.4.0->notebook>=4.4.1->widgetsnbextension~=3.6.6->ipywidgets<8.0.0,>=7.6.5->etna[all]) (1.3.0)\r\n",
      "Requirement already satisfied: webcolors>=1.11 in /Users/valentin/anaconda3/envs/Go_Algo_3_10/lib/python3.10/site-packages (from jsonschema[format-nongpl]>=4.18.0->jupyter-events>=0.9.0->jupyter-server<3,>=2.4.0->notebook>=4.4.1->widgetsnbextension~=3.6.6->ipywidgets<8.0.0,>=7.6.5->etna[all]) (1.13)\r\n",
      "Requirement already satisfied: cffi>=1.0.1 in /Users/valentin/anaconda3/envs/Go_Algo_3_10/lib/python3.10/site-packages (from argon2-cffi-bindings->argon2-cffi->jupyter-server<3,>=2.4.0->notebook>=4.4.1->widgetsnbextension~=3.6.6->ipywidgets<8.0.0,>=7.6.5->etna[all]) (1.16.0)\r\n",
      "Requirement already satisfied: soupsieve>1.2 in /Users/valentin/anaconda3/envs/Go_Algo_3_10/lib/python3.10/site-packages (from beautifulsoup4->nbconvert>=6.4.4->jupyter-server<3,>=2.4.0->notebook>=4.4.1->widgetsnbextension~=3.6.6->ipywidgets<8.0.0,>=7.6.5->etna[all]) (2.5)\r\n",
      "Requirement already satisfied: pycparser in /Users/valentin/anaconda3/envs/Go_Algo_3_10/lib/python3.10/site-packages (from cffi>=1.0.1->argon2-cffi-bindings->argon2-cffi->jupyter-server<3,>=2.4.0->notebook>=4.4.1->widgetsnbextension~=3.6.6->ipywidgets<8.0.0,>=7.6.5->etna[all]) (2.21)\r\n",
      "Requirement already satisfied: arrow>=0.15.0 in /Users/valentin/anaconda3/envs/Go_Algo_3_10/lib/python3.10/site-packages (from isoduration->jsonschema[format-nongpl]>=4.18.0->jupyter-events>=0.9.0->jupyter-server<3,>=2.4.0->notebook>=4.4.1->widgetsnbextension~=3.6.6->ipywidgets<8.0.0,>=7.6.5->etna[all]) (1.3.0)\r\n",
      "Requirement already satisfied: types-python-dateutil>=2.8.10 in /Users/valentin/anaconda3/envs/Go_Algo_3_10/lib/python3.10/site-packages (from arrow>=0.15.0->isoduration->jsonschema[format-nongpl]>=4.18.0->jupyter-events>=0.9.0->jupyter-server<3,>=2.4.0->notebook>=4.4.1->widgetsnbextension~=3.6.6->ipywidgets<8.0.0,>=7.6.5->etna[all]) (2.8.19.14)\r\n"
     ]
    }
   ],
   "source": [
    "!pip install --upgrade pip\n",
    "!pip install etna\n",
    "!pip install 'etna[all]'"
   ],
   "metadata": {
    "collapsed": false,
    "ExecuteTime": {
     "end_time": "2023-12-08T22:11:41.267056Z",
     "start_time": "2023-12-08T22:11:31.545666Z"
    }
   },
   "id": "3f6241f6a8acbcfc"
  },
  {
   "cell_type": "code",
   "execution_count": 18,
   "outputs": [],
   "source": [
    "from etna.datasets.tsdataset import TSDataset"
   ],
   "metadata": {
    "collapsed": false,
    "ExecuteTime": {
     "end_time": "2023-12-08T22:11:44.741568Z",
     "start_time": "2023-12-08T22:11:42.924179Z"
    }
   },
   "id": "c6c19c6933b6f581"
  },
  {
   "cell_type": "code",
   "execution_count": 11,
   "outputs": [],
   "source": [
    "df = pd.read_csv('tradestats_CBOM.csv', engine='python', encoding='cp1251', sep=',')"
   ],
   "metadata": {
    "collapsed": false,
    "ExecuteTime": {
     "end_time": "2023-12-03T11:15:04.478733Z",
     "start_time": "2023-12-03T11:15:04.444470Z"
    }
   },
   "id": "9becf5aebb9ab34b"
  },
  {
   "cell_type": "code",
   "execution_count": 12,
   "outputs": [
    {
     "data": {
      "text/plain": "Index(['tradedate', 'tradetime', 'secid', 'pr_open', 'pr_high', 'pr_low',\n       'pr_close', 'pr_std', 'vol', 'val', 'trades', 'pr_vwap', 'pr_change',\n       'trades_b', 'trades_s', 'val_b', 'val_s', 'vol_b', 'vol_s', 'disb',\n       'pr_vwap_b', 'pr_vwap_s', 'SYSTIME'],\n      dtype='object')"
     },
     "execution_count": 12,
     "metadata": {},
     "output_type": "execute_result"
    }
   ],
   "source": [
    "df.columns"
   ],
   "metadata": {
    "collapsed": false,
    "ExecuteTime": {
     "end_time": "2023-12-03T11:15:09.502279Z",
     "start_time": "2023-12-03T11:15:09.470184Z"
    }
   },
   "id": "de4564e2d09b66c6"
  },
  {
   "cell_type": "code",
   "execution_count": 13,
   "outputs": [
    {
     "ename": "AttributeError",
     "evalue": "'DataFrame' object has no attribute 'tradedate'",
     "output_type": "error",
     "traceback": [
      "\u001B[0;31m---------------------------------------------------------------------------\u001B[0m",
      "\u001B[0;31mAttributeError\u001B[0m                            Traceback (most recent call last)",
      "\u001B[0;32m/var/folders/mw/pz7p6b0x7j7355t1s1v855dh0000gn/T/ipykernel_12499/1432222227.py\u001B[0m in \u001B[0;36m?\u001B[0;34m()\u001B[0m\n\u001B[0;32m----> 1\u001B[0;31m \u001B[0mdf\u001B[0m\u001B[0;34m.\u001B[0m\u001B[0mloc\u001B[0m\u001B[0;34m[\u001B[0m\u001B[0;34m:\u001B[0m\u001B[0;34m,\u001B[0m \u001B[0;34m'trade_datetime'\u001B[0m\u001B[0;34m]\u001B[0m \u001B[0;34m=\u001B[0m \u001B[0mpd\u001B[0m\u001B[0;34m.\u001B[0m\u001B[0mto_datetime\u001B[0m\u001B[0;34m(\u001B[0m\u001B[0mdf\u001B[0m\u001B[0;34m.\u001B[0m\u001B[0mtradedate\u001B[0m\u001B[0;34m.\u001B[0m\u001B[0mastype\u001B[0m\u001B[0;34m(\u001B[0m\u001B[0mstr\u001B[0m\u001B[0;34m)\u001B[0m \u001B[0;34m+\u001B[0m \u001B[0;34m' '\u001B[0m \u001B[0;34m+\u001B[0m \u001B[0mdf\u001B[0m\u001B[0;34m.\u001B[0m\u001B[0mtradetime\u001B[0m\u001B[0;34m.\u001B[0m\u001B[0mastype\u001B[0m\u001B[0;34m(\u001B[0m\u001B[0mstr\u001B[0m\u001B[0;34m)\u001B[0m\u001B[0;34m)\u001B[0m\u001B[0;34m\u001B[0m\u001B[0;34m\u001B[0m\u001B[0m\n\u001B[0m\u001B[1;32m      2\u001B[0m \u001B[0;34m\u001B[0m\u001B[0m\n\u001B[1;32m      3\u001B[0m df = df[\n\u001B[1;32m      4\u001B[0m             ['secid', 'trade_datetime', 'pr_open', 'pr_high', 'pr_low', 'vol', 'val', 'trades', 'trades_b', 'trades_s',\n",
      "\u001B[0;32m~/anaconda3/envs/Go_Algo_3_10/lib/python3.10/site-packages/pandas/core/generic.py\u001B[0m in \u001B[0;36m?\u001B[0;34m(self, name)\u001B[0m\n\u001B[1;32m   5898\u001B[0m             \u001B[0;32mand\u001B[0m \u001B[0mname\u001B[0m \u001B[0;32mnot\u001B[0m \u001B[0;32min\u001B[0m \u001B[0mself\u001B[0m\u001B[0;34m.\u001B[0m\u001B[0m_accessors\u001B[0m\u001B[0;34m\u001B[0m\u001B[0;34m\u001B[0m\u001B[0m\n\u001B[1;32m   5899\u001B[0m             \u001B[0;32mand\u001B[0m \u001B[0mself\u001B[0m\u001B[0;34m.\u001B[0m\u001B[0m_info_axis\u001B[0m\u001B[0;34m.\u001B[0m\u001B[0m_can_hold_identifiers_and_holds_name\u001B[0m\u001B[0;34m(\u001B[0m\u001B[0mname\u001B[0m\u001B[0;34m)\u001B[0m\u001B[0;34m\u001B[0m\u001B[0;34m\u001B[0m\u001B[0m\n\u001B[1;32m   5900\u001B[0m         ):\n\u001B[1;32m   5901\u001B[0m             \u001B[0;32mreturn\u001B[0m \u001B[0mself\u001B[0m\u001B[0;34m[\u001B[0m\u001B[0mname\u001B[0m\u001B[0;34m]\u001B[0m\u001B[0;34m\u001B[0m\u001B[0;34m\u001B[0m\u001B[0m\n\u001B[0;32m-> 5902\u001B[0;31m         \u001B[0;32mreturn\u001B[0m \u001B[0mobject\u001B[0m\u001B[0;34m.\u001B[0m\u001B[0m__getattribute__\u001B[0m\u001B[0;34m(\u001B[0m\u001B[0mself\u001B[0m\u001B[0;34m,\u001B[0m \u001B[0mname\u001B[0m\u001B[0;34m)\u001B[0m\u001B[0;34m\u001B[0m\u001B[0;34m\u001B[0m\u001B[0m\n\u001B[0m",
      "\u001B[0;31mAttributeError\u001B[0m: 'DataFrame' object has no attribute 'tradedate'"
     ]
    }
   ],
   "source": [
    "df.loc[:, 'trade_datetime'] = pd.to_datetime(df.tradedate.astype(str) + ' ' + df.tradetime.astype(str))\n",
    "\n",
    "df = df[\n",
    "            ['secid', 'trade_datetime', 'pr_open', 'pr_high', 'pr_low', 'vol', 'val', 'trades', 'trades_b', 'trades_s',\n",
    "             'val_b',\n",
    "             'val_s', 'vol_b', 'vol_s', 'pr_close']]\n",
    "\n",
    "df.columns = ['segment', 'timestamp', 'pr_open', 'pr_high', 'pr_low', 'vol', 'val', 'trades', 'trades_b',\n",
    "                      'trades_s',\n",
    "                      'val_b', 'val_s', 'vol_b', 'vol_s', 'target']\n",
    "\n",
    "etna_df = TSDataset.to_dataset(df)"
   ],
   "metadata": {
    "collapsed": false,
    "ExecuteTime": {
     "end_time": "2023-12-08T22:11:08.220851Z",
     "start_time": "2023-12-08T22:11:08.202558Z"
    }
   },
   "id": "2ad159d259eec81"
  },
  {
   "cell_type": "code",
   "execution_count": 10,
   "outputs": [
    {
     "data": {
      "text/plain": "segment                CBOM                                                 \\\nfeature             pr_high pr_low pr_open target trades trades_b trades_s   \ntimestamp                                                                    \n2023-10-02 10:05:00   7.050  7.043   7.050  7.048     43       26       17   \n2023-10-02 10:10:00   7.054  7.045   7.049  7.053     56       39       17   \n2023-10-02 10:15:00   7.054  7.031   7.053  7.047     77       49       28   \n2023-10-02 10:20:00   7.067  7.047   7.047  7.058     69       46       23   \n2023-10-02 10:25:00   7.060  7.054   7.058  7.059     42       22       20   \n\nsegment                                                           \nfeature                  val    val_b    val_s   vol vol_b vol_s  \ntimestamp                                                         \n2023-10-02 10:05:00  2506629  1294299  1212330  3556  1836  1720  \n2023-10-02 10:10:00  2314612   881339  1433272  3284  1250  2034  \n2023-10-02 10:15:00  4610734  1855260  2755473  6544  2633  3911  \n2023-10-02 10:20:00  1941936  1719004   222932  2754  2438   316  \n2023-10-02 10:25:00  1246480  1028474   218005  1766  1457   309  ",
      "text/html": "<div>\n<style scoped>\n    .dataframe tbody tr th:only-of-type {\n        vertical-align: middle;\n    }\n\n    .dataframe tbody tr th {\n        vertical-align: top;\n    }\n\n    .dataframe thead tr th {\n        text-align: left;\n    }\n\n    .dataframe thead tr:last-of-type th {\n        text-align: right;\n    }\n</style>\n<table border=\"1\" class=\"dataframe\">\n  <thead>\n    <tr>\n      <th>segment</th>\n      <th colspan=\"13\" halign=\"left\">CBOM</th>\n    </tr>\n    <tr>\n      <th>feature</th>\n      <th>pr_high</th>\n      <th>pr_low</th>\n      <th>pr_open</th>\n      <th>target</th>\n      <th>trades</th>\n      <th>trades_b</th>\n      <th>trades_s</th>\n      <th>val</th>\n      <th>val_b</th>\n      <th>val_s</th>\n      <th>vol</th>\n      <th>vol_b</th>\n      <th>vol_s</th>\n    </tr>\n    <tr>\n      <th>timestamp</th>\n      <th></th>\n      <th></th>\n      <th></th>\n      <th></th>\n      <th></th>\n      <th></th>\n      <th></th>\n      <th></th>\n      <th></th>\n      <th></th>\n      <th></th>\n      <th></th>\n      <th></th>\n    </tr>\n  </thead>\n  <tbody>\n    <tr>\n      <th>2023-10-02 10:05:00</th>\n      <td>7.050</td>\n      <td>7.043</td>\n      <td>7.050</td>\n      <td>7.048</td>\n      <td>43</td>\n      <td>26</td>\n      <td>17</td>\n      <td>2506629</td>\n      <td>1294299</td>\n      <td>1212330</td>\n      <td>3556</td>\n      <td>1836</td>\n      <td>1720</td>\n    </tr>\n    <tr>\n      <th>2023-10-02 10:10:00</th>\n      <td>7.054</td>\n      <td>7.045</td>\n      <td>7.049</td>\n      <td>7.053</td>\n      <td>56</td>\n      <td>39</td>\n      <td>17</td>\n      <td>2314612</td>\n      <td>881339</td>\n      <td>1433272</td>\n      <td>3284</td>\n      <td>1250</td>\n      <td>2034</td>\n    </tr>\n    <tr>\n      <th>2023-10-02 10:15:00</th>\n      <td>7.054</td>\n      <td>7.031</td>\n      <td>7.053</td>\n      <td>7.047</td>\n      <td>77</td>\n      <td>49</td>\n      <td>28</td>\n      <td>4610734</td>\n      <td>1855260</td>\n      <td>2755473</td>\n      <td>6544</td>\n      <td>2633</td>\n      <td>3911</td>\n    </tr>\n    <tr>\n      <th>2023-10-02 10:20:00</th>\n      <td>7.067</td>\n      <td>7.047</td>\n      <td>7.047</td>\n      <td>7.058</td>\n      <td>69</td>\n      <td>46</td>\n      <td>23</td>\n      <td>1941936</td>\n      <td>1719004</td>\n      <td>222932</td>\n      <td>2754</td>\n      <td>2438</td>\n      <td>316</td>\n    </tr>\n    <tr>\n      <th>2023-10-02 10:25:00</th>\n      <td>7.060</td>\n      <td>7.054</td>\n      <td>7.058</td>\n      <td>7.059</td>\n      <td>42</td>\n      <td>22</td>\n      <td>20</td>\n      <td>1246480</td>\n      <td>1028474</td>\n      <td>218005</td>\n      <td>1766</td>\n      <td>1457</td>\n      <td>309</td>\n    </tr>\n  </tbody>\n</table>\n</div>"
     },
     "execution_count": 10,
     "metadata": {},
     "output_type": "execute_result"
    }
   ],
   "source": [
    "etna_df.head()"
   ],
   "metadata": {
    "collapsed": false,
    "ExecuteTime": {
     "end_time": "2023-12-03T11:12:43.769768Z",
     "start_time": "2023-12-03T11:12:43.754047Z"
    }
   },
   "id": "26778cfdb9243aa5"
  },
  {
   "cell_type": "code",
   "execution_count": 73,
   "outputs": [],
   "source": [
    "from moexalgo import Market, Ticker\n",
    "\n",
    "# Акции SBER\n",
    "sber = Ticker('CBOM')\n",
    "CBOM = sber.orderstats(date='2022-01-01', till_date='2022-08-01')"
   ],
   "metadata": {
    "collapsed": false,
    "ExecuteTime": {
     "end_time": "2023-12-09T01:04:19.131026Z",
     "start_time": "2023-12-09T01:04:12.737139Z"
    }
   },
   "id": "3f9580b4794eee81"
  },
  {
   "cell_type": "code",
   "execution_count": 74,
   "outputs": [],
   "source": [
    "CBOM.loc[:, 'trade_datetime'] = pd.to_datetime(CBOM.tradedate.astype(str) + ' ' + CBOM.tradetime.astype(str))\n",
    "\n",
    "CBOM = CBOM.drop(columns=['tradedate', 'tradetime','systime'])"
   ],
   "metadata": {
    "collapsed": false,
    "ExecuteTime": {
     "end_time": "2023-12-09T01:04:19.138359Z",
     "start_time": "2023-12-09T01:04:19.132005Z"
    }
   },
   "id": "82bf5a87f80545cf"
  },
  {
   "cell_type": "markdown",
   "source": [
    "orderstats"
   ],
   "metadata": {
    "collapsed": false
   },
   "id": "d1034cbb5ba447b3"
  },
  {
   "cell_type": "code",
   "execution_count": 75,
   "outputs": [],
   "source": [
    "CBOM['orders_true'] = CBOM['put_orders']-CBOM['cancel_orders']\n",
    "CBOM['orders_true_b'] = CBOM['put_orders_b']-CBOM['cancel_orders_b']\n",
    "CBOM['orders_true_s'] = CBOM['put_orders_s']-CBOM['cancel_orders_s']"
   ],
   "metadata": {
    "collapsed": false,
    "ExecuteTime": {
     "end_time": "2023-12-09T01:04:19.151911Z",
     "start_time": "2023-12-09T01:04:19.134966Z"
    }
   },
   "id": "9c861fed41853f66"
  },
  {
   "cell_type": "code",
   "execution_count": 76,
   "outputs": [],
   "source": [
    "CBOM['vol_true_put'] = CBOM['put_vol']-CBOM['cancel_vol']\n",
    "CBOM['vol_true_put_b'] = CBOM['put_vol_b']-CBOM['cancel_vol_b']\n",
    "CBOM['vol_true_put_s'] = CBOM['put_vol_s']-CBOM['cancel_vol_s']"
   ],
   "metadata": {
    "collapsed": false,
    "ExecuteTime": {
     "end_time": "2023-12-09T01:04:19.164655Z",
     "start_time": "2023-12-09T01:04:19.138905Z"
    }
   },
   "id": "5fe2a450768357d3"
  },
  {
   "cell_type": "code",
   "execution_count": 77,
   "outputs": [],
   "source": [
    "CBOM['val_true_put'] = CBOM['put_val']-CBOM['cancel_val']\n",
    "CBOM['val_true_put_b'] = CBOM['put_val_b']-CBOM['cancel_val_b']\n",
    "CBOM['val_true_put_s'] = CBOM['put_val_s']-CBOM['cancel_val_s']"
   ],
   "metadata": {
    "collapsed": false,
    "ExecuteTime": {
     "end_time": "2023-12-09T01:04:19.166737Z",
     "start_time": "2023-12-09T01:04:19.141689Z"
    }
   },
   "id": "fe8773e59879f59f"
  },
  {
   "cell_type": "code",
   "execution_count": 78,
   "outputs": [],
   "source": [
    "test = CBOM[['trade_datetime','ticker','put_vwap_s','orders_true','orders_true_b', 'orders_true_s','vol_true_put','vol_true_put_b','vol_true_put_s','val_true_put','val_true_put_b','val_true_put_s']]"
   ],
   "metadata": {
    "collapsed": false,
    "ExecuteTime": {
     "end_time": "2023-12-09T01:04:19.168667Z",
     "start_time": "2023-12-09T01:04:19.144959Z"
    }
   },
   "id": "bb9767588dd74888"
  },
  {
   "cell_type": "code",
   "execution_count": 79,
   "outputs": [
    {
     "name": "stderr",
     "output_type": "stream",
     "text": [
      "/var/folders/mw/pz7p6b0x7j7355t1s1v855dh0000gn/T/ipykernel_12499/2056560319.py:14: SettingWithCopyWarning: \n",
      "A value is trying to be set on a copy of a slice from a DataFrame.\n",
      "Try using .loc[row_indexer,col_indexer] = value instead\n",
      "\n",
      "See the caveats in the documentation: https://pandas.pydata.org/pandas-docs/stable/user_guide/indexing.html#returning-a-view-versus-a-copy\n",
      "  test['fake_datetime'] = list_datetime\n"
     ]
    }
   ],
   "source": [
    "from datetime import timedelta\n",
    "\n",
    "start = test['trade_datetime'][0]\n",
    "\n",
    "list_datetime = []\n",
    "\n",
    "for i in range(len(test['trade_datetime'])):\n",
    "    if i == 0 :\n",
    "        list_datetime.append(start)\n",
    "    else:\n",
    "        start = list_datetime[i-1]\n",
    "        list_datetime.append(start + timedelta(minutes=1))\n",
    "\n",
    "test['fake_datetime'] = list_datetime\n"
   ],
   "metadata": {
    "collapsed": false,
    "ExecuteTime": {
     "end_time": "2023-12-09T01:04:19.209086Z",
     "start_time": "2023-12-09T01:04:19.173951Z"
    }
   },
   "id": "4e69e99261615b46"
  },
  {
   "cell_type": "code",
   "execution_count": 80,
   "outputs": [],
   "source": [
    "# , 'cancel_vwap_b', 'cancel_vwap_s', 'put_vwap_b', 'put_vwap_s'"
   ],
   "metadata": {
    "collapsed": false,
    "ExecuteTime": {
     "end_time": "2023-12-09T01:04:19.215095Z",
     "start_time": "2023-12-09T01:04:19.176126Z"
    }
   },
   "id": "f1d7f17fc5edc547"
  },
  {
   "cell_type": "code",
   "execution_count": 81,
   "outputs": [
    {
     "data": {
      "text/plain": "       trade_datetime ticker  put_vwap_s  orders_true  orders_true_b  \\\n0 2022-01-03 10:05:00   CBOM       6.992           94             44   \n1 2022-01-03 10:10:00   CBOM       7.783           92             38   \n2 2022-01-03 10:15:00   CBOM       7.581           83             53   \n3 2022-01-03 10:20:00   CBOM       7.217           70             24   \n4 2022-01-03 10:25:00   CBOM       7.398          103             51   \n\n   orders_true_s  vol_true_put  vol_true_put_b  vol_true_put_s  val_true_put  \\\n0             50         24718           14557           10161    17074566.0   \n1             54          4279            2369            1910     4918298.0   \n2             30          8094            6128            1966     5590207.0   \n3             46         14908            5624            9284    10453460.0   \n4             52          7825            3411            4414     5670944.0   \n\n   val_true_put_b  val_true_put_s       fake_datetime  \n0       9982722.0       7091843.0 2022-01-03 10:05:00  \n1       3688510.0       1229787.0 2022-01-03 10:06:00  \n2       4292001.0       1298205.0 2022-01-03 10:07:00  \n3       3955235.0       6498226.0 2022-01-03 10:08:00  \n4       2451346.0       3219599.0 2022-01-03 10:09:00  ",
      "text/html": "<div>\n<style scoped>\n    .dataframe tbody tr th:only-of-type {\n        vertical-align: middle;\n    }\n\n    .dataframe tbody tr th {\n        vertical-align: top;\n    }\n\n    .dataframe thead th {\n        text-align: right;\n    }\n</style>\n<table border=\"1\" class=\"dataframe\">\n  <thead>\n    <tr style=\"text-align: right;\">\n      <th></th>\n      <th>trade_datetime</th>\n      <th>ticker</th>\n      <th>put_vwap_s</th>\n      <th>orders_true</th>\n      <th>orders_true_b</th>\n      <th>orders_true_s</th>\n      <th>vol_true_put</th>\n      <th>vol_true_put_b</th>\n      <th>vol_true_put_s</th>\n      <th>val_true_put</th>\n      <th>val_true_put_b</th>\n      <th>val_true_put_s</th>\n      <th>fake_datetime</th>\n    </tr>\n  </thead>\n  <tbody>\n    <tr>\n      <th>0</th>\n      <td>2022-01-03 10:05:00</td>\n      <td>CBOM</td>\n      <td>6.992</td>\n      <td>94</td>\n      <td>44</td>\n      <td>50</td>\n      <td>24718</td>\n      <td>14557</td>\n      <td>10161</td>\n      <td>17074566.0</td>\n      <td>9982722.0</td>\n      <td>7091843.0</td>\n      <td>2022-01-03 10:05:00</td>\n    </tr>\n    <tr>\n      <th>1</th>\n      <td>2022-01-03 10:10:00</td>\n      <td>CBOM</td>\n      <td>7.783</td>\n      <td>92</td>\n      <td>38</td>\n      <td>54</td>\n      <td>4279</td>\n      <td>2369</td>\n      <td>1910</td>\n      <td>4918298.0</td>\n      <td>3688510.0</td>\n      <td>1229787.0</td>\n      <td>2022-01-03 10:06:00</td>\n    </tr>\n    <tr>\n      <th>2</th>\n      <td>2022-01-03 10:15:00</td>\n      <td>CBOM</td>\n      <td>7.581</td>\n      <td>83</td>\n      <td>53</td>\n      <td>30</td>\n      <td>8094</td>\n      <td>6128</td>\n      <td>1966</td>\n      <td>5590207.0</td>\n      <td>4292001.0</td>\n      <td>1298205.0</td>\n      <td>2022-01-03 10:07:00</td>\n    </tr>\n    <tr>\n      <th>3</th>\n      <td>2022-01-03 10:20:00</td>\n      <td>CBOM</td>\n      <td>7.217</td>\n      <td>70</td>\n      <td>24</td>\n      <td>46</td>\n      <td>14908</td>\n      <td>5624</td>\n      <td>9284</td>\n      <td>10453460.0</td>\n      <td>3955235.0</td>\n      <td>6498226.0</td>\n      <td>2022-01-03 10:08:00</td>\n    </tr>\n    <tr>\n      <th>4</th>\n      <td>2022-01-03 10:25:00</td>\n      <td>CBOM</td>\n      <td>7.398</td>\n      <td>103</td>\n      <td>51</td>\n      <td>52</td>\n      <td>7825</td>\n      <td>3411</td>\n      <td>4414</td>\n      <td>5670944.0</td>\n      <td>2451346.0</td>\n      <td>3219599.0</td>\n      <td>2022-01-03 10:09:00</td>\n    </tr>\n  </tbody>\n</table>\n</div>"
     },
     "execution_count": 81,
     "metadata": {},
     "output_type": "execute_result"
    }
   ],
   "source": [
    "test.head()"
   ],
   "metadata": {
    "collapsed": false,
    "ExecuteTime": {
     "end_time": "2023-12-09T01:04:19.217375Z",
     "start_time": "2023-12-09T01:04:19.181235Z"
    }
   },
   "id": "fe11af4b4a6eb0c5"
  },
  {
   "cell_type": "code",
   "execution_count": 82,
   "outputs": [
    {
     "name": "stderr",
     "output_type": "stream",
     "text": [
      "/var/folders/mw/pz7p6b0x7j7355t1s1v855dh0000gn/T/ipykernel_12499/3699620102.py:1: SettingWithCopyWarning: \n",
      "A value is trying to be set on a copy of a slice from a DataFrame.\n",
      "Try using .loc[row_indexer,col_indexer] = value instead\n",
      "\n",
      "See the caveats in the documentation: https://pandas.pydata.org/pandas-docs/stable/user_guide/indexing.html#returning-a-view-versus-a-copy\n",
      "  test['fake_datetime'] = pd.to_datetime(test['fake_datetime'],format='%Y-%m-%d %H:%M')\n"
     ]
    }
   ],
   "source": [
    "test['fake_datetime'] = pd.to_datetime(test['fake_datetime'],format='%Y-%m-%d %H:%M')"
   ],
   "metadata": {
    "collapsed": false,
    "ExecuteTime": {
     "end_time": "2023-12-09T01:04:19.219428Z",
     "start_time": "2023-12-09T01:04:19.187981Z"
    }
   },
   "id": "1a6c691d52a0e2f3"
  },
  {
   "cell_type": "code",
   "execution_count": 83,
   "outputs": [],
   "source": [
    "df = test[['fake_datetime','ticker','put_vwap_s']]\n",
    "\n",
    "# ,'orders_true','orders_true_b', 'orders_true_s','vol_true_put','vol_true_put_b','vol_true_put_s','val_true_put','val_true_put_b','val_true_put_s'\n",
    "\n",
    "\n",
    "df.columns = ['timestamp','segment','target']\n",
    "\n",
    "# ,'orders_true','orders_true_b', 'orders_true_s','vol_true_put','vol_true_put_b','vol_true_put_s','val_true_put','val_true_put_b','val_true_put_s'\n",
    "    "
   ],
   "metadata": {
    "collapsed": false,
    "ExecuteTime": {
     "end_time": "2023-12-09T01:04:19.248569Z",
     "start_time": "2023-12-09T01:04:19.192116Z"
    }
   },
   "id": "ba3db9ddcfefc5a"
  },
  {
   "cell_type": "code",
   "execution_count": 84,
   "outputs": [
    {
     "data": {
      "text/plain": "etna.datasets.tsdataset.TSDataset"
     },
     "execution_count": 84,
     "metadata": {},
     "output_type": "execute_result"
    }
   ],
   "source": [
    "TSDataset"
   ],
   "metadata": {
    "collapsed": false,
    "ExecuteTime": {
     "end_time": "2023-12-09T01:04:19.251007Z",
     "start_time": "2023-12-09T01:04:19.195922Z"
    }
   },
   "id": "2fee83d6671e8b8c"
  },
  {
   "cell_type": "code",
   "execution_count": 85,
   "outputs": [
    {
     "data": {
      "text/plain": "segment               CBOM\nfeature             target\ntimestamp                 \n2022-01-03 10:05:00  6.992\n2022-01-03 10:06:00  7.783\n2022-01-03 10:07:00  7.581\n2022-01-03 10:08:00  7.217\n2022-01-03 10:09:00  7.398",
      "text/html": "<div>\n<style scoped>\n    .dataframe tbody tr th:only-of-type {\n        vertical-align: middle;\n    }\n\n    .dataframe tbody tr th {\n        vertical-align: top;\n    }\n\n    .dataframe thead tr th {\n        text-align: left;\n    }\n\n    .dataframe thead tr:last-of-type th {\n        text-align: right;\n    }\n</style>\n<table border=\"1\" class=\"dataframe\">\n  <thead>\n    <tr>\n      <th>segment</th>\n      <th>CBOM</th>\n    </tr>\n    <tr>\n      <th>feature</th>\n      <th>target</th>\n    </tr>\n    <tr>\n      <th>timestamp</th>\n      <th></th>\n    </tr>\n  </thead>\n  <tbody>\n    <tr>\n      <th>2022-01-03 10:05:00</th>\n      <td>6.992</td>\n    </tr>\n    <tr>\n      <th>2022-01-03 10:06:00</th>\n      <td>7.783</td>\n    </tr>\n    <tr>\n      <th>2022-01-03 10:07:00</th>\n      <td>7.581</td>\n    </tr>\n    <tr>\n      <th>2022-01-03 10:08:00</th>\n      <td>7.217</td>\n    </tr>\n    <tr>\n      <th>2022-01-03 10:09:00</th>\n      <td>7.398</td>\n    </tr>\n  </tbody>\n</table>\n</div>"
     },
     "execution_count": 85,
     "metadata": {},
     "output_type": "execute_result"
    }
   ],
   "source": [
    "etna_df = TSDataset.to_dataset(df)\n",
    "etna_df.head()\n",
    "# segment\n",
    "# feature\n",
    "# timestamp\n",
    "# df.columns = ['timestamp','segment','orders_true','orders_true_b', 'orders_true_s','vol_true_put','vol_true_put_b','vol_true_put_s','val_true_put','val_true_put_b','val_true_put_s','target']"
   ],
   "metadata": {
    "collapsed": false,
    "ExecuteTime": {
     "end_time": "2023-12-09T01:04:19.274880Z",
     "start_time": "2023-12-09T01:04:19.203571Z"
    }
   },
   "id": "c11fd70a033798c9"
  },
  {
   "cell_type": "code",
   "execution_count": 86,
   "outputs": [
    {
     "name": "stdout",
     "output_type": "stream",
     "text": [
      "<class 'pandas.core.frame.DataFrame'>\n",
      "DatetimeIndex: 12818 entries, 2022-01-03 10:05:00 to 2022-01-12 07:42:00\n",
      "Data columns (total 1 columns):\n",
      " #   Column          Non-Null Count  Dtype  \n",
      "---  ------          --------------  -----  \n",
      " 0   (CBOM, target)  12813 non-null  float64\n",
      "dtypes: float64(1)\n",
      "memory usage: 200.3 KB\n"
     ]
    }
   ],
   "source": [
    "etna_df.info()"
   ],
   "metadata": {
    "collapsed": false,
    "ExecuteTime": {
     "end_time": "2023-12-09T01:04:19.285095Z",
     "start_time": "2023-12-09T01:04:19.212592Z"
    }
   },
   "id": "842ad858a4934730"
  },
  {
   "cell_type": "code",
   "execution_count": 87,
   "outputs": [],
   "source": [
    "ts = TSDataset(etna_df, freq=\"T\")\n",
    "\n",
    "# Choose a horizon\n",
    "HORIZON = 14\n",
    "\n",
    "# Make train/test split\n",
    "train_ts, test_ts = ts.train_test_split(test_size=HORIZON)"
   ],
   "metadata": {
    "collapsed": false,
    "ExecuteTime": {
     "end_time": "2023-12-09T01:04:19.310683Z",
     "start_time": "2023-12-09T01:04:19.223463Z"
    }
   },
   "id": "e3ae690f0e4c030b"
  },
  {
   "cell_type": "code",
   "execution_count": 88,
   "outputs": [
    {
     "data": {
      "text/plain": "<Figure size 1000x500 with 1 Axes>",
      "image/png": "[encoded data removed]"
     },
     "metadata": {},
     "output_type": "display_data"
    }
   ],
   "source": [
    "ts.plot(segments=[\"CBOM\"])"
   ],
   "metadata": {
    "collapsed": false,
    "ExecuteTime": {
     "end_time": "2023-12-09T01:04:19.426607Z",
     "start_time": "2023-12-09T01:04:19.234607Z"
    }
   },
   "id": "98a4048a1273ca3e"
  },
  {
   "cell_type": "code",
   "execution_count": 89,
   "outputs": [],
   "source": [
    "from etna.transforms import DensityOutliersTransform, TimeSeriesImputerTransform, LinearTrendTransform, TrendTransform, \\\n",
    "    LagTransform, DateFlagsTransform, FourierTransform, SegmentEncoderTransform, MeanTransform\n",
    "\n",
    "# Prepare transforms\n",
    "transforms = [\n",
    "    DensityOutliersTransform(in_column=\"target\", distance_coef=3.0),\n",
    "    TimeSeriesImputerTransform(in_column=\"target\", strategy=\"forward_fill\"),\n",
    "    LinearTrendTransform(in_column=\"target\"),\n",
    "    TrendTransform(in_column=\"target\", out_column=\"trend\"),\n",
    "    LagTransform(in_column=\"target\", lags=list(range(HORIZON, 122)), out_column=\"target_lag\"),\n",
    "    DateFlagsTransform(week_number_in_month=True, out_column=\"date_flag\"),\n",
    "    FourierTransform(period=360.25, order=6, out_column=\"fourier\"),\n",
    "    SegmentEncoderTransform(),\n",
    "    MeanTransform(in_column=f\"target_lag_{HORIZON}\", window=12, seasonality=7),\n",
    "    MeanTransform(in_column=f\"target_lag_{HORIZON}\", window=7),\n",
    "]"
   ],
   "metadata": {
    "collapsed": false,
    "ExecuteTime": {
     "end_time": "2023-12-09T01:04:19.428550Z",
     "start_time": "2023-12-09T01:04:19.360286Z"
    }
   },
   "id": "f442248b72258fc0"
  },
  {
   "cell_type": "code",
   "execution_count": 90,
   "outputs": [
    {
     "name": "stderr",
     "output_type": "stream",
     "text": [
      "/Users/valentin/anaconda3/envs/Go_Algo_3_10/lib/python3.10/site-packages/etna/datasets/tsdataset.py:282: FutureWarning: Argument `closed` is deprecated in favor of `inclusive`.\n",
      "  future_dates = pd.date_range(\n"
     ]
    }
   ],
   "source": [
    "from etna.models import CatBoostMultiSegmentModel\n",
    "from etna.pipeline import Pipeline\n",
    "model = CatBoostMultiSegmentModel()\n",
    "\n",
    "# Create and fit the pipeline\n",
    "pipeline = Pipeline(model=model, transforms=transforms, horizon=HORIZON)\n",
    "pipeline.fit(train_ts)\n",
    "\n",
    "# Make a forecast\n",
    "forecast_ts = pipeline.forecast()"
   ],
   "metadata": {
    "collapsed": false,
    "ExecuteTime": {
     "end_time": "2023-12-09T01:04:30.059516Z",
     "start_time": "2023-12-09T01:04:19.364156Z"
    }
   },
   "id": "2d14a62d3504eaac"
  },
  {
   "cell_type": "code",
   "execution_count": 104,
   "outputs": [
    {
     "data": {
      "text/plain": "<Figure size 1000x500 with 1 Axes>",
      "image/png": "[encoded data removed]"
     },
     "metadata": {},
     "output_type": "display_data"
    }
   ],
   "source": [
    "from etna.analysis import plot_forecast\n",
    "\n",
    "plot_forecast(forecast_ts=forecast_ts , test_ts=test_ts, train_ts=train_ts, n_train_samples=100,  prediction_intervals=True)"
   ],
   "metadata": {
    "collapsed": false,
    "ExecuteTime": {
     "end_time": "2023-12-09T01:21:56.754756Z",
     "start_time": "2023-12-09T01:21:56.270326Z"
    }
   },
   "id": "70e5b1c96a2281c6"
  },
  {
   "cell_type": "code",
   "execution_count": 102,
   "outputs": [],
   "source": [],
   "metadata": {
    "collapsed": false,
    "ExecuteTime": {
     "end_time": "2023-12-09T01:18:11.498999Z",
     "start_time": "2023-12-09T01:18:11.488672Z"
    }
   },
   "id": "41adc59942cc72a2"
  },
  {
   "cell_type": "code",
   "execution_count": 187,
   "outputs": [
    {
     "data": {
      "text/plain": "             timestamp segment    target\n0  2022-01-12 07:29:00    CBOM  6.065342\n1  2022-01-12 07:30:00    CBOM  5.761884\n2  2022-01-12 07:31:00    CBOM  5.476491\n3  2022-01-12 07:32:00    CBOM  6.088869\n4  2022-01-12 07:33:00    CBOM  5.699811\n5  2022-01-12 07:34:00    CBOM  5.537011\n6  2022-01-12 07:35:00    CBOM  5.885194\n7  2022-01-12 07:36:00    CBOM  5.752753\n8  2022-01-12 07:37:00    CBOM  6.113144\n9  2022-01-12 07:38:00    CBOM  5.847382\n10 2022-01-12 07:39:00    CBOM  6.207613\n11 2022-01-12 07:40:00    CBOM  5.876819\n12 2022-01-12 07:41:00    CBOM  6.010016\n13 2022-01-12 07:42:00    CBOM  5.909829",
      "text/html": "<div>\n<style scoped>\n    .dataframe tbody tr th:only-of-type {\n        vertical-align: middle;\n    }\n\n    .dataframe tbody tr th {\n        vertical-align: top;\n    }\n\n    .dataframe thead th {\n        text-align: right;\n    }\n</style>\n<table border=\"1\" class=\"dataframe\">\n  <thead>\n    <tr style=\"text-align: right;\">\n      <th></th>\n      <th>timestamp</th>\n      <th>segment</th>\n      <th>target</th>\n    </tr>\n  </thead>\n  <tbody>\n    <tr>\n      <th>0</th>\n      <td>2022-01-12 07:29:00</td>\n      <td>CBOM</td>\n      <td>6.065342</td>\n    </tr>\n    <tr>\n      <th>1</th>\n      <td>2022-01-12 07:30:00</td>\n      <td>CBOM</td>\n      <td>5.761884</td>\n    </tr>\n    <tr>\n      <th>2</th>\n      <td>2022-01-12 07:31:00</td>\n      <td>CBOM</td>\n      <td>5.476491</td>\n    </tr>\n    <tr>\n      <th>3</th>\n      <td>2022-01-12 07:32:00</td>\n      <td>CBOM</td>\n      <td>6.088869</td>\n    </tr>\n    <tr>\n      <th>4</th>\n      <td>2022-01-12 07:33:00</td>\n      <td>CBOM</td>\n      <td>5.699811</td>\n    </tr>\n    <tr>\n      <th>5</th>\n      <td>2022-01-12 07:34:00</td>\n      <td>CBOM</td>\n      <td>5.537011</td>\n    </tr>\n    <tr>\n      <th>6</th>\n      <td>2022-01-12 07:35:00</td>\n      <td>CBOM</td>\n      <td>5.885194</td>\n    </tr>\n    <tr>\n      <th>7</th>\n      <td>2022-01-12 07:36:00</td>\n      <td>CBOM</td>\n      <td>5.752753</td>\n    </tr>\n    <tr>\n      <th>8</th>\n      <td>2022-01-12 07:37:00</td>\n      <td>CBOM</td>\n      <td>6.113144</td>\n    </tr>\n    <tr>\n      <th>9</th>\n      <td>2022-01-12 07:38:00</td>\n      <td>CBOM</td>\n      <td>5.847382</td>\n    </tr>\n    <tr>\n      <th>10</th>\n      <td>2022-01-12 07:39:00</td>\n      <td>CBOM</td>\n      <td>6.207613</td>\n    </tr>\n    <tr>\n      <th>11</th>\n      <td>2022-01-12 07:40:00</td>\n      <td>CBOM</td>\n      <td>5.876819</td>\n    </tr>\n    <tr>\n      <th>12</th>\n      <td>2022-01-12 07:41:00</td>\n      <td>CBOM</td>\n      <td>6.010016</td>\n    </tr>\n    <tr>\n      <th>13</th>\n      <td>2022-01-12 07:42:00</td>\n      <td>CBOM</td>\n      <td>5.909829</td>\n    </tr>\n  </tbody>\n</table>\n</div>"
     },
     "execution_count": 187,
     "metadata": {},
     "output_type": "execute_result"
    }
   ],
   "source": [
    "forecast_ts.to_pandas(True)[['timestamp','segment','target']]"
   ],
   "metadata": {
    "collapsed": false,
    "ExecuteTime": {
     "end_time": "2023-12-03T14:32:31.532277Z",
     "start_time": "2023-12-03T14:32:31.495599Z"
    }
   },
   "id": "b22695e9415d9270"
  },
  {
   "cell_type": "code",
   "execution_count": 188,
   "outputs": [
    {
     "data": {
      "text/plain": "segment                                                                                                                                              CBOM  \\\nfeature             MeanTransform(in_column = 'target_lag_14', window = 12, seasonality = 7, alpha = 1, min_periods = 1, fillna = 0, out_column = None, )   \ntimestamp                                                                                                                                                   \n2022-01-12 07:29:00                                           0.834304                                                                                      \n2022-01-12 07:30:00                                           0.694693                                                                                      \n2022-01-12 07:31:00                                           0.231665                                                                                      \n2022-01-12 07:32:00                                           0.890805                                                                                      \n2022-01-12 07:33:00                                           1.107527                                                                                      \n\nsegment                                                                                                                                                   \\\nfeature             MeanTransform(in_column = 'target_lag_14', window = 7, seasonality = 1, alpha = 1, min_periods = 1, fillna = 0, out_column = None, )   \ntimestamp                                                                                                                                                  \n2022-01-12 07:29:00                                           1.260501                                                                                     \n2022-01-12 07:30:00                                           1.117723                                                                                     \n2022-01-12 07:31:00                                           1.151374                                                                                     \n2022-01-12 07:32:00                                           0.897454                                                                                     \n2022-01-12 07:33:00                                           0.793962                                                                                     \n\nsegment                                            \\\nfeature             date_flag_day_number_in_month   \ntimestamp                                           \n2022-01-12 07:29:00                            12   \n2022-01-12 07:30:00                            12   \n2022-01-12 07:31:00                            12   \n2022-01-12 07:32:00                            12   \n2022-01-12 07:33:00                            12   \n\nsegment                                                                \\\nfeature             date_flag_day_number_in_week date_flag_is_weekend   \ntimestamp                                                               \n2022-01-12 07:29:00                            2                False   \n2022-01-12 07:30:00                            2                False   \n2022-01-12 07:31:00                            2                False   \n2022-01-12 07:32:00                            2                False   \n2022-01-12 07:33:00                            2                False   \n\nsegment                                                                  \\\nfeature             date_flag_week_number_in_month fourier_1 fourier_10   \ntimestamp                                                                 \n2022-01-12 07:29:00                              3 -0.260749  -0.249154   \n2022-01-12 07:30:00                              3 -0.277546  -0.163859   \n2022-01-12 07:31:00                              3 -0.294259  -0.077318   \n2022-01-12 07:32:00                              3 -0.310882   0.009811   \n2022-01-12 07:33:00                              3 -0.327411   0.096864   \n\nsegment                                    ...                              \\\nfeature             fourier_11 fourier_12  ... target_lag_91 target_lag_92   \ntimestamp                                  ...                               \n2022-01-12 07:29:00   0.999928  -0.011991  ...      0.113320      4.282097   \n2022-01-12 07:30:00   0.993206  -0.116374  ...      0.865542      0.113320   \n2022-01-12 07:31:00   0.975616  -0.219483  ...      0.450765      0.865542   \n2022-01-12 07:32:00   0.947353  -0.320192  ...      0.116988      0.450765   \n2022-01-12 07:33:00   0.908724  -0.417397  ...      1.375210      0.116988   \n\nsegment                                                                      \\\nfeature             target_lag_93 target_lag_94 target_lag_95 target_lag_96   \ntimestamp                                                                     \n2022-01-12 07:29:00      0.123875      2.621652      0.781430      0.369207   \n2022-01-12 07:30:00      4.282097      0.123875      2.621652      0.781430   \n2022-01-12 07:31:00      0.113320      4.282097      0.123875      2.621652   \n2022-01-12 07:32:00      0.865542      0.113320      4.282097      0.123875   \n2022-01-12 07:33:00      0.450765      0.865542      0.113320      4.282097   \n\nsegment                                                                  \nfeature             target_lag_97 target_lag_98 target_lag_99     trend  \ntimestamp                                                                \n2022-01-12 07:29:00      0.123985      0.454762      0.658540  0.119409  \n2022-01-12 07:30:00      0.369207      0.123985      0.454762  0.119418  \n2022-01-12 07:31:00      0.781430      0.369207      0.123985  0.119426  \n2022-01-12 07:32:00      2.621652      0.781430      0.369207  0.119435  \n2022-01-12 07:33:00      0.123875      2.621652      0.781430  0.119443  \n\n[5 rows x 129 columns]",
      "text/html": "<div>\n<style scoped>\n    .dataframe tbody tr th:only-of-type {\n        vertical-align: middle;\n    }\n\n    .dataframe tbody tr th {\n        vertical-align: top;\n    }\n\n    .dataframe thead tr th {\n        text-align: left;\n    }\n\n    .dataframe thead tr:last-of-type th {\n        text-align: right;\n    }\n</style>\n<table border=\"1\" class=\"dataframe\">\n  <thead>\n    <tr>\n      <th>segment</th>\n      <th colspan=\"21\" halign=\"left\">CBOM</th>\n    </tr>\n    <tr>\n      <th>feature</th>\n      <th>MeanTransform(in_column = 'target_lag_14', window = 12, seasonality = 7, alpha = 1, min_periods = 1, fillna = 0, out_column = None, )</th>\n      <th>MeanTransform(in_column = 'target_lag_14', window = 7, seasonality = 1, alpha = 1, min_periods = 1, fillna = 0, out_column = None, )</th>\n      <th>date_flag_day_number_in_month</th>\n      <th>date_flag_day_number_in_week</th>\n      <th>date_flag_is_weekend</th>\n      <th>date_flag_week_number_in_month</th>\n      <th>fourier_1</th>\n      <th>fourier_10</th>\n      <th>fourier_11</th>\n      <th>fourier_12</th>\n      <th>...</th>\n      <th>target_lag_91</th>\n      <th>target_lag_92</th>\n      <th>target_lag_93</th>\n      <th>target_lag_94</th>\n      <th>target_lag_95</th>\n      <th>target_lag_96</th>\n      <th>target_lag_97</th>\n      <th>target_lag_98</th>\n      <th>target_lag_99</th>\n      <th>trend</th>\n    </tr>\n    <tr>\n      <th>timestamp</th>\n      <th></th>\n      <th></th>\n      <th></th>\n      <th></th>\n      <th></th>\n      <th></th>\n      <th></th>\n      <th></th>\n      <th></th>\n      <th></th>\n      <th></th>\n      <th></th>\n      <th></th>\n      <th></th>\n      <th></th>\n      <th></th>\n      <th></th>\n      <th></th>\n      <th></th>\n      <th></th>\n      <th></th>\n    </tr>\n  </thead>\n  <tbody>\n    <tr>\n      <th>2022-01-12 07:29:00</th>\n      <td>0.834304</td>\n      <td>1.260501</td>\n      <td>12</td>\n      <td>2</td>\n      <td>False</td>\n      <td>3</td>\n      <td>-0.260749</td>\n      <td>-0.249154</td>\n      <td>0.999928</td>\n      <td>-0.011991</td>\n      <td>...</td>\n      <td>0.113320</td>\n      <td>4.282097</td>\n      <td>0.123875</td>\n      <td>2.621652</td>\n      <td>0.781430</td>\n      <td>0.369207</td>\n      <td>0.123985</td>\n      <td>0.454762</td>\n      <td>0.658540</td>\n      <td>0.119409</td>\n    </tr>\n    <tr>\n      <th>2022-01-12 07:30:00</th>\n      <td>0.694693</td>\n      <td>1.117723</td>\n      <td>12</td>\n      <td>2</td>\n      <td>False</td>\n      <td>3</td>\n      <td>-0.277546</td>\n      <td>-0.163859</td>\n      <td>0.993206</td>\n      <td>-0.116374</td>\n      <td>...</td>\n      <td>0.865542</td>\n      <td>0.113320</td>\n      <td>4.282097</td>\n      <td>0.123875</td>\n      <td>2.621652</td>\n      <td>0.781430</td>\n      <td>0.369207</td>\n      <td>0.123985</td>\n      <td>0.454762</td>\n      <td>0.119418</td>\n    </tr>\n    <tr>\n      <th>2022-01-12 07:31:00</th>\n      <td>0.231665</td>\n      <td>1.151374</td>\n      <td>12</td>\n      <td>2</td>\n      <td>False</td>\n      <td>3</td>\n      <td>-0.294259</td>\n      <td>-0.077318</td>\n      <td>0.975616</td>\n      <td>-0.219483</td>\n      <td>...</td>\n      <td>0.450765</td>\n      <td>0.865542</td>\n      <td>0.113320</td>\n      <td>4.282097</td>\n      <td>0.123875</td>\n      <td>2.621652</td>\n      <td>0.781430</td>\n      <td>0.369207</td>\n      <td>0.123985</td>\n      <td>0.119426</td>\n    </tr>\n    <tr>\n      <th>2022-01-12 07:32:00</th>\n      <td>0.890805</td>\n      <td>0.897454</td>\n      <td>12</td>\n      <td>2</td>\n      <td>False</td>\n      <td>3</td>\n      <td>-0.310882</td>\n      <td>0.009811</td>\n      <td>0.947353</td>\n      <td>-0.320192</td>\n      <td>...</td>\n      <td>0.116988</td>\n      <td>0.450765</td>\n      <td>0.865542</td>\n      <td>0.113320</td>\n      <td>4.282097</td>\n      <td>0.123875</td>\n      <td>2.621652</td>\n      <td>0.781430</td>\n      <td>0.369207</td>\n      <td>0.119435</td>\n    </tr>\n    <tr>\n      <th>2022-01-12 07:33:00</th>\n      <td>1.107527</td>\n      <td>0.793962</td>\n      <td>12</td>\n      <td>2</td>\n      <td>False</td>\n      <td>3</td>\n      <td>-0.327411</td>\n      <td>0.096864</td>\n      <td>0.908724</td>\n      <td>-0.417397</td>\n      <td>...</td>\n      <td>1.375210</td>\n      <td>0.116988</td>\n      <td>0.450765</td>\n      <td>0.865542</td>\n      <td>0.113320</td>\n      <td>4.282097</td>\n      <td>0.123875</td>\n      <td>2.621652</td>\n      <td>0.781430</td>\n      <td>0.119443</td>\n    </tr>\n  </tbody>\n</table>\n<p>5 rows × 129 columns</p>\n</div>"
     },
     "execution_count": 188,
     "metadata": {},
     "output_type": "execute_result"
    }
   ],
   "source": [
    "forecast_ts.head()"
   ],
   "metadata": {
    "collapsed": false,
    "ExecuteTime": {
     "end_time": "2023-12-03T14:33:09.615458Z",
     "start_time": "2023-12-03T14:33:09.586121Z"
    }
   },
   "id": "2800bbf3a960cc01"
  },
  {
   "cell_type": "code",
   "execution_count": 189,
   "outputs": [
    {
     "data": {
      "text/plain": "segment               CBOM\nfeature             target\ntimestamp                 \n2022-01-12 07:29:00  5.177\n2022-01-12 07:30:00  5.057\n2022-01-12 07:31:00  5.842\n2022-01-12 07:32:00  7.044\n2022-01-12 07:33:00  5.523\n2022-01-12 07:34:00  5.023\n2022-01-12 07:35:00  7.566\n2022-01-12 07:36:00  5.705\n2022-01-12 07:37:00  5.054\n2022-01-12 07:38:00  9.399\n2022-01-12 07:39:00  5.461\n2022-01-12 07:40:00  6.080\n2022-01-12 07:41:00  5.060\n2022-01-12 07:42:00  5.087",
      "text/html": "<div>\n<style scoped>\n    .dataframe tbody tr th:only-of-type {\n        vertical-align: middle;\n    }\n\n    .dataframe tbody tr th {\n        vertical-align: top;\n    }\n\n    .dataframe thead tr th {\n        text-align: left;\n    }\n\n    .dataframe thead tr:last-of-type th {\n        text-align: right;\n    }\n</style>\n<table border=\"1\" class=\"dataframe\">\n  <thead>\n    <tr>\n      <th>segment</th>\n      <th>CBOM</th>\n    </tr>\n    <tr>\n      <th>feature</th>\n      <th>target</th>\n    </tr>\n    <tr>\n      <th>timestamp</th>\n      <th></th>\n    </tr>\n  </thead>\n  <tbody>\n    <tr>\n      <th>2022-01-12 07:29:00</th>\n      <td>5.177</td>\n    </tr>\n    <tr>\n      <th>2022-01-12 07:30:00</th>\n      <td>5.057</td>\n    </tr>\n    <tr>\n      <th>2022-01-12 07:31:00</th>\n      <td>5.842</td>\n    </tr>\n    <tr>\n      <th>2022-01-12 07:32:00</th>\n      <td>7.044</td>\n    </tr>\n    <tr>\n      <th>2022-01-12 07:33:00</th>\n      <td>5.523</td>\n    </tr>\n    <tr>\n      <th>2022-01-12 07:34:00</th>\n      <td>5.023</td>\n    </tr>\n    <tr>\n      <th>2022-01-12 07:35:00</th>\n      <td>7.566</td>\n    </tr>\n    <tr>\n      <th>2022-01-12 07:36:00</th>\n      <td>5.705</td>\n    </tr>\n    <tr>\n      <th>2022-01-12 07:37:00</th>\n      <td>5.054</td>\n    </tr>\n    <tr>\n      <th>2022-01-12 07:38:00</th>\n      <td>9.399</td>\n    </tr>\n    <tr>\n      <th>2022-01-12 07:39:00</th>\n      <td>5.461</td>\n    </tr>\n    <tr>\n      <th>2022-01-12 07:40:00</th>\n      <td>6.080</td>\n    </tr>\n    <tr>\n      <th>2022-01-12 07:41:00</th>\n      <td>5.060</td>\n    </tr>\n    <tr>\n      <th>2022-01-12 07:42:00</th>\n      <td>5.087</td>\n    </tr>\n  </tbody>\n</table>\n</div>"
     },
     "execution_count": 189,
     "metadata": {},
     "output_type": "execute_result"
    }
   ],
   "source": [
    "test_ts"
   ],
   "metadata": {
    "collapsed": false,
    "ExecuteTime": {
     "end_time": "2023-12-03T14:33:31.554691Z",
     "start_time": "2023-12-03T14:33:31.544947Z"
    }
   },
   "id": "35047dff51c9daa1"
  },
  {
   "cell_type": "code",
   "execution_count": 39,
   "outputs": [],
   "source": [
    "from moexalgo import Ticker"
   ],
   "metadata": {
    "collapsed": false,
    "ExecuteTime": {
     "end_time": "2023-12-08T23:01:21.024474Z",
     "start_time": "2023-12-08T23:01:20.997796Z"
    }
   },
   "id": "b7620c4c1fcdd437"
  },
  {
   "cell_type": "code",
   "execution_count": 40,
   "outputs": [],
   "source": [
    "from datetime import date\n",
    "\n",
    "DATE_START = date(2023, 10, 1)\n",
    "DATE_END = date(2023, 10, 10)"
   ],
   "metadata": {
    "collapsed": false,
    "ExecuteTime": {
     "end_time": "2023-12-08T23:01:21.147914Z",
     "start_time": "2023-12-08T23:01:21.141905Z"
    }
   },
   "id": "28721d3c4b4ba44a"
  },
  {
   "cell_type": "code",
   "execution_count": 41,
   "outputs": [
    {
     "data": {
      "text/plain": "pandas.core.frame.DataFrame"
     },
     "execution_count": 41,
     "metadata": {},
     "output_type": "execute_result"
    }
   ],
   "source": [
    "tiket = Ticker('APTK')\n",
    "type(tiket.orderstats(date=DATE_START, till_date=DATE_END))\n"
   ],
   "metadata": {
    "collapsed": false,
    "ExecuteTime": {
     "end_time": "2023-12-08T23:01:21.677153Z",
     "start_time": "2023-12-08T23:01:21.331357Z"
    }
   },
   "id": "1ee5496653bfa83e"
  },
  {
   "cell_type": "code",
   "execution_count": 42,
   "outputs": [
    {
     "data": {
      "text/plain": "pandas.core.frame.DataFrame"
     },
     "execution_count": 42,
     "metadata": {},
     "output_type": "execute_result"
    }
   ],
   "source": [
    "type(tiket.tradestats(date=DATE_START, till_date=DATE_END))\n"
   ],
   "metadata": {
    "collapsed": false,
    "ExecuteTime": {
     "end_time": "2023-12-08T23:01:21.882913Z",
     "start_time": "2023-12-08T23:01:21.674910Z"
    }
   },
   "id": "bea04392ef409902"
  },
  {
   "cell_type": "code",
   "execution_count": 43,
   "outputs": [
    {
     "data": {
      "text/plain": "pandas.core.frame.DataFrame"
     },
     "execution_count": 43,
     "metadata": {},
     "output_type": "execute_result"
    }
   ],
   "source": [
    "type(tiket.obstats(date=DATE_START, till_date=DATE_END))"
   ],
   "metadata": {
    "collapsed": false,
    "ExecuteTime": {
     "end_time": "2023-12-08T23:01:22.072335Z",
     "start_time": "2023-12-08T23:01:21.877185Z"
    }
   },
   "id": "5fe394c233d9c704"
  },
  {
   "cell_type": "code",
   "execution_count": 44,
   "outputs": [],
   "source": [
    "tradestats = tiket.tradestats(date=DATE_START, till_date=DATE_END)"
   ],
   "metadata": {
    "collapsed": false,
    "ExecuteTime": {
     "end_time": "2023-12-08T23:01:22.261404Z",
     "start_time": "2023-12-08T23:01:22.072437Z"
    }
   },
   "id": "1b6be3912bda8550"
  },
  {
   "cell_type": "code",
   "execution_count": 45,
   "outputs": [
    {
     "data": {
      "text/plain": "  ticker   tradedate tradetime  spread_bbo  spread_lv10  spread_1mio  \\\n0   APTK  2023-10-02  10:05:00        15.4         88.2         98.7   \n1   APTK  2023-10-02  10:10:00        11.4         87.5         92.4   \n2   APTK  2023-10-02  10:15:00        11.1         71.0         63.9   \n3   APTK  2023-10-02  10:20:00         8.6         59.5         65.1   \n4   APTK  2023-10-02  10:25:00         9.4         51.0         70.6   \n\n   levels_b  levels_s   vol_b   vol_s  ...     val_s  imbalance_vol_bbo  \\\n0       391       453  138776  138650  ...  26396307              -0.30   \n1       456       482  163763  184924  ...  35271487               0.11   \n2       465       506  172572  230514  ...  44179104              -0.16   \n3       466       510  174370  254487  ...  48591585               0.00   \n4       459       526  177836  266399  ...  50660322              -0.14   \n\n   imbalance_val_bbo  imbalance_vol  imbalance_val  vwap_b  vwap_s  \\\n0              -0.30           0.00          -0.08  16.240  19.033   \n1               0.11          -0.06          -0.13  16.357  19.079   \n2              -0.16          -0.14          -0.22  16.386  19.164   \n3               0.00          -0.19          -0.26  16.374  19.094   \n4              -0.14          -0.20          -0.27  16.378  19.018   \n\n   vwap_b_1mio  vwap_s_1mio             systime  \n0       17.124       17.293 2023-10-27 06:34:51  \n1       17.322       17.481 2023-10-27 06:34:52  \n2       17.368       17.479 2023-10-27 06:34:52  \n3       17.305       17.418 2023-10-27 06:34:53  \n4       17.261       17.383 2023-10-27 06:34:53  \n\n[5 rows x 21 columns]",
      "text/html": "<div>\n<style scoped>\n    .dataframe tbody tr th:only-of-type {\n        vertical-align: middle;\n    }\n\n    .dataframe tbody tr th {\n        vertical-align: top;\n    }\n\n    .dataframe thead th {\n        text-align: right;\n    }\n</style>\n<table border=\"1\" class=\"dataframe\">\n  <thead>\n    <tr style=\"text-align: right;\">\n      <th></th>\n      <th>ticker</th>\n      <th>tradedate</th>\n      <th>tradetime</th>\n      <th>spread_bbo</th>\n      <th>spread_lv10</th>\n      <th>spread_1mio</th>\n      <th>levels_b</th>\n      <th>levels_s</th>\n      <th>vol_b</th>\n      <th>vol_s</th>\n      <th>...</th>\n      <th>val_s</th>\n      <th>imbalance_vol_bbo</th>\n      <th>imbalance_val_bbo</th>\n      <th>imbalance_vol</th>\n      <th>imbalance_val</th>\n      <th>vwap_b</th>\n      <th>vwap_s</th>\n      <th>vwap_b_1mio</th>\n      <th>vwap_s_1mio</th>\n      <th>systime</th>\n    </tr>\n  </thead>\n  <tbody>\n    <tr>\n      <th>0</th>\n      <td>APTK</td>\n      <td>2023-10-02</td>\n      <td>10:05:00</td>\n      <td>15.4</td>\n      <td>88.2</td>\n      <td>98.7</td>\n      <td>391</td>\n      <td>453</td>\n      <td>138776</td>\n      <td>138650</td>\n      <td>...</td>\n      <td>26396307</td>\n      <td>-0.30</td>\n      <td>-0.30</td>\n      <td>0.00</td>\n      <td>-0.08</td>\n      <td>16.240</td>\n      <td>19.033</td>\n      <td>17.124</td>\n      <td>17.293</td>\n      <td>2023-10-27 06:34:51</td>\n    </tr>\n    <tr>\n      <th>1</th>\n      <td>APTK</td>\n      <td>2023-10-02</td>\n      <td>10:10:00</td>\n      <td>11.4</td>\n      <td>87.5</td>\n      <td>92.4</td>\n      <td>456</td>\n      <td>482</td>\n      <td>163763</td>\n      <td>184924</td>\n      <td>...</td>\n      <td>35271487</td>\n      <td>0.11</td>\n      <td>0.11</td>\n      <td>-0.06</td>\n      <td>-0.13</td>\n      <td>16.357</td>\n      <td>19.079</td>\n      <td>17.322</td>\n      <td>17.481</td>\n      <td>2023-10-27 06:34:52</td>\n    </tr>\n    <tr>\n      <th>2</th>\n      <td>APTK</td>\n      <td>2023-10-02</td>\n      <td>10:15:00</td>\n      <td>11.1</td>\n      <td>71.0</td>\n      <td>63.9</td>\n      <td>465</td>\n      <td>506</td>\n      <td>172572</td>\n      <td>230514</td>\n      <td>...</td>\n      <td>44179104</td>\n      <td>-0.16</td>\n      <td>-0.16</td>\n      <td>-0.14</td>\n      <td>-0.22</td>\n      <td>16.386</td>\n      <td>19.164</td>\n      <td>17.368</td>\n      <td>17.479</td>\n      <td>2023-10-27 06:34:52</td>\n    </tr>\n    <tr>\n      <th>3</th>\n      <td>APTK</td>\n      <td>2023-10-02</td>\n      <td>10:20:00</td>\n      <td>8.6</td>\n      <td>59.5</td>\n      <td>65.1</td>\n      <td>466</td>\n      <td>510</td>\n      <td>174370</td>\n      <td>254487</td>\n      <td>...</td>\n      <td>48591585</td>\n      <td>0.00</td>\n      <td>0.00</td>\n      <td>-0.19</td>\n      <td>-0.26</td>\n      <td>16.374</td>\n      <td>19.094</td>\n      <td>17.305</td>\n      <td>17.418</td>\n      <td>2023-10-27 06:34:53</td>\n    </tr>\n    <tr>\n      <th>4</th>\n      <td>APTK</td>\n      <td>2023-10-02</td>\n      <td>10:25:00</td>\n      <td>9.4</td>\n      <td>51.0</td>\n      <td>70.6</td>\n      <td>459</td>\n      <td>526</td>\n      <td>177836</td>\n      <td>266399</td>\n      <td>...</td>\n      <td>50660322</td>\n      <td>-0.14</td>\n      <td>-0.14</td>\n      <td>-0.20</td>\n      <td>-0.27</td>\n      <td>16.378</td>\n      <td>19.018</td>\n      <td>17.261</td>\n      <td>17.383</td>\n      <td>2023-10-27 06:34:53</td>\n    </tr>\n  </tbody>\n</table>\n<p>5 rows × 21 columns</p>\n</div>"
     },
     "execution_count": 45,
     "metadata": {},
     "output_type": "execute_result"
    }
   ],
   "source": [
    "tiket.obstats(date=DATE_START, till_date=DATE_END).head()"
   ],
   "metadata": {
    "collapsed": false,
    "ExecuteTime": {
     "end_time": "2023-12-08T23:01:22.466960Z",
     "start_time": "2023-12-08T23:01:22.262600Z"
    }
   },
   "id": "eecfaca8052424b0"
  },
  {
   "cell_type": "code",
   "execution_count": 46,
   "outputs": [],
   "source": [
    "tiket_random = 'APTK'"
   ],
   "metadata": {
    "collapsed": false,
    "ExecuteTime": {
     "end_time": "2023-12-08T23:01:22.470383Z",
     "start_time": "2023-12-08T23:01:22.466458Z"
    }
   },
   "id": "10d3cd856afc92b3"
  },
  {
   "cell_type": "code",
   "execution_count": 47,
   "outputs": [
    {
     "data": {
      "text/plain": "    ticker   tradedate tradetime  pr_open  pr_high  pr_low  pr_close  pr_std  \\\n0     APTK  2023-10-02  10:05:00   17.300   17.360  17.050    17.244  0.0009   \n75    APTK  2023-10-02  16:20:00   17.246   17.262  17.124    17.154  0.0004   \n74    APTK  2023-10-02  16:15:00   17.250   17.298  17.238    17.238  0.0005   \n73    APTK  2023-10-02  16:10:00   17.204   17.300  17.150    17.272  0.0005   \n72    APTK  2023-10-02  16:05:00   17.224   17.226  17.200    17.208  0.0002   \n..     ...         ...       ...      ...      ...     ...       ...     ...   \n652   APTK  2023-10-10  12:25:00   16.482   16.488  16.482    16.486  0.0003   \n651   APTK  2023-10-10  12:20:00   16.506   16.506  16.484    16.488  0.0003   \n649   APTK  2023-10-10  12:10:00   16.492   16.526  16.492    16.518  0.0004   \n674   APTK  2023-10-10  14:15:00   16.440   16.440  16.432    16.436  0.0002   \n727   APTK  2023-10-10  18:40:00   16.420   16.420  16.352    16.352  0.0004   \n\n       vol        val  ...  trades_b  trades_s      val_b      val_s  vol_b  \\\n0    40578  6977600.0  ...       320       232  3747523.0  3230077.0  21744   \n75    7332  1258635.0  ...        68       131   234235.0  1024400.0   1364   \n74    2303   397921.0  ...        46        28   283342.0   114579.0   1639   \n73   30881  5313573.0  ...       118       187  2384857.0  2928716.0  13835   \n72   14204  2443792.0  ...        54       153   357783.0  2086008.0   2079   \n..     ...        ...  ...       ...       ...        ...        ...    ...   \n652    158    26049.0  ...         8         6    23083.0     2966.0    140   \n651   1356   223630.0  ...        14        32    30184.0   193446.0    183   \n649   1826   301489.0  ...        36        21   175097.0   126392.0   1060   \n674   2705   444658.0  ...        16         5   439071.0     5586.0   2671   \n727  12489  2043841.0  ...        26       167    76402.0  1967438.0    466   \n\n     vol_s  disb  pr_vwap_b  pr_vwap_s             systime  \n0    18834  0.07     17.235     17.150 2023-10-26 16:02:26  \n75    5968 -0.63     17.173     17.165 2023-10-26 16:03:09  \n74     664  0.42     17.288     17.256 2023-10-26 16:03:09  \n73   17046 -0.10     17.238     17.181 2023-10-26 16:03:08  \n72   12125 -0.71     17.209     17.204 2023-10-26 16:03:08  \n..     ...   ...        ...        ...                 ...  \n652     18  0.77     16.488     16.482 2023-10-26 15:44:54  \n651   1173 -0.73     16.494     16.492 2023-10-26 15:44:53  \n649    766  0.16     16.519     16.500 2023-10-26 15:44:52  \n674     34  0.97     16.438     16.432 2023-10-26 15:45:07  \n727  12023 -0.93     16.395     16.364 2023-10-26 15:45:39  \n\n[728 rows x 23 columns]",
      "text/html": "<div>\n<style scoped>\n    .dataframe tbody tr th:only-of-type {\n        vertical-align: middle;\n    }\n\n    .dataframe tbody tr th {\n        vertical-align: top;\n    }\n\n    .dataframe thead th {\n        text-align: right;\n    }\n</style>\n<table border=\"1\" class=\"dataframe\">\n  <thead>\n    <tr style=\"text-align: right;\">\n      <th></th>\n      <th>ticker</th>\n      <th>tradedate</th>\n      <th>tradetime</th>\n      <th>pr_open</th>\n      <th>pr_high</th>\n      <th>pr_low</th>\n      <th>pr_close</th>\n      <th>pr_std</th>\n      <th>vol</th>\n      <th>val</th>\n      <th>...</th>\n      <th>trades_b</th>\n      <th>trades_s</th>\n      <th>val_b</th>\n      <th>val_s</th>\n      <th>vol_b</th>\n      <th>vol_s</th>\n      <th>disb</th>\n      <th>pr_vwap_b</th>\n      <th>pr_vwap_s</th>\n      <th>systime</th>\n    </tr>\n  </thead>\n  <tbody>\n    <tr>\n      <th>0</th>\n      <td>APTK</td>\n      <td>2023-10-02</td>\n      <td>10:05:00</td>\n      <td>17.300</td>\n      <td>17.360</td>\n      <td>17.050</td>\n      <td>17.244</td>\n      <td>0.0009</td>\n      <td>40578</td>\n      <td>6977600.0</td>\n      <td>...</td>\n      <td>320</td>\n      <td>232</td>\n      <td>3747523.0</td>\n      <td>3230077.0</td>\n      <td>21744</td>\n      <td>18834</td>\n      <td>0.07</td>\n      <td>17.235</td>\n      <td>17.150</td>\n      <td>2023-10-26 16:02:26</td>\n    </tr>\n    <tr>\n      <th>75</th>\n      <td>APTK</td>\n      <td>2023-10-02</td>\n      <td>16:20:00</td>\n      <td>17.246</td>\n      <td>17.262</td>\n      <td>17.124</td>\n      <td>17.154</td>\n      <td>0.0004</td>\n      <td>7332</td>\n      <td>1258635.0</td>\n      <td>...</td>\n      <td>68</td>\n      <td>131</td>\n      <td>234235.0</td>\n      <td>1024400.0</td>\n      <td>1364</td>\n      <td>5968</td>\n      <td>-0.63</td>\n      <td>17.173</td>\n      <td>17.165</td>\n      <td>2023-10-26 16:03:09</td>\n    </tr>\n    <tr>\n      <th>74</th>\n      <td>APTK</td>\n      <td>2023-10-02</td>\n      <td>16:15:00</td>\n      <td>17.250</td>\n      <td>17.298</td>\n      <td>17.238</td>\n      <td>17.238</td>\n      <td>0.0005</td>\n      <td>2303</td>\n      <td>397921.0</td>\n      <td>...</td>\n      <td>46</td>\n      <td>28</td>\n      <td>283342.0</td>\n      <td>114579.0</td>\n      <td>1639</td>\n      <td>664</td>\n      <td>0.42</td>\n      <td>17.288</td>\n      <td>17.256</td>\n      <td>2023-10-26 16:03:09</td>\n    </tr>\n    <tr>\n      <th>73</th>\n      <td>APTK</td>\n      <td>2023-10-02</td>\n      <td>16:10:00</td>\n      <td>17.204</td>\n      <td>17.300</td>\n      <td>17.150</td>\n      <td>17.272</td>\n      <td>0.0005</td>\n      <td>30881</td>\n      <td>5313573.0</td>\n      <td>...</td>\n      <td>118</td>\n      <td>187</td>\n      <td>2384857.0</td>\n      <td>2928716.0</td>\n      <td>13835</td>\n      <td>17046</td>\n      <td>-0.10</td>\n      <td>17.238</td>\n      <td>17.181</td>\n      <td>2023-10-26 16:03:08</td>\n    </tr>\n    <tr>\n      <th>72</th>\n      <td>APTK</td>\n      <td>2023-10-02</td>\n      <td>16:05:00</td>\n      <td>17.224</td>\n      <td>17.226</td>\n      <td>17.200</td>\n      <td>17.208</td>\n      <td>0.0002</td>\n      <td>14204</td>\n      <td>2443792.0</td>\n      <td>...</td>\n      <td>54</td>\n      <td>153</td>\n      <td>357783.0</td>\n      <td>2086008.0</td>\n      <td>2079</td>\n      <td>12125</td>\n      <td>-0.71</td>\n      <td>17.209</td>\n      <td>17.204</td>\n      <td>2023-10-26 16:03:08</td>\n    </tr>\n    <tr>\n      <th>...</th>\n      <td>...</td>\n      <td>...</td>\n      <td>...</td>\n      <td>...</td>\n      <td>...</td>\n      <td>...</td>\n      <td>...</td>\n      <td>...</td>\n      <td>...</td>\n      <td>...</td>\n      <td>...</td>\n      <td>...</td>\n      <td>...</td>\n      <td>...</td>\n      <td>...</td>\n      <td>...</td>\n      <td>...</td>\n      <td>...</td>\n      <td>...</td>\n      <td>...</td>\n      <td>...</td>\n    </tr>\n    <tr>\n      <th>652</th>\n      <td>APTK</td>\n      <td>2023-10-10</td>\n      <td>12:25:00</td>\n      <td>16.482</td>\n      <td>16.488</td>\n      <td>16.482</td>\n      <td>16.486</td>\n      <td>0.0003</td>\n      <td>158</td>\n      <td>26049.0</td>\n      <td>...</td>\n      <td>8</td>\n      <td>6</td>\n      <td>23083.0</td>\n      <td>2966.0</td>\n      <td>140</td>\n      <td>18</td>\n      <td>0.77</td>\n      <td>16.488</td>\n      <td>16.482</td>\n      <td>2023-10-26 15:44:54</td>\n    </tr>\n    <tr>\n      <th>651</th>\n      <td>APTK</td>\n      <td>2023-10-10</td>\n      <td>12:20:00</td>\n      <td>16.506</td>\n      <td>16.506</td>\n      <td>16.484</td>\n      <td>16.488</td>\n      <td>0.0003</td>\n      <td>1356</td>\n      <td>223630.0</td>\n      <td>...</td>\n      <td>14</td>\n      <td>32</td>\n      <td>30184.0</td>\n      <td>193446.0</td>\n      <td>183</td>\n      <td>1173</td>\n      <td>-0.73</td>\n      <td>16.494</td>\n      <td>16.492</td>\n      <td>2023-10-26 15:44:53</td>\n    </tr>\n    <tr>\n      <th>649</th>\n      <td>APTK</td>\n      <td>2023-10-10</td>\n      <td>12:10:00</td>\n      <td>16.492</td>\n      <td>16.526</td>\n      <td>16.492</td>\n      <td>16.518</td>\n      <td>0.0004</td>\n      <td>1826</td>\n      <td>301489.0</td>\n      <td>...</td>\n      <td>36</td>\n      <td>21</td>\n      <td>175097.0</td>\n      <td>126392.0</td>\n      <td>1060</td>\n      <td>766</td>\n      <td>0.16</td>\n      <td>16.519</td>\n      <td>16.500</td>\n      <td>2023-10-26 15:44:52</td>\n    </tr>\n    <tr>\n      <th>674</th>\n      <td>APTK</td>\n      <td>2023-10-10</td>\n      <td>14:15:00</td>\n      <td>16.440</td>\n      <td>16.440</td>\n      <td>16.432</td>\n      <td>16.436</td>\n      <td>0.0002</td>\n      <td>2705</td>\n      <td>444658.0</td>\n      <td>...</td>\n      <td>16</td>\n      <td>5</td>\n      <td>439071.0</td>\n      <td>5586.0</td>\n      <td>2671</td>\n      <td>34</td>\n      <td>0.97</td>\n      <td>16.438</td>\n      <td>16.432</td>\n      <td>2023-10-26 15:45:07</td>\n    </tr>\n    <tr>\n      <th>727</th>\n      <td>APTK</td>\n      <td>2023-10-10</td>\n      <td>18:40:00</td>\n      <td>16.420</td>\n      <td>16.420</td>\n      <td>16.352</td>\n      <td>16.352</td>\n      <td>0.0004</td>\n      <td>12489</td>\n      <td>2043841.0</td>\n      <td>...</td>\n      <td>26</td>\n      <td>167</td>\n      <td>76402.0</td>\n      <td>1967438.0</td>\n      <td>466</td>\n      <td>12023</td>\n      <td>-0.93</td>\n      <td>16.395</td>\n      <td>16.364</td>\n      <td>2023-10-26 15:45:39</td>\n    </tr>\n  </tbody>\n</table>\n<p>728 rows × 23 columns</p>\n</div>"
     },
     "execution_count": 47,
     "metadata": {},
     "output_type": "execute_result"
    }
   ],
   "source": [
    "tradestats[tradestats['ticker'] == tiket_random].sort_values(by='tradedate', ascending=True)"
   ],
   "metadata": {
    "collapsed": false,
    "ExecuteTime": {
     "end_time": "2023-12-08T23:01:22.659752Z",
     "start_time": "2023-12-08T23:01:22.617282Z"
    }
   },
   "id": "9aaba22c23c83a5b"
  },
  {
   "cell_type": "code",
   "execution_count": 48,
   "outputs": [],
   "source": [
    "import pandas as pd"
   ],
   "metadata": {
    "collapsed": false,
    "ExecuteTime": {
     "end_time": "2023-12-08T23:01:22.818518Z",
     "start_time": "2023-12-08T23:01:22.792960Z"
    }
   },
   "id": "d2e6bf62f6841e14"
  },
  {
   "cell_type": "code",
   "execution_count": 49,
   "outputs": [],
   "source": [
    "tradestats.loc[:, 'trade_datetime'] = pd.to_datetime(\n",
    "        tradestats.tradedate.astype(str) + ' ' + tradestats.tradetime.astype(str))"
   ],
   "metadata": {
    "collapsed": false,
    "ExecuteTime": {
     "end_time": "2023-12-08T23:01:23.007482Z",
     "start_time": "2023-12-08T23:01:23.001783Z"
    }
   },
   "id": "20ff475821af942"
  },
  {
   "cell_type": "code",
   "execution_count": 50,
   "outputs": [
    {
     "data": {
      "text/plain": "  ticker   tradedate tradetime  pr_open  pr_high  pr_low  pr_close  pr_std  \\\n0   APTK  2023-10-02  10:05:00   17.300   17.360  17.050    17.244  0.0009   \n1   APTK  2023-10-02  10:10:00   17.242   17.500  17.212    17.430  0.0010   \n2   APTK  2023-10-02  10:15:00   17.438   17.510  17.348    17.452  0.0006   \n3   APTK  2023-10-02  10:20:00   17.414   17.422  17.310    17.328  0.0006   \n4   APTK  2023-10-02  10:25:00   17.334   17.398  17.224    17.238  0.0006   \n\n     vol         val  ...  trades_s      val_b      val_s  vol_b  vol_s  disb  \\\n0  40578   6977600.0  ...       232  3747523.0  3230077.0  21744  18834  0.07   \n1  79832  13895264.0  ...       366  7686937.0  6208326.0  44134  35698  0.11   \n2  39395   6870495.0  ...       212  3580563.0  3289932.0  20512  18883  0.04   \n3  17690   3073306.0  ...       198   841396.0  2231909.0   4839  12851 -0.45   \n4  11988   2074221.0  ...       177   596777.0  1477444.0   3444   8544 -0.43   \n\n   pr_vwap_b  pr_vwap_s             systime      trade_datetime  \n0     17.235     17.150 2023-10-26 16:02:26 2023-10-02 10:05:00  \n1     17.417     17.391 2023-10-26 16:02:26 2023-10-02 10:10:00  \n2     17.456     17.423 2023-10-26 16:02:27 2023-10-02 10:15:00  \n3     17.388     17.368 2023-10-26 16:02:27 2023-10-02 10:20:00  \n4     17.328     17.292 2023-10-26 16:02:28 2023-10-02 10:25:00  \n\n[5 rows x 24 columns]",
      "text/html": "<div>\n<style scoped>\n    .dataframe tbody tr th:only-of-type {\n        vertical-align: middle;\n    }\n\n    .dataframe tbody tr th {\n        vertical-align: top;\n    }\n\n    .dataframe thead th {\n        text-align: right;\n    }\n</style>\n<table border=\"1\" class=\"dataframe\">\n  <thead>\n    <tr style=\"text-align: right;\">\n      <th></th>\n      <th>ticker</th>\n      <th>tradedate</th>\n      <th>tradetime</th>\n      <th>pr_open</th>\n      <th>pr_high</th>\n      <th>pr_low</th>\n      <th>pr_close</th>\n      <th>pr_std</th>\n      <th>vol</th>\n      <th>val</th>\n      <th>...</th>\n      <th>trades_s</th>\n      <th>val_b</th>\n      <th>val_s</th>\n      <th>vol_b</th>\n      <th>vol_s</th>\n      <th>disb</th>\n      <th>pr_vwap_b</th>\n      <th>pr_vwap_s</th>\n      <th>systime</th>\n      <th>trade_datetime</th>\n    </tr>\n  </thead>\n  <tbody>\n    <tr>\n      <th>0</th>\n      <td>APTK</td>\n      <td>2023-10-02</td>\n      <td>10:05:00</td>\n      <td>17.300</td>\n      <td>17.360</td>\n      <td>17.050</td>\n      <td>17.244</td>\n      <td>0.0009</td>\n      <td>40578</td>\n      <td>6977600.0</td>\n      <td>...</td>\n      <td>232</td>\n      <td>3747523.0</td>\n      <td>3230077.0</td>\n      <td>21744</td>\n      <td>18834</td>\n      <td>0.07</td>\n      <td>17.235</td>\n      <td>17.150</td>\n      <td>2023-10-26 16:02:26</td>\n      <td>2023-10-02 10:05:00</td>\n    </tr>\n    <tr>\n      <th>1</th>\n      <td>APTK</td>\n      <td>2023-10-02</td>\n      <td>10:10:00</td>\n      <td>17.242</td>\n      <td>17.500</td>\n      <td>17.212</td>\n      <td>17.430</td>\n      <td>0.0010</td>\n      <td>79832</td>\n      <td>13895264.0</td>\n      <td>...</td>\n      <td>366</td>\n      <td>7686937.0</td>\n      <td>6208326.0</td>\n      <td>44134</td>\n      <td>35698</td>\n      <td>0.11</td>\n      <td>17.417</td>\n      <td>17.391</td>\n      <td>2023-10-26 16:02:26</td>\n      <td>2023-10-02 10:10:00</td>\n    </tr>\n    <tr>\n      <th>2</th>\n      <td>APTK</td>\n      <td>2023-10-02</td>\n      <td>10:15:00</td>\n      <td>17.438</td>\n      <td>17.510</td>\n      <td>17.348</td>\n      <td>17.452</td>\n      <td>0.0006</td>\n      <td>39395</td>\n      <td>6870495.0</td>\n      <td>...</td>\n      <td>212</td>\n      <td>3580563.0</td>\n      <td>3289932.0</td>\n      <td>20512</td>\n      <td>18883</td>\n      <td>0.04</td>\n      <td>17.456</td>\n      <td>17.423</td>\n      <td>2023-10-26 16:02:27</td>\n      <td>2023-10-02 10:15:00</td>\n    </tr>\n    <tr>\n      <th>3</th>\n      <td>APTK</td>\n      <td>2023-10-02</td>\n      <td>10:20:00</td>\n      <td>17.414</td>\n      <td>17.422</td>\n      <td>17.310</td>\n      <td>17.328</td>\n      <td>0.0006</td>\n      <td>17690</td>\n      <td>3073306.0</td>\n      <td>...</td>\n      <td>198</td>\n      <td>841396.0</td>\n      <td>2231909.0</td>\n      <td>4839</td>\n      <td>12851</td>\n      <td>-0.45</td>\n      <td>17.388</td>\n      <td>17.368</td>\n      <td>2023-10-26 16:02:27</td>\n      <td>2023-10-02 10:20:00</td>\n    </tr>\n    <tr>\n      <th>4</th>\n      <td>APTK</td>\n      <td>2023-10-02</td>\n      <td>10:25:00</td>\n      <td>17.334</td>\n      <td>17.398</td>\n      <td>17.224</td>\n      <td>17.238</td>\n      <td>0.0006</td>\n      <td>11988</td>\n      <td>2074221.0</td>\n      <td>...</td>\n      <td>177</td>\n      <td>596777.0</td>\n      <td>1477444.0</td>\n      <td>3444</td>\n      <td>8544</td>\n      <td>-0.43</td>\n      <td>17.328</td>\n      <td>17.292</td>\n      <td>2023-10-26 16:02:28</td>\n      <td>2023-10-02 10:25:00</td>\n    </tr>\n  </tbody>\n</table>\n<p>5 rows × 24 columns</p>\n</div>"
     },
     "execution_count": 50,
     "metadata": {},
     "output_type": "execute_result"
    }
   ],
   "source": [
    "tradestats.head()"
   ],
   "metadata": {
    "collapsed": false,
    "ExecuteTime": {
     "end_time": "2023-12-08T23:01:23.238656Z",
     "start_time": "2023-12-08T23:01:23.230472Z"
    }
   },
   "id": "cbd895a62c75e69b"
  },
  {
   "cell_type": "code",
   "execution_count": 51,
   "outputs": [
    {
     "data": {
      "text/plain": "0      2023-10-02 10:05:00\n1      2023-10-02 10:10:00\n2      2023-10-02 10:15:00\n3      2023-10-02 10:20:00\n4      2023-10-02 10:25:00\n              ...         \n723    2023-10-10 18:20:00\n724    2023-10-10 18:25:00\n725    2023-10-10 18:30:00\n726    2023-10-10 18:35:00\n727    2023-10-10 18:40:00\nLength: 728, dtype: object"
     },
     "execution_count": 51,
     "metadata": {},
     "output_type": "execute_result"
    }
   ],
   "source": [
    "tradestats.tradedate.astype(str) + ' ' + tradestats.tradetime.astype(str)"
   ],
   "metadata": {
    "collapsed": false,
    "ExecuteTime": {
     "end_time": "2023-12-08T23:01:23.443833Z",
     "start_time": "2023-12-08T23:01:23.437641Z"
    }
   },
   "id": "1fcef67bf9c129ee"
  },
  {
   "cell_type": "code",
   "execution_count": 52,
   "outputs": [],
   "source": [
    "tradestats['trade_datetime'] = pd.to_datetime(tradestats.tradedate.astype(str) + ' ' + tradestats.tradetime.astype(str))"
   ],
   "metadata": {
    "collapsed": false,
    "ExecuteTime": {
     "end_time": "2023-12-08T23:01:23.654533Z",
     "start_time": "2023-12-08T23:01:23.649867Z"
    }
   },
   "id": "88b1ee963346c660"
  },
  {
   "cell_type": "code",
   "execution_count": 53,
   "outputs": [
    {
     "data": {
      "text/plain": "  ticker   tradedate tradetime  pr_open  pr_high  pr_low  pr_close  pr_std  \\\n0   APTK  2023-10-02  10:05:00   17.300   17.360  17.050    17.244  0.0009   \n1   APTK  2023-10-02  10:10:00   17.242   17.500  17.212    17.430  0.0010   \n2   APTK  2023-10-02  10:15:00   17.438   17.510  17.348    17.452  0.0006   \n3   APTK  2023-10-02  10:20:00   17.414   17.422  17.310    17.328  0.0006   \n4   APTK  2023-10-02  10:25:00   17.334   17.398  17.224    17.238  0.0006   \n\n     vol         val  ...  trades_s      val_b      val_s  vol_b  vol_s  disb  \\\n0  40578   6977600.0  ...       232  3747523.0  3230077.0  21744  18834  0.07   \n1  79832  13895264.0  ...       366  7686937.0  6208326.0  44134  35698  0.11   \n2  39395   6870495.0  ...       212  3580563.0  3289932.0  20512  18883  0.04   \n3  17690   3073306.0  ...       198   841396.0  2231909.0   4839  12851 -0.45   \n4  11988   2074221.0  ...       177   596777.0  1477444.0   3444   8544 -0.43   \n\n   pr_vwap_b  pr_vwap_s             systime      trade_datetime  \n0     17.235     17.150 2023-10-26 16:02:26 2023-10-02 10:05:00  \n1     17.417     17.391 2023-10-26 16:02:26 2023-10-02 10:10:00  \n2     17.456     17.423 2023-10-26 16:02:27 2023-10-02 10:15:00  \n3     17.388     17.368 2023-10-26 16:02:27 2023-10-02 10:20:00  \n4     17.328     17.292 2023-10-26 16:02:28 2023-10-02 10:25:00  \n\n[5 rows x 24 columns]",
      "text/html": "<div>\n<style scoped>\n    .dataframe tbody tr th:only-of-type {\n        vertical-align: middle;\n    }\n\n    .dataframe tbody tr th {\n        vertical-align: top;\n    }\n\n    .dataframe thead th {\n        text-align: right;\n    }\n</style>\n<table border=\"1\" class=\"dataframe\">\n  <thead>\n    <tr style=\"text-align: right;\">\n      <th></th>\n      <th>ticker</th>\n      <th>tradedate</th>\n      <th>tradetime</th>\n      <th>pr_open</th>\n      <th>pr_high</th>\n      <th>pr_low</th>\n      <th>pr_close</th>\n      <th>pr_std</th>\n      <th>vol</th>\n      <th>val</th>\n      <th>...</th>\n      <th>trades_s</th>\n      <th>val_b</th>\n      <th>val_s</th>\n      <th>vol_b</th>\n      <th>vol_s</th>\n      <th>disb</th>\n      <th>pr_vwap_b</th>\n      <th>pr_vwap_s</th>\n      <th>systime</th>\n      <th>trade_datetime</th>\n    </tr>\n  </thead>\n  <tbody>\n    <tr>\n      <th>0</th>\n      <td>APTK</td>\n      <td>2023-10-02</td>\n      <td>10:05:00</td>\n      <td>17.300</td>\n      <td>17.360</td>\n      <td>17.050</td>\n      <td>17.244</td>\n      <td>0.0009</td>\n      <td>40578</td>\n      <td>6977600.0</td>\n      <td>...</td>\n      <td>232</td>\n      <td>3747523.0</td>\n      <td>3230077.0</td>\n      <td>21744</td>\n      <td>18834</td>\n      <td>0.07</td>\n      <td>17.235</td>\n      <td>17.150</td>\n      <td>2023-10-26 16:02:26</td>\n      <td>2023-10-02 10:05:00</td>\n    </tr>\n    <tr>\n      <th>1</th>\n      <td>APTK</td>\n      <td>2023-10-02</td>\n      <td>10:10:00</td>\n      <td>17.242</td>\n      <td>17.500</td>\n      <td>17.212</td>\n      <td>17.430</td>\n      <td>0.0010</td>\n      <td>79832</td>\n      <td>13895264.0</td>\n      <td>...</td>\n      <td>366</td>\n      <td>7686937.0</td>\n      <td>6208326.0</td>\n      <td>44134</td>\n      <td>35698</td>\n      <td>0.11</td>\n      <td>17.417</td>\n      <td>17.391</td>\n      <td>2023-10-26 16:02:26</td>\n      <td>2023-10-02 10:10:00</td>\n    </tr>\n    <tr>\n      <th>2</th>\n      <td>APTK</td>\n      <td>2023-10-02</td>\n      <td>10:15:00</td>\n      <td>17.438</td>\n      <td>17.510</td>\n      <td>17.348</td>\n      <td>17.452</td>\n      <td>0.0006</td>\n      <td>39395</td>\n      <td>6870495.0</td>\n      <td>...</td>\n      <td>212</td>\n      <td>3580563.0</td>\n      <td>3289932.0</td>\n      <td>20512</td>\n      <td>18883</td>\n      <td>0.04</td>\n      <td>17.456</td>\n      <td>17.423</td>\n      <td>2023-10-26 16:02:27</td>\n      <td>2023-10-02 10:15:00</td>\n    </tr>\n    <tr>\n      <th>3</th>\n      <td>APTK</td>\n      <td>2023-10-02</td>\n      <td>10:20:00</td>\n      <td>17.414</td>\n      <td>17.422</td>\n      <td>17.310</td>\n      <td>17.328</td>\n      <td>0.0006</td>\n      <td>17690</td>\n      <td>3073306.0</td>\n      <td>...</td>\n      <td>198</td>\n      <td>841396.0</td>\n      <td>2231909.0</td>\n      <td>4839</td>\n      <td>12851</td>\n      <td>-0.45</td>\n      <td>17.388</td>\n      <td>17.368</td>\n      <td>2023-10-26 16:02:27</td>\n      <td>2023-10-02 10:20:00</td>\n    </tr>\n    <tr>\n      <th>4</th>\n      <td>APTK</td>\n      <td>2023-10-02</td>\n      <td>10:25:00</td>\n      <td>17.334</td>\n      <td>17.398</td>\n      <td>17.224</td>\n      <td>17.238</td>\n      <td>0.0006</td>\n      <td>11988</td>\n      <td>2074221.0</td>\n      <td>...</td>\n      <td>177</td>\n      <td>596777.0</td>\n      <td>1477444.0</td>\n      <td>3444</td>\n      <td>8544</td>\n      <td>-0.43</td>\n      <td>17.328</td>\n      <td>17.292</td>\n      <td>2023-10-26 16:02:28</td>\n      <td>2023-10-02 10:25:00</td>\n    </tr>\n  </tbody>\n</table>\n<p>5 rows × 24 columns</p>\n</div>"
     },
     "execution_count": 53,
     "metadata": {},
     "output_type": "execute_result"
    }
   ],
   "source": [
    "tradestats.head()"
   ],
   "metadata": {
    "collapsed": false,
    "ExecuteTime": {
     "end_time": "2023-12-08T23:01:23.928898Z",
     "start_time": "2023-12-08T23:01:23.914726Z"
    }
   },
   "id": "955a2a8529afa22a"
  },
  {
   "cell_type": "code",
   "execution_count": 54,
   "outputs": [],
   "source": [
    "from moexalgo import Ticker"
   ],
   "metadata": {
    "collapsed": false,
    "ExecuteTime": {
     "end_time": "2023-12-08T23:01:24.634349Z",
     "start_time": "2023-12-08T23:01:24.631627Z"
    }
   },
   "id": "a9cf919944660a31"
  },
  {
   "cell_type": "code",
   "execution_count": 55,
   "outputs": [],
   "source": [
    "tiket = Ticker('APTK') #tiket_random = 'APTK'"
   ],
   "metadata": {
    "collapsed": false,
    "ExecuteTime": {
     "end_time": "2023-12-08T23:01:25.492255Z",
     "start_time": "2023-12-08T23:01:25.483473Z"
    }
   },
   "id": "405276b952d2c72d"
  },
  {
   "cell_type": "code",
   "execution_count": 56,
   "outputs": [
    {
     "ename": "TypeError",
     "evalue": "type() takes 1 or 3 arguments",
     "output_type": "error",
     "traceback": [
      "\u001B[0;31m---------------------------------------------------------------------------\u001B[0m",
      "\u001B[0;31mTypeError\u001B[0m                                 Traceback (most recent call last)",
      "Cell \u001B[0;32mIn[56], line 1\u001B[0m\n\u001B[0;32m----> 1\u001B[0m \u001B[38;5;28;43mtype\u001B[39;49m\u001B[43m(\u001B[49m\u001B[43m)\u001B[49m\n",
      "\u001B[0;31mTypeError\u001B[0m: type() takes 1 or 3 arguments"
     ]
    }
   ],
   "source": [
    "type()"
   ],
   "metadata": {
    "collapsed": false,
    "ExecuteTime": {
     "end_time": "2023-12-08T23:01:25.917810Z",
     "start_time": "2023-12-08T23:01:25.909906Z"
    }
   },
   "id": "ab501af255475abd"
  },
  {
   "cell_type": "code",
   "execution_count": 57,
   "outputs": [
    {
     "name": "stdout",
     "output_type": "stream",
     "text": [
      "Python 3.10.13\r\n"
     ]
    }
   ],
   "source": [
    "!python --version "
   ],
   "metadata": {
    "collapsed": false,
    "ExecuteTime": {
     "end_time": "2023-12-08T23:01:26.483018Z",
     "start_time": "2023-12-08T23:01:26.337874Z"
    }
   },
   "id": "b91cf7b6228721e"
  },
  {
   "cell_type": "code",
   "execution_count": 58,
   "outputs": [
    {
     "ename": "ParserError",
     "evalue": "Error tokenizing data. C error: Calling read(nbytes) on source failed. Try engine='python'.",
     "output_type": "error",
     "traceback": [
      "\u001B[0;31m---------------------------------------------------------------------------\u001B[0m",
      "\u001B[0;31mParserError\u001B[0m                               Traceback (most recent call last)",
      "Cell \u001B[0;32mIn[58], line 1\u001B[0m\n\u001B[0;32m----> 1\u001B[0m df \u001B[38;5;241m=\u001B[39m \u001B[43mpd\u001B[49m\u001B[38;5;241;43m.\u001B[39;49m\u001B[43mread_csv\u001B[49m\u001B[43m(\u001B[49m\u001B[38;5;124;43m'\u001B[39;49m\u001B[38;5;124;43mdata/obstats_2020.csv\u001B[39;49m\u001B[38;5;124;43m'\u001B[39;49m\u001B[43m,\u001B[49m\u001B[43m \u001B[49m\u001B[43msep\u001B[49m\u001B[38;5;241;43m=\u001B[39;49m\u001B[38;5;124;43m'\u001B[39;49m\u001B[38;5;124;43m;\u001B[39;49m\u001B[38;5;124;43m'\u001B[39;49m\u001B[43m)\u001B[49m\n\u001B[1;32m      2\u001B[0m df\u001B[38;5;241m.\u001B[39mhead()\n",
      "File \u001B[0;32m~/anaconda3/envs/Go_Algo_3_10/lib/python3.10/site-packages/pandas/util/_decorators.py:211\u001B[0m, in \u001B[0;36mdeprecate_kwarg.<locals>._deprecate_kwarg.<locals>.wrapper\u001B[0;34m(*args, **kwargs)\u001B[0m\n\u001B[1;32m    209\u001B[0m     \u001B[38;5;28;01melse\u001B[39;00m:\n\u001B[1;32m    210\u001B[0m         kwargs[new_arg_name] \u001B[38;5;241m=\u001B[39m new_arg_value\n\u001B[0;32m--> 211\u001B[0m \u001B[38;5;28;01mreturn\u001B[39;00m \u001B[43mfunc\u001B[49m\u001B[43m(\u001B[49m\u001B[38;5;241;43m*\u001B[39;49m\u001B[43margs\u001B[49m\u001B[43m,\u001B[49m\u001B[43m \u001B[49m\u001B[38;5;241;43m*\u001B[39;49m\u001B[38;5;241;43m*\u001B[39;49m\u001B[43mkwargs\u001B[49m\u001B[43m)\u001B[49m\n",
      "File \u001B[0;32m~/anaconda3/envs/Go_Algo_3_10/lib/python3.10/site-packages/pandas/util/_decorators.py:331\u001B[0m, in \u001B[0;36mdeprecate_nonkeyword_arguments.<locals>.decorate.<locals>.wrapper\u001B[0;34m(*args, **kwargs)\u001B[0m\n\u001B[1;32m    325\u001B[0m \u001B[38;5;28;01mif\u001B[39;00m \u001B[38;5;28mlen\u001B[39m(args) \u001B[38;5;241m>\u001B[39m num_allow_args:\n\u001B[1;32m    326\u001B[0m     warnings\u001B[38;5;241m.\u001B[39mwarn(\n\u001B[1;32m    327\u001B[0m         msg\u001B[38;5;241m.\u001B[39mformat(arguments\u001B[38;5;241m=\u001B[39m_format_argument_list(allow_args)),\n\u001B[1;32m    328\u001B[0m         \u001B[38;5;167;01mFutureWarning\u001B[39;00m,\n\u001B[1;32m    329\u001B[0m         stacklevel\u001B[38;5;241m=\u001B[39mfind_stack_level(),\n\u001B[1;32m    330\u001B[0m     )\n\u001B[0;32m--> 331\u001B[0m \u001B[38;5;28;01mreturn\u001B[39;00m \u001B[43mfunc\u001B[49m\u001B[43m(\u001B[49m\u001B[38;5;241;43m*\u001B[39;49m\u001B[43margs\u001B[49m\u001B[43m,\u001B[49m\u001B[43m \u001B[49m\u001B[38;5;241;43m*\u001B[39;49m\u001B[38;5;241;43m*\u001B[39;49m\u001B[43mkwargs\u001B[49m\u001B[43m)\u001B[49m\n",
      "File \u001B[0;32m~/anaconda3/envs/Go_Algo_3_10/lib/python3.10/site-packages/pandas/io/parsers/readers.py:950\u001B[0m, in \u001B[0;36mread_csv\u001B[0;34m(filepath_or_buffer, sep, delimiter, header, names, index_col, usecols, squeeze, prefix, mangle_dupe_cols, dtype, engine, converters, true_values, false_values, skipinitialspace, skiprows, skipfooter, nrows, na_values, keep_default_na, na_filter, verbose, skip_blank_lines, parse_dates, infer_datetime_format, keep_date_col, date_parser, dayfirst, cache_dates, iterator, chunksize, compression, thousands, decimal, lineterminator, quotechar, quoting, doublequote, escapechar, comment, encoding, encoding_errors, dialect, error_bad_lines, warn_bad_lines, on_bad_lines, delim_whitespace, low_memory, memory_map, float_precision, storage_options)\u001B[0m\n\u001B[1;32m    935\u001B[0m kwds_defaults \u001B[38;5;241m=\u001B[39m _refine_defaults_read(\n\u001B[1;32m    936\u001B[0m     dialect,\n\u001B[1;32m    937\u001B[0m     delimiter,\n\u001B[0;32m   (...)\u001B[0m\n\u001B[1;32m    946\u001B[0m     defaults\u001B[38;5;241m=\u001B[39m{\u001B[38;5;124m\"\u001B[39m\u001B[38;5;124mdelimiter\u001B[39m\u001B[38;5;124m\"\u001B[39m: \u001B[38;5;124m\"\u001B[39m\u001B[38;5;124m,\u001B[39m\u001B[38;5;124m\"\u001B[39m},\n\u001B[1;32m    947\u001B[0m )\n\u001B[1;32m    948\u001B[0m kwds\u001B[38;5;241m.\u001B[39mupdate(kwds_defaults)\n\u001B[0;32m--> 950\u001B[0m \u001B[38;5;28;01mreturn\u001B[39;00m \u001B[43m_read\u001B[49m\u001B[43m(\u001B[49m\u001B[43mfilepath_or_buffer\u001B[49m\u001B[43m,\u001B[49m\u001B[43m \u001B[49m\u001B[43mkwds\u001B[49m\u001B[43m)\u001B[49m\n",
      "File \u001B[0;32m~/anaconda3/envs/Go_Algo_3_10/lib/python3.10/site-packages/pandas/io/parsers/readers.py:611\u001B[0m, in \u001B[0;36m_read\u001B[0;34m(filepath_or_buffer, kwds)\u001B[0m\n\u001B[1;32m    608\u001B[0m     \u001B[38;5;28;01mreturn\u001B[39;00m parser\n\u001B[1;32m    610\u001B[0m \u001B[38;5;28;01mwith\u001B[39;00m parser:\n\u001B[0;32m--> 611\u001B[0m     \u001B[38;5;28;01mreturn\u001B[39;00m \u001B[43mparser\u001B[49m\u001B[38;5;241;43m.\u001B[39;49m\u001B[43mread\u001B[49m\u001B[43m(\u001B[49m\u001B[43mnrows\u001B[49m\u001B[43m)\u001B[49m\n",
      "File \u001B[0;32m~/anaconda3/envs/Go_Algo_3_10/lib/python3.10/site-packages/pandas/io/parsers/readers.py:1778\u001B[0m, in \u001B[0;36mTextFileReader.read\u001B[0;34m(self, nrows)\u001B[0m\n\u001B[1;32m   1771\u001B[0m nrows \u001B[38;5;241m=\u001B[39m validate_integer(\u001B[38;5;124m\"\u001B[39m\u001B[38;5;124mnrows\u001B[39m\u001B[38;5;124m\"\u001B[39m, nrows)\n\u001B[1;32m   1772\u001B[0m \u001B[38;5;28;01mtry\u001B[39;00m:\n\u001B[1;32m   1773\u001B[0m     \u001B[38;5;66;03m# error: \"ParserBase\" has no attribute \"read\"\u001B[39;00m\n\u001B[1;32m   1774\u001B[0m     (\n\u001B[1;32m   1775\u001B[0m         index,\n\u001B[1;32m   1776\u001B[0m         columns,\n\u001B[1;32m   1777\u001B[0m         col_dict,\n\u001B[0;32m-> 1778\u001B[0m     ) \u001B[38;5;241m=\u001B[39m \u001B[38;5;28;43mself\u001B[39;49m\u001B[38;5;241;43m.\u001B[39;49m\u001B[43m_engine\u001B[49m\u001B[38;5;241;43m.\u001B[39;49m\u001B[43mread\u001B[49m\u001B[43m(\u001B[49m\u001B[43m  \u001B[49m\u001B[38;5;66;43;03m# type: ignore[attr-defined]\u001B[39;49;00m\n\u001B[1;32m   1779\u001B[0m \u001B[43m        \u001B[49m\u001B[43mnrows\u001B[49m\n\u001B[1;32m   1780\u001B[0m \u001B[43m    \u001B[49m\u001B[43m)\u001B[49m\n\u001B[1;32m   1781\u001B[0m \u001B[38;5;28;01mexcept\u001B[39;00m \u001B[38;5;167;01mException\u001B[39;00m:\n\u001B[1;32m   1782\u001B[0m     \u001B[38;5;28mself\u001B[39m\u001B[38;5;241m.\u001B[39mclose()\n",
      "File \u001B[0;32m~/anaconda3/envs/Go_Algo_3_10/lib/python3.10/site-packages/pandas/io/parsers/c_parser_wrapper.py:230\u001B[0m, in \u001B[0;36mCParserWrapper.read\u001B[0;34m(self, nrows)\u001B[0m\n\u001B[1;32m    228\u001B[0m \u001B[38;5;28;01mtry\u001B[39;00m:\n\u001B[1;32m    229\u001B[0m     \u001B[38;5;28;01mif\u001B[39;00m \u001B[38;5;28mself\u001B[39m\u001B[38;5;241m.\u001B[39mlow_memory:\n\u001B[0;32m--> 230\u001B[0m         chunks \u001B[38;5;241m=\u001B[39m \u001B[38;5;28;43mself\u001B[39;49m\u001B[38;5;241;43m.\u001B[39;49m\u001B[43m_reader\u001B[49m\u001B[38;5;241;43m.\u001B[39;49m\u001B[43mread_low_memory\u001B[49m\u001B[43m(\u001B[49m\u001B[43mnrows\u001B[49m\u001B[43m)\u001B[49m\n\u001B[1;32m    231\u001B[0m         \u001B[38;5;66;03m# destructive to chunks\u001B[39;00m\n\u001B[1;32m    232\u001B[0m         data \u001B[38;5;241m=\u001B[39m _concatenate_chunks(chunks)\n",
      "File \u001B[0;32m~/anaconda3/envs/Go_Algo_3_10/lib/python3.10/site-packages/pandas/_libs/parsers.pyx:808\u001B[0m, in \u001B[0;36mpandas._libs.parsers.TextReader.read_low_memory\u001B[0;34m()\u001B[0m\n",
      "File \u001B[0;32m~/anaconda3/envs/Go_Algo_3_10/lib/python3.10/site-packages/pandas/_libs/parsers.pyx:866\u001B[0m, in \u001B[0;36mpandas._libs.parsers.TextReader._read_rows\u001B[0;34m()\u001B[0m\n",
      "File \u001B[0;32m~/anaconda3/envs/Go_Algo_3_10/lib/python3.10/site-packages/pandas/_libs/parsers.pyx:852\u001B[0m, in \u001B[0;36mpandas._libs.parsers.TextReader._tokenize_rows\u001B[0;34m()\u001B[0m\n",
      "File \u001B[0;32m~/anaconda3/envs/Go_Algo_3_10/lib/python3.10/site-packages/pandas/_libs/parsers.pyx:1973\u001B[0m, in \u001B[0;36mpandas._libs.parsers.raise_parser_error\u001B[0;34m()\u001B[0m\n",
      "\u001B[0;31mParserError\u001B[0m: Error tokenizing data. C error: Calling read(nbytes) on source failed. Try engine='python'."
     ]
    }
   ],
   "source": [
    "df = pd.read_csv('data/obstats_2020.csv', sep=';')\n",
    "df.head()"
   ],
   "metadata": {
    "collapsed": false,
    "ExecuteTime": {
     "end_time": "2023-12-08T23:01:30.820830Z",
     "start_time": "2023-12-08T23:01:26.692839Z"
    }
   },
   "id": "6c53491781cb103a"
  },
  {
   "cell_type": "code",
   "execution_count": null,
   "outputs": [],
   "source": [
    "df['tradedate']= pd.to_datetime(df['tradedate'])\n",
    "\n",
    "df.info()"
   ],
   "metadata": {
    "collapsed": false,
    "ExecuteTime": {
     "start_time": "2023-12-08T23:01:30.817856Z"
    }
   },
   "id": "897fb8e6eac363bd"
  },
  {
   "cell_type": "code",
   "execution_count": null,
   "outputs": [],
   "source": [
    "df = df[df['tradedate'] >= DATE_START]"
   ],
   "metadata": {
    "collapsed": false,
    "ExecuteTime": {
     "start_time": "2023-12-08T23:01:30.818591Z"
    }
   },
   "id": "11132ff377e99694"
  },
  {
   "cell_type": "code",
   "execution_count": 22,
   "outputs": [
    {
     "name": "stdout",
     "output_type": "stream",
     "text": [
      "2023-10-01\n"
     ]
    }
   ],
   "source": [
    "print(DATE_START)"
   ],
   "metadata": {
    "collapsed": false,
    "ExecuteTime": {
     "end_time": "2023-12-08T18:58:11.044293Z",
     "start_time": "2023-12-08T18:58:11.000251Z"
    }
   },
   "id": "1acc04aa5e26e3ac"
  },
  {
   "cell_type": "code",
   "execution_count": 25,
   "outputs": [
    {
     "ename": "TypeError",
     "evalue": "'>' not supported between instances of 'str' and 'datetime.datetime'",
     "output_type": "error",
     "traceback": [
      "\u001B[0;31m---------------------------------------------------------------------------\u001B[0m",
      "\u001B[0;31mTypeError\u001B[0m                                 Traceback (most recent call last)",
      "Cell \u001B[0;32mIn[25], line 3\u001B[0m\n\u001B[1;32m      1\u001B[0m \u001B[38;5;28;01mfrom\u001B[39;00m \u001B[38;5;21;01mdatetime\u001B[39;00m \u001B[38;5;28;01mimport\u001B[39;00m datetime\n\u001B[0;32m----> 3\u001B[0m df\u001B[38;5;241m.\u001B[39mloc[(\u001B[43mdf\u001B[49m\u001B[43m[\u001B[49m\u001B[38;5;124;43m'\u001B[39;49m\u001B[38;5;124;43mtradedate\u001B[39;49m\u001B[38;5;124;43m'\u001B[39;49m\u001B[43m]\u001B[49m\u001B[43m \u001B[49m\u001B[38;5;241;43m>\u001B[39;49m\u001B[43m \u001B[49m\u001B[43mdatetime\u001B[49m\u001B[38;5;241;43m.\u001B[39;49m\u001B[43mstrptime\u001B[49m\u001B[43m(\u001B[49m\u001B[38;5;124;43m'\u001B[39;49m\u001B[38;5;124;43m2023-10-01\u001B[39;49m\u001B[38;5;124;43m'\u001B[39;49m\u001B[43m,\u001B[49m\u001B[43m \u001B[49m\u001B[38;5;124;43m'\u001B[39;49m\u001B[38;5;124;43m%\u001B[39;49m\u001B[38;5;124;43mY-\u001B[39;49m\u001B[38;5;124;43m%\u001B[39;49m\u001B[38;5;124;43mm-\u001B[39;49m\u001B[38;5;132;43;01m%d\u001B[39;49;00m\u001B[38;5;124;43m'\u001B[39;49m\u001B[43m)\u001B[49m)]\u001B[38;5;241m.\u001B[39mhead()\n",
      "File \u001B[0;32m~/anaconda3/envs/Go_Algo_3_10/lib/python3.10/site-packages/pandas/core/ops/common.py:72\u001B[0m, in \u001B[0;36m_unpack_zerodim_and_defer.<locals>.new_method\u001B[0;34m(self, other)\u001B[0m\n\u001B[1;32m     68\u001B[0m             \u001B[38;5;28;01mreturn\u001B[39;00m \u001B[38;5;28mNotImplemented\u001B[39m\n\u001B[1;32m     70\u001B[0m other \u001B[38;5;241m=\u001B[39m item_from_zerodim(other)\n\u001B[0;32m---> 72\u001B[0m \u001B[38;5;28;01mreturn\u001B[39;00m \u001B[43mmethod\u001B[49m\u001B[43m(\u001B[49m\u001B[38;5;28;43mself\u001B[39;49m\u001B[43m,\u001B[49m\u001B[43m \u001B[49m\u001B[43mother\u001B[49m\u001B[43m)\u001B[49m\n",
      "File \u001B[0;32m~/anaconda3/envs/Go_Algo_3_10/lib/python3.10/site-packages/pandas/core/arraylike.py:58\u001B[0m, in \u001B[0;36mOpsMixin.__gt__\u001B[0;34m(self, other)\u001B[0m\n\u001B[1;32m     56\u001B[0m \u001B[38;5;129m@unpack_zerodim_and_defer\u001B[39m(\u001B[38;5;124m\"\u001B[39m\u001B[38;5;124m__gt__\u001B[39m\u001B[38;5;124m\"\u001B[39m)\n\u001B[1;32m     57\u001B[0m \u001B[38;5;28;01mdef\u001B[39;00m \u001B[38;5;21m__gt__\u001B[39m(\u001B[38;5;28mself\u001B[39m, other):\n\u001B[0;32m---> 58\u001B[0m     \u001B[38;5;28;01mreturn\u001B[39;00m \u001B[38;5;28;43mself\u001B[39;49m\u001B[38;5;241;43m.\u001B[39;49m\u001B[43m_cmp_method\u001B[49m\u001B[43m(\u001B[49m\u001B[43mother\u001B[49m\u001B[43m,\u001B[49m\u001B[43m \u001B[49m\u001B[43moperator\u001B[49m\u001B[38;5;241;43m.\u001B[39;49m\u001B[43mgt\u001B[49m\u001B[43m)\u001B[49m\n",
      "File \u001B[0;32m~/anaconda3/envs/Go_Algo_3_10/lib/python3.10/site-packages/pandas/core/series.py:6243\u001B[0m, in \u001B[0;36mSeries._cmp_method\u001B[0;34m(self, other, op)\u001B[0m\n\u001B[1;32m   6240\u001B[0m rvalues \u001B[38;5;241m=\u001B[39m extract_array(other, extract_numpy\u001B[38;5;241m=\u001B[39m\u001B[38;5;28;01mTrue\u001B[39;00m, extract_range\u001B[38;5;241m=\u001B[39m\u001B[38;5;28;01mTrue\u001B[39;00m)\n\u001B[1;32m   6242\u001B[0m \u001B[38;5;28;01mwith\u001B[39;00m np\u001B[38;5;241m.\u001B[39merrstate(\u001B[38;5;28mall\u001B[39m\u001B[38;5;241m=\u001B[39m\u001B[38;5;124m\"\u001B[39m\u001B[38;5;124mignore\u001B[39m\u001B[38;5;124m\"\u001B[39m):\n\u001B[0;32m-> 6243\u001B[0m     res_values \u001B[38;5;241m=\u001B[39m \u001B[43mops\u001B[49m\u001B[38;5;241;43m.\u001B[39;49m\u001B[43mcomparison_op\u001B[49m\u001B[43m(\u001B[49m\u001B[43mlvalues\u001B[49m\u001B[43m,\u001B[49m\u001B[43m \u001B[49m\u001B[43mrvalues\u001B[49m\u001B[43m,\u001B[49m\u001B[43m \u001B[49m\u001B[43mop\u001B[49m\u001B[43m)\u001B[49m\n\u001B[1;32m   6245\u001B[0m \u001B[38;5;28;01mreturn\u001B[39;00m \u001B[38;5;28mself\u001B[39m\u001B[38;5;241m.\u001B[39m_construct_result(res_values, name\u001B[38;5;241m=\u001B[39mres_name)\n",
      "File \u001B[0;32m~/anaconda3/envs/Go_Algo_3_10/lib/python3.10/site-packages/pandas/core/ops/array_ops.py:287\u001B[0m, in \u001B[0;36mcomparison_op\u001B[0;34m(left, right, op)\u001B[0m\n\u001B[1;32m    284\u001B[0m     \u001B[38;5;28;01mreturn\u001B[39;00m invalid_comparison(lvalues, rvalues, op)\n\u001B[1;32m    286\u001B[0m \u001B[38;5;28;01melif\u001B[39;00m is_object_dtype(lvalues\u001B[38;5;241m.\u001B[39mdtype) \u001B[38;5;129;01mor\u001B[39;00m \u001B[38;5;28misinstance\u001B[39m(rvalues, \u001B[38;5;28mstr\u001B[39m):\n\u001B[0;32m--> 287\u001B[0m     res_values \u001B[38;5;241m=\u001B[39m \u001B[43mcomp_method_OBJECT_ARRAY\u001B[49m\u001B[43m(\u001B[49m\u001B[43mop\u001B[49m\u001B[43m,\u001B[49m\u001B[43m \u001B[49m\u001B[43mlvalues\u001B[49m\u001B[43m,\u001B[49m\u001B[43m \u001B[49m\u001B[43mrvalues\u001B[49m\u001B[43m)\u001B[49m\n\u001B[1;32m    289\u001B[0m \u001B[38;5;28;01melse\u001B[39;00m:\n\u001B[1;32m    290\u001B[0m     res_values \u001B[38;5;241m=\u001B[39m _na_arithmetic_op(lvalues, rvalues, op, is_cmp\u001B[38;5;241m=\u001B[39m\u001B[38;5;28;01mTrue\u001B[39;00m)\n",
      "File \u001B[0;32m~/anaconda3/envs/Go_Algo_3_10/lib/python3.10/site-packages/pandas/core/ops/array_ops.py:75\u001B[0m, in \u001B[0;36mcomp_method_OBJECT_ARRAY\u001B[0;34m(op, x, y)\u001B[0m\n\u001B[1;32m     73\u001B[0m     result \u001B[38;5;241m=\u001B[39m libops\u001B[38;5;241m.\u001B[39mvec_compare(x\u001B[38;5;241m.\u001B[39mravel(), y\u001B[38;5;241m.\u001B[39mravel(), op)\n\u001B[1;32m     74\u001B[0m \u001B[38;5;28;01melse\u001B[39;00m:\n\u001B[0;32m---> 75\u001B[0m     result \u001B[38;5;241m=\u001B[39m \u001B[43mlibops\u001B[49m\u001B[38;5;241;43m.\u001B[39;49m\u001B[43mscalar_compare\u001B[49m\u001B[43m(\u001B[49m\u001B[43mx\u001B[49m\u001B[38;5;241;43m.\u001B[39;49m\u001B[43mravel\u001B[49m\u001B[43m(\u001B[49m\u001B[43m)\u001B[49m\u001B[43m,\u001B[49m\u001B[43m \u001B[49m\u001B[43my\u001B[49m\u001B[43m,\u001B[49m\u001B[43m \u001B[49m\u001B[43mop\u001B[49m\u001B[43m)\u001B[49m\n\u001B[1;32m     76\u001B[0m \u001B[38;5;28;01mreturn\u001B[39;00m result\u001B[38;5;241m.\u001B[39mreshape(x\u001B[38;5;241m.\u001B[39mshape)\n",
      "File \u001B[0;32m~/anaconda3/envs/Go_Algo_3_10/lib/python3.10/site-packages/pandas/_libs/ops.pyx:107\u001B[0m, in \u001B[0;36mpandas._libs.ops.scalar_compare\u001B[0;34m()\u001B[0m\n",
      "\u001B[0;31mTypeError\u001B[0m: '>' not supported between instances of 'str' and 'datetime.datetime'"
     ]
    }
   ],
   "source": [
    "from datetime import datetime\n",
    "\n"
   ],
   "metadata": {
    "collapsed": false,
    "ExecuteTime": {
     "end_time": "2023-12-08T18:58:40.078125Z",
     "start_time": "2023-12-08T18:58:40.002579Z"
    }
   },
   "id": "acc66d3d6407ac8e"
  },
  {
   "cell_type": "code",
   "execution_count": 28,
   "outputs": [
    {
     "data": {
      "text/plain": "Empty DataFrame\nColumns: [tradedate, tradetime, secid, spread_bbo, spread_lv10, spread_1mio, levels_b, levels_s, vol_b, vol_s, val_b, val_s, imbalance_vol_bbo, imbalance_val_bbo, imbalance_vol, imbalance_val, vwap_b, vwap_s, vwap_b_1mio, vwap_s_1mio, SYSTIME]\nIndex: []\n\n[0 rows x 21 columns]",
      "text/html": "<div>\n<style scoped>\n    .dataframe tbody tr th:only-of-type {\n        vertical-align: middle;\n    }\n\n    .dataframe tbody tr th {\n        vertical-align: top;\n    }\n\n    .dataframe thead th {\n        text-align: right;\n    }\n</style>\n<table border=\"1\" class=\"dataframe\">\n  <thead>\n    <tr style=\"text-align: right;\">\n      <th></th>\n      <th>tradedate</th>\n      <th>tradetime</th>\n      <th>secid</th>\n      <th>spread_bbo</th>\n      <th>spread_lv10</th>\n      <th>spread_1mio</th>\n      <th>levels_b</th>\n      <th>levels_s</th>\n      <th>vol_b</th>\n      <th>vol_s</th>\n      <th>...</th>\n      <th>val_s</th>\n      <th>imbalance_vol_bbo</th>\n      <th>imbalance_val_bbo</th>\n      <th>imbalance_vol</th>\n      <th>imbalance_val</th>\n      <th>vwap_b</th>\n      <th>vwap_s</th>\n      <th>vwap_b_1mio</th>\n      <th>vwap_s_1mio</th>\n      <th>SYSTIME</th>\n    </tr>\n  </thead>\n  <tbody>\n  </tbody>\n</table>\n<p>0 rows × 21 columns</p>\n</div>"
     },
     "execution_count": 28,
     "metadata": {},
     "output_type": "execute_result"
    }
   ],
   "source": [
    "df.loc[(df['tradedate'] > datetime.strptime('2023-10-01', '%Y-%m-%d'))].head()"
   ],
   "metadata": {
    "collapsed": false,
    "ExecuteTime": {
     "end_time": "2023-12-08T18:59:45.935951Z",
     "start_time": "2023-12-08T18:59:45.887115Z"
    }
   },
   "id": "41c41da42835257"
  },
  {
   "cell_type": "code",
   "execution_count": 1,
   "outputs": [
    {
     "name": "stdout",
     "output_type": "stream",
     "text": [
      "  ticker   tradedate tradetime  pr_open  pr_high  pr_low  pr_close  pr_std  \\\n",
      "0   ALRS  2023-10-02  10:05:00    74.04    74.49   74.03     74.16  0.0005   \n",
      "1   ALRS  2023-10-02  10:10:00    74.14    74.43   74.09     74.41  0.0002   \n",
      "2   ALRS  2023-10-02  10:15:00    74.41    75.45   74.35     75.25  0.0002   \n",
      "3   ALRS  2023-10-02  10:20:00    75.26    75.56   75.06     75.32  0.0002   \n",
      "4   ALRS  2023-10-02  10:25:00    75.32    75.36   75.01     75.07  0.0001   \n",
      "\n",
      "      vol          val  ...  trades_b  trades_s        val_b       val_s  \\\n",
      "0   98098   72853820.0  ...       859       729   39452995.0  33400825.0   \n",
      "1   27657   20539897.0  ...       372       286   14748157.0   5791739.0   \n",
      "2  204168  152792873.0  ...      2042      1049  116927670.0  35865203.0   \n",
      "3  204060  153720130.0  ...      1816      1164   95159675.0  58560454.0   \n",
      "4   98127   73766145.0  ...       727      2573   21005964.0  52760180.0   \n",
      "\n",
      "    vol_b  vol_s  disb  pr_vwap_b  pr_vwap_s             systime  \n",
      "0   53093  45005  0.08      74.31      74.22 2023-10-26 16:02:26  \n",
      "1   19850   7807  0.44      74.30      74.19 2023-10-26 16:02:26  \n",
      "2  156218  47950  0.53      74.85      74.80 2023-10-26 16:02:27  \n",
      "3  126259  77801  0.24      75.37      75.27 2023-10-26 16:02:27  \n",
      "4   27942  70185 -0.43      75.18      75.17 2023-10-26 16:02:28  \n",
      "\n",
      "[5 rows x 23 columns]\n"
     ]
    }
   ],
   "source": [
    "import pandas as pd\n",
    "\n",
    "from moexalgo import Ticker\n",
    "from settings import DATE_START, DATE_END\n",
    "\n",
    "tiket = Ticker('ALRS')\n",
    "tradestats = pd.DataFrame(tiket.tradestats(date=DATE_START, till_date=DATE_END))\n",
    "\n",
    "print(tradestats.head())"
   ],
   "metadata": {
    "collapsed": false,
    "ExecuteTime": {
     "end_time": "2023-12-08T22:06:39.318718Z",
     "start_time": "2023-12-08T22:06:38.253585Z"
    }
   },
   "id": "c40490326bf1da08"
  },
  {
   "cell_type": "code",
   "execution_count": 64,
   "outputs": [
    {
     "name": "stdout",
     "output_type": "stream",
     "text": [
      "<class 'pandas.core.frame.DataFrame'>\n",
      "RangeIndex: 35568 entries, 0 to 35567\n",
      "Data columns (total 4 columns):\n",
      " #   Column      Non-Null Count  Dtype  \n",
      "---  ------      --------------  -----  \n",
      " 0   Unnamed: 0  35568 non-null  int64  \n",
      " 1   timestamp   35568 non-null  object \n",
      " 2   segment     35568 non-null  object \n",
      " 3   target      33711 non-null  float64\n",
      "dtypes: float64(1), int64(1), object(2)\n",
      "memory usage: 1.1+ MB\n"
     ]
    }
   ],
   "source": [
    "pd.read_csv('df_after.csv', sep=';').info()"
   ],
   "metadata": {
    "collapsed": false,
    "ExecuteTime": {
     "end_time": "2023-12-08T23:38:14.377857Z",
     "start_time": "2023-12-08T23:38:14.338854Z"
    }
   },
   "id": "5e4034b28c27819c"
  },
  {
   "cell_type": "code",
   "execution_count": 65,
   "outputs": [
    {
     "name": "stdout",
     "output_type": "stream",
     "text": [
      "<class 'pandas.core.frame.DataFrame'>\n",
      "RangeIndex: 33711 entries, 0 to 33710\n",
      "Data columns (total 4 columns):\n",
      " #   Column      Non-Null Count  Dtype  \n",
      "---  ------      --------------  -----  \n",
      " 0   Unnamed: 0  33711 non-null  int64  \n",
      " 1   timestamp   33711 non-null  object \n",
      " 2   segment     33711 non-null  object \n",
      " 3   target      33711 non-null  float64\n",
      "dtypes: float64(1), int64(1), object(2)\n",
      "memory usage: 1.0+ MB\n"
     ]
    }
   ],
   "source": [
    "pd.read_csv('df_before.csv', sep=';').info()"
   ],
   "metadata": {
    "collapsed": false,
    "ExecuteTime": {
     "end_time": "2023-12-08T23:38:23.470306Z",
     "start_time": "2023-12-08T23:38:23.429616Z"
    }
   },
   "id": "9d47399f102a6d8"
  },
  {
   "cell_type": "code",
   "execution_count": null,
   "outputs": [],
   "source": [],
   "metadata": {
    "collapsed": false
   },
   "id": "f5080c7f031473b8"
  }
 ],
 "metadata": {
  "kernelspec": {
   "display_name": "Python 3",
   "language": "python",
   "name": "python3"
  },
  "language_info": {
   "codemirror_mode": {
    "name": "ipython",
    "version": 2
   },
   "file_extension": ".py",
   "mimetype": "text/x-python",
   "name": "python",
   "nbconvert_exporter": "python",
   "pygments_lexer": "ipython2",
   "version": "2.7.6"
  }
 },
 "nbformat": 4,
 "nbformat_minor": 5
}
