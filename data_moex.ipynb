{
 "cells": [
  {
   "cell_type": "code",
   "execution_count": 42,
   "id": "initial_id",
   "metadata": {
    "collapsed": true,
    "ExecuteTime": {
     "end_time": "2023-12-02T12:11:50.039531Z",
     "start_time": "2023-12-02T12:11:49.873270Z"
    }
   },
   "outputs": [],
   "source": [
    "import pandas as pd\n",
    "from moexalgo import Market, Ticker"
   ]
  },
  {
   "cell_type": "code",
   "execution_count": 70,
   "outputs": [],
   "source": [
    "df = pd.read_csv('data/ListingSecurityList.csv', engine='python', encoding='cp1251', sep=';')"
   ],
   "metadata": {
    "collapsed": false,
    "ExecuteTime": {
     "end_time": "2023-12-02T13:12:07.413981Z",
     "start_time": "2023-12-02T13:12:07.243374Z"
    }
   },
   "id": "138d3d6d109de82b"
  },
  {
   "cell_type": "code",
   "execution_count": 71,
   "outputs": [
    {
     "data": {
      "text/plain": "Index(['DATESTAMP', 'INSTRUMENT_ID', 'LIST_SECTION', 'RN', 'SUPERTYPE',\n       'INSTRUMENT_TYPE', 'INSTRUMENT_CATEGORY', 'TRADE_CODE', 'ISIN',\n       'REGISTRY_NUMBER', 'REGISTRY_DATE', 'EMITENT_FULL_NAME', 'INN',\n       'NOMINAL', 'CURRENCY', 'ISSUE_AMOUNT', 'DECISION_DATE', 'OKSM_EDR',\n       'ONLY_EMITENT_FULL_NAME', 'REG_COUNTRY', 'QUALIFIED_INVESTOR',\n       'HAS_PROSPECTUS', 'IS_CONCESSION_AGREEMENT', 'IS_MORTGAGE_AGENT',\n       'INCLUDED_DURING_CREATION', 'SECURITY_HAS_DEFAULT',\n       'SECURITY_HAS_TECH_DEFAULT', 'INCLUDED_WITHOUT_COMPLIANCE',\n       'RETAINED_WITHOUT_COMPLIANCE', 'HAS_RESTRICTION_CIRCULATION',\n       'LISTING_LEVEL_HIST', 'OBLIGATION_PROGRAM_RN', 'COUPON_PERCENT',\n       'EARLY_REPAYMENT', 'EARLY_REDEMPTION', 'ISS_BOARDS', 'OTHER_SECURITIES',\n       'DISCLOSURE_PART_PAGE', 'DISCLOSURE_RF_INFO_PAGE', 'INCLUDE_DATE',\n       'CFI_FOREIGN', 'ISIN_UNDERLYING_ASSET', 'CFI_UNDERLYING_ASSET',\n       'PIF_STATUS', 'PIF_STATUS_HIST', 'OBLIGATION_PROGRAM_DATE',\n       'ISS_BOARDS_HASH', 'OTHER_SECURITIES_HASH', 'CACHING_TIMESTAMP',\n       'Unnamed: 49'],\n      dtype='object')"
     },
     "execution_count": 71,
     "metadata": {},
     "output_type": "execute_result"
    }
   ],
   "source": [
    "df.columns"
   ],
   "metadata": {
    "collapsed": false,
    "ExecuteTime": {
     "end_time": "2023-12-02T13:12:07.643494Z",
     "start_time": "2023-12-02T13:12:07.636610Z"
    }
   },
   "id": "77b9b32c9d2e20d1"
  },
  {
   "cell_type": "code",
   "execution_count": 40,
   "outputs": [],
   "source": [
    "df = df[['TRADE_CODE','EMITENT_FULL_NAME','INSTRUMENT_TYPE', 'LIST_SECTION', 'INSTRUMENT_CATEGORY','CURRENCY','NOMINAL','ISSUE_AMOUNT']]"
   ],
   "metadata": {
    "collapsed": false,
    "ExecuteTime": {
     "end_time": "2023-12-02T12:10:16.916846Z",
     "start_time": "2023-12-02T12:10:16.903884Z"
    }
   },
   "id": "c93b7a9c00f24931"
  },
  {
   "cell_type": "code",
   "execution_count": 58,
   "outputs": [
    {
     "data": {
      "text/plain": "'CBOM'"
     },
     "execution_count": 58,
     "metadata": {},
     "output_type": "execute_result"
    }
   ],
   "source": [
    "df['TRADE_CODE'][11]"
   ],
   "metadata": {
    "collapsed": false,
    "ExecuteTime": {
     "end_time": "2023-12-02T12:55:48.667489Z",
     "start_time": "2023-12-02T12:55:48.660110Z"
    }
   },
   "id": "ed6f3cd19f9cad84"
  },
  {
   "cell_type": "code",
   "execution_count": 59,
   "outputs": [],
   "source": [
    "df = df.reset_index(drop=True)"
   ],
   "metadata": {
    "collapsed": false,
    "ExecuteTime": {
     "end_time": "2023-12-02T12:56:16.761282Z",
     "start_time": "2023-12-02T12:56:16.758385Z"
    }
   },
   "id": "c8dfd4e990fa15a8"
  },
  {
   "cell_type": "code",
   "execution_count": 74,
   "outputs": [
    {
     "data": {
      "text/plain": "              DATESTAMP  INSTRUMENT_ID    LIST_SECTION   RN SUPERTYPE  \\\n11   01.12.2023 0:00:00           5771  Первый уровень   12     Акции   \n26   01.12.2023 0:00:00           5201  Первый уровень   27     Акции   \n27   01.12.2023 0:00:00           5923  Первый уровень   28     Акции   \n41   01.12.2023 0:00:00           3762  Первый уровень   42     Акции   \n101  01.12.2023 0:00:00             99  Первый уровень  102     Акции   \n\n                 INSTRUMENT_TYPE  \\\n11            Акция обыкновенная   \n26   Акции иностранного эмитента   \n27   Акции иностранного эмитента   \n41            Акция обыкновенная   \n101           Акция обыкновенная   \n\n                                   INSTRUMENT_CATEGORY TRADE_CODE  \\\n11                                  акции обыкновенные       CBOM   \n26         Акции обыкновенные бездокументарные именные       POLY   \n27   Обыкновенные именные бездокументарные акции кл...       YNDX   \n41                                  акции обыкновенные       ALRS   \n101                                 акции обыкновенные       VTBR   \n\n             ISIN REGISTRY_NUMBER       REGISTRY_DATE  \\\n11   RU000A0JUG31       10101978B  18.08.1999 0:00:00   \n26   JE00B6T5S470             NaN                 NaN   \n27   NL0009805522             NaN                 NaN   \n41   RU0007252813    1-03-40046-N  25.08.2011 0:00:00   \n101  RU000A0JP5V6       10401000B  29.09.2006 0:00:00   \n\n                                     EMITENT_FULL_NAME           INN NOMINAL  \\\n11   \"МОСКОВСКИЙ КРЕДИТНЫЙ БАНК\" (публичное акционе...  7.734203e+09       1   \n26                         Polymetal International plc           NaN    0,03   \n27        Public Limited Liability Company Yandex N.V.           NaN    0,01   \n41   Акционерная компания \"АЛРОСА\" (публичное акцио...  1.433000e+09     0,5   \n101          Банк ВТБ (публичное акционерное общество)  7.702070e+09    0,01   \n\n       CURRENCY    ISSUE_AMOUNT       DECISION_DATE OKSM_EDR  \\\n11        Рубль     33429709866  11.03.2014 0:00:00      NaN   \n26   Доллар США       515259819  14.06.2013 0:00:00      NaN   \n27         Евро       326342270  03.06.2014 0:00:00      NaN   \n41        Рубль      7364965630  23.11.2011 0:00:00      NaN   \n101       Рубль  26849669465190  28.04.2007 0:00:00      NaN   \n\n    ONLY_EMITENT_FULL_NAME REG_COUNTRY QUALIFIED_INVESTOR HAS_PROSPECTUS  \\\n11                     NaN         NaN                NaN              +   \n26                     NaN         NaN                NaN            NaN   \n27                     NaN         NaN                NaN            NaN   \n41                     NaN         NaN                NaN              +   \n101                    NaN         NaN                NaN              +   \n\n    IS_CONCESSION_AGREEMENT IS_MORTGAGE_AGENT INCLUDED_DURING_CREATION  \\\n11                      NaN               NaN                      NaN   \n26                      NaN               NaN                      NaN   \n27                      NaN               NaN                      NaN   \n41                      NaN               NaN                      NaN   \n101                     NaN               NaN                      NaN   \n\n    SECURITY_HAS_DEFAULT SECURITY_HAS_TECH_DEFAULT  \\\n11                   NaN                       NaN   \n26                   NaN                       NaN   \n27                   NaN                       NaN   \n41                   NaN                       NaN   \n101                  NaN                       NaN   \n\n    INCLUDED_WITHOUT_COMPLIANCE RETAINED_WITHOUT_COMPLIANCE  \\\n11                          NaN                         NaN   \n26                          NaN                         NaN   \n27                          NaN                         NaN   \n41                          NaN                         NaN   \n101                         NaN                         NaN   \n\n    HAS_RESTRICTION_CIRCULATION  \\\n11                          NaN   \n26                          NaN   \n27                          NaN   \n41                          NaN   \n101                         NaN   \n\n                                    LISTING_LEVEL_HIST OBLIGATION_PROGRAM_RN  \\\n11   22.06.2015 Включение в Первый уровень 09.06.20...                   NaN   \n26   09.06.2014 Включение в Первый уровень 06.08.20...                   NaN   \n27   09.06.2014 Включение в Первый уровень 03.06.20...                   NaN   \n41   09.06.2014 Включение в Первый уровень 02.10.20...                   NaN   \n101  09.06.2014 Включение в Первый уровень 28.02.20...                   NaN   \n\n    COUPON_PERCENT EARLY_REPAYMENT EARLY_REDEMPTION  \\\n11             NaN             NaN              NaN   \n26             NaN             NaN              NaN   \n27             NaN             NaN              NaN   \n41             NaN             NaN              NaN   \n101            NaN             NaN              NaN   \n\n                                            ISS_BOARDS  \\\n11   РПС: Акции - адрес. РЕПО в ин. валюте: USD РЕП...   \n26   РПС: Акции - адрес. РЕПО в ин. валюте: USD РЕП...   \n27   РПС: Акции - адрес. РЕПО в ин. валюте: USD РЕП...   \n41   РПС: Акции - адрес. РЕПО в ин. валюте: USD РЕП...   \n101  РПС: Акции - адрес. РЕПО в ин. валюте: USD РЕП...   \n\n                                      OTHER_SECURITIES  \\\n11   Облигация биржевая, 4B020801978B, RU000A0JV3K6...   \n26                                                 NaN   \n27                                                 NaN   \n41   Облигация биржевая, 4B02-03-40046-N, RU000A101...   \n101  Облигация биржевая, 4B023001000B, RU000A0JV3Q3...   \n\n                                  DISCLOSURE_PART_PAGE  \\\n11                                  http:// www.mkb.ru   \n26   https://www.polymetalinternational.com/ru/inve...   \n27                https://ir.yandex/financial-releases   \n41       http://www.alrosa.ru/инвесторам-и-акционерам/   \n101                                  http://www.vtb.ru   \n\n                               DISCLOSURE_RF_INFO_PAGE        INCLUDE_DATE  \\\n11   http://www.e-disclosure.ru/portal/company.aspx...  22.06.2015 0:00:00   \n26   https://e-disclosure.ru/portal/company.aspx?id...  09.06.2014 0:00:00   \n27   https://e-disclosure.ru/portal/company.aspx?id...  09.06.2014 0:00:00   \n41   https://e-disclosure.ru/portal/company.aspx?id...  09.06.2014 0:00:00   \n101  http://www.e-disclosure.ru/portal/company.aspx...  09.06.2014 0:00:00   \n\n    CFI_FOREIGN ISIN_UNDERLYING_ASSET CFI_UNDERLYING_ASSET PIF_STATUS  \\\n11          NaN                   NaN                  NaN        NaN   \n26       ESVUFR                   NaN                  NaN        NaN   \n27       ESVUFN                   NaN                  NaN        NaN   \n41          NaN                   NaN                  NaN        NaN   \n101         NaN                   NaN                  NaN        NaN   \n\n    PIF_STATUS_HIST OBLIGATION_PROGRAM_DATE  \\\n11              NaN                     NaN   \n26              NaN                     NaN   \n27              NaN                     NaN   \n41              NaN                     NaN   \n101             NaN                     NaN   \n\n                              ISS_BOARDS_HASH  \\\n11   A60652A98E90C448583A793EB5E9E28DF2995C9A   \n26   394491565781EB41BF42CEA3121F14281F3037E3   \n27   394491565781EB41BF42CEA3121F14281F3037E3   \n41   A60652A98E90C448583A793EB5E9E28DF2995C9A   \n101  A60652A98E90C448583A793EB5E9E28DF2995C9A   \n\n                        OTHER_SECURITIES_HASH    CACHING_TIMESTAMP  \\\n11   6E2F5512613604886B4A11CCB20DEDF8C053E1C6  02.12.2023 10:26:12   \n26   DA39A3EE5E6B4B0D3255BFEF95601890AFD80709  02.12.2023 10:26:12   \n27   DA39A3EE5E6B4B0D3255BFEF95601890AFD80709  02.12.2023 10:26:12   \n41   3FED59C01CBE883FF3719BE731A6A0F0A03D72BE  02.12.2023 10:26:12   \n101  2A91C8E5DF920F2FA4CE99FAA143876E6DED45F4  02.12.2023 10:26:12   \n\n     Unnamed: 49  \n11           NaN  \n26           NaN  \n27           NaN  \n41           NaN  \n101          NaN  ",
      "text/html": "<div>\n<style scoped>\n    .dataframe tbody tr th:only-of-type {\n        vertical-align: middle;\n    }\n\n    .dataframe tbody tr th {\n        vertical-align: top;\n    }\n\n    .dataframe thead th {\n        text-align: right;\n    }\n</style>\n<table border=\"1\" class=\"dataframe\">\n  <thead>\n    <tr style=\"text-align: right;\">\n      <th></th>\n      <th>DATESTAMP</th>\n      <th>INSTRUMENT_ID</th>\n      <th>LIST_SECTION</th>\n      <th>RN</th>\n      <th>SUPERTYPE</th>\n      <th>INSTRUMENT_TYPE</th>\n      <th>INSTRUMENT_CATEGORY</th>\n      <th>TRADE_CODE</th>\n      <th>ISIN</th>\n      <th>REGISTRY_NUMBER</th>\n      <th>REGISTRY_DATE</th>\n      <th>EMITENT_FULL_NAME</th>\n      <th>INN</th>\n      <th>NOMINAL</th>\n      <th>CURRENCY</th>\n      <th>ISSUE_AMOUNT</th>\n      <th>DECISION_DATE</th>\n      <th>OKSM_EDR</th>\n      <th>ONLY_EMITENT_FULL_NAME</th>\n      <th>REG_COUNTRY</th>\n      <th>QUALIFIED_INVESTOR</th>\n      <th>HAS_PROSPECTUS</th>\n      <th>IS_CONCESSION_AGREEMENT</th>\n      <th>IS_MORTGAGE_AGENT</th>\n      <th>INCLUDED_DURING_CREATION</th>\n      <th>SECURITY_HAS_DEFAULT</th>\n      <th>SECURITY_HAS_TECH_DEFAULT</th>\n      <th>INCLUDED_WITHOUT_COMPLIANCE</th>\n      <th>RETAINED_WITHOUT_COMPLIANCE</th>\n      <th>HAS_RESTRICTION_CIRCULATION</th>\n      <th>LISTING_LEVEL_HIST</th>\n      <th>OBLIGATION_PROGRAM_RN</th>\n      <th>COUPON_PERCENT</th>\n      <th>EARLY_REPAYMENT</th>\n      <th>EARLY_REDEMPTION</th>\n      <th>ISS_BOARDS</th>\n      <th>OTHER_SECURITIES</th>\n      <th>DISCLOSURE_PART_PAGE</th>\n      <th>DISCLOSURE_RF_INFO_PAGE</th>\n      <th>INCLUDE_DATE</th>\n      <th>CFI_FOREIGN</th>\n      <th>ISIN_UNDERLYING_ASSET</th>\n      <th>CFI_UNDERLYING_ASSET</th>\n      <th>PIF_STATUS</th>\n      <th>PIF_STATUS_HIST</th>\n      <th>OBLIGATION_PROGRAM_DATE</th>\n      <th>ISS_BOARDS_HASH</th>\n      <th>OTHER_SECURITIES_HASH</th>\n      <th>CACHING_TIMESTAMP</th>\n      <th>Unnamed: 49</th>\n    </tr>\n  </thead>\n  <tbody>\n    <tr>\n      <th>11</th>\n      <td>01.12.2023 0:00:00</td>\n      <td>5771</td>\n      <td>Первый уровень</td>\n      <td>12</td>\n      <td>Акции</td>\n      <td>Акция обыкновенная</td>\n      <td>акции обыкновенные</td>\n      <td>CBOM</td>\n      <td>RU000A0JUG31</td>\n      <td>10101978B</td>\n      <td>18.08.1999 0:00:00</td>\n      <td>\"МОСКОВСКИЙ КРЕДИТНЫЙ БАНК\" (публичное акционе...</td>\n      <td>7.734203e+09</td>\n      <td>1</td>\n      <td>Рубль</td>\n      <td>33429709866</td>\n      <td>11.03.2014 0:00:00</td>\n      <td>NaN</td>\n      <td>NaN</td>\n      <td>NaN</td>\n      <td>NaN</td>\n      <td>+</td>\n      <td>NaN</td>\n      <td>NaN</td>\n      <td>NaN</td>\n      <td>NaN</td>\n      <td>NaN</td>\n      <td>NaN</td>\n      <td>NaN</td>\n      <td>NaN</td>\n      <td>22.06.2015 Включение в Первый уровень 09.06.20...</td>\n      <td>NaN</td>\n      <td>NaN</td>\n      <td>NaN</td>\n      <td>NaN</td>\n      <td>РПС: Акции - адрес. РЕПО в ин. валюте: USD РЕП...</td>\n      <td>Облигация биржевая, 4B020801978B, RU000A0JV3K6...</td>\n      <td>http:// www.mkb.ru</td>\n      <td>http://www.e-disclosure.ru/portal/company.aspx...</td>\n      <td>22.06.2015 0:00:00</td>\n      <td>NaN</td>\n      <td>NaN</td>\n      <td>NaN</td>\n      <td>NaN</td>\n      <td>NaN</td>\n      <td>NaN</td>\n      <td>A60652A98E90C448583A793EB5E9E28DF2995C9A</td>\n      <td>6E2F5512613604886B4A11CCB20DEDF8C053E1C6</td>\n      <td>02.12.2023 10:26:12</td>\n      <td>NaN</td>\n    </tr>\n    <tr>\n      <th>26</th>\n      <td>01.12.2023 0:00:00</td>\n      <td>5201</td>\n      <td>Первый уровень</td>\n      <td>27</td>\n      <td>Акции</td>\n      <td>Акции иностранного эмитента</td>\n      <td>Акции обыкновенные бездокументарные именные</td>\n      <td>POLY</td>\n      <td>JE00B6T5S470</td>\n      <td>NaN</td>\n      <td>NaN</td>\n      <td>Polymetal International plc</td>\n      <td>NaN</td>\n      <td>0,03</td>\n      <td>Доллар США</td>\n      <td>515259819</td>\n      <td>14.06.2013 0:00:00</td>\n      <td>NaN</td>\n      <td>NaN</td>\n      <td>NaN</td>\n      <td>NaN</td>\n      <td>NaN</td>\n      <td>NaN</td>\n      <td>NaN</td>\n      <td>NaN</td>\n      <td>NaN</td>\n      <td>NaN</td>\n      <td>NaN</td>\n      <td>NaN</td>\n      <td>NaN</td>\n      <td>09.06.2014 Включение в Первый уровень 06.08.20...</td>\n      <td>NaN</td>\n      <td>NaN</td>\n      <td>NaN</td>\n      <td>NaN</td>\n      <td>РПС: Акции - адрес. РЕПО в ин. валюте: USD РЕП...</td>\n      <td>NaN</td>\n      <td>https://www.polymetalinternational.com/ru/inve...</td>\n      <td>https://e-disclosure.ru/portal/company.aspx?id...</td>\n      <td>09.06.2014 0:00:00</td>\n      <td>ESVUFR</td>\n      <td>NaN</td>\n      <td>NaN</td>\n      <td>NaN</td>\n      <td>NaN</td>\n      <td>NaN</td>\n      <td>394491565781EB41BF42CEA3121F14281F3037E3</td>\n      <td>DA39A3EE5E6B4B0D3255BFEF95601890AFD80709</td>\n      <td>02.12.2023 10:26:12</td>\n      <td>NaN</td>\n    </tr>\n    <tr>\n      <th>27</th>\n      <td>01.12.2023 0:00:00</td>\n      <td>5923</td>\n      <td>Первый уровень</td>\n      <td>28</td>\n      <td>Акции</td>\n      <td>Акции иностранного эмитента</td>\n      <td>Обыкновенные именные бездокументарные акции кл...</td>\n      <td>YNDX</td>\n      <td>NL0009805522</td>\n      <td>NaN</td>\n      <td>NaN</td>\n      <td>Public Limited Liability Company Yandex N.V.</td>\n      <td>NaN</td>\n      <td>0,01</td>\n      <td>Евро</td>\n      <td>326342270</td>\n      <td>03.06.2014 0:00:00</td>\n      <td>NaN</td>\n      <td>NaN</td>\n      <td>NaN</td>\n      <td>NaN</td>\n      <td>NaN</td>\n      <td>NaN</td>\n      <td>NaN</td>\n      <td>NaN</td>\n      <td>NaN</td>\n      <td>NaN</td>\n      <td>NaN</td>\n      <td>NaN</td>\n      <td>NaN</td>\n      <td>09.06.2014 Включение в Первый уровень 03.06.20...</td>\n      <td>NaN</td>\n      <td>NaN</td>\n      <td>NaN</td>\n      <td>NaN</td>\n      <td>РПС: Акции - адрес. РЕПО в ин. валюте: USD РЕП...</td>\n      <td>NaN</td>\n      <td>https://ir.yandex/financial-releases</td>\n      <td>https://e-disclosure.ru/portal/company.aspx?id...</td>\n      <td>09.06.2014 0:00:00</td>\n      <td>ESVUFN</td>\n      <td>NaN</td>\n      <td>NaN</td>\n      <td>NaN</td>\n      <td>NaN</td>\n      <td>NaN</td>\n      <td>394491565781EB41BF42CEA3121F14281F3037E3</td>\n      <td>DA39A3EE5E6B4B0D3255BFEF95601890AFD80709</td>\n      <td>02.12.2023 10:26:12</td>\n      <td>NaN</td>\n    </tr>\n    <tr>\n      <th>41</th>\n      <td>01.12.2023 0:00:00</td>\n      <td>3762</td>\n      <td>Первый уровень</td>\n      <td>42</td>\n      <td>Акции</td>\n      <td>Акция обыкновенная</td>\n      <td>акции обыкновенные</td>\n      <td>ALRS</td>\n      <td>RU0007252813</td>\n      <td>1-03-40046-N</td>\n      <td>25.08.2011 0:00:00</td>\n      <td>Акционерная компания \"АЛРОСА\" (публичное акцио...</td>\n      <td>1.433000e+09</td>\n      <td>0,5</td>\n      <td>Рубль</td>\n      <td>7364965630</td>\n      <td>23.11.2011 0:00:00</td>\n      <td>NaN</td>\n      <td>NaN</td>\n      <td>NaN</td>\n      <td>NaN</td>\n      <td>+</td>\n      <td>NaN</td>\n      <td>NaN</td>\n      <td>NaN</td>\n      <td>NaN</td>\n      <td>NaN</td>\n      <td>NaN</td>\n      <td>NaN</td>\n      <td>NaN</td>\n      <td>09.06.2014 Включение в Первый уровень 02.10.20...</td>\n      <td>NaN</td>\n      <td>NaN</td>\n      <td>NaN</td>\n      <td>NaN</td>\n      <td>РПС: Акции - адрес. РЕПО в ин. валюте: USD РЕП...</td>\n      <td>Облигация биржевая, 4B02-03-40046-N, RU000A101...</td>\n      <td>http://www.alrosa.ru/инвесторам-и-акционерам/</td>\n      <td>https://e-disclosure.ru/portal/company.aspx?id...</td>\n      <td>09.06.2014 0:00:00</td>\n      <td>NaN</td>\n      <td>NaN</td>\n      <td>NaN</td>\n      <td>NaN</td>\n      <td>NaN</td>\n      <td>NaN</td>\n      <td>A60652A98E90C448583A793EB5E9E28DF2995C9A</td>\n      <td>3FED59C01CBE883FF3719BE731A6A0F0A03D72BE</td>\n      <td>02.12.2023 10:26:12</td>\n      <td>NaN</td>\n    </tr>\n    <tr>\n      <th>101</th>\n      <td>01.12.2023 0:00:00</td>\n      <td>99</td>\n      <td>Первый уровень</td>\n      <td>102</td>\n      <td>Акции</td>\n      <td>Акция обыкновенная</td>\n      <td>акции обыкновенные</td>\n      <td>VTBR</td>\n      <td>RU000A0JP5V6</td>\n      <td>10401000B</td>\n      <td>29.09.2006 0:00:00</td>\n      <td>Банк ВТБ (публичное акционерное общество)</td>\n      <td>7.702070e+09</td>\n      <td>0,01</td>\n      <td>Рубль</td>\n      <td>26849669465190</td>\n      <td>28.04.2007 0:00:00</td>\n      <td>NaN</td>\n      <td>NaN</td>\n      <td>NaN</td>\n      <td>NaN</td>\n      <td>+</td>\n      <td>NaN</td>\n      <td>NaN</td>\n      <td>NaN</td>\n      <td>NaN</td>\n      <td>NaN</td>\n      <td>NaN</td>\n      <td>NaN</td>\n      <td>NaN</td>\n      <td>09.06.2014 Включение в Первый уровень 28.02.20...</td>\n      <td>NaN</td>\n      <td>NaN</td>\n      <td>NaN</td>\n      <td>NaN</td>\n      <td>РПС: Акции - адрес. РЕПО в ин. валюте: USD РЕП...</td>\n      <td>Облигация биржевая, 4B023001000B, RU000A0JV3Q3...</td>\n      <td>http://www.vtb.ru</td>\n      <td>http://www.e-disclosure.ru/portal/company.aspx...</td>\n      <td>09.06.2014 0:00:00</td>\n      <td>NaN</td>\n      <td>NaN</td>\n      <td>NaN</td>\n      <td>NaN</td>\n      <td>NaN</td>\n      <td>NaN</td>\n      <td>A60652A98E90C448583A793EB5E9E28DF2995C9A</td>\n      <td>2A91C8E5DF920F2FA4CE99FAA143876E6DED45F4</td>\n      <td>02.12.2023 10:26:12</td>\n      <td>NaN</td>\n    </tr>\n  </tbody>\n</table>\n</div>"
     },
     "execution_count": 74,
     "metadata": {},
     "output_type": "execute_result"
    }
   ],
   "source": [
    "df.head()"
   ],
   "metadata": {
    "collapsed": false,
    "ExecuteTime": {
     "end_time": "2023-12-02T13:12:31.326260Z",
     "start_time": "2023-12-02T13:12:31.317447Z"
    }
   },
   "id": "bdaf3a8f641e5e2"
  },
  {
   "cell_type": "code",
   "execution_count": 47,
   "outputs": [],
   "source": [
    "pd.set_option('display.max_columns', 100)"
   ],
   "metadata": {
    "collapsed": false,
    "ExecuteTime": {
     "end_time": "2023-12-02T12:42:39.307929Z",
     "start_time": "2023-12-02T12:42:39.303744Z"
    }
   },
   "id": "b45d8ed2a8757661"
  },
  {
   "cell_type": "code",
   "execution_count": 73,
   "outputs": [],
   "source": [
    "df = df[(df['INSTRUMENT_TYPE'] == 'Акция обыкновенная') | (df['INSTRUMENT_TYPE'] == 'Акции иностранного эмитента')]"
   ],
   "metadata": {
    "collapsed": false,
    "ExecuteTime": {
     "end_time": "2023-12-02T13:12:29.308848Z",
     "start_time": "2023-12-02T13:12:29.302599Z"
    }
   },
   "id": "8b4b74dc17807f39"
  },
  {
   "cell_type": "code",
   "execution_count": 64,
   "outputs": [],
   "source": [
    "# Акции SBER\n",
    "sber = Ticker('POLY')\n",
    "\n",
    "# Все акции\n",
    "stocks = Market('stocks')"
   ],
   "metadata": {
    "collapsed": false,
    "ExecuteTime": {
     "end_time": "2023-12-02T12:58:37.791282Z",
     "start_time": "2023-12-02T12:58:37.783918Z"
    }
   },
   "id": "77ee8728e8ba13b7"
  },
  {
   "cell_type": "code",
   "execution_count": 75,
   "outputs": [
    {
     "data": {
      "text/plain": "    open  close   high    low       value   volume               begin  \\\n0  525.3  525.3  525.3  525.3   2129566.2   4054.0 2023-10-10 09:50:00   \n1  525.2  520.9  525.2  519.5  35211261.8  67509.0 2023-10-10 10:00:00   \n2  521.2  519.3  522.7  517.3  27345103.6  52578.0 2023-10-10 10:10:00   \n3  518.8  519.0  519.5  516.3  23626505.3  45626.0 2023-10-10 10:20:00   \n4  519.1  519.3  519.4  518.3   6536669.2  12599.0 2023-10-10 10:30:00   \n\n                  end  \n0 2023-10-10 09:59:59  \n1 2023-10-10 10:09:59  \n2 2023-10-10 10:19:59  \n3 2023-10-10 10:29:59  \n4 2023-10-10 10:39:59  ",
      "text/html": "<div>\n<style scoped>\n    .dataframe tbody tr th:only-of-type {\n        vertical-align: middle;\n    }\n\n    .dataframe tbody tr th {\n        vertical-align: top;\n    }\n\n    .dataframe thead th {\n        text-align: right;\n    }\n</style>\n<table border=\"1\" class=\"dataframe\">\n  <thead>\n    <tr style=\"text-align: right;\">\n      <th></th>\n      <th>open</th>\n      <th>close</th>\n      <th>high</th>\n      <th>low</th>\n      <th>value</th>\n      <th>volume</th>\n      <th>begin</th>\n      <th>end</th>\n    </tr>\n  </thead>\n  <tbody>\n    <tr>\n      <th>0</th>\n      <td>525.3</td>\n      <td>525.3</td>\n      <td>525.3</td>\n      <td>525.3</td>\n      <td>2129566.2</td>\n      <td>4054.0</td>\n      <td>2023-10-10 09:50:00</td>\n      <td>2023-10-10 09:59:59</td>\n    </tr>\n    <tr>\n      <th>1</th>\n      <td>525.2</td>\n      <td>520.9</td>\n      <td>525.2</td>\n      <td>519.5</td>\n      <td>35211261.8</td>\n      <td>67509.0</td>\n      <td>2023-10-10 10:00:00</td>\n      <td>2023-10-10 10:09:59</td>\n    </tr>\n    <tr>\n      <th>2</th>\n      <td>521.2</td>\n      <td>519.3</td>\n      <td>522.7</td>\n      <td>517.3</td>\n      <td>27345103.6</td>\n      <td>52578.0</td>\n      <td>2023-10-10 10:10:00</td>\n      <td>2023-10-10 10:19:59</td>\n    </tr>\n    <tr>\n      <th>3</th>\n      <td>518.8</td>\n      <td>519.0</td>\n      <td>519.5</td>\n      <td>516.3</td>\n      <td>23626505.3</td>\n      <td>45626.0</td>\n      <td>2023-10-10 10:20:00</td>\n      <td>2023-10-10 10:29:59</td>\n    </tr>\n    <tr>\n      <th>4</th>\n      <td>519.1</td>\n      <td>519.3</td>\n      <td>519.4</td>\n      <td>518.3</td>\n      <td>6536669.2</td>\n      <td>12599.0</td>\n      <td>2023-10-10 10:30:00</td>\n      <td>2023-10-10 10:39:59</td>\n    </tr>\n  </tbody>\n</table>\n</div>"
     },
     "execution_count": 75,
     "metadata": {},
     "output_type": "execute_result"
    }
   ],
   "source": [
    "# Свечи по акциям SBER за период\n",
    "sber.candles(date='2023-10-10', till_date='2023-10-18', period='10m').head()"
   ],
   "metadata": {
    "collapsed": false,
    "ExecuteTime": {
     "end_time": "2023-12-02T13:21:18.755661Z",
     "start_time": "2023-12-02T13:21:18.025747Z"
    }
   },
   "id": "7598fc823850b060"
  },
  {
   "cell_type": "code",
   "execution_count": 67,
   "outputs": [],
   "source": [
    "DATE_START = '2023-01-01'\n",
    "DATE_END = '2023-01-02'"
   ],
   "metadata": {
    "collapsed": false,
    "ExecuteTime": {
     "end_time": "2023-12-02T13:00:10.474025Z",
     "start_time": "2023-12-02T13:00:10.473081Z"
    }
   },
   "id": "790cdff19c4ea42b"
  },
  {
   "cell_type": "code",
   "execution_count": 78,
   "outputs": [
    {
     "data": {
      "text/plain": "Empty DataFrame\nColumns: []\nIndex: []",
      "text/html": "<div>\n<style scoped>\n    .dataframe tbody tr th:only-of-type {\n        vertical-align: middle;\n    }\n\n    .dataframe tbody tr th {\n        vertical-align: top;\n    }\n\n    .dataframe thead th {\n        text-align: right;\n    }\n</style>\n<table border=\"1\" class=\"dataframe\">\n  <thead>\n    <tr style=\"text-align: right;\">\n      <th></th>\n    </tr>\n  </thead>\n  <tbody>\n  </tbody>\n</table>\n</div>"
     },
     "execution_count": 78,
     "metadata": {},
     "output_type": "execute_result"
    }
   ],
   "source": [
    "sber.tradestats(date='2023-01-01', till_date='2023-01-02').head()"
   ],
   "metadata": {
    "collapsed": false,
    "ExecuteTime": {
     "end_time": "2023-12-02T13:22:20.893866Z",
     "start_time": "2023-12-02T13:22:20.598981Z"
    }
   },
   "id": "f7f62d19b1cc7380"
  },
  {
   "cell_type": "code",
   "execution_count": 76,
   "outputs": [
    {
     "data": {
      "text/plain": "Empty DataFrame\nColumns: []\nIndex: []",
      "text/html": "<div>\n<style scoped>\n    .dataframe tbody tr th:only-of-type {\n        vertical-align: middle;\n    }\n\n    .dataframe tbody tr th {\n        vertical-align: top;\n    }\n\n    .dataframe thead th {\n        text-align: right;\n    }\n</style>\n<table border=\"1\" class=\"dataframe\">\n  <thead>\n    <tr style=\"text-align: right;\">\n      <th></th>\n    </tr>\n  </thead>\n  <tbody>\n  </tbody>\n</table>\n</div>"
     },
     "execution_count": 76,
     "metadata": {},
     "output_type": "execute_result"
    }
   ],
   "source": [
    "# Данные по акциям SBER за период\n",
    "sber.tradestats(date=DATE_START, till_date=DATE_END).head()"
   ],
   "metadata": {
    "collapsed": false,
    "ExecuteTime": {
     "end_time": "2023-12-02T13:21:49.232268Z",
     "start_time": "2023-12-02T13:21:48.920064Z"
    }
   },
   "id": "e52da95c7e859e7e"
  },
  {
   "cell_type": "code",
   "execution_count": 52,
   "outputs": [
    {
     "name": "stdout",
     "output_type": "stream",
     "text": [
      "<class 'pandas.core.frame.DataFrame'>\n",
      "RangeIndex: 5 entries, 0 to 4\n",
      "Data columns (total 23 columns):\n",
      " #   Column     Non-Null Count  Dtype         \n",
      "---  ------     --------------  -----         \n",
      " 0   ticker     5 non-null      object        \n",
      " 1   tradedate  5 non-null      object        \n",
      " 2   tradetime  5 non-null      object        \n",
      " 3   pr_open    5 non-null      float64       \n",
      " 4   pr_high    5 non-null      float64       \n",
      " 5   pr_low     5 non-null      float64       \n",
      " 6   pr_close   5 non-null      float64       \n",
      " 7   pr_std     5 non-null      float64       \n",
      " 8   vol        5 non-null      int64         \n",
      " 9   val        5 non-null      float64       \n",
      " 10  trades     5 non-null      int64         \n",
      " 11  pr_vwap    5 non-null      float64       \n",
      " 12  pr_change  5 non-null      float64       \n",
      " 13  trades_b   5 non-null      int64         \n",
      " 14  trades_s   5 non-null      int64         \n",
      " 15  val_b      5 non-null      float64       \n",
      " 16  val_s      5 non-null      float64       \n",
      " 17  vol_b      5 non-null      int64         \n",
      " 18  vol_s      5 non-null      int64         \n",
      " 19  disb       5 non-null      float64       \n",
      " 20  pr_vwap_b  5 non-null      float64       \n",
      " 21  pr_vwap_s  5 non-null      float64       \n",
      " 22  systime    5 non-null      datetime64[ns]\n",
      "dtypes: datetime64[ns](1), float64(13), int64(6), object(3)\n",
      "memory usage: 1.0+ KB\n"
     ]
    }
   ],
   "source": [
    "df_poly.info()"
   ],
   "metadata": {
    "collapsed": false,
    "ExecuteTime": {
     "end_time": "2023-12-02T12:51:27.556449Z",
     "start_time": "2023-12-02T12:51:27.552567Z"
    }
   },
   "id": "dd2e1eda24342940"
  },
  {
   "cell_type": "code",
   "execution_count": 98,
   "outputs": [
    {
     "data": {
      "text/plain": "['ABIO',\n 'ABRD',\n 'AFKS',\n 'AFLT',\n 'AGRO',\n 'AKRN',\n 'ALRS',\n 'AMEZ',\n 'APTK',\n 'AQUA',\n 'ASSB',\n 'AVAN',\n 'BANE',\n 'BANEP',\n 'BELU',\n 'BISVP',\n 'BLNG',\n 'BSPB',\n 'BSPBP',\n 'CARM',\n 'CBOM',\n 'CHGZ',\n 'CHMF',\n 'CHMK',\n 'CIAN',\n 'CNTL',\n 'CNTLP',\n 'DIOD',\n 'DSKY',\n 'DVEC',\n 'DZRD',\n 'DZRDP',\n 'EELT',\n 'ELFV',\n 'ELTZ',\n 'ENPG',\n 'ETLN',\n 'FEES',\n 'FESH',\n 'FIVE',\n 'FIXP',\n 'FLOT',\n 'GAZA',\n 'GAZAP',\n 'GAZP',\n 'GCHE',\n 'GECO',\n 'GEMA',\n 'GEMC',\n 'GLTR',\n 'GMKN',\n 'GTRK',\n 'HHRU',\n 'HIMCP',\n 'HMSG',\n 'HYDR',\n 'IGST',\n 'IGSTP',\n 'INGR',\n 'IRAO',\n 'IRKT',\n 'JNOS',\n 'JNOSP',\n 'KAZT',\n 'KAZTP',\n 'KBSB',\n 'KLSB',\n 'KMAZ',\n 'KMEZ',\n 'KMTZ',\n 'KRKN',\n 'KRKOP',\n 'KROT',\n 'KROTP',\n 'KRSBP',\n 'KUBE',\n 'KUZB',\n 'KZOS',\n 'KZOSP',\n 'LENT',\n 'LIFE',\n 'LKOH',\n 'LNZL',\n 'LNZLP',\n 'LSNG',\n 'LSNGP',\n 'LSRG',\n 'LVHK',\n 'MAGE',\n 'MAGEP',\n 'MAGN',\n 'MDMG',\n 'MFGS',\n 'MFGSP',\n 'MGNT',\n 'MGTS',\n 'MGTSP',\n 'MISBP',\n 'MOEX',\n 'MRKC',\n 'MRKK',\n 'MRKP',\n 'MRKS',\n 'MRKU',\n 'MRKV',\n 'MRKY',\n 'MRKZ',\n 'MSNG',\n 'MSRS',\n 'MSTT',\n 'MTLR',\n 'MTLRP',\n 'MTSS',\n 'MVID',\n 'NAUK',\n 'NFAZ',\n 'NKHP',\n 'NKNC',\n 'NKNCP',\n 'NLMK',\n 'NMTP',\n 'NNSBP',\n 'NSVZ',\n 'NVTK',\n 'OGKB',\n 'OKEY',\n 'OMZZP',\n 'OZON',\n 'PAZA',\n 'PHOR',\n 'PIKK',\n 'PLZL',\n 'PMSB',\n 'PMSBP',\n 'POLY',\n 'POSI',\n 'PRFN',\n 'QIWI',\n 'RASP',\n 'RBCM',\n 'RDRB',\n 'RENI',\n 'RGSS',\n 'RKKE',\n 'RNFT',\n 'ROLO',\n 'ROSB',\n 'ROSN',\n 'RTKM',\n 'RTKMP',\n 'RTSB',\n 'RUAL',\n 'RUSI',\n 'SAGO',\n 'SBER',\n 'SBERP',\n 'SELG',\n 'SFIN',\n 'SGZH',\n 'SIBN',\n 'SLEN',\n 'SMLT',\n 'SNGS',\n 'SNGSP',\n 'SOFL',\n 'SPBE',\n 'STSBP',\n 'SVAV',\n 'SVET',\n 'TATN',\n 'TATNP',\n 'TCSG',\n 'TGKA',\n 'TGKB',\n 'TGKBP',\n 'TGKN',\n 'TRMK',\n 'TRNFP',\n 'TTLK',\n 'TUZA',\n 'UCSS',\n 'UNAC',\n 'UNKL',\n 'UPRO',\n 'VEON-RX',\n 'VGSB',\n 'VJGZP',\n 'VLHZ',\n 'VRSB',\n 'VSMO',\n 'VTBR',\n 'WTCM',\n 'WTCMP',\n 'WUSH',\n 'YAKG',\n 'YKENP',\n 'YNDX',\n 'YRSBP',\n 'ZILL',\n 'ZVEZ',\n 'ARSA',\n 'BRZL',\n 'KRSB',\n 'MRSB',\n 'NKSH',\n 'ROST',\n 'RTSBP',\n 'TORS',\n 'UKUZ',\n 'USBN',\n 'UTAR',\n 'VGSBP',\n 'YKEN',\n 'KGKCP',\n 'KTSB',\n 'KTSBP',\n 'MISB',\n 'PRMB',\n 'RZSB',\n 'SARE',\n 'STSB',\n 'TNSE',\n 'TORSP',\n 'URKZ',\n 'VRSBP',\n 'SAREP',\n 'KCHEP',\n 'KOGK',\n 'KRKNP',\n 'VJGZ',\n 'VSYD',\n 'KCHE',\n 'KGKC',\n 'SAGOP',\n 'TASBP',\n 'VSYDP',\n 'TASB',\n 'RTGZ',\n 'YRSB',\n 'CHKZ',\n 'NNSB']"
     },
     "execution_count": 98,
     "metadata": {},
     "output_type": "execute_result"
    }
   ],
   "source": [
    "# Данные по всем акциям за дату. Чтобы получить данные за период, нужно запустить цикл по датам\n",
    "stocks.tradestats(date='2023-10-10')['ticker'].unique().tolist()"
   ],
   "metadata": {
    "collapsed": false,
    "ExecuteTime": {
     "end_time": "2023-12-02T20:01:24.436452Z",
     "start_time": "2023-12-02T20:01:18.521524Z"
    }
   },
   "id": "431ce1b673b9361e"
  },
  {
   "cell_type": "code",
   "execution_count": null,
   "outputs": [],
   "source": [],
   "metadata": {
    "collapsed": false
   },
   "id": "ba7d694919891831"
  },
  {
   "cell_type": "code",
   "execution_count": 121,
   "outputs": [],
   "source": [
    "df = pd.read_csv('tradestats_CBOM.csv', engine='python', encoding='cp1251', sep=',')"
   ],
   "metadata": {
    "collapsed": false,
    "ExecuteTime": {
     "end_time": "2023-12-02T21:44:46.750394Z",
     "start_time": "2023-12-02T21:44:46.736880Z"
    }
   },
   "id": "96f5eb435c0e16d5"
  },
  {
   "cell_type": "code",
   "execution_count": 113,
   "outputs": [
    {
     "data": {
      "text/plain": "<Figure size 640x480 with 1 Axes>",
      "image/png": "[encoded data removed]"
     },
     "metadata": {},
     "output_type": "display_data"
    }
   ],
   "source": [
    "from matplotlib import pyplot as plt   \n",
    "   \n",
    "x = df[df['tradedate']=='2023-10-02']['tradetime']   \n",
    "y = df[df['tradedate']=='2023-10-02']['pr_close']   \n",
    "   \n",
    "plt.plot(x,y)   \n",
    "   \n",
    "plt.title(\"Line graph\")   \n",
    "plt.ylabel('pr_close')   \n",
    "plt.xlabel('tradetime')   \n",
    "plt.show()   "
   ],
   "metadata": {
    "collapsed": false,
    "ExecuteTime": {
     "end_time": "2023-12-02T21:42:52.687070Z",
     "start_time": "2023-12-02T21:42:52.418822Z"
    }
   },
   "id": "35d4f68f7c05e260"
  },
  {
   "cell_type": "code",
   "execution_count": 114,
   "outputs": [
    {
     "data": {
      "text/plain": "<Figure size 640x480 with 1 Axes>",
      "image/png": "[encoded data removed]"
     },
     "metadata": {},
     "output_type": "display_data"
    }
   ],
   "source": [
    "x = df[df['tradedate']=='2023-10-02']['tradetime']   \n",
    "y = df[df['tradedate']=='2023-10-02']['trades']   \n",
    "   \n",
    "plt.plot(x,y)   \n",
    "   \n",
    "plt.title(\"Line graph\")   \n",
    "plt.ylabel('pr_close')   \n",
    "plt.xlabel('trades')   \n",
    "plt.show()   "
   ],
   "metadata": {
    "collapsed": false,
    "ExecuteTime": {
     "end_time": "2023-12-02T21:42:54.654063Z",
     "start_time": "2023-12-02T21:42:54.482187Z"
    }
   },
   "id": "937463989ad08e95"
  },
  {
   "cell_type": "code",
   "execution_count": 115,
   "outputs": [
    {
     "data": {
      "text/plain": "Index(['tradedate', 'tradetime', 'secid', 'pr_open', 'pr_high', 'pr_low',\n       'pr_close', 'pr_std', 'vol', 'val', 'trades', 'pr_vwap', 'pr_change',\n       'trades_b', 'trades_s', 'val_b', 'val_s', 'vol_b', 'vol_s', 'disb',\n       'pr_vwap_b', 'pr_vwap_s', 'SYSTIME'],\n      dtype='object')"
     },
     "execution_count": 115,
     "metadata": {},
     "output_type": "execute_result"
    }
   ],
   "source": [
    "df.columns"
   ],
   "metadata": {
    "collapsed": false,
    "ExecuteTime": {
     "end_time": "2023-12-02T21:42:54.768061Z",
     "start_time": "2023-12-02T21:42:54.763003Z"
    }
   },
   "id": "ca74c8b3cd4bb050"
  },
  {
   "cell_type": "markdown",
   "source": [],
   "metadata": {
    "collapsed": false
   },
   "id": "6979e3241203c8b0"
  },
  {
   "cell_type": "code",
   "execution_count": 116,
   "outputs": [
    {
     "data": {
      "text/plain": "      tradedate tradetime secid  pr_open  pr_high  pr_low  pr_close  pr_std  \\\n0    2023-10-02  10:05:00  CBOM    7.050    7.050   7.043     7.048  0.0002   \n312  2023-10-05  10:05:00  CBOM    6.964    6.971   6.954     6.954  0.0006   \n518  2023-10-09  10:05:00  CBOM    7.000    7.000   6.948     6.987  0.0013   \n104  2023-10-03  10:05:00  CBOM    7.022    7.022   6.954     6.990  0.0015   \n622  2023-10-10  10:05:00  CBOM    7.006    7.006   6.998     7.000  0.0002   \n..          ...       ...   ...      ...      ...     ...       ...     ...   \n517  2023-10-06  18:40:00  CBOM    6.933    6.943   6.933     6.939  0.0006   \n207  2023-10-03  18:40:00  CBOM    7.026    7.026   7.025     7.025  0.0001   \n414  2023-10-05  18:40:00  CBOM    6.931    6.931   6.931     6.931  0.0000   \n621  2023-10-09  18:40:00  CBOM    7.004    7.005   7.003     7.003  0.0001   \n725  2023-10-10  18:40:00  CBOM    7.012    7.012   7.012     7.012     NaN   \n\n      vol      val  trades  pr_vwap  pr_change  trades_b  trades_s    val_b  \\\n0    3556  2506629      43    7.049    -0.0284        26        17  1294299   \n312  1110   772113      45    6.956    -0.1436        13        32    58546   \n518  5670  3956370     130    6.978    -0.1857        44        86  1557634   \n104  8104  5674245     165    7.002    -0.4557        82        83   706830   \n622  1981  1387411     117    7.004    -0.0856        96        21  1005202   \n..    ...      ...     ...      ...        ...       ...       ...      ...   \n517   812   562971       9    6.933     0.0865         4         5     5553   \n207    29    20372       3    7.025    -0.0142         0         3        0   \n414     7     4851       7    6.931     0.0000         0         7        0   \n621   745   521759       9    7.003    -0.0143         2         7     1401   \n725     3     2103       1    7.012     0.0000         0         1        0   \n\n       val_s  vol_b  vol_s  disb  pr_vwap_b  pr_vwap_s              SYSTIME  \n0    1212330   1836   1720  0.03      7.050      7.048  2023-10-26 16:02:26  \n312   713566     84   1026 -0.85      6.970      6.955  2023-10-26 15:53:38  \n518  2398735   2229   3441 -0.21      6.988      6.971  2023-10-26 15:47:58  \n104  4967415   1012   7092 -0.75      6.984      7.004  2023-10-26 15:58:50  \n622   382208   1435    546  0.45      7.005      7.000  2023-10-26 15:44:37  \n..       ...    ...    ...   ...        ...        ...                  ...  \n517   557418      8    804 -0.98      6.941      6.933  2023-10-26 15:51:48  \n207    20372      0     29 -1.00        NaN      7.025  2023-10-26 15:59:52  \n414     4851      0      7 -1.00        NaN      6.931  2023-10-26 15:54:38  \n621   520358      2    743 -0.99      7.005      7.003  2023-10-26 15:48:58  \n725     2103      0      3 -1.00        NaN      7.012  2023-10-26 15:45:39  \n\n[726 rows x 23 columns]",
      "text/html": "<div>\n<style scoped>\n    .dataframe tbody tr th:only-of-type {\n        vertical-align: middle;\n    }\n\n    .dataframe tbody tr th {\n        vertical-align: top;\n    }\n\n    .dataframe thead th {\n        text-align: right;\n    }\n</style>\n<table border=\"1\" class=\"dataframe\">\n  <thead>\n    <tr style=\"text-align: right;\">\n      <th></th>\n      <th>tradedate</th>\n      <th>tradetime</th>\n      <th>secid</th>\n      <th>pr_open</th>\n      <th>pr_high</th>\n      <th>pr_low</th>\n      <th>pr_close</th>\n      <th>pr_std</th>\n      <th>vol</th>\n      <th>val</th>\n      <th>trades</th>\n      <th>pr_vwap</th>\n      <th>pr_change</th>\n      <th>trades_b</th>\n      <th>trades_s</th>\n      <th>val_b</th>\n      <th>val_s</th>\n      <th>vol_b</th>\n      <th>vol_s</th>\n      <th>disb</th>\n      <th>pr_vwap_b</th>\n      <th>pr_vwap_s</th>\n      <th>SYSTIME</th>\n    </tr>\n  </thead>\n  <tbody>\n    <tr>\n      <th>0</th>\n      <td>2023-10-02</td>\n      <td>10:05:00</td>\n      <td>CBOM</td>\n      <td>7.050</td>\n      <td>7.050</td>\n      <td>7.043</td>\n      <td>7.048</td>\n      <td>0.0002</td>\n      <td>3556</td>\n      <td>2506629</td>\n      <td>43</td>\n      <td>7.049</td>\n      <td>-0.0284</td>\n      <td>26</td>\n      <td>17</td>\n      <td>1294299</td>\n      <td>1212330</td>\n      <td>1836</td>\n      <td>1720</td>\n      <td>0.03</td>\n      <td>7.050</td>\n      <td>7.048</td>\n      <td>2023-10-26 16:02:26</td>\n    </tr>\n    <tr>\n      <th>312</th>\n      <td>2023-10-05</td>\n      <td>10:05:00</td>\n      <td>CBOM</td>\n      <td>6.964</td>\n      <td>6.971</td>\n      <td>6.954</td>\n      <td>6.954</td>\n      <td>0.0006</td>\n      <td>1110</td>\n      <td>772113</td>\n      <td>45</td>\n      <td>6.956</td>\n      <td>-0.1436</td>\n      <td>13</td>\n      <td>32</td>\n      <td>58546</td>\n      <td>713566</td>\n      <td>84</td>\n      <td>1026</td>\n      <td>-0.85</td>\n      <td>6.970</td>\n      <td>6.955</td>\n      <td>2023-10-26 15:53:38</td>\n    </tr>\n    <tr>\n      <th>518</th>\n      <td>2023-10-09</td>\n      <td>10:05:00</td>\n      <td>CBOM</td>\n      <td>7.000</td>\n      <td>7.000</td>\n      <td>6.948</td>\n      <td>6.987</td>\n      <td>0.0013</td>\n      <td>5670</td>\n      <td>3956370</td>\n      <td>130</td>\n      <td>6.978</td>\n      <td>-0.1857</td>\n      <td>44</td>\n      <td>86</td>\n      <td>1557634</td>\n      <td>2398735</td>\n      <td>2229</td>\n      <td>3441</td>\n      <td>-0.21</td>\n      <td>6.988</td>\n      <td>6.971</td>\n      <td>2023-10-26 15:47:58</td>\n    </tr>\n    <tr>\n      <th>104</th>\n      <td>2023-10-03</td>\n      <td>10:05:00</td>\n      <td>CBOM</td>\n      <td>7.022</td>\n      <td>7.022</td>\n      <td>6.954</td>\n      <td>6.990</td>\n      <td>0.0015</td>\n      <td>8104</td>\n      <td>5674245</td>\n      <td>165</td>\n      <td>7.002</td>\n      <td>-0.4557</td>\n      <td>82</td>\n      <td>83</td>\n      <td>706830</td>\n      <td>4967415</td>\n      <td>1012</td>\n      <td>7092</td>\n      <td>-0.75</td>\n      <td>6.984</td>\n      <td>7.004</td>\n      <td>2023-10-26 15:58:50</td>\n    </tr>\n    <tr>\n      <th>622</th>\n      <td>2023-10-10</td>\n      <td>10:05:00</td>\n      <td>CBOM</td>\n      <td>7.006</td>\n      <td>7.006</td>\n      <td>6.998</td>\n      <td>7.000</td>\n      <td>0.0002</td>\n      <td>1981</td>\n      <td>1387411</td>\n      <td>117</td>\n      <td>7.004</td>\n      <td>-0.0856</td>\n      <td>96</td>\n      <td>21</td>\n      <td>1005202</td>\n      <td>382208</td>\n      <td>1435</td>\n      <td>546</td>\n      <td>0.45</td>\n      <td>7.005</td>\n      <td>7.000</td>\n      <td>2023-10-26 15:44:37</td>\n    </tr>\n    <tr>\n      <th>...</th>\n      <td>...</td>\n      <td>...</td>\n      <td>...</td>\n      <td>...</td>\n      <td>...</td>\n      <td>...</td>\n      <td>...</td>\n      <td>...</td>\n      <td>...</td>\n      <td>...</td>\n      <td>...</td>\n      <td>...</td>\n      <td>...</td>\n      <td>...</td>\n      <td>...</td>\n      <td>...</td>\n      <td>...</td>\n      <td>...</td>\n      <td>...</td>\n      <td>...</td>\n      <td>...</td>\n      <td>...</td>\n      <td>...</td>\n    </tr>\n    <tr>\n      <th>517</th>\n      <td>2023-10-06</td>\n      <td>18:40:00</td>\n      <td>CBOM</td>\n      <td>6.933</td>\n      <td>6.943</td>\n      <td>6.933</td>\n      <td>6.939</td>\n      <td>0.0006</td>\n      <td>812</td>\n      <td>562971</td>\n      <td>9</td>\n      <td>6.933</td>\n      <td>0.0865</td>\n      <td>4</td>\n      <td>5</td>\n      <td>5553</td>\n      <td>557418</td>\n      <td>8</td>\n      <td>804</td>\n      <td>-0.98</td>\n      <td>6.941</td>\n      <td>6.933</td>\n      <td>2023-10-26 15:51:48</td>\n    </tr>\n    <tr>\n      <th>207</th>\n      <td>2023-10-03</td>\n      <td>18:40:00</td>\n      <td>CBOM</td>\n      <td>7.026</td>\n      <td>7.026</td>\n      <td>7.025</td>\n      <td>7.025</td>\n      <td>0.0001</td>\n      <td>29</td>\n      <td>20372</td>\n      <td>3</td>\n      <td>7.025</td>\n      <td>-0.0142</td>\n      <td>0</td>\n      <td>3</td>\n      <td>0</td>\n      <td>20372</td>\n      <td>0</td>\n      <td>29</td>\n      <td>-1.00</td>\n      <td>NaN</td>\n      <td>7.025</td>\n      <td>2023-10-26 15:59:52</td>\n    </tr>\n    <tr>\n      <th>414</th>\n      <td>2023-10-05</td>\n      <td>18:40:00</td>\n      <td>CBOM</td>\n      <td>6.931</td>\n      <td>6.931</td>\n      <td>6.931</td>\n      <td>6.931</td>\n      <td>0.0000</td>\n      <td>7</td>\n      <td>4851</td>\n      <td>7</td>\n      <td>6.931</td>\n      <td>0.0000</td>\n      <td>0</td>\n      <td>7</td>\n      <td>0</td>\n      <td>4851</td>\n      <td>0</td>\n      <td>7</td>\n      <td>-1.00</td>\n      <td>NaN</td>\n      <td>6.931</td>\n      <td>2023-10-26 15:54:38</td>\n    </tr>\n    <tr>\n      <th>621</th>\n      <td>2023-10-09</td>\n      <td>18:40:00</td>\n      <td>CBOM</td>\n      <td>7.004</td>\n      <td>7.005</td>\n      <td>7.003</td>\n      <td>7.003</td>\n      <td>0.0001</td>\n      <td>745</td>\n      <td>521759</td>\n      <td>9</td>\n      <td>7.003</td>\n      <td>-0.0143</td>\n      <td>2</td>\n      <td>7</td>\n      <td>1401</td>\n      <td>520358</td>\n      <td>2</td>\n      <td>743</td>\n      <td>-0.99</td>\n      <td>7.005</td>\n      <td>7.003</td>\n      <td>2023-10-26 15:48:58</td>\n    </tr>\n    <tr>\n      <th>725</th>\n      <td>2023-10-10</td>\n      <td>18:40:00</td>\n      <td>CBOM</td>\n      <td>7.012</td>\n      <td>7.012</td>\n      <td>7.012</td>\n      <td>7.012</td>\n      <td>NaN</td>\n      <td>3</td>\n      <td>2103</td>\n      <td>1</td>\n      <td>7.012</td>\n      <td>0.0000</td>\n      <td>0</td>\n      <td>1</td>\n      <td>0</td>\n      <td>2103</td>\n      <td>0</td>\n      <td>3</td>\n      <td>-1.00</td>\n      <td>NaN</td>\n      <td>7.012</td>\n      <td>2023-10-26 15:45:39</td>\n    </tr>\n  </tbody>\n</table>\n<p>726 rows × 23 columns</p>\n</div>"
     },
     "execution_count": 116,
     "metadata": {},
     "output_type": "execute_result"
    }
   ],
   "source": [
    "df.sort_values(by='tradetime', ascending=True)"
   ],
   "metadata": {
    "collapsed": false,
    "ExecuteTime": {
     "end_time": "2023-12-02T21:42:56.380043Z",
     "start_time": "2023-12-02T21:42:56.368315Z"
    }
   },
   "id": "8636127741d4a7a4"
  },
  {
   "cell_type": "code",
   "execution_count": 91,
   "outputs": [
    {
     "data": {
      "text/plain": "['2023-10-02',\n '2023-10-03',\n '2023-10-04',\n '2023-10-05',\n '2023-10-06',\n '2023-10-09',\n '2023-10-10']"
     },
     "execution_count": 91,
     "metadata": {},
     "output_type": "execute_result"
    }
   ],
   "source": [
    "df['tradedate']"
   ],
   "metadata": {
    "collapsed": false,
    "ExecuteTime": {
     "end_time": "2023-12-02T15:36:33.463037Z",
     "start_time": "2023-12-02T15:36:33.451158Z"
    }
   },
   "id": "50acc2c0cb7d6ad7"
  },
  {
   "cell_type": "code",
   "execution_count": 100,
   "outputs": [
    {
     "data": {
      "text/plain": "    tradedate tradetime secid  pr_open  pr_high  pr_low  pr_close  pr_std  \\\n0  2023-10-02  10:05:00  CBOM    7.050    7.050   7.043     7.048  0.0002   \n1  2023-10-02  10:10:00  CBOM    7.049    7.054   7.045     7.053  0.0002   \n2  2023-10-02  10:15:00  CBOM    7.053    7.054   7.031     7.047  0.0003   \n3  2023-10-02  10:20:00  CBOM    7.047    7.067   7.047     7.058  0.0002   \n4  2023-10-02  10:25:00  CBOM    7.058    7.060   7.054     7.059  0.0003   \n\n    vol      val  trades  pr_vwap  pr_change  trades_b  trades_s    val_b  \\\n0  3556  2506629      43    7.049    -0.0284        26        17  1294299   \n1  3284  2314612      56    7.048     0.0567        39        17   881339   \n2  6544  4610734      77    7.046    -0.0851        49        28  1855260   \n3  2754  1941936      69    7.051     0.1561        46        23  1719004   \n4  1766  1246480      42    7.058     0.0142        22        20  1028474   \n\n     val_s  vol_b  vol_s  disb  pr_vwap_b  pr_vwap_s              SYSTIME  \n0  1212330   1836   1720  0.03      7.050      7.048  2023-10-26 16:02:26  \n1  1433272   1250   2034 -0.24      7.051      7.047  2023-10-26 16:02:26  \n2  2755473   2633   3911 -0.20      7.046      7.045  2023-10-26 16:02:27  \n3   222932   2438    316  0.77      7.051      7.055  2023-10-26 16:02:27  \n4   218005   1457    309  0.65      7.059      7.055  2023-10-26 16:02:28  ",
      "text/html": "<div>\n<style scoped>\n    .dataframe tbody tr th:only-of-type {\n        vertical-align: middle;\n    }\n\n    .dataframe tbody tr th {\n        vertical-align: top;\n    }\n\n    .dataframe thead th {\n        text-align: right;\n    }\n</style>\n<table border=\"1\" class=\"dataframe\">\n  <thead>\n    <tr style=\"text-align: right;\">\n      <th></th>\n      <th>tradedate</th>\n      <th>tradetime</th>\n      <th>secid</th>\n      <th>pr_open</th>\n      <th>pr_high</th>\n      <th>pr_low</th>\n      <th>pr_close</th>\n      <th>pr_std</th>\n      <th>vol</th>\n      <th>val</th>\n      <th>trades</th>\n      <th>pr_vwap</th>\n      <th>pr_change</th>\n      <th>trades_b</th>\n      <th>trades_s</th>\n      <th>val_b</th>\n      <th>val_s</th>\n      <th>vol_b</th>\n      <th>vol_s</th>\n      <th>disb</th>\n      <th>pr_vwap_b</th>\n      <th>pr_vwap_s</th>\n      <th>SYSTIME</th>\n    </tr>\n  </thead>\n  <tbody>\n    <tr>\n      <th>0</th>\n      <td>2023-10-02</td>\n      <td>10:05:00</td>\n      <td>CBOM</td>\n      <td>7.050</td>\n      <td>7.050</td>\n      <td>7.043</td>\n      <td>7.048</td>\n      <td>0.0002</td>\n      <td>3556</td>\n      <td>2506629</td>\n      <td>43</td>\n      <td>7.049</td>\n      <td>-0.0284</td>\n      <td>26</td>\n      <td>17</td>\n      <td>1294299</td>\n      <td>1212330</td>\n      <td>1836</td>\n      <td>1720</td>\n      <td>0.03</td>\n      <td>7.050</td>\n      <td>7.048</td>\n      <td>2023-10-26 16:02:26</td>\n    </tr>\n    <tr>\n      <th>1</th>\n      <td>2023-10-02</td>\n      <td>10:10:00</td>\n      <td>CBOM</td>\n      <td>7.049</td>\n      <td>7.054</td>\n      <td>7.045</td>\n      <td>7.053</td>\n      <td>0.0002</td>\n      <td>3284</td>\n      <td>2314612</td>\n      <td>56</td>\n      <td>7.048</td>\n      <td>0.0567</td>\n      <td>39</td>\n      <td>17</td>\n      <td>881339</td>\n      <td>1433272</td>\n      <td>1250</td>\n      <td>2034</td>\n      <td>-0.24</td>\n      <td>7.051</td>\n      <td>7.047</td>\n      <td>2023-10-26 16:02:26</td>\n    </tr>\n    <tr>\n      <th>2</th>\n      <td>2023-10-02</td>\n      <td>10:15:00</td>\n      <td>CBOM</td>\n      <td>7.053</td>\n      <td>7.054</td>\n      <td>7.031</td>\n      <td>7.047</td>\n      <td>0.0003</td>\n      <td>6544</td>\n      <td>4610734</td>\n      <td>77</td>\n      <td>7.046</td>\n      <td>-0.0851</td>\n      <td>49</td>\n      <td>28</td>\n      <td>1855260</td>\n      <td>2755473</td>\n      <td>2633</td>\n      <td>3911</td>\n      <td>-0.20</td>\n      <td>7.046</td>\n      <td>7.045</td>\n      <td>2023-10-26 16:02:27</td>\n    </tr>\n    <tr>\n      <th>3</th>\n      <td>2023-10-02</td>\n      <td>10:20:00</td>\n      <td>CBOM</td>\n      <td>7.047</td>\n      <td>7.067</td>\n      <td>7.047</td>\n      <td>7.058</td>\n      <td>0.0002</td>\n      <td>2754</td>\n      <td>1941936</td>\n      <td>69</td>\n      <td>7.051</td>\n      <td>0.1561</td>\n      <td>46</td>\n      <td>23</td>\n      <td>1719004</td>\n      <td>222932</td>\n      <td>2438</td>\n      <td>316</td>\n      <td>0.77</td>\n      <td>7.051</td>\n      <td>7.055</td>\n      <td>2023-10-26 16:02:27</td>\n    </tr>\n    <tr>\n      <th>4</th>\n      <td>2023-10-02</td>\n      <td>10:25:00</td>\n      <td>CBOM</td>\n      <td>7.058</td>\n      <td>7.060</td>\n      <td>7.054</td>\n      <td>7.059</td>\n      <td>0.0003</td>\n      <td>1766</td>\n      <td>1246480</td>\n      <td>42</td>\n      <td>7.058</td>\n      <td>0.0142</td>\n      <td>22</td>\n      <td>20</td>\n      <td>1028474</td>\n      <td>218005</td>\n      <td>1457</td>\n      <td>309</td>\n      <td>0.65</td>\n      <td>7.059</td>\n      <td>7.055</td>\n      <td>2023-10-26 16:02:28</td>\n    </tr>\n  </tbody>\n</table>\n</div>"
     },
     "execution_count": 100,
     "metadata": {},
     "output_type": "execute_result"
    }
   ],
   "source": [
    "df.head()"
   ],
   "metadata": {
    "collapsed": false,
    "ExecuteTime": {
     "end_time": "2023-12-02T20:26:39.356215Z",
     "start_time": "2023-12-02T20:26:39.342976Z"
    }
   },
   "id": "8b6fb1b0dca16419"
  },
  {
   "cell_type": "code",
   "execution_count": 102,
   "outputs": [
    {
     "data": {
      "text/plain": "Index(['tradedate', 'tradetime', 'secid', 'pr_open', 'pr_high', 'pr_low',\n       'pr_close', 'pr_std', 'vol', 'val', 'trades', 'pr_vwap', 'pr_change',\n       'trades_b', 'trades_s', 'val_b', 'val_s', 'vol_b', 'vol_s', 'disb',\n       'pr_vwap_b', 'pr_vwap_s', 'SYSTIME'],\n      dtype='object')"
     },
     "execution_count": 102,
     "metadata": {},
     "output_type": "execute_result"
    }
   ],
   "source": [
    "df.columns"
   ],
   "metadata": {
    "collapsed": false,
    "ExecuteTime": {
     "end_time": "2023-12-02T21:31:48.256396Z",
     "start_time": "2023-12-02T21:31:48.249043Z"
    }
   },
   "id": "bfdd593556dc8f11"
  },
  {
   "cell_type": "code",
   "execution_count": 126,
   "outputs": [],
   "source": [
    "df = pd.read_csv('tradestats_CBOM.csv', engine='python', encoding='cp1251', sep=',')"
   ],
   "metadata": {
    "collapsed": false,
    "ExecuteTime": {
     "end_time": "2023-12-02T21:45:28.820399Z",
     "start_time": "2023-12-02T21:45:28.807339Z"
    }
   },
   "id": "981319b8a50580e8"
  },
  {
   "cell_type": "code",
   "execution_count": 127,
   "outputs": [],
   "source": [
    "df.loc[:,'trade_datetime'] = pd.to_datetime(df.tradedate.astype(str)+' '+df.tradetime.astype(str))\n",
    "\n",
    "df = df[['trade_datetime', 'pr_open', 'pr_high', 'pr_low', 'vol', 'val', 'trades','trades_b', 'trades_s', 'val_b', 'val_s', 'vol_b', 'vol_s','pr_close']]\n",
    "\n",
    "df.columns = ['trade_datetime', 'pr_open', 'pr_high', 'pr_low', 'vol', 'val', 'trades','trades_b', 'trades_s', 'val_b', 'val_s', 'vol_b', 'vol_s','target']\n",
    "\n",
    "df[\"segment\"] = \"main\"\n",
    "\n",
    "df_etna = df\n"
   ],
   "metadata": {
    "collapsed": false,
    "ExecuteTime": {
     "end_time": "2023-12-02T21:45:29.028181Z",
     "start_time": "2023-12-02T21:45:29.023455Z"
    }
   },
   "id": "16667581683f532c"
  },
  {
   "cell_type": "code",
   "execution_count": 128,
   "outputs": [
    {
     "name": "stdout",
     "output_type": "stream",
     "text": [
      "<class 'pandas.core.frame.DataFrame'>\n",
      "RangeIndex: 726 entries, 0 to 725\n",
      "Data columns (total 15 columns):\n",
      " #   Column          Non-Null Count  Dtype         \n",
      "---  ------          --------------  -----         \n",
      " 0   trade_datetime  726 non-null    datetime64[ns]\n",
      " 1   pr_open         726 non-null    float64       \n",
      " 2   pr_high         726 non-null    float64       \n",
      " 3   pr_low          726 non-null    float64       \n",
      " 4   vol             726 non-null    int64         \n",
      " 5   val             726 non-null    int64         \n",
      " 6   trades          726 non-null    int64         \n",
      " 7   trades_b        726 non-null    int64         \n",
      " 8   trades_s        726 non-null    int64         \n",
      " 9   val_b           726 non-null    int64         \n",
      " 10  val_s           726 non-null    int64         \n",
      " 11  vol_b           726 non-null    int64         \n",
      " 12  vol_s           726 non-null    int64         \n",
      " 13  target          726 non-null    float64       \n",
      " 14  segment         726 non-null    object        \n",
      "dtypes: datetime64[ns](1), float64(4), int64(9), object(1)\n",
      "memory usage: 85.2+ KB\n"
     ]
    }
   ],
   "source": [
    "df_etna.info()"
   ],
   "metadata": {
    "collapsed": false,
    "ExecuteTime": {
     "end_time": "2023-12-02T21:45:34.613686Z",
     "start_time": "2023-12-02T21:45:34.609401Z"
    }
   },
   "id": "a724ff75ad926437"
  },
  {
   "cell_type": "raw",
   "source": [
    "!conda install python=3.10"
   ],
   "metadata": {
    "collapsed": false
   },
   "id": "3f9c8e2958ef54ea"
  },
  {
   "cell_type": "code",
   "execution_count": 33,
   "outputs": [
    {
     "name": "stdout",
     "output_type": "stream",
     "text": [
      "python: can't open file '/Users/valentin/PycharmProjects/Go.Algo/virtualenv': [Errno 2] No such file or directory\r\n"
     ]
    }
   ],
   "source": [
    "!virtualenv -p /usr/bin/python3.10 jupyter_environment"
   ],
   "metadata": {
    "collapsed": false,
    "ExecuteTime": {
     "end_time": "2023-12-02T22:14:15.550531Z",
     "start_time": "2023-12-02T22:14:15.366615Z"
    }
   },
   "id": "9bcbb9d723c6e61f"
  },
  {
   "cell_type": "code",
   "execution_count": null,
   "outputs": [],
   "source": [
    "!source jupyter_environment/bin/activate"
   ],
   "metadata": {
    "collapsed": false
   },
   "id": "6859dc5db562c86c"
  },
  {
   "cell_type": "code",
   "execution_count": null,
   "outputs": [],
   "source": [
    "!jupyter notebook --allow-root"
   ],
   "metadata": {
    "collapsed": false
   },
   "id": "54f8c68647052664"
  },
  {
   "cell_type": "code",
   "execution_count": 34,
   "outputs": [
    {
     "name": "stdout",
     "output_type": "stream",
     "text": [
      "Python 3.10.13\r\n"
     ]
    }
   ],
   "source": [
    "!python -V "
   ],
   "metadata": {
    "collapsed": false,
    "ExecuteTime": {
     "end_time": "2023-12-02T22:15:01.454366Z",
     "start_time": "2023-12-02T22:15:01.298630Z"
    }
   },
   "id": "391b6d2a7dcfb3ce"
  },
  {
   "cell_type": "code",
   "execution_count": 25,
   "outputs": [
    {
     "name": "stdout",
     "output_type": "stream",
     "text": [
      "Requirement already satisfied: pip in /Users/valentin/anaconda3/envs/Go.Algo/lib/python3.10/site-packages (23.3.1)\r\n",
      "Requirement already satisfied: etna in /Users/valentin/anaconda3/envs/Go.Algo/lib/python3.10/site-packages (2.3.0)\r\n",
      "Requirement already satisfied: Bottleneck<2.0.0,>=1.3.4 in /Users/valentin/anaconda3/envs/Go.Algo/lib/python3.10/site-packages (from etna) (1.3.7)\r\n",
      "Requirement already satisfied: Deprecated==1.2.13 in /Users/valentin/anaconda3/envs/Go.Algo/lib/python3.10/site-packages (from etna) (1.2.13)\r\n",
      "Requirement already satisfied: boto3<2.0,>=1.5 in /Users/valentin/anaconda3/envs/Go.Algo/lib/python3.10/site-packages (from etna) (1.33.6)\r\n",
      "Requirement already satisfied: botocore in /Users/valentin/anaconda3/envs/Go.Algo/lib/python3.10/site-packages (from etna) (1.33.6)\r\n",
      "Requirement already satisfied: catboost>=0.21 in /Users/valentin/anaconda3/envs/Go.Algo/lib/python3.10/site-packages (from etna) (1.2.2)\r\n",
      "Requirement already satisfied: dill<0.4.0,>=0.3.4 in /Users/valentin/anaconda3/envs/Go.Algo/lib/python3.10/site-packages (from etna) (0.3.7)\r\n",
      "Requirement already satisfied: holidays<1.0,>=0.13 in /Users/valentin/anaconda3/envs/Go.Algo/lib/python3.10/site-packages (from etna) (0.37)\r\n",
      "Requirement already satisfied: hydra-slayer<0.3.0,>=0.2.0 in /Users/valentin/anaconda3/envs/Go.Algo/lib/python3.10/site-packages (from etna) (0.2.0)\r\n",
      "Requirement already satisfied: ipywidgets<8.0.0,>=7.6.5 in /Users/valentin/anaconda3/envs/Go.Algo/lib/python3.10/site-packages (from etna) (7.8.1)\r\n",
      "Requirement already satisfied: joblib in /Users/valentin/anaconda3/envs/Go.Algo/lib/python3.10/site-packages (from etna) (1.3.2)\r\n",
      "Requirement already satisfied: loguru<0.6.0,>=0.5.3 in /Users/valentin/anaconda3/envs/Go.Algo/lib/python3.10/site-packages (from etna) (0.5.3)\r\n",
      "Requirement already satisfied: matplotlib in /Users/valentin/anaconda3/envs/Go.Algo/lib/python3.10/site-packages (from etna) (3.8.0)\r\n",
      "Requirement already satisfied: numba>=0.53.1 in /Users/valentin/anaconda3/envs/Go.Algo/lib/python3.10/site-packages (from etna) (0.58.1)\r\n",
      "Requirement already satisfied: numpy in /Users/valentin/anaconda3/envs/Go.Algo/lib/python3.10/site-packages (from etna) (1.26.2)\r\n",
      "Requirement already satisfied: omegaconf<3.0.0,>=2.1.1 in /Users/valentin/anaconda3/envs/Go.Algo/lib/python3.10/site-packages (from etna) (2.3.0)\r\n",
      "Requirement already satisfied: pandas<2.0,>=1.1 in /Users/valentin/anaconda3/envs/Go.Algo/lib/python3.10/site-packages (from etna) (1.5.3)\r\n",
      "Requirement already satisfied: plotly in /Users/valentin/anaconda3/envs/Go.Algo/lib/python3.10/site-packages (from etna) (5.18.0)\r\n",
      "Requirement already satisfied: pmdarima>=1.8.0 in /Users/valentin/anaconda3/envs/Go.Algo/lib/python3.10/site-packages (from etna) (2.0.4)\r\n",
      "Requirement already satisfied: ruptures<2.0.0,>=1.1.5 in /Users/valentin/anaconda3/envs/Go.Algo/lib/python3.10/site-packages (from etna) (1.1.8)\r\n",
      "Requirement already satisfied: scikit-learn<2,>=0.24 in /Users/valentin/anaconda3/envs/Go.Algo/lib/python3.10/site-packages (from etna) (1.3.2)\r\n",
      "Requirement already satisfied: scipy<2.0,>=1.0 in /Users/valentin/anaconda3/envs/Go.Algo/lib/python3.10/site-packages (from etna) (1.11.4)\r\n",
      "Requirement already satisfied: seaborn<0.12.0,>=0.11.1 in /Users/valentin/anaconda3/envs/Go.Algo/lib/python3.10/site-packages (from etna) (0.11.2)\r\n",
      "Requirement already satisfied: statsmodels<0.14,>=0.12 in /Users/valentin/anaconda3/envs/Go.Algo/lib/python3.10/site-packages (from etna) (0.13.5)\r\n",
      "Requirement already satisfied: tbats<2.0.0,>=1.1.0 in /Users/valentin/anaconda3/envs/Go.Algo/lib/python3.10/site-packages (from etna) (1.1.3)\r\n",
      "Requirement already satisfied: toml<0.11.0,>=0.10.2 in /Users/valentin/anaconda3/envs/Go.Algo/lib/python3.10/site-packages (from etna) (0.10.2)\r\n",
      "Requirement already satisfied: typer<0.5.0,>=0.4.0 in /Users/valentin/anaconda3/envs/Go.Algo/lib/python3.10/site-packages (from etna) (0.4.2)\r\n",
      "Requirement already satisfied: types-Deprecated==1.2.9 in /Users/valentin/anaconda3/envs/Go.Algo/lib/python3.10/site-packages (from etna) (1.2.9)\r\n",
      "Requirement already satisfied: typing_extensions in /Users/valentin/anaconda3/envs/Go.Algo/lib/python3.10/site-packages (from etna) (4.7.1)\r\n",
      "Requirement already satisfied: wrapt<2,>=1.10 in /Users/valentin/anaconda3/envs/Go.Algo/lib/python3.10/site-packages (from Deprecated==1.2.13->etna) (1.16.0)\r\n",
      "Requirement already satisfied: jmespath<2.0.0,>=0.7.1 in /Users/valentin/anaconda3/envs/Go.Algo/lib/python3.10/site-packages (from boto3<2.0,>=1.5->etna) (1.0.1)\r\n",
      "Requirement already satisfied: s3transfer<0.9.0,>=0.8.2 in /Users/valentin/anaconda3/envs/Go.Algo/lib/python3.10/site-packages (from boto3<2.0,>=1.5->etna) (0.8.2)\r\n",
      "Requirement already satisfied: python-dateutil<3.0.0,>=2.1 in /Users/valentin/anaconda3/envs/Go.Algo/lib/python3.10/site-packages (from botocore->etna) (2.8.2)\r\n",
      "Requirement already satisfied: urllib3<2.1,>=1.25.4 in /Users/valentin/anaconda3/envs/Go.Algo/lib/python3.10/site-packages (from botocore->etna) (2.0.7)\r\n",
      "Requirement already satisfied: graphviz in /Users/valentin/anaconda3/envs/Go.Algo/lib/python3.10/site-packages (from catboost>=0.21->etna) (0.20.1)\r\n",
      "Requirement already satisfied: six in /Users/valentin/anaconda3/envs/Go.Algo/lib/python3.10/site-packages (from catboost>=0.21->etna) (1.16.0)\r\n",
      "Requirement already satisfied: comm>=0.1.3 in /Users/valentin/anaconda3/envs/Go.Algo/lib/python3.10/site-packages (from ipywidgets<8.0.0,>=7.6.5->etna) (0.2.0)\r\n",
      "Requirement already satisfied: ipython-genutils~=0.2.0 in /Users/valentin/anaconda3/envs/Go.Algo/lib/python3.10/site-packages (from ipywidgets<8.0.0,>=7.6.5->etna) (0.2.0)\r\n",
      "Requirement already satisfied: traitlets>=4.3.1 in /Users/valentin/anaconda3/envs/Go.Algo/lib/python3.10/site-packages (from ipywidgets<8.0.0,>=7.6.5->etna) (5.7.1)\r\n",
      "Requirement already satisfied: widgetsnbextension~=3.6.6 in /Users/valentin/anaconda3/envs/Go.Algo/lib/python3.10/site-packages (from ipywidgets<8.0.0,>=7.6.5->etna) (3.6.6)\r\n",
      "Requirement already satisfied: ipython>=4.0.0 in /Users/valentin/anaconda3/envs/Go.Algo/lib/python3.10/site-packages (from ipywidgets<8.0.0,>=7.6.5->etna) (8.15.0)\r\n",
      "Requirement already satisfied: jupyterlab-widgets<3,>=1.0.0 in /Users/valentin/anaconda3/envs/Go.Algo/lib/python3.10/site-packages (from ipywidgets<8.0.0,>=7.6.5->etna) (1.1.7)\r\n",
      "Requirement already satisfied: llvmlite<0.42,>=0.41.0dev0 in /Users/valentin/anaconda3/envs/Go.Algo/lib/python3.10/site-packages (from numba>=0.53.1->etna) (0.41.1)\r\n",
      "Requirement already satisfied: antlr4-python3-runtime==4.9.* in /Users/valentin/anaconda3/envs/Go.Algo/lib/python3.10/site-packages (from omegaconf<3.0.0,>=2.1.1->etna) (4.9.3)\r\n",
      "Requirement already satisfied: PyYAML>=5.1.0 in /Users/valentin/anaconda3/envs/Go.Algo/lib/python3.10/site-packages (from omegaconf<3.0.0,>=2.1.1->etna) (6.0.1)\r\n",
      "Requirement already satisfied: pytz>=2020.1 in /Users/valentin/anaconda3/envs/Go.Algo/lib/python3.10/site-packages (from pandas<2.0,>=1.1->etna) (2023.3.post1)\r\n",
      "Requirement already satisfied: Cython!=0.29.18,!=0.29.31,>=0.29 in /Users/valentin/anaconda3/envs/Go.Algo/lib/python3.10/site-packages (from pmdarima>=1.8.0->etna) (3.0.6)\r\n",
      "Requirement already satisfied: setuptools!=50.0.0,>=38.6.0 in /Users/valentin/anaconda3/envs/Go.Algo/lib/python3.10/site-packages (from pmdarima>=1.8.0->etna) (68.0.0)\r\n",
      "Requirement already satisfied: packaging>=17.1 in /Users/valentin/anaconda3/envs/Go.Algo/lib/python3.10/site-packages (from pmdarima>=1.8.0->etna) (23.1)\r\n",
      "Requirement already satisfied: threadpoolctl>=2.0.0 in /Users/valentin/anaconda3/envs/Go.Algo/lib/python3.10/site-packages (from scikit-learn<2,>=0.24->etna) (3.2.0)\r\n",
      "Requirement already satisfied: contourpy>=1.0.1 in /Users/valentin/anaconda3/envs/Go.Algo/lib/python3.10/site-packages (from matplotlib->etna) (1.2.0)\r\n",
      "Requirement already satisfied: cycler>=0.10 in /Users/valentin/anaconda3/envs/Go.Algo/lib/python3.10/site-packages (from matplotlib->etna) (0.11.0)\r\n",
      "Requirement already satisfied: fonttools>=4.22.0 in /Users/valentin/anaconda3/envs/Go.Algo/lib/python3.10/site-packages (from matplotlib->etna) (4.25.0)\r\n",
      "Requirement already satisfied: kiwisolver>=1.0.1 in /Users/valentin/anaconda3/envs/Go.Algo/lib/python3.10/site-packages (from matplotlib->etna) (1.4.4)\r\n",
      "Requirement already satisfied: pillow>=6.2.0 in /Users/valentin/anaconda3/envs/Go.Algo/lib/python3.10/site-packages (from matplotlib->etna) (10.0.1)\r\n",
      "Requirement already satisfied: pyparsing>=2.3.1 in /Users/valentin/anaconda3/envs/Go.Algo/lib/python3.10/site-packages (from matplotlib->etna) (3.0.9)\r\n",
      "Requirement already satisfied: patsy>=0.5.2 in /Users/valentin/anaconda3/envs/Go.Algo/lib/python3.10/site-packages (from statsmodels<0.14,>=0.12->etna) (0.5.4)\r\n",
      "Requirement already satisfied: click<9.0.0,>=7.1.1 in /Users/valentin/anaconda3/envs/Go.Algo/lib/python3.10/site-packages (from typer<0.5.0,>=0.4.0->etna) (8.1.7)\r\n",
      "Requirement already satisfied: tenacity>=6.2.0 in /Users/valentin/anaconda3/envs/Go.Algo/lib/python3.10/site-packages (from plotly->etna) (8.2.3)\r\n",
      "Requirement already satisfied: backcall in /Users/valentin/anaconda3/envs/Go.Algo/lib/python3.10/site-packages (from ipython>=4.0.0->ipywidgets<8.0.0,>=7.6.5->etna) (0.2.0)\r\n",
      "Requirement already satisfied: decorator in /Users/valentin/anaconda3/envs/Go.Algo/lib/python3.10/site-packages (from ipython>=4.0.0->ipywidgets<8.0.0,>=7.6.5->etna) (5.1.1)\r\n",
      "Requirement already satisfied: jedi>=0.16 in /Users/valentin/anaconda3/envs/Go.Algo/lib/python3.10/site-packages (from ipython>=4.0.0->ipywidgets<8.0.0,>=7.6.5->etna) (0.18.1)\r\n",
      "Requirement already satisfied: matplotlib-inline in /Users/valentin/anaconda3/envs/Go.Algo/lib/python3.10/site-packages (from ipython>=4.0.0->ipywidgets<8.0.0,>=7.6.5->etna) (0.1.6)\r\n",
      "Requirement already satisfied: pickleshare in /Users/valentin/anaconda3/envs/Go.Algo/lib/python3.10/site-packages (from ipython>=4.0.0->ipywidgets<8.0.0,>=7.6.5->etna) (0.7.5)\r\n",
      "Requirement already satisfied: prompt-toolkit!=3.0.37,<3.1.0,>=3.0.30 in /Users/valentin/anaconda3/envs/Go.Algo/lib/python3.10/site-packages (from ipython>=4.0.0->ipywidgets<8.0.0,>=7.6.5->etna) (3.0.36)\r\n",
      "Requirement already satisfied: pygments>=2.4.0 in /Users/valentin/anaconda3/envs/Go.Algo/lib/python3.10/site-packages (from ipython>=4.0.0->ipywidgets<8.0.0,>=7.6.5->etna) (2.15.1)\r\n",
      "Requirement already satisfied: stack-data in /Users/valentin/anaconda3/envs/Go.Algo/lib/python3.10/site-packages (from ipython>=4.0.0->ipywidgets<8.0.0,>=7.6.5->etna) (0.2.0)\r\n",
      "Requirement already satisfied: exceptiongroup in /Users/valentin/anaconda3/envs/Go.Algo/lib/python3.10/site-packages (from ipython>=4.0.0->ipywidgets<8.0.0,>=7.6.5->etna) (1.0.4)\r\n",
      "Requirement already satisfied: pexpect>4.3 in /Users/valentin/anaconda3/envs/Go.Algo/lib/python3.10/site-packages (from ipython>=4.0.0->ipywidgets<8.0.0,>=7.6.5->etna) (4.8.0)\r\n",
      "Requirement already satisfied: appnope in /Users/valentin/anaconda3/envs/Go.Algo/lib/python3.10/site-packages (from ipython>=4.0.0->ipywidgets<8.0.0,>=7.6.5->etna) (0.1.2)\r\n",
      "Requirement already satisfied: notebook>=4.4.1 in /Users/valentin/anaconda3/envs/Go.Algo/lib/python3.10/site-packages (from widgetsnbextension~=3.6.6->ipywidgets<8.0.0,>=7.6.5->etna) (6.5.4)\r\n",
      "Requirement already satisfied: parso<0.9.0,>=0.8.0 in /Users/valentin/anaconda3/envs/Go.Algo/lib/python3.10/site-packages (from jedi>=0.16->ipython>=4.0.0->ipywidgets<8.0.0,>=7.6.5->etna) (0.8.3)\r\n",
      "Requirement already satisfied: jinja2 in /Users/valentin/anaconda3/envs/Go.Algo/lib/python3.10/site-packages (from notebook>=4.4.1->widgetsnbextension~=3.6.6->ipywidgets<8.0.0,>=7.6.5->etna) (3.1.2)\r\n",
      "Requirement already satisfied: tornado>=6.1 in /Users/valentin/anaconda3/envs/Go.Algo/lib/python3.10/site-packages (from notebook>=4.4.1->widgetsnbextension~=3.6.6->ipywidgets<8.0.0,>=7.6.5->etna) (6.3.3)\r\n",
      "Requirement already satisfied: pyzmq>=17 in /Users/valentin/anaconda3/envs/Go.Algo/lib/python3.10/site-packages (from notebook>=4.4.1->widgetsnbextension~=3.6.6->ipywidgets<8.0.0,>=7.6.5->etna) (23.2.0)\r\n",
      "Requirement already satisfied: argon2-cffi in /Users/valentin/anaconda3/envs/Go.Algo/lib/python3.10/site-packages (from notebook>=4.4.1->widgetsnbextension~=3.6.6->ipywidgets<8.0.0,>=7.6.5->etna) (21.3.0)\r\n",
      "Requirement already satisfied: jupyter-core>=4.6.1 in /Users/valentin/anaconda3/envs/Go.Algo/lib/python3.10/site-packages (from notebook>=4.4.1->widgetsnbextension~=3.6.6->ipywidgets<8.0.0,>=7.6.5->etna) (5.5.0)\r\n",
      "Requirement already satisfied: jupyter-client>=5.3.4 in /Users/valentin/anaconda3/envs/Go.Algo/lib/python3.10/site-packages (from notebook>=4.4.1->widgetsnbextension~=3.6.6->ipywidgets<8.0.0,>=7.6.5->etna) (7.4.9)\r\n",
      "Requirement already satisfied: nbformat in /Users/valentin/anaconda3/envs/Go.Algo/lib/python3.10/site-packages (from notebook>=4.4.1->widgetsnbextension~=3.6.6->ipywidgets<8.0.0,>=7.6.5->etna) (5.1.3)\r\n",
      "Requirement already satisfied: nbconvert>=5 in /Users/valentin/anaconda3/envs/Go.Algo/lib/python3.10/site-packages (from notebook>=4.4.1->widgetsnbextension~=3.6.6->ipywidgets<8.0.0,>=7.6.5->etna) (5.5.0)\r\n",
      "Requirement already satisfied: nest-asyncio>=1.5 in /Users/valentin/anaconda3/envs/Go.Algo/lib/python3.10/site-packages (from notebook>=4.4.1->widgetsnbextension~=3.6.6->ipywidgets<8.0.0,>=7.6.5->etna) (1.5.6)\r\n",
      "Requirement already satisfied: ipykernel in /Users/valentin/anaconda3/envs/Go.Algo/lib/python3.10/site-packages (from notebook>=4.4.1->widgetsnbextension~=3.6.6->ipywidgets<8.0.0,>=7.6.5->etna) (6.25.0)\r\n",
      "Requirement already satisfied: Send2Trash>=1.8.0 in /Users/valentin/anaconda3/envs/Go.Algo/lib/python3.10/site-packages (from notebook>=4.4.1->widgetsnbextension~=3.6.6->ipywidgets<8.0.0,>=7.6.5->etna) (1.8.2)\r\n",
      "Requirement already satisfied: terminado>=0.8.3 in /Users/valentin/anaconda3/envs/Go.Algo/lib/python3.10/site-packages (from notebook>=4.4.1->widgetsnbextension~=3.6.6->ipywidgets<8.0.0,>=7.6.5->etna) (0.17.1)\r\n",
      "Requirement already satisfied: prometheus-client in /Users/valentin/anaconda3/envs/Go.Algo/lib/python3.10/site-packages (from notebook>=4.4.1->widgetsnbextension~=3.6.6->ipywidgets<8.0.0,>=7.6.5->etna) (0.14.1)\r\n",
      "Requirement already satisfied: nbclassic>=0.4.7 in /Users/valentin/anaconda3/envs/Go.Algo/lib/python3.10/site-packages (from notebook>=4.4.1->widgetsnbextension~=3.6.6->ipywidgets<8.0.0,>=7.6.5->etna) (1.0.0)\r\n",
      "Requirement already satisfied: ptyprocess>=0.5 in /Users/valentin/anaconda3/envs/Go.Algo/lib/python3.10/site-packages (from pexpect>4.3->ipython>=4.0.0->ipywidgets<8.0.0,>=7.6.5->etna) (0.7.0)\r\n",
      "Requirement already satisfied: wcwidth in /Users/valentin/anaconda3/envs/Go.Algo/lib/python3.10/site-packages (from prompt-toolkit!=3.0.37,<3.1.0,>=3.0.30->ipython>=4.0.0->ipywidgets<8.0.0,>=7.6.5->etna) (0.2.5)\r\n",
      "Requirement already satisfied: executing in /Users/valentin/anaconda3/envs/Go.Algo/lib/python3.10/site-packages (from stack-data->ipython>=4.0.0->ipywidgets<8.0.0,>=7.6.5->etna) (0.8.3)\r\n",
      "Requirement already satisfied: asttokens in /Users/valentin/anaconda3/envs/Go.Algo/lib/python3.10/site-packages (from stack-data->ipython>=4.0.0->ipywidgets<8.0.0,>=7.6.5->etna) (2.0.5)\r\n",
      "Requirement already satisfied: pure-eval in /Users/valentin/anaconda3/envs/Go.Algo/lib/python3.10/site-packages (from stack-data->ipython>=4.0.0->ipywidgets<8.0.0,>=7.6.5->etna) (0.2.2)\r\n",
      "Requirement already satisfied: entrypoints in /Users/valentin/anaconda3/envs/Go.Algo/lib/python3.10/site-packages (from jupyter-client>=5.3.4->notebook>=4.4.1->widgetsnbextension~=3.6.6->ipywidgets<8.0.0,>=7.6.5->etna) (0.4)\r\n",
      "Requirement already satisfied: platformdirs>=2.5 in /Users/valentin/anaconda3/envs/Go.Algo/lib/python3.10/site-packages (from jupyter-core>=4.6.1->notebook>=4.4.1->widgetsnbextension~=3.6.6->ipywidgets<8.0.0,>=7.6.5->etna) (3.10.0)\r\n",
      "Requirement already satisfied: jupyter-server>=1.8 in /Users/valentin/anaconda3/envs/Go.Algo/lib/python3.10/site-packages (from nbclassic>=0.4.7->notebook>=4.4.1->widgetsnbextension~=3.6.6->ipywidgets<8.0.0,>=7.6.5->etna) (1.13.5)\r\n",
      "Requirement already satisfied: notebook-shim>=0.2.3 in /Users/valentin/anaconda3/envs/Go.Algo/lib/python3.10/site-packages (from nbclassic>=0.4.7->notebook>=4.4.1->widgetsnbextension~=3.6.6->ipywidgets<8.0.0,>=7.6.5->etna) (0.2.3)\r\n",
      "Requirement already satisfied: mistune>=0.8.1 in /Users/valentin/anaconda3/envs/Go.Algo/lib/python3.10/site-packages (from nbconvert>=5->notebook>=4.4.1->widgetsnbextension~=3.6.6->ipywidgets<8.0.0,>=7.6.5->etna) (0.8.4)\r\n",
      "Requirement already satisfied: bleach in /Users/valentin/anaconda3/envs/Go.Algo/lib/python3.10/site-packages (from nbconvert>=5->notebook>=4.4.1->widgetsnbextension~=3.6.6->ipywidgets<8.0.0,>=7.6.5->etna) (4.1.0)\r\n",
      "Requirement already satisfied: pandocfilters>=1.4.1 in /Users/valentin/anaconda3/envs/Go.Algo/lib/python3.10/site-packages (from nbconvert>=5->notebook>=4.4.1->widgetsnbextension~=3.6.6->ipywidgets<8.0.0,>=7.6.5->etna) (1.5.0)\r\n",
      "Requirement already satisfied: testpath in /Users/valentin/anaconda3/envs/Go.Algo/lib/python3.10/site-packages (from nbconvert>=5->notebook>=4.4.1->widgetsnbextension~=3.6.6->ipywidgets<8.0.0,>=7.6.5->etna) (0.6.0)\r\n",
      "Requirement already satisfied: defusedxml in /Users/valentin/anaconda3/envs/Go.Algo/lib/python3.10/site-packages (from nbconvert>=5->notebook>=4.4.1->widgetsnbextension~=3.6.6->ipywidgets<8.0.0,>=7.6.5->etna) (0.7.1)\r\n",
      "Requirement already satisfied: MarkupSafe>=2.0 in /Users/valentin/anaconda3/envs/Go.Algo/lib/python3.10/site-packages (from jinja2->notebook>=4.4.1->widgetsnbextension~=3.6.6->ipywidgets<8.0.0,>=7.6.5->etna) (2.1.1)\r\n",
      "Requirement already satisfied: jsonschema!=2.5.0,>=2.4 in /Users/valentin/anaconda3/envs/Go.Algo/lib/python3.10/site-packages (from nbformat->notebook>=4.4.1->widgetsnbextension~=3.6.6->ipywidgets<8.0.0,>=7.6.5->etna) (4.17.3)\r\n",
      "Requirement already satisfied: argon2-cffi-bindings in /Users/valentin/anaconda3/envs/Go.Algo/lib/python3.10/site-packages (from argon2-cffi->notebook>=4.4.1->widgetsnbextension~=3.6.6->ipywidgets<8.0.0,>=7.6.5->etna) (21.2.0)\r\n",
      "Requirement already satisfied: debugpy>=1.6.5 in /Users/valentin/anaconda3/envs/Go.Algo/lib/python3.10/site-packages (from ipykernel->notebook>=4.4.1->widgetsnbextension~=3.6.6->ipywidgets<8.0.0,>=7.6.5->etna) (1.6.7)\r\n",
      "Requirement already satisfied: psutil in /Users/valentin/anaconda3/envs/Go.Algo/lib/python3.10/site-packages (from ipykernel->notebook>=4.4.1->widgetsnbextension~=3.6.6->ipywidgets<8.0.0,>=7.6.5->etna) (5.9.0)\r\n",
      "Requirement already satisfied: attrs>=17.4.0 in /Users/valentin/anaconda3/envs/Go.Algo/lib/python3.10/site-packages (from jsonschema!=2.5.0,>=2.4->nbformat->notebook>=4.4.1->widgetsnbextension~=3.6.6->ipywidgets<8.0.0,>=7.6.5->etna) (23.1.0)\r\n",
      "Requirement already satisfied: pyrsistent!=0.17.0,!=0.17.1,!=0.17.2,>=0.14.0 in /Users/valentin/anaconda3/envs/Go.Algo/lib/python3.10/site-packages (from jsonschema!=2.5.0,>=2.4->nbformat->notebook>=4.4.1->widgetsnbextension~=3.6.6->ipywidgets<8.0.0,>=7.6.5->etna) (0.18.0)\r\n",
      "Requirement already satisfied: anyio<4,>=3.1.0 in /Users/valentin/anaconda3/envs/Go.Algo/lib/python3.10/site-packages (from jupyter-server>=1.8->nbclassic>=0.4.7->notebook>=4.4.1->widgetsnbextension~=3.6.6->ipywidgets<8.0.0,>=7.6.5->etna) (3.5.0)\r\n",
      "Requirement already satisfied: websocket-client in /Users/valentin/anaconda3/envs/Go.Algo/lib/python3.10/site-packages (from jupyter-server>=1.8->nbclassic>=0.4.7->notebook>=4.4.1->widgetsnbextension~=3.6.6->ipywidgets<8.0.0,>=7.6.5->etna) (0.58.0)\r\n",
      "Requirement already satisfied: cffi>=1.0.1 in /Users/valentin/anaconda3/envs/Go.Algo/lib/python3.10/site-packages (from argon2-cffi-bindings->argon2-cffi->notebook>=4.4.1->widgetsnbextension~=3.6.6->ipywidgets<8.0.0,>=7.6.5->etna) (1.16.0)\r\n",
      "Requirement already satisfied: webencodings in /Users/valentin/anaconda3/envs/Go.Algo/lib/python3.10/site-packages (from bleach->nbconvert>=5->notebook>=4.4.1->widgetsnbextension~=3.6.6->ipywidgets<8.0.0,>=7.6.5->etna) (0.5.1)\r\n",
      "Requirement already satisfied: idna>=2.8 in /Users/valentin/anaconda3/envs/Go.Algo/lib/python3.10/site-packages (from anyio<4,>=3.1.0->jupyter-server>=1.8->nbclassic>=0.4.7->notebook>=4.4.1->widgetsnbextension~=3.6.6->ipywidgets<8.0.0,>=7.6.5->etna) (3.4)\r\n",
      "Requirement already satisfied: sniffio>=1.1 in /Users/valentin/anaconda3/envs/Go.Algo/lib/python3.10/site-packages (from anyio<4,>=3.1.0->jupyter-server>=1.8->nbclassic>=0.4.7->notebook>=4.4.1->widgetsnbextension~=3.6.6->ipywidgets<8.0.0,>=7.6.5->etna) (1.2.0)\r\n",
      "Requirement already satisfied: pycparser in /Users/valentin/anaconda3/envs/Go.Algo/lib/python3.10/site-packages (from cffi>=1.0.1->argon2-cffi-bindings->argon2-cffi->notebook>=4.4.1->widgetsnbextension~=3.6.6->ipywidgets<8.0.0,>=7.6.5->etna) (2.21)\r\n"
     ]
    }
   ],
   "source": [
    "!pip install --upgrade pip\n",
    "!pip install etna"
   ],
   "metadata": {
    "collapsed": false,
    "ExecuteTime": {
     "end_time": "2023-12-02T22:04:58.281785Z",
     "start_time": "2023-12-02T22:04:53.129748Z"
    }
   },
   "id": "3f6241f6a8acbcfc"
  },
  {
   "cell_type": "code",
   "execution_count": 28,
   "outputs": [
    {
     "name": "stdout",
     "output_type": "stream",
     "text": [
      "Requirement already satisfied: etna[all] in /Users/valentin/anaconda3/envs/Go.Algo/lib/python3.10/site-packages (2.3.0)\r\n",
      "Requirement already satisfied: Bottleneck<2.0.0,>=1.3.4 in /Users/valentin/anaconda3/envs/Go.Algo/lib/python3.10/site-packages (from etna[all]) (1.3.7)\r\n",
      "Requirement already satisfied: Deprecated==1.2.13 in /Users/valentin/anaconda3/envs/Go.Algo/lib/python3.10/site-packages (from etna[all]) (1.2.13)\r\n",
      "Requirement already satisfied: boto3<2.0,>=1.5 in /Users/valentin/anaconda3/envs/Go.Algo/lib/python3.10/site-packages (from etna[all]) (1.33.6)\r\n",
      "Requirement already satisfied: botocore in /Users/valentin/anaconda3/envs/Go.Algo/lib/python3.10/site-packages (from etna[all]) (1.33.6)\r\n",
      "Requirement already satisfied: catboost>=0.21 in /Users/valentin/anaconda3/envs/Go.Algo/lib/python3.10/site-packages (from etna[all]) (1.2.2)\r\n",
      "Requirement already satisfied: dill<0.4.0,>=0.3.4 in /Users/valentin/anaconda3/envs/Go.Algo/lib/python3.10/site-packages (from etna[all]) (0.3.7)\r\n",
      "Requirement already satisfied: holidays<1.0,>=0.13 in /Users/valentin/anaconda3/envs/Go.Algo/lib/python3.10/site-packages (from etna[all]) (0.37)\r\n",
      "Requirement already satisfied: hydra-slayer<0.3.0,>=0.2.0 in /Users/valentin/anaconda3/envs/Go.Algo/lib/python3.10/site-packages (from etna[all]) (0.2.0)\r\n",
      "Requirement already satisfied: ipywidgets<8.0.0,>=7.6.5 in /Users/valentin/anaconda3/envs/Go.Algo/lib/python3.10/site-packages (from etna[all]) (7.8.1)\r\n",
      "Requirement already satisfied: joblib in /Users/valentin/anaconda3/envs/Go.Algo/lib/python3.10/site-packages (from etna[all]) (1.3.2)\r\n",
      "Requirement already satisfied: loguru<0.6.0,>=0.5.3 in /Users/valentin/anaconda3/envs/Go.Algo/lib/python3.10/site-packages (from etna[all]) (0.5.3)\r\n",
      "Requirement already satisfied: matplotlib in /Users/valentin/anaconda3/envs/Go.Algo/lib/python3.10/site-packages (from etna[all]) (3.8.0)\r\n",
      "Requirement already satisfied: numba>=0.53.1 in /Users/valentin/anaconda3/envs/Go.Algo/lib/python3.10/site-packages (from etna[all]) (0.58.1)\r\n",
      "Requirement already satisfied: numpy in /Users/valentin/anaconda3/envs/Go.Algo/lib/python3.10/site-packages (from etna[all]) (1.26.2)\r\n",
      "Requirement already satisfied: omegaconf<3.0.0,>=2.1.1 in /Users/valentin/anaconda3/envs/Go.Algo/lib/python3.10/site-packages (from etna[all]) (2.3.0)\r\n",
      "Requirement already satisfied: pandas<2.0,>=1.1 in /Users/valentin/anaconda3/envs/Go.Algo/lib/python3.10/site-packages (from etna[all]) (1.5.3)\r\n",
      "Requirement already satisfied: plotly in /Users/valentin/anaconda3/envs/Go.Algo/lib/python3.10/site-packages (from etna[all]) (5.18.0)\r\n",
      "Requirement already satisfied: pmdarima>=1.8.0 in /Users/valentin/anaconda3/envs/Go.Algo/lib/python3.10/site-packages (from etna[all]) (2.0.4)\r\n",
      "Requirement already satisfied: ruptures<2.0.0,>=1.1.5 in /Users/valentin/anaconda3/envs/Go.Algo/lib/python3.10/site-packages (from etna[all]) (1.1.8)\r\n",
      "Requirement already satisfied: scikit-learn<2,>=0.24 in /Users/valentin/anaconda3/envs/Go.Algo/lib/python3.10/site-packages (from etna[all]) (1.3.2)\r\n",
      "Requirement already satisfied: scipy<2.0,>=1.0 in /Users/valentin/anaconda3/envs/Go.Algo/lib/python3.10/site-packages (from etna[all]) (1.11.4)\r\n",
      "Requirement already satisfied: seaborn<0.12.0,>=0.11.1 in /Users/valentin/anaconda3/envs/Go.Algo/lib/python3.10/site-packages (from etna[all]) (0.11.2)\r\n",
      "Requirement already satisfied: statsmodels<0.14,>=0.12 in /Users/valentin/anaconda3/envs/Go.Algo/lib/python3.10/site-packages (from etna[all]) (0.13.5)\r\n",
      "Requirement already satisfied: tbats<2.0.0,>=1.1.0 in /Users/valentin/anaconda3/envs/Go.Algo/lib/python3.10/site-packages (from etna[all]) (1.1.3)\r\n",
      "Requirement already satisfied: toml<0.11.0,>=0.10.2 in /Users/valentin/anaconda3/envs/Go.Algo/lib/python3.10/site-packages (from etna[all]) (0.10.2)\r\n",
      "Requirement already satisfied: typer<0.5.0,>=0.4.0 in /Users/valentin/anaconda3/envs/Go.Algo/lib/python3.10/site-packages (from etna[all]) (0.4.2)\r\n",
      "Requirement already satisfied: types-Deprecated==1.2.9 in /Users/valentin/anaconda3/envs/Go.Algo/lib/python3.10/site-packages (from etna[all]) (1.2.9)\r\n",
      "Requirement already satisfied: typing_extensions in /Users/valentin/anaconda3/envs/Go.Algo/lib/python3.10/site-packages (from etna[all]) (4.7.1)\r\n",
      "Collecting optuna<3.0.0,>=2.5.0 (from etna[all])\r\n",
      "  Downloading optuna-2.10.1-py3-none-any.whl (308 kB)\r\n",
      "\u001B[2K     \u001B[90m━━━━━━━━━━━━━━━━━━━━━━━━━━━━━━━━━━━━━━━\u001B[0m \u001B[32m308.2/308.2 kB\u001B[0m \u001B[31m3.9 MB/s\u001B[0m eta \u001B[36m0:00:00\u001B[0m00:01\u001B[0m00:01\u001B[0m\r\n",
      "\u001B[?25hRequirement already satisfied: prophet<2.0,>=1.0 in /Users/valentin/anaconda3/envs/Go.Algo/lib/python3.10/site-packages (from etna[all]) (1.1.5)\r\n",
      "Collecting pytorch-forecasting<0.10.0,>=0.9.0 (from etna[all])\r\n",
      "  Downloading pytorch_forecasting-0.9.2-py3-none-any.whl (113 kB)\r\n",
      "\u001B[2K     \u001B[90m━━━━━━━━━━━━━━━━━━━━━━━━━━━━━━━━━━━━━━━\u001B[0m \u001B[32m113.4/113.4 kB\u001B[0m \u001B[31m8.8 MB/s\u001B[0m eta \u001B[36m0:00:00\u001B[0m\r\n",
      "\u001B[?25hCollecting pytorch-lightning (from etna[all])\r\n",
      "  Downloading pytorch_lightning-2.1.2-py3-none-any.whl.metadata (21 kB)\r\n",
      "Collecting pyts<0.13.0,>=0.12.0 (from etna[all])\r\n",
      "  Downloading pyts-0.12.0-py3-none-any.whl (2.5 MB)\r\n",
      "\u001B[2K     \u001B[90m━━━━━━━━━━━━━━━━━━━━━━━━━━━━━━━━━━━━━━━━\u001B[0m \u001B[32m2.5/2.5 MB\u001B[0m \u001B[31m4.6 MB/s\u001B[0m eta \u001B[36m0:00:00\u001B[0ma \u001B[36m0:00:01\u001B[0mm\r\n",
      "\u001B[?25hCollecting sqlalchemy<2.0.0,>=1.1.0 (from etna[all])\r\n",
      "  Downloading SQLAlchemy-1.4.50.tar.gz (8.5 MB)\r\n",
      "\u001B[2K     \u001B[90m━━━━━━━━━━━━━━━━━━━━━━━━━━━━━━━━━━━━━━━━\u001B[0m \u001B[32m8.5/8.5 MB\u001B[0m \u001B[31m3.1 MB/s\u001B[0m eta \u001B[36m0:00:00\u001B[0m00:01\u001B[0m00:01\u001B[0m\r\n",
      "\u001B[?25h  Preparing metadata (setup.py) ... \u001B[?25ldone\r\n",
      "\u001B[?25hCollecting statsforecast==1.4 (from etna[all])\r\n",
      "  Downloading statsforecast-1.4.0-py3-none-any.whl (91 kB)\r\n",
      "\u001B[2K     \u001B[90m━━━━━━━━━━━━━━━━━━━━━━━━━━━━━━━━━━━━━━━━\u001B[0m \u001B[32m92.0/92.0 kB\u001B[0m \u001B[31m3.3 MB/s\u001B[0m eta \u001B[36m0:00:00\u001B[0m\r\n",
      "\u001B[?25hCollecting torch<3,>=1.8.0 (from etna[all])\r\n",
      "  Downloading torch-2.1.1-cp310-none-macosx_11_0_arm64.whl.metadata (25 kB)\r\n",
      "Collecting tsfresh<0.21.0,>=0.20.0 (from etna[all])\r\n",
      "  Downloading tsfresh-0.20.1-py2.py3-none-any.whl.metadata (2.4 kB)\r\n",
      "Collecting wandb<0.13.0,>=0.12.2 (from etna[all])\r\n",
      "  Downloading wandb-0.12.21-py2.py3-none-any.whl (1.8 MB)\r\n",
      "\u001B[2K     \u001B[90m━━━━━━━━━━━━━━━━━━━━━━━━━━━━━━━━━━━━━━━━\u001B[0m \u001B[32m1.8/1.8 MB\u001B[0m \u001B[31m4.1 MB/s\u001B[0m eta \u001B[36m0:00:00\u001B[0m00:01\u001B[0m00:01\u001B[0mm\r\n",
      "\u001B[?25hRequirement already satisfied: wrapt<2,>=1.10 in /Users/valentin/anaconda3/envs/Go.Algo/lib/python3.10/site-packages (from Deprecated==1.2.13->etna[all]) (1.16.0)\r\n",
      "Requirement already satisfied: tqdm in /Users/valentin/anaconda3/envs/Go.Algo/lib/python3.10/site-packages (from statsforecast==1.4->etna[all]) (4.66.1)\r\n",
      "Requirement already satisfied: jmespath<2.0.0,>=0.7.1 in /Users/valentin/anaconda3/envs/Go.Algo/lib/python3.10/site-packages (from boto3<2.0,>=1.5->etna[all]) (1.0.1)\r\n",
      "Requirement already satisfied: s3transfer<0.9.0,>=0.8.2 in /Users/valentin/anaconda3/envs/Go.Algo/lib/python3.10/site-packages (from boto3<2.0,>=1.5->etna[all]) (0.8.2)\r\n",
      "Requirement already satisfied: python-dateutil<3.0.0,>=2.1 in /Users/valentin/anaconda3/envs/Go.Algo/lib/python3.10/site-packages (from botocore->etna[all]) (2.8.2)\r\n",
      "Requirement already satisfied: urllib3<2.1,>=1.25.4 in /Users/valentin/anaconda3/envs/Go.Algo/lib/python3.10/site-packages (from botocore->etna[all]) (2.0.7)\r\n",
      "Requirement already satisfied: graphviz in /Users/valentin/anaconda3/envs/Go.Algo/lib/python3.10/site-packages (from catboost>=0.21->etna[all]) (0.20.1)\r\n",
      "Requirement already satisfied: six in /Users/valentin/anaconda3/envs/Go.Algo/lib/python3.10/site-packages (from catboost>=0.21->etna[all]) (1.16.0)\r\n",
      "Requirement already satisfied: comm>=0.1.3 in /Users/valentin/anaconda3/envs/Go.Algo/lib/python3.10/site-packages (from ipywidgets<8.0.0,>=7.6.5->etna[all]) (0.2.0)\r\n",
      "Requirement already satisfied: ipython-genutils~=0.2.0 in /Users/valentin/anaconda3/envs/Go.Algo/lib/python3.10/site-packages (from ipywidgets<8.0.0,>=7.6.5->etna[all]) (0.2.0)\r\n",
      "Requirement already satisfied: traitlets>=4.3.1 in /Users/valentin/anaconda3/envs/Go.Algo/lib/python3.10/site-packages (from ipywidgets<8.0.0,>=7.6.5->etna[all]) (5.7.1)\r\n",
      "Requirement already satisfied: widgetsnbextension~=3.6.6 in /Users/valentin/anaconda3/envs/Go.Algo/lib/python3.10/site-packages (from ipywidgets<8.0.0,>=7.6.5->etna[all]) (3.6.6)\r\n",
      "Requirement already satisfied: ipython>=4.0.0 in /Users/valentin/anaconda3/envs/Go.Algo/lib/python3.10/site-packages (from ipywidgets<8.0.0,>=7.6.5->etna[all]) (8.15.0)\r\n",
      "Requirement already satisfied: jupyterlab-widgets<3,>=1.0.0 in /Users/valentin/anaconda3/envs/Go.Algo/lib/python3.10/site-packages (from ipywidgets<8.0.0,>=7.6.5->etna[all]) (1.1.7)\r\n",
      "Requirement already satisfied: llvmlite<0.42,>=0.41.0dev0 in /Users/valentin/anaconda3/envs/Go.Algo/lib/python3.10/site-packages (from numba>=0.53.1->etna[all]) (0.41.1)\r\n",
      "Requirement already satisfied: antlr4-python3-runtime==4.9.* in /Users/valentin/anaconda3/envs/Go.Algo/lib/python3.10/site-packages (from omegaconf<3.0.0,>=2.1.1->etna[all]) (4.9.3)\r\n",
      "Requirement already satisfied: PyYAML>=5.1.0 in /Users/valentin/anaconda3/envs/Go.Algo/lib/python3.10/site-packages (from omegaconf<3.0.0,>=2.1.1->etna[all]) (6.0.1)\r\n",
      "Collecting alembic (from optuna<3.0.0,>=2.5.0->etna[all])\r\n",
      "  Downloading alembic-1.13.0-py3-none-any.whl.metadata (7.4 kB)\r\n",
      "Collecting cliff (from optuna<3.0.0,>=2.5.0->etna[all])\r\n",
      "  Downloading cliff-4.4.0-py3-none-any.whl.metadata (1.9 kB)\r\n",
      "Collecting cmaes>=0.8.2 (from optuna<3.0.0,>=2.5.0->etna[all])\r\n",
      "  Downloading cmaes-0.10.0-py3-none-any.whl.metadata (19 kB)\r\n",
      "Collecting colorlog (from optuna<3.0.0,>=2.5.0->etna[all])\r\n",
      "  Downloading colorlog-6.8.0-py3-none-any.whl.metadata (10 kB)\r\n",
      "Requirement already satisfied: packaging>=20.0 in /Users/valentin/anaconda3/envs/Go.Algo/lib/python3.10/site-packages (from optuna<3.0.0,>=2.5.0->etna[all]) (23.1)\r\n",
      "Requirement already satisfied: pytz>=2020.1 in /Users/valentin/anaconda3/envs/Go.Algo/lib/python3.10/site-packages (from pandas<2.0,>=1.1->etna[all]) (2023.3.post1)\r\n",
      "Requirement already satisfied: Cython!=0.29.18,!=0.29.31,>=0.29 in /Users/valentin/anaconda3/envs/Go.Algo/lib/python3.10/site-packages (from pmdarima>=1.8.0->etna[all]) (3.0.6)\r\n",
      "Requirement already satisfied: setuptools!=50.0.0,>=38.6.0 in /Users/valentin/anaconda3/envs/Go.Algo/lib/python3.10/site-packages (from pmdarima>=1.8.0->etna[all]) (68.0.0)\r\n",
      "Requirement already satisfied: cmdstanpy>=1.0.4 in /Users/valentin/anaconda3/envs/Go.Algo/lib/python3.10/site-packages (from prophet<2.0,>=1.0->etna[all]) (1.2.0)\r\n",
      "Requirement already satisfied: importlib-resources in /Users/valentin/anaconda3/envs/Go.Algo/lib/python3.10/site-packages (from prophet<2.0,>=1.0->etna[all]) (6.1.1)\r\n",
      "Requirement already satisfied: contourpy>=1.0.1 in /Users/valentin/anaconda3/envs/Go.Algo/lib/python3.10/site-packages (from matplotlib->etna[all]) (1.2.0)\r\n",
      "Requirement already satisfied: cycler>=0.10 in /Users/valentin/anaconda3/envs/Go.Algo/lib/python3.10/site-packages (from matplotlib->etna[all]) (0.11.0)\r\n",
      "Requirement already satisfied: fonttools>=4.22.0 in /Users/valentin/anaconda3/envs/Go.Algo/lib/python3.10/site-packages (from matplotlib->etna[all]) (4.25.0)\r\n",
      "Requirement already satisfied: kiwisolver>=1.0.1 in /Users/valentin/anaconda3/envs/Go.Algo/lib/python3.10/site-packages (from matplotlib->etna[all]) (1.4.4)\r\n",
      "Requirement already satisfied: pillow>=6.2.0 in /Users/valentin/anaconda3/envs/Go.Algo/lib/python3.10/site-packages (from matplotlib->etna[all]) (10.0.1)\r\n",
      "Requirement already satisfied: pyparsing>=2.3.1 in /Users/valentin/anaconda3/envs/Go.Algo/lib/python3.10/site-packages (from matplotlib->etna[all]) (3.0.9)\r\n",
      "Collecting pytorch-lightning (from etna[all])\r\n",
      "  Downloading pytorch_lightning-1.9.5-py3-none-any.whl (829 kB)\r\n",
      "\u001B[2K     \u001B[90m━━━━━━━━━━━━━━━━━━━━━━━━━━━━━━━━━━━━━━━\u001B[0m \u001B[32m829.5/829.5 kB\u001B[0m \u001B[31m5.3 MB/s\u001B[0m eta \u001B[36m0:00:00\u001B[0m00:01\u001B[0m00:01\u001B[0m\r\n",
      "\u001B[?25hCollecting scikit-learn<2,>=0.24 (from etna[all])\r\n",
      "  Downloading scikit_learn-1.0.2-cp310-cp310-macosx_12_0_arm64.whl (6.9 MB)\r\n",
      "\u001B[2K     \u001B[90m━━━━━━━━━━━━━━━━━━━━━━━━━━━━━━━━━━━━━━━━\u001B[0m \u001B[32m6.9/6.9 MB\u001B[0m \u001B[31m4.0 MB/s\u001B[0m eta \u001B[36m0:00:00\u001B[0m00:01\u001B[0m00:01\u001B[0m\r\n",
      "\u001B[?25hCollecting torch<3,>=1.8.0 (from etna[all])\r\n",
      "  Using cached torch-1.13.1-cp310-none-macosx_11_0_arm64.whl (53.2 MB)\r\n",
      "Collecting fsspec>2021.06.0 (from fsspec[http]>2021.06.0->pytorch-lightning->etna[all])\r\n",
      "  Using cached fsspec-2023.10.0-py3-none-any.whl.metadata (6.8 kB)\r\n",
      "Collecting torchmetrics>=0.7.0 (from pytorch-lightning->etna[all])\r\n",
      "  Downloading torchmetrics-1.2.1-py3-none-any.whl.metadata (20 kB)\r\n",
      "Collecting lightning-utilities>=0.6.0.post0 (from pytorch-lightning->etna[all])\r\n",
      "  Downloading lightning_utilities-0.10.0-py3-none-any.whl.metadata (4.8 kB)\r\n",
      "Requirement already satisfied: threadpoolctl>=2.0.0 in /Users/valentin/anaconda3/envs/Go.Algo/lib/python3.10/site-packages (from scikit-learn<2,>=0.24->etna[all]) (3.2.0)\r\n",
      "Requirement already satisfied: patsy>=0.5.2 in /Users/valentin/anaconda3/envs/Go.Algo/lib/python3.10/site-packages (from statsmodels<0.14,>=0.12->etna[all]) (0.5.4)\r\n",
      "Collecting requests>=2.9.1 (from tsfresh<0.21.0,>=0.20.0->etna[all])\r\n",
      "  Using cached requests-2.31.0-py3-none-any.whl.metadata (4.6 kB)\r\n",
      "Collecting dask>=2.9.0 (from dask[dataframe]>=2.9.0->tsfresh<0.21.0,>=0.20.0->etna[all])\r\n",
      "  Downloading dask-2023.12.0-py3-none-any.whl.metadata (3.7 kB)\r\n",
      "Collecting distributed>=2.11.0 (from tsfresh<0.21.0,>=0.20.0->etna[all])\r\n",
      "  Downloading distributed-2023.12.0-py3-none-any.whl.metadata (3.4 kB)\r\n",
      "Collecting stumpy>=1.7.2 (from tsfresh<0.21.0,>=0.20.0->etna[all])\r\n",
      "  Downloading stumpy-1.12.0-py3-none-any.whl.metadata (27 kB)\r\n",
      "Collecting cloudpickle (from tsfresh<0.21.0,>=0.20.0->etna[all])\r\n",
      "  Downloading cloudpickle-3.0.0-py3-none-any.whl.metadata (7.0 kB)\r\n",
      "Requirement already satisfied: click<9.0.0,>=7.1.1 in /Users/valentin/anaconda3/envs/Go.Algo/lib/python3.10/site-packages (from typer<0.5.0,>=0.4.0->etna[all]) (8.1.7)\r\n",
      "Collecting GitPython>=1.0.0 (from wandb<0.13.0,>=0.12.2->etna[all])\r\n",
      "  Using cached GitPython-3.1.40-py3-none-any.whl.metadata (12 kB)\r\n",
      "Collecting promise<3,>=2.0 (from wandb<0.13.0,>=0.12.2->etna[all])\r\n",
      "  Downloading promise-2.3.tar.gz (19 kB)\r\n",
      "  Preparing metadata (setup.py) ... \u001B[?25ldone\r\n",
      "\u001B[?25hCollecting shortuuid>=0.5.0 (from wandb<0.13.0,>=0.12.2->etna[all])\r\n",
      "  Downloading shortuuid-1.0.11-py3-none-any.whl (10 kB)\r\n",
      "Requirement already satisfied: psutil>=5.0.0 in /Users/valentin/anaconda3/envs/Go.Algo/lib/python3.10/site-packages (from wandb<0.13.0,>=0.12.2->etna[all]) (5.9.0)\r\n",
      "Collecting sentry-sdk>=1.0.0 (from wandb<0.13.0,>=0.12.2->etna[all])\r\n",
      "  Downloading sentry_sdk-1.38.0-py2.py3-none-any.whl.metadata (9.7 kB)\r\n",
      "Collecting docker-pycreds>=0.4.0 (from wandb<0.13.0,>=0.12.2->etna[all])\r\n",
      "  Downloading docker_pycreds-0.4.0-py2.py3-none-any.whl (9.0 kB)\r\n",
      "Collecting protobuf<4.0dev,>=3.12.0 (from wandb<0.13.0,>=0.12.2->etna[all])\r\n",
      "  Downloading protobuf-3.20.3-py2.py3-none-any.whl (162 kB)\r\n",
      "\u001B[2K     \u001B[90m━━━━━━━━━━━━━━━━━━━━━━━━━━━━━━━━━━━━━━━\u001B[0m \u001B[32m162.1/162.1 kB\u001B[0m \u001B[31m3.7 MB/s\u001B[0m eta \u001B[36m0:00:00\u001B[0ma \u001B[36m0:00:01\u001B[0m\r\n",
      "\u001B[?25hCollecting pathtools (from wandb<0.13.0,>=0.12.2->etna[all])\r\n",
      "  Downloading pathtools-0.1.2.tar.gz (11 kB)\r\n",
      "  Preparing metadata (setup.py) ... \u001B[?25ldone\r\n",
      "\u001B[?25hCollecting setproctitle (from wandb<0.13.0,>=0.12.2->etna[all])\r\n",
      "  Downloading setproctitle-1.3.3-cp310-cp310-macosx_10_9_universal2.whl.metadata (9.9 kB)\r\n",
      "Requirement already satisfied: tenacity>=6.2.0 in /Users/valentin/anaconda3/envs/Go.Algo/lib/python3.10/site-packages (from plotly->etna[all]) (8.2.3)\r\n",
      "Requirement already satisfied: stanio~=0.3.0 in /Users/valentin/anaconda3/envs/Go.Algo/lib/python3.10/site-packages (from cmdstanpy>=1.0.4->prophet<2.0,>=1.0->etna[all]) (0.3.0)\r\n",
      "Collecting partd>=1.2.0 (from dask>=2.9.0->dask[dataframe]>=2.9.0->tsfresh<0.21.0,>=0.20.0->etna[all])\r\n",
      "  Downloading partd-1.4.1-py3-none-any.whl.metadata (4.6 kB)\r\n",
      "Collecting toolz>=0.10.0 (from dask>=2.9.0->dask[dataframe]>=2.9.0->tsfresh<0.21.0,>=0.20.0->etna[all])\r\n",
      "  Using cached toolz-0.12.0-py3-none-any.whl (55 kB)\r\n",
      "Collecting importlib-metadata>=4.13.0 (from dask>=2.9.0->dask[dataframe]>=2.9.0->tsfresh<0.21.0,>=0.20.0->etna[all])\r\n",
      "  Downloading importlib_metadata-6.9.0-py3-none-any.whl.metadata (4.9 kB)\r\n",
      "Requirement already satisfied: jinja2>=2.10.3 in /Users/valentin/anaconda3/envs/Go.Algo/lib/python3.10/site-packages (from distributed>=2.11.0->tsfresh<0.21.0,>=0.20.0->etna[all]) (3.1.2)\r\n",
      "Collecting locket>=1.0.0 (from distributed>=2.11.0->tsfresh<0.21.0,>=0.20.0->etna[all])\r\n",
      "  Downloading locket-1.0.0-py2.py3-none-any.whl (4.4 kB)\r\n",
      "Collecting msgpack>=1.0.0 (from distributed>=2.11.0->tsfresh<0.21.0,>=0.20.0->etna[all])\r\n",
      "  Downloading msgpack-1.0.7-cp310-cp310-macosx_11_0_arm64.whl.metadata (9.1 kB)\r\n",
      "Collecting sortedcontainers>=2.0.5 (from distributed>=2.11.0->tsfresh<0.21.0,>=0.20.0->etna[all])\r\n",
      "  Downloading sortedcontainers-2.4.0-py2.py3-none-any.whl (29 kB)\r\n",
      "Collecting tblib>=1.6.0 (from distributed>=2.11.0->tsfresh<0.21.0,>=0.20.0->etna[all])\r\n",
      "  Downloading tblib-3.0.0-py3-none-any.whl.metadata (25 kB)\r\n",
      "Requirement already satisfied: tornado>=6.0.4 in /Users/valentin/anaconda3/envs/Go.Algo/lib/python3.10/site-packages (from distributed>=2.11.0->tsfresh<0.21.0,>=0.20.0->etna[all]) (6.3.3)\r\n",
      "Collecting zict>=3.0.0 (from distributed>=2.11.0->tsfresh<0.21.0,>=0.20.0->etna[all])\r\n",
      "  Downloading zict-3.0.0-py2.py3-none-any.whl (43 kB)\r\n",
      "\u001B[2K     \u001B[90m━━━━━━━━━━━━━━━━━━━━━━━━━━━━━━━━━━━━━━━━\u001B[0m \u001B[32m43.3/43.3 kB\u001B[0m \u001B[31m2.7 MB/s\u001B[0m eta \u001B[36m0:00:00\u001B[0m\r\n",
      "\u001B[?25hCollecting aiohttp!=4.0.0a0,!=4.0.0a1 (from fsspec[http]>2021.06.0->pytorch-lightning->etna[all])\r\n",
      "  Downloading aiohttp-3.9.1-cp310-cp310-macosx_11_0_arm64.whl.metadata (7.4 kB)\r\n",
      "Collecting gitdb<5,>=4.0.1 (from GitPython>=1.0.0->wandb<0.13.0,>=0.12.2->etna[all])\r\n",
      "  Using cached gitdb-4.0.11-py3-none-any.whl.metadata (1.2 kB)\r\n",
      "Requirement already satisfied: backcall in /Users/valentin/anaconda3/envs/Go.Algo/lib/python3.10/site-packages (from ipython>=4.0.0->ipywidgets<8.0.0,>=7.6.5->etna[all]) (0.2.0)\r\n",
      "Requirement already satisfied: decorator in /Users/valentin/anaconda3/envs/Go.Algo/lib/python3.10/site-packages (from ipython>=4.0.0->ipywidgets<8.0.0,>=7.6.5->etna[all]) (5.1.1)\r\n",
      "Requirement already satisfied: jedi>=0.16 in /Users/valentin/anaconda3/envs/Go.Algo/lib/python3.10/site-packages (from ipython>=4.0.0->ipywidgets<8.0.0,>=7.6.5->etna[all]) (0.18.1)\r\n",
      "Requirement already satisfied: matplotlib-inline in /Users/valentin/anaconda3/envs/Go.Algo/lib/python3.10/site-packages (from ipython>=4.0.0->ipywidgets<8.0.0,>=7.6.5->etna[all]) (0.1.6)\r\n",
      "Requirement already satisfied: pickleshare in /Users/valentin/anaconda3/envs/Go.Algo/lib/python3.10/site-packages (from ipython>=4.0.0->ipywidgets<8.0.0,>=7.6.5->etna[all]) (0.7.5)\r\n",
      "Requirement already satisfied: prompt-toolkit!=3.0.37,<3.1.0,>=3.0.30 in /Users/valentin/anaconda3/envs/Go.Algo/lib/python3.10/site-packages (from ipython>=4.0.0->ipywidgets<8.0.0,>=7.6.5->etna[all]) (3.0.36)\r\n",
      "Requirement already satisfied: pygments>=2.4.0 in /Users/valentin/anaconda3/envs/Go.Algo/lib/python3.10/site-packages (from ipython>=4.0.0->ipywidgets<8.0.0,>=7.6.5->etna[all]) (2.15.1)\r\n",
      "Requirement already satisfied: stack-data in /Users/valentin/anaconda3/envs/Go.Algo/lib/python3.10/site-packages (from ipython>=4.0.0->ipywidgets<8.0.0,>=7.6.5->etna[all]) (0.2.0)\r\n",
      "Requirement already satisfied: exceptiongroup in /Users/valentin/anaconda3/envs/Go.Algo/lib/python3.10/site-packages (from ipython>=4.0.0->ipywidgets<8.0.0,>=7.6.5->etna[all]) (1.0.4)\r\n",
      "Requirement already satisfied: pexpect>4.3 in /Users/valentin/anaconda3/envs/Go.Algo/lib/python3.10/site-packages (from ipython>=4.0.0->ipywidgets<8.0.0,>=7.6.5->etna[all]) (4.8.0)\r\n",
      "Requirement already satisfied: appnope in /Users/valentin/anaconda3/envs/Go.Algo/lib/python3.10/site-packages (from ipython>=4.0.0->ipywidgets<8.0.0,>=7.6.5->etna[all]) (0.1.2)\r\n",
      "Requirement already satisfied: charset-normalizer<4,>=2 in /Users/valentin/anaconda3/envs/Go.Algo/lib/python3.10/site-packages (from requests>=2.9.1->tsfresh<0.21.0,>=0.20.0->etna[all]) (2.0.4)\r\n",
      "Requirement already satisfied: idna<4,>=2.5 in /Users/valentin/anaconda3/envs/Go.Algo/lib/python3.10/site-packages (from requests>=2.9.1->tsfresh<0.21.0,>=0.20.0->etna[all]) (3.4)\r\n",
      "Requirement already satisfied: certifi>=2017.4.17 in /Users/valentin/anaconda3/envs/Go.Algo/lib/python3.10/site-packages (from requests>=2.9.1->tsfresh<0.21.0,>=0.20.0->etna[all]) (2023.11.17)\r\n",
      "Requirement already satisfied: notebook>=4.4.1 in /Users/valentin/anaconda3/envs/Go.Algo/lib/python3.10/site-packages (from widgetsnbextension~=3.6.6->ipywidgets<8.0.0,>=7.6.5->etna[all]) (6.5.4)\r\n",
      "Collecting Mako (from alembic->optuna<3.0.0,>=2.5.0->etna[all])\r\n",
      "  Using cached Mako-1.3.0-py3-none-any.whl.metadata (2.9 kB)\r\n",
      "Collecting PrettyTable>=0.7.2 (from cliff->optuna<3.0.0,>=2.5.0->etna[all])\r\n",
      "  Downloading prettytable-3.9.0-py3-none-any.whl.metadata (26 kB)\r\n",
      "Collecting autopage>=0.4.0 (from cliff->optuna<3.0.0,>=2.5.0->etna[all])\r\n",
      "  Downloading autopage-0.5.2-py3-none-any.whl.metadata (7.9 kB)\r\n",
      "Collecting cmd2>=1.0.0 (from cliff->optuna<3.0.0,>=2.5.0->etna[all])\r\n",
      "  Downloading cmd2-2.4.3-py3-none-any.whl (147 kB)\r\n",
      "\u001B[2K     \u001B[90m━━━━━━━━━━━━━━━━━━━━━━━━━━━━━━━━━━━━━━━\u001B[0m \u001B[32m147.2/147.2 kB\u001B[0m \u001B[31m6.9 MB/s\u001B[0m eta \u001B[36m0:00:00\u001B[0m\r\n",
      "\u001B[?25hCollecting stevedore>=2.0.1 (from cliff->optuna<3.0.0,>=2.5.0->etna[all])\r\n",
      "  Downloading stevedore-5.1.0-py3-none-any.whl.metadata (2.2 kB)\r\n",
      "Requirement already satisfied: attrs>=17.3.0 in /Users/valentin/anaconda3/envs/Go.Algo/lib/python3.10/site-packages (from aiohttp!=4.0.0a0,!=4.0.0a1->fsspec[http]>2021.06.0->pytorch-lightning->etna[all]) (23.1.0)\r\n",
      "Collecting multidict<7.0,>=4.5 (from aiohttp!=4.0.0a0,!=4.0.0a1->fsspec[http]>2021.06.0->pytorch-lightning->etna[all])\r\n",
      "  Downloading multidict-6.0.4-cp310-cp310-macosx_11_0_arm64.whl (29 kB)\r\n",
      "Collecting yarl<2.0,>=1.0 (from aiohttp!=4.0.0a0,!=4.0.0a1->fsspec[http]>2021.06.0->pytorch-lightning->etna[all])\r\n",
      "  Downloading yarl-1.9.3-cp310-cp310-macosx_11_0_arm64.whl.metadata (28 kB)\r\n",
      "Collecting frozenlist>=1.1.1 (from aiohttp!=4.0.0a0,!=4.0.0a1->fsspec[http]>2021.06.0->pytorch-lightning->etna[all])\r\n",
      "  Downloading frozenlist-1.4.0-cp310-cp310-macosx_11_0_arm64.whl.metadata (5.2 kB)\r\n",
      "Collecting aiosignal>=1.1.2 (from aiohttp!=4.0.0a0,!=4.0.0a1->fsspec[http]>2021.06.0->pytorch-lightning->etna[all])\r\n",
      "  Downloading aiosignal-1.3.1-py3-none-any.whl (7.6 kB)\r\n",
      "Collecting async-timeout<5.0,>=4.0 (from aiohttp!=4.0.0a0,!=4.0.0a1->fsspec[http]>2021.06.0->pytorch-lightning->etna[all])\r\n",
      "  Downloading async_timeout-4.0.3-py3-none-any.whl.metadata (4.2 kB)\r\n",
      "Collecting pyperclip>=1.6 (from cmd2>=1.0.0->cliff->optuna<3.0.0,>=2.5.0->etna[all])\r\n",
      "  Downloading pyperclip-1.8.2.tar.gz (20 kB)\r\n",
      "  Preparing metadata (setup.py) ... \u001B[?25ldone\r\n",
      "\u001B[?25hRequirement already satisfied: wcwidth>=0.1.7 in /Users/valentin/anaconda3/envs/Go.Algo/lib/python3.10/site-packages (from cmd2>=1.0.0->cliff->optuna<3.0.0,>=2.5.0->etna[all]) (0.2.5)\r\n",
      "Collecting smmap<6,>=3.0.1 (from gitdb<5,>=4.0.1->GitPython>=1.0.0->wandb<0.13.0,>=0.12.2->etna[all])\r\n",
      "  Using cached smmap-5.0.1-py3-none-any.whl.metadata (4.3 kB)\r\n",
      "Collecting zipp>=0.5 (from importlib-metadata>=4.13.0->dask>=2.9.0->dask[dataframe]>=2.9.0->tsfresh<0.21.0,>=0.20.0->etna[all])\r\n",
      "  Using cached zipp-3.17.0-py3-none-any.whl.metadata (3.7 kB)\r\n",
      "Requirement already satisfied: parso<0.9.0,>=0.8.0 in /Users/valentin/anaconda3/envs/Go.Algo/lib/python3.10/site-packages (from jedi>=0.16->ipython>=4.0.0->ipywidgets<8.0.0,>=7.6.5->etna[all]) (0.8.3)\r\n",
      "Requirement already satisfied: MarkupSafe>=2.0 in /Users/valentin/anaconda3/envs/Go.Algo/lib/python3.10/site-packages (from jinja2>=2.10.3->distributed>=2.11.0->tsfresh<0.21.0,>=0.20.0->etna[all]) (2.1.1)\r\n",
      "Requirement already satisfied: pyzmq>=17 in /Users/valentin/anaconda3/envs/Go.Algo/lib/python3.10/site-packages (from notebook>=4.4.1->widgetsnbextension~=3.6.6->ipywidgets<8.0.0,>=7.6.5->etna[all]) (23.2.0)\r\n",
      "Requirement already satisfied: argon2-cffi in /Users/valentin/anaconda3/envs/Go.Algo/lib/python3.10/site-packages (from notebook>=4.4.1->widgetsnbextension~=3.6.6->ipywidgets<8.0.0,>=7.6.5->etna[all]) (21.3.0)\r\n",
      "Requirement already satisfied: jupyter-core>=4.6.1 in /Users/valentin/anaconda3/envs/Go.Algo/lib/python3.10/site-packages (from notebook>=4.4.1->widgetsnbextension~=3.6.6->ipywidgets<8.0.0,>=7.6.5->etna[all]) (5.5.0)\r\n",
      "Requirement already satisfied: jupyter-client>=5.3.4 in /Users/valentin/anaconda3/envs/Go.Algo/lib/python3.10/site-packages (from notebook>=4.4.1->widgetsnbextension~=3.6.6->ipywidgets<8.0.0,>=7.6.5->etna[all]) (7.4.9)\r\n",
      "Requirement already satisfied: nbformat in /Users/valentin/anaconda3/envs/Go.Algo/lib/python3.10/site-packages (from notebook>=4.4.1->widgetsnbextension~=3.6.6->ipywidgets<8.0.0,>=7.6.5->etna[all]) (5.1.3)\r\n",
      "Requirement already satisfied: nbconvert>=5 in /Users/valentin/anaconda3/envs/Go.Algo/lib/python3.10/site-packages (from notebook>=4.4.1->widgetsnbextension~=3.6.6->ipywidgets<8.0.0,>=7.6.5->etna[all]) (5.5.0)\r\n",
      "Requirement already satisfied: nest-asyncio>=1.5 in /Users/valentin/anaconda3/envs/Go.Algo/lib/python3.10/site-packages (from notebook>=4.4.1->widgetsnbextension~=3.6.6->ipywidgets<8.0.0,>=7.6.5->etna[all]) (1.5.6)\r\n",
      "Requirement already satisfied: ipykernel in /Users/valentin/anaconda3/envs/Go.Algo/lib/python3.10/site-packages (from notebook>=4.4.1->widgetsnbextension~=3.6.6->ipywidgets<8.0.0,>=7.6.5->etna[all]) (6.25.0)\r\n",
      "Requirement already satisfied: Send2Trash>=1.8.0 in /Users/valentin/anaconda3/envs/Go.Algo/lib/python3.10/site-packages (from notebook>=4.4.1->widgetsnbextension~=3.6.6->ipywidgets<8.0.0,>=7.6.5->etna[all]) (1.8.2)\r\n",
      "Requirement already satisfied: terminado>=0.8.3 in /Users/valentin/anaconda3/envs/Go.Algo/lib/python3.10/site-packages (from notebook>=4.4.1->widgetsnbextension~=3.6.6->ipywidgets<8.0.0,>=7.6.5->etna[all]) (0.17.1)\r\n",
      "Requirement already satisfied: prometheus-client in /Users/valentin/anaconda3/envs/Go.Algo/lib/python3.10/site-packages (from notebook>=4.4.1->widgetsnbextension~=3.6.6->ipywidgets<8.0.0,>=7.6.5->etna[all]) (0.14.1)\r\n",
      "Requirement already satisfied: nbclassic>=0.4.7 in /Users/valentin/anaconda3/envs/Go.Algo/lib/python3.10/site-packages (from notebook>=4.4.1->widgetsnbextension~=3.6.6->ipywidgets<8.0.0,>=7.6.5->etna[all]) (1.0.0)\r\n",
      "Requirement already satisfied: ptyprocess>=0.5 in /Users/valentin/anaconda3/envs/Go.Algo/lib/python3.10/site-packages (from pexpect>4.3->ipython>=4.0.0->ipywidgets<8.0.0,>=7.6.5->etna[all]) (0.7.0)\r\n",
      "Collecting pbr!=2.1.0,>=2.0.0 (from stevedore>=2.0.1->cliff->optuna<3.0.0,>=2.5.0->etna[all])\r\n",
      "  Downloading pbr-6.0.0-py2.py3-none-any.whl.metadata (1.3 kB)\r\n",
      "Requirement already satisfied: executing in /Users/valentin/anaconda3/envs/Go.Algo/lib/python3.10/site-packages (from stack-data->ipython>=4.0.0->ipywidgets<8.0.0,>=7.6.5->etna[all]) (0.8.3)\r\n",
      "Requirement already satisfied: asttokens in /Users/valentin/anaconda3/envs/Go.Algo/lib/python3.10/site-packages (from stack-data->ipython>=4.0.0->ipywidgets<8.0.0,>=7.6.5->etna[all]) (2.0.5)\r\n",
      "Requirement already satisfied: pure-eval in /Users/valentin/anaconda3/envs/Go.Algo/lib/python3.10/site-packages (from stack-data->ipython>=4.0.0->ipywidgets<8.0.0,>=7.6.5->etna[all]) (0.2.2)\r\n",
      "Requirement already satisfied: entrypoints in /Users/valentin/anaconda3/envs/Go.Algo/lib/python3.10/site-packages (from jupyter-client>=5.3.4->notebook>=4.4.1->widgetsnbextension~=3.6.6->ipywidgets<8.0.0,>=7.6.5->etna[all]) (0.4)\r\n",
      "Requirement already satisfied: platformdirs>=2.5 in /Users/valentin/anaconda3/envs/Go.Algo/lib/python3.10/site-packages (from jupyter-core>=4.6.1->notebook>=4.4.1->widgetsnbextension~=3.6.6->ipywidgets<8.0.0,>=7.6.5->etna[all]) (3.10.0)\r\n",
      "Requirement already satisfied: jupyter-server>=1.8 in /Users/valentin/anaconda3/envs/Go.Algo/lib/python3.10/site-packages (from nbclassic>=0.4.7->notebook>=4.4.1->widgetsnbextension~=3.6.6->ipywidgets<8.0.0,>=7.6.5->etna[all]) (1.13.5)\r\n",
      "Requirement already satisfied: notebook-shim>=0.2.3 in /Users/valentin/anaconda3/envs/Go.Algo/lib/python3.10/site-packages (from nbclassic>=0.4.7->notebook>=4.4.1->widgetsnbextension~=3.6.6->ipywidgets<8.0.0,>=7.6.5->etna[all]) (0.2.3)\r\n",
      "Requirement already satisfied: mistune>=0.8.1 in /Users/valentin/anaconda3/envs/Go.Algo/lib/python3.10/site-packages (from nbconvert>=5->notebook>=4.4.1->widgetsnbextension~=3.6.6->ipywidgets<8.0.0,>=7.6.5->etna[all]) (0.8.4)\r\n",
      "Requirement already satisfied: bleach in /Users/valentin/anaconda3/envs/Go.Algo/lib/python3.10/site-packages (from nbconvert>=5->notebook>=4.4.1->widgetsnbextension~=3.6.6->ipywidgets<8.0.0,>=7.6.5->etna[all]) (4.1.0)\r\n",
      "Requirement already satisfied: pandocfilters>=1.4.1 in /Users/valentin/anaconda3/envs/Go.Algo/lib/python3.10/site-packages (from nbconvert>=5->notebook>=4.4.1->widgetsnbextension~=3.6.6->ipywidgets<8.0.0,>=7.6.5->etna[all]) (1.5.0)\r\n",
      "Requirement already satisfied: testpath in /Users/valentin/anaconda3/envs/Go.Algo/lib/python3.10/site-packages (from nbconvert>=5->notebook>=4.4.1->widgetsnbextension~=3.6.6->ipywidgets<8.0.0,>=7.6.5->etna[all]) (0.6.0)\r\n",
      "Requirement already satisfied: defusedxml in /Users/valentin/anaconda3/envs/Go.Algo/lib/python3.10/site-packages (from nbconvert>=5->notebook>=4.4.1->widgetsnbextension~=3.6.6->ipywidgets<8.0.0,>=7.6.5->etna[all]) (0.7.1)\r\n",
      "Requirement already satisfied: jsonschema!=2.5.0,>=2.4 in /Users/valentin/anaconda3/envs/Go.Algo/lib/python3.10/site-packages (from nbformat->notebook>=4.4.1->widgetsnbextension~=3.6.6->ipywidgets<8.0.0,>=7.6.5->etna[all]) (4.17.3)\r\n",
      "Requirement already satisfied: argon2-cffi-bindings in /Users/valentin/anaconda3/envs/Go.Algo/lib/python3.10/site-packages (from argon2-cffi->notebook>=4.4.1->widgetsnbextension~=3.6.6->ipywidgets<8.0.0,>=7.6.5->etna[all]) (21.2.0)\r\n",
      "Requirement already satisfied: debugpy>=1.6.5 in /Users/valentin/anaconda3/envs/Go.Algo/lib/python3.10/site-packages (from ipykernel->notebook>=4.4.1->widgetsnbextension~=3.6.6->ipywidgets<8.0.0,>=7.6.5->etna[all]) (1.6.7)\r\n",
      "Requirement already satisfied: pyrsistent!=0.17.0,!=0.17.1,!=0.17.2,>=0.14.0 in /Users/valentin/anaconda3/envs/Go.Algo/lib/python3.10/site-packages (from jsonschema!=2.5.0,>=2.4->nbformat->notebook>=4.4.1->widgetsnbextension~=3.6.6->ipywidgets<8.0.0,>=7.6.5->etna[all]) (0.18.0)\r\n",
      "Requirement already satisfied: anyio<4,>=3.1.0 in /Users/valentin/anaconda3/envs/Go.Algo/lib/python3.10/site-packages (from jupyter-server>=1.8->nbclassic>=0.4.7->notebook>=4.4.1->widgetsnbextension~=3.6.6->ipywidgets<8.0.0,>=7.6.5->etna[all]) (3.5.0)\r\n",
      "Requirement already satisfied: websocket-client in /Users/valentin/anaconda3/envs/Go.Algo/lib/python3.10/site-packages (from jupyter-server>=1.8->nbclassic>=0.4.7->notebook>=4.4.1->widgetsnbextension~=3.6.6->ipywidgets<8.0.0,>=7.6.5->etna[all]) (0.58.0)\r\n",
      "Requirement already satisfied: cffi>=1.0.1 in /Users/valentin/anaconda3/envs/Go.Algo/lib/python3.10/site-packages (from argon2-cffi-bindings->argon2-cffi->notebook>=4.4.1->widgetsnbextension~=3.6.6->ipywidgets<8.0.0,>=7.6.5->etna[all]) (1.16.0)\r\n",
      "Requirement already satisfied: webencodings in /Users/valentin/anaconda3/envs/Go.Algo/lib/python3.10/site-packages (from bleach->nbconvert>=5->notebook>=4.4.1->widgetsnbextension~=3.6.6->ipywidgets<8.0.0,>=7.6.5->etna[all]) (0.5.1)\r\n",
      "Requirement already satisfied: sniffio>=1.1 in /Users/valentin/anaconda3/envs/Go.Algo/lib/python3.10/site-packages (from anyio<4,>=3.1.0->jupyter-server>=1.8->nbclassic>=0.4.7->notebook>=4.4.1->widgetsnbextension~=3.6.6->ipywidgets<8.0.0,>=7.6.5->etna[all]) (1.2.0)\r\n",
      "Requirement already satisfied: pycparser in /Users/valentin/anaconda3/envs/Go.Algo/lib/python3.10/site-packages (from cffi>=1.0.1->argon2-cffi-bindings->argon2-cffi->notebook>=4.4.1->widgetsnbextension~=3.6.6->ipywidgets<8.0.0,>=7.6.5->etna[all]) (2.21)\r\n",
      "Downloading tsfresh-0.20.1-py2.py3-none-any.whl (95 kB)\r\n",
      "\u001B[2K   \u001B[90m━━━━━━━━━━━━━━━━━━━━━━━━━━━━━━━━━━━━━━━━\u001B[0m \u001B[32m95.3/95.3 kB\u001B[0m \u001B[31m4.8 MB/s\u001B[0m eta \u001B[36m0:00:00\u001B[0m\r\n",
      "\u001B[?25hDownloading cmaes-0.10.0-py3-none-any.whl (29 kB)\r\n",
      "Downloading dask-2023.12.0-py3-none-any.whl (1.2 MB)\r\n",
      "\u001B[2K   \u001B[90m━━━━━━━━━━━━━━━━━━━━━━━━━━━━━━━━━━━━━━━━\u001B[0m \u001B[32m1.2/1.2 MB\u001B[0m \u001B[31m4.4 MB/s\u001B[0m eta \u001B[36m0:00:00\u001B[0m00:01\u001B[0m00:01\u001B[0m\r\n",
      "\u001B[?25hDownloading cloudpickle-3.0.0-py3-none-any.whl (20 kB)\r\n",
      "Downloading distributed-2023.12.0-py3-none-any.whl (997 kB)\r\n",
      "\u001B[2K   \u001B[90m━━━━━━━━━━━━━━━━━━━━━━━━━━━━━━━━━━━━━━━━\u001B[0m \u001B[32m997.8/997.8 kB\u001B[0m \u001B[31m6.3 MB/s\u001B[0m eta \u001B[36m0:00:00\u001B[0m00:01\u001B[0m00:01\u001B[0m\r\n",
      "\u001B[?25hUsing cached fsspec-2023.10.0-py3-none-any.whl (166 kB)\r\n",
      "Using cached GitPython-3.1.40-py3-none-any.whl (190 kB)\r\n",
      "Downloading lightning_utilities-0.10.0-py3-none-any.whl (24 kB)\r\n",
      "Using cached requests-2.31.0-py3-none-any.whl (62 kB)\r\n",
      "Downloading sentry_sdk-1.38.0-py2.py3-none-any.whl (252 kB)\r\n",
      "\u001B[2K   \u001B[90m━━━━━━━━━━━━━━━━━━━━━━━━━━━━━━━━━━━━━━━━\u001B[0m \u001B[32m252.8/252.8 kB\u001B[0m \u001B[31m4.7 MB/s\u001B[0m eta \u001B[36m0:00:00\u001B[0ma \u001B[36m0:00:01\u001B[0m\r\n",
      "\u001B[?25hDownloading stumpy-1.12.0-py3-none-any.whl (169 kB)\r\n",
      "\u001B[2K   \u001B[90m━━━━━━━━━━━━━━━━━━━━━━━━━━━━━━━━━━━━━━━━\u001B[0m \u001B[32m169.1/169.1 kB\u001B[0m \u001B[31m6.7 MB/s\u001B[0m eta \u001B[36m0:00:00\u001B[0m\r\n",
      "\u001B[?25hDownloading torchmetrics-1.2.1-py3-none-any.whl (806 kB)\r\n",
      "\u001B[2K   \u001B[90m━━━━━━━━━━━━━━━━━━━━━━━━━━━━━━━━━━━━━━━━\u001B[0m \u001B[32m806.1/806.1 kB\u001B[0m \u001B[31m7.3 MB/s\u001B[0m eta \u001B[36m0:00:00\u001B[0m00:01\u001B[0m00:01\u001B[0m\r\n",
      "\u001B[?25hDownloading alembic-1.13.0-py3-none-any.whl (230 kB)\r\n",
      "\u001B[2K   \u001B[90m━━━━━━━━━━━━━━━━━━━━━━━━━━━━━━━━━━━━━━━━\u001B[0m \u001B[32m230.6/230.6 kB\u001B[0m \u001B[31m6.6 MB/s\u001B[0m eta \u001B[36m0:00:00\u001B[0m\r\n",
      "\u001B[?25hDownloading cliff-4.4.0-py3-none-any.whl (80 kB)\r\n",
      "\u001B[2K   \u001B[90m━━━━━━━━━━━━━━━━━━━━━━━━━━━━━━━━━━━━━━━━\u001B[0m \u001B[32m81.0/81.0 kB\u001B[0m \u001B[31m5.7 MB/s\u001B[0m eta \u001B[36m0:00:00\u001B[0m\r\n",
      "\u001B[?25hDownloading colorlog-6.8.0-py3-none-any.whl (11 kB)\r\n",
      "Downloading setproctitle-1.3.3-cp310-cp310-macosx_10_9_universal2.whl (16 kB)\r\n",
      "Downloading aiohttp-3.9.1-cp310-cp310-macosx_11_0_arm64.whl (386 kB)\r\n",
      "\u001B[2K   \u001B[90m━━━━━━━━━━━━━━━━━━━━━━━━━━━━━━━━━━━━━━━━\u001B[0m \u001B[32m386.5/386.5 kB\u001B[0m \u001B[31m2.4 MB/s\u001B[0m eta \u001B[36m0:00:00\u001B[0ma \u001B[36m0:00:01\u001B[0mm\r\n",
      "\u001B[?25hDownloading autopage-0.5.2-py3-none-any.whl (30 kB)\r\n",
      "Using cached gitdb-4.0.11-py3-none-any.whl (62 kB)\r\n",
      "Downloading importlib_metadata-6.9.0-py3-none-any.whl (22 kB)\r\n",
      "Downloading msgpack-1.0.7-cp310-cp310-macosx_11_0_arm64.whl (231 kB)\r\n",
      "\u001B[2K   \u001B[90m━━━━━━━━━━━━━━━━━━━━━━━━━━━━━━━━━━━━━━━━\u001B[0m \u001B[32m232.0/232.0 kB\u001B[0m \u001B[31m5.9 MB/s\u001B[0m eta \u001B[36m0:00:00\u001B[0m\r\n",
      "\u001B[?25hDownloading partd-1.4.1-py3-none-any.whl (18 kB)\r\n",
      "Downloading prettytable-3.9.0-py3-none-any.whl (27 kB)\r\n",
      "Downloading stevedore-5.1.0-py3-none-any.whl (49 kB)\r\n",
      "\u001B[2K   \u001B[90m━━━━━━━━━━━━━━━━━━━━━━━━━━━━━━━━━━━━━━━━\u001B[0m \u001B[32m49.6/49.6 kB\u001B[0m \u001B[31m5.1 MB/s\u001B[0m eta \u001B[36m0:00:00\u001B[0m\r\n",
      "\u001B[?25hDownloading tblib-3.0.0-py3-none-any.whl (12 kB)\r\n",
      "Using cached Mako-1.3.0-py3-none-any.whl (78 kB)\r\n",
      "Downloading async_timeout-4.0.3-py3-none-any.whl (5.7 kB)\r\n",
      "Downloading frozenlist-1.4.0-cp310-cp310-macosx_11_0_arm64.whl (46 kB)\r\n",
      "\u001B[2K   \u001B[90m━━━━━━━━━━━━━━━━━━━━━━━━━━━━━━━━━━━━━━━━\u001B[0m \u001B[32m46.0/46.0 kB\u001B[0m \u001B[31m2.7 MB/s\u001B[0m eta \u001B[36m0:00:00\u001B[0m\r\n",
      "\u001B[?25hDownloading pbr-6.0.0-py2.py3-none-any.whl (107 kB)\r\n",
      "\u001B[2K   \u001B[90m━━━━━━━━━━━━━━━━━━━━━━━━━━━━━━━━━━━━━━━━\u001B[0m \u001B[32m107.5/107.5 kB\u001B[0m \u001B[31m5.4 MB/s\u001B[0m eta \u001B[36m0:00:00\u001B[0m\r\n",
      "\u001B[?25hUsing cached smmap-5.0.1-py3-none-any.whl (24 kB)\r\n",
      "Downloading yarl-1.9.3-cp310-cp310-macosx_11_0_arm64.whl (78 kB)\r\n",
      "\u001B[2K   \u001B[90m━━━━━━━━━━━━━━━━━━━━━━━━━━━━━━━━━━━━━━━━\u001B[0m \u001B[32m78.4/78.4 kB\u001B[0m \u001B[31m6.6 MB/s\u001B[0m eta \u001B[36m0:00:00\u001B[0m\r\n",
      "\u001B[?25hUsing cached zipp-3.17.0-py3-none-any.whl (7.4 kB)\r\n",
      "Building wheels for collected packages: sqlalchemy, promise, pathtools, pyperclip\r\n",
      "  Building wheel for sqlalchemy (setup.py) ... \u001B[?25ldone\r\n",
      "\u001B[?25h  Created wheel for sqlalchemy: filename=SQLAlchemy-1.4.50-cp310-cp310-macosx_11_0_arm64.whl size=1563541 sha256=3f58bae92704e387dc357b921dfa893dbdd914c4440b4165eee11a2efdfd8447\r\n",
      "  Stored in directory: /Users/valentin/Library/Caches/pip/wheels/05/1d/2e/f68a305adcda3ccac5118eb14c259c5298b6f2488546a3d082\r\n",
      "  Building wheel for promise (setup.py) ... \u001B[?25ldone\r\n",
      "\u001B[?25h  Created wheel for promise: filename=promise-2.3-py3-none-any.whl size=21484 sha256=c1375b78c60217069fa067897e8e73000c1301e29df52dcb1231d04043d613b4\r\n",
      "  Stored in directory: /Users/valentin/Library/Caches/pip/wheels/54/4e/28/3ed0e1c8a752867445bab994d2340724928aa3ab059c57c8db\r\n",
      "  Building wheel for pathtools (setup.py) ... \u001B[?25ldone\r\n",
      "\u001B[?25h  Created wheel for pathtools: filename=pathtools-0.1.2-py3-none-any.whl size=8791 sha256=e677021f88e1c0ad1b2352b97b68bcb2cbd70795c742817ce144f0a26bf89ccf\r\n",
      "  Stored in directory: /Users/valentin/Library/Caches/pip/wheels/e7/f3/22/152153d6eb222ee7a56ff8617d80ee5207207a8c00a7aab794\r\n",
      "  Building wheel for pyperclip (setup.py) ... \u001B[?25ldone\r\n",
      "\u001B[?25h  Created wheel for pyperclip: filename=pyperclip-1.8.2-py3-none-any.whl size=11125 sha256=10b2672f7d9b942fc8c983ec0169f2d9f700036efde085709db45a9ee6e499cf\r\n",
      "  Stored in directory: /Users/valentin/Library/Caches/pip/wheels/04/24/fe/140a94a7f1036003ede94579e6b4227fe96c840c6f4dcbe307\r\n",
      "Successfully built sqlalchemy promise pathtools pyperclip\r\n",
      "Installing collected packages: sortedcontainers, pyperclip, pathtools, zipp, zict, torch, toolz, tblib, sqlalchemy, smmap, shortuuid, setproctitle, sentry-sdk, requests, protobuf, promise, PrettyTable, pbr, multidict, msgpack, Mako, locket, lightning-utilities, fsspec, frozenlist, docker-pycreds, colorlog, cmd2, cmaes, cloudpickle, autopage, async-timeout, yarl, torchmetrics, stumpy, stevedore, scikit-learn, partd, importlib-metadata, gitdb, alembic, aiosignal, pyts, GitPython, dask, cliff, aiohttp, wandb, statsforecast, optuna, distributed, pytorch-lightning, tsfresh, pytorch-forecasting\r\n",
      "  Attempting uninstall: scikit-learn\r\n",
      "    Found existing installation: scikit-learn 1.3.2\r\n",
      "    Uninstalling scikit-learn-1.3.2:\r\n",
      "      Successfully uninstalled scikit-learn-1.3.2\r\n",
      "Successfully installed GitPython-3.1.40 Mako-1.3.0 PrettyTable-3.9.0 aiohttp-3.9.1 aiosignal-1.3.1 alembic-1.13.0 async-timeout-4.0.3 autopage-0.5.2 cliff-4.4.0 cloudpickle-3.0.0 cmaes-0.10.0 cmd2-2.4.3 colorlog-6.8.0 dask-2023.12.0 distributed-2023.12.0 docker-pycreds-0.4.0 frozenlist-1.4.0 fsspec-2023.10.0 gitdb-4.0.11 importlib-metadata-6.9.0 lightning-utilities-0.10.0 locket-1.0.0 msgpack-1.0.7 multidict-6.0.4 optuna-2.10.1 partd-1.4.1 pathtools-0.1.2 pbr-6.0.0 promise-2.3 protobuf-3.20.3 pyperclip-1.8.2 pytorch-forecasting-0.9.2 pytorch-lightning-1.9.5 pyts-0.12.0 requests-2.31.0 scikit-learn-1.0.2 sentry-sdk-1.38.0 setproctitle-1.3.3 shortuuid-1.0.11 smmap-5.0.1 sortedcontainers-2.4.0 sqlalchemy-1.4.50 statsforecast-1.4.0 stevedore-5.1.0 stumpy-1.12.0 tblib-3.0.0 toolz-0.12.0 torch-1.13.1 torchmetrics-1.2.1 tsfresh-0.20.1 wandb-0.12.21 yarl-1.9.3 zict-3.0.0 zipp-3.17.0\r\n"
     ]
    }
   ],
   "source": [
    "!pip install 'etna[all]'"
   ],
   "metadata": {
    "collapsed": false,
    "ExecuteTime": {
     "end_time": "2023-12-02T22:06:52.422338Z",
     "start_time": "2023-12-02T22:06:09.672647Z"
    }
   },
   "id": "ec7a5b08f62811af"
  },
  {
   "cell_type": "code",
   "execution_count": 30,
   "outputs": [
    {
     "name": "stdout",
     "output_type": "stream",
     "text": [
      "Package                Version\r\n",
      "---------------------- ------------\r\n",
      "aiohttp                3.9.1\r\n",
      "aiosignal              1.3.1\r\n",
      "alembic                1.13.0\r\n",
      "antlr4-python3-runtime 4.9.3\r\n",
      "anyio                  3.5.0\r\n",
      "appnope                0.1.2\r\n",
      "argon2-cffi            21.3.0\r\n",
      "argon2-cffi-bindings   21.2.0\r\n",
      "asttokens              2.0.5\r\n",
      "async-timeout          4.0.3\r\n",
      "attrs                  23.1.0\r\n",
      "autopage               0.5.2\r\n",
      "backcall               0.2.0\r\n",
      "bleach                 4.1.0\r\n",
      "boto3                  1.33.6\r\n",
      "botocore               1.33.6\r\n",
      "Bottleneck             1.3.7\r\n",
      "catboost               1.2.2\r\n",
      "certifi                2023.11.17\r\n",
      "cffi                   1.16.0\r\n",
      "charset-normalizer     2.0.4\r\n",
      "click                  8.1.7\r\n",
      "cliff                  4.4.0\r\n",
      "cloudpickle            3.0.0\r\n",
      "cmaes                  0.10.0\r\n",
      "cmd2                   2.4.3\r\n",
      "cmdstanpy              1.2.0\r\n",
      "colorlog               6.8.0\r\n",
      "comm                   0.2.0\r\n",
      "contourpy              1.2.0\r\n",
      "cycler                 0.11.0\r\n",
      "Cython                 3.0.6\r\n",
      "dask                   2023.12.0\r\n",
      "debugpy                1.6.7\r\n",
      "decorator              5.1.1\r\n",
      "defusedxml             0.7.1\r\n",
      "Deprecated             1.2.13\r\n",
      "dill                   0.3.7\r\n",
      "distributed            2023.12.0\r\n",
      "docker-pycreds         0.4.0\r\n",
      "entrypoints            0.4\r\n",
      "etna                   2.3.0\r\n",
      "exceptiongroup         1.0.4\r\n",
      "executing              0.8.3\r\n",
      "fonttools              4.25.0\r\n",
      "frozenlist             1.4.0\r\n",
      "fsspec                 2023.10.0\r\n",
      "gitdb                  4.0.11\r\n",
      "GitPython              3.1.40\r\n",
      "graphviz               0.20.1\r\n",
      "holidays               0.37\r\n",
      "hydra-slayer           0.2.0\r\n",
      "idna                   3.4\r\n",
      "importlib-metadata     6.9.0\r\n",
      "importlib-resources    6.1.1\r\n",
      "ipykernel              6.25.0\r\n",
      "ipython                8.15.0\r\n",
      "ipython-genutils       0.2.0\r\n",
      "ipywidgets             7.8.1\r\n",
      "jedi                   0.18.1\r\n",
      "Jinja2                 3.1.2\r\n",
      "jmespath               1.0.1\r\n",
      "joblib                 1.3.2\r\n",
      "json5                  0.9.6\r\n",
      "jsonschema             4.17.3\r\n",
      "jupyter                1.0.0\r\n",
      "jupyter_client         7.4.9\r\n",
      "jupyter-console        6.6.3\r\n",
      "jupyter_core           5.5.0\r\n",
      "jupyter-server         1.13.5\r\n",
      "jupyterlab-pygments    0.1.2\r\n",
      "jupyterlab-widgets     1.1.7\r\n",
      "kiwisolver             1.4.4\r\n",
      "lightning-utilities    0.10.0\r\n",
      "llvmlite               0.41.1\r\n",
      "locket                 1.0.0\r\n",
      "loguru                 0.5.3\r\n",
      "Mako                   1.3.0\r\n",
      "MarkupSafe             2.1.1\r\n",
      "matplotlib             3.8.0\r\n",
      "matplotlib-inline      0.1.6\r\n",
      "mistune                0.8.4\r\n",
      "msgpack                1.0.7\r\n",
      "multidict              6.0.4\r\n",
      "munkres                1.1.4\r\n",
      "nbclassic              1.0.0\r\n",
      "nbconvert              5.5.0\r\n",
      "nbformat               5.1.3\r\n",
      "nest-asyncio           1.5.6\r\n",
      "notebook               6.5.4\r\n",
      "notebook_shim          0.2.3\r\n",
      "numba                  0.58.1\r\n",
      "numpy                  1.26.2\r\n",
      "omegaconf              2.3.0\r\n",
      "optuna                 2.10.1\r\n",
      "packaging              23.1\r\n",
      "pandas                 1.5.3\r\n",
      "pandocfilters          1.5.0\r\n",
      "parso                  0.8.3\r\n",
      "partd                  1.4.1\r\n",
      "pathtools              0.1.2\r\n",
      "patsy                  0.5.4\r\n",
      "pbr                    6.0.0\r\n",
      "pexpect                4.8.0\r\n",
      "pickleshare            0.7.5\r\n",
      "Pillow                 10.0.1\r\n",
      "pip                    23.3.1\r\n",
      "platformdirs           3.10.0\r\n",
      "plotly                 5.18.0\r\n",
      "ply                    3.11\r\n",
      "pmdarima               2.0.4\r\n",
      "prettytable            3.9.0\r\n",
      "prometheus-client      0.14.1\r\n",
      "promise                2.3\r\n",
      "prompt-toolkit         3.0.36\r\n",
      "prophet                1.1.5\r\n",
      "protobuf               3.20.3\r\n",
      "psutil                 5.9.0\r\n",
      "ptyprocess             0.7.0\r\n",
      "pure-eval              0.2.2\r\n",
      "pycparser              2.21\r\n",
      "Pygments               2.15.1\r\n",
      "pyparsing              3.0.9\r\n",
      "pyperclip              1.8.2\r\n",
      "PyQt5                  5.15.10\r\n",
      "PyQt5-sip              12.13.0\r\n",
      "pyrsistent             0.18.0\r\n",
      "python-dateutil        2.8.2\r\n",
      "pytorch-forecasting    0.9.2\r\n",
      "pytorch-lightning      1.9.5\r\n",
      "pyts                   0.12.0\r\n",
      "pytz                   2023.3.post1\r\n",
      "PyYAML                 6.0.1\r\n",
      "pyzmq                  23.2.0\r\n",
      "qtconsole              5.5.0\r\n",
      "QtPy                   2.4.1\r\n",
      "requests               2.31.0\r\n",
      "ruptures               1.1.8\r\n",
      "s3transfer             0.8.2\r\n",
      "scikit-learn           1.0.2\r\n",
      "scipy                  1.11.4\r\n",
      "seaborn                0.11.2\r\n",
      "Send2Trash             1.8.2\r\n",
      "sentry-sdk             1.38.0\r\n",
      "setproctitle           1.3.3\r\n",
      "setuptools             68.0.0\r\n",
      "shortuuid              1.0.11\r\n",
      "sip                    6.7.12\r\n",
      "six                    1.16.0\r\n",
      "smmap                  5.0.1\r\n",
      "sniffio                1.2.0\r\n",
      "sortedcontainers       2.4.0\r\n",
      "SQLAlchemy             1.4.50\r\n",
      "stack-data             0.2.0\r\n",
      "stanio                 0.3.0\r\n",
      "statsforecast          1.4.0\r\n",
      "statsmodels            0.13.5\r\n",
      "stevedore              5.1.0\r\n",
      "stumpy                 1.12.0\r\n",
      "tbats                  1.1.3\r\n",
      "tblib                  3.0.0\r\n",
      "tenacity               8.2.3\r\n",
      "terminado              0.17.1\r\n",
      "testpath               0.6.0\r\n",
      "threadpoolctl          3.2.0\r\n",
      "toml                   0.10.2\r\n",
      "tomli                  2.0.1\r\n",
      "toolz                  0.12.0\r\n",
      "torch                  1.13.1\r\n",
      "torchmetrics           1.2.1\r\n",
      "tornado                6.3.3\r\n",
      "tqdm                   4.66.1\r\n",
      "traitlets              5.7.1\r\n",
      "tsfresh                0.20.1\r\n",
      "typer                  0.4.2\r\n",
      "types-Deprecated       1.2.9\r\n",
      "typing_extensions      4.7.1\r\n",
      "urllib3                2.0.7\r\n",
      "wandb                  0.12.21\r\n",
      "wcwidth                0.2.5\r\n",
      "webencodings           0.5.1\r\n",
      "websocket-client       0.58.0\r\n",
      "wheel                  0.41.2\r\n",
      "widgetsnbextension     3.6.6\r\n",
      "wrapt                  1.16.0\r\n",
      "yarl                   1.9.3\r\n",
      "zict                   3.0.0\r\n",
      "zipp                   3.17.0\r\n"
     ]
    }
   ],
   "source": [
    "!python -m pip list"
   ],
   "metadata": {
    "collapsed": false,
    "ExecuteTime": {
     "end_time": "2023-12-02T22:08:31.018592Z",
     "start_time": "2023-12-02T22:08:29.255776Z"
    }
   },
   "id": "431b631dcc302f7"
  },
  {
   "cell_type": "code",
   "execution_count": 31,
   "outputs": [
    {
     "name": "stdout",
     "output_type": "stream",
     "text": [
      "python: can't open file '/Users/valentin/PycharmProjects/Go.Algo/from': [Errno 2] No such file or directory\r\n"
     ]
    }
   ],
   "source": [
    "from etna.datasets.tsdataset import TSDataset"
   ],
   "metadata": {
    "collapsed": false,
    "ExecuteTime": {
     "end_time": "2023-12-02T22:08:55.685901Z",
     "start_time": "2023-12-02T22:08:55.504023Z"
    }
   },
   "id": "c6c19c6933b6f581"
  },
  {
   "cell_type": "code",
   "execution_count": 129,
   "outputs": [
    {
     "ename": "ModuleNotFoundError",
     "evalue": "No module named 'etna'",
     "output_type": "error",
     "traceback": [
      "\u001B[0;31m---------------------------------------------------------------------------\u001B[0m",
      "\u001B[0;31mModuleNotFoundError\u001B[0m                       Traceback (most recent call last)",
      "Cell \u001B[0;32mIn[129], line 1\u001B[0m\n\u001B[0;32m----> 1\u001B[0m \u001B[38;5;28;01mfrom\u001B[39;00m \u001B[38;5;21;01metna\u001B[39;00m\u001B[38;5;21;01m.\u001B[39;00m\u001B[38;5;21;01mdatasets\u001B[39;00m\u001B[38;5;21;01m.\u001B[39;00m\u001B[38;5;21;01mtsdataset\u001B[39;00m \u001B[38;5;28;01mimport\u001B[39;00m TSDataset\n\u001B[1;32m      3\u001B[0m df \u001B[38;5;241m=\u001B[39m TSDataset\u001B[38;5;241m.\u001B[39mto_dataset(df_etna)\n\u001B[1;32m      4\u001B[0m df\u001B[38;5;241m.\u001B[39mhead()\n",
      "\u001B[0;31mModuleNotFoundError\u001B[0m: No module named 'etna'"
     ]
    }
   ],
   "source": [
    "df = TSDataset.to_dataset(df_etna)\n",
    "df.head()"
   ],
   "metadata": {
    "collapsed": false,
    "ExecuteTime": {
     "end_time": "2023-12-02T21:45:42.015490Z",
     "start_time": "2023-12-02T21:45:42.001878Z"
    }
   },
   "id": "2ad159d259eec81"
  },
  {
   "cell_type": "code",
   "execution_count": null,
   "outputs": [],
   "source": [],
   "metadata": {
    "collapsed": false
   },
   "id": "26778cfdb9243aa5"
  }
 ],
 "metadata": {
  "kernelspec": {
   "display_name": "Python 3",
   "language": "python",
   "name": "python3"
  },
  "language_info": {
   "codemirror_mode": {
    "name": "ipython",
    "version": 2
   },
   "file_extension": ".py",
   "mimetype": "text/x-python",
   "name": "python",
   "nbconvert_exporter": "python",
   "pygments_lexer": "ipython2",
   "version": "2.7.6"
  }
 },
 "nbformat": 4,
 "nbformat_minor": 5
}
