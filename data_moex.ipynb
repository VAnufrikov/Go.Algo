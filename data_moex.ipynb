{
 "cells": [
  {
   "cell_type": "code",
   "execution_count": 42,
   "id": "initial_id",
   "metadata": {
    "collapsed": true,
    "ExecuteTime": {
     "end_time": "2023-12-02T12:11:50.039531Z",
     "start_time": "2023-12-02T12:11:49.873270Z"
    }
   },
   "outputs": [],
   "source": [
    "import pandas as pd\n",
    "from moexalgo import Market, Ticker"
   ]
  },
  {
   "cell_type": "code",
   "execution_count": 38,
   "outputs": [],
   "source": [
    "df = pd.read_csv('data/ListingSecurityList.csv', engine='python', encoding='cp1251', sep=';')"
   ],
   "metadata": {
    "collapsed": false,
    "ExecuteTime": {
     "end_time": "2023-12-02T12:10:15.621043Z",
     "start_time": "2023-12-02T12:10:15.459250Z"
    }
   },
   "id": "138d3d6d109de82b"
  },
  {
   "cell_type": "code",
   "execution_count": 39,
   "outputs": [
    {
     "data": {
      "text/plain": "Index(['DATESTAMP', 'INSTRUMENT_ID', 'LIST_SECTION', 'RN', 'SUPERTYPE',\n       'INSTRUMENT_TYPE', 'INSTRUMENT_CATEGORY', 'TRADE_CODE', 'ISIN',\n       'REGISTRY_NUMBER', 'REGISTRY_DATE', 'EMITENT_FULL_NAME', 'INN',\n       'NOMINAL', 'CURRENCY', 'ISSUE_AMOUNT', 'DECISION_DATE', 'OKSM_EDR',\n       'ONLY_EMITENT_FULL_NAME', 'REG_COUNTRY', 'QUALIFIED_INVESTOR',\n       'HAS_PROSPECTUS', 'IS_CONCESSION_AGREEMENT', 'IS_MORTGAGE_AGENT',\n       'INCLUDED_DURING_CREATION', 'SECURITY_HAS_DEFAULT',\n       'SECURITY_HAS_TECH_DEFAULT', 'INCLUDED_WITHOUT_COMPLIANCE',\n       'RETAINED_WITHOUT_COMPLIANCE', 'HAS_RESTRICTION_CIRCULATION',\n       'LISTING_LEVEL_HIST', 'OBLIGATION_PROGRAM_RN', 'COUPON_PERCENT',\n       'EARLY_REPAYMENT', 'EARLY_REDEMPTION', 'ISS_BOARDS', 'OTHER_SECURITIES',\n       'DISCLOSURE_PART_PAGE', 'DISCLOSURE_RF_INFO_PAGE', 'INCLUDE_DATE',\n       'CFI_FOREIGN', 'ISIN_UNDERLYING_ASSET', 'CFI_UNDERLYING_ASSET',\n       'PIF_STATUS', 'PIF_STATUS_HIST', 'OBLIGATION_PROGRAM_DATE',\n       'ISS_BOARDS_HASH', 'OTHER_SECURITIES_HASH', 'CACHING_TIMESTAMP',\n       'Unnamed: 49'],\n      dtype='object')"
     },
     "execution_count": 39,
     "metadata": {},
     "output_type": "execute_result"
    }
   ],
   "source": [
    "df.columns"
   ],
   "metadata": {
    "collapsed": false,
    "ExecuteTime": {
     "end_time": "2023-12-02T12:10:15.762470Z",
     "start_time": "2023-12-02T12:10:15.758767Z"
    }
   },
   "id": "77b9b32c9d2e20d1"
  },
  {
   "cell_type": "code",
   "execution_count": 40,
   "outputs": [],
   "source": [
    "df = df[['TRADE_CODE','EMITENT_FULL_NAME','INSTRUMENT_TYPE', 'LIST_SECTION', 'INSTRUMENT_CATEGORY','CURRENCY']]"
   ],
   "metadata": {
    "collapsed": false,
    "ExecuteTime": {
     "end_time": "2023-12-02T12:10:16.916846Z",
     "start_time": "2023-12-02T12:10:16.903884Z"
    }
   },
   "id": "c93b7a9c00f24931"
  },
  {
   "cell_type": "code",
   "execution_count": 41,
   "outputs": [
    {
     "data": {
      "text/plain": "     TRADE_CODE                                  EMITENT_FULL_NAME  \\\n11         CBOM  \"МОСКОВСКИЙ КРЕДИТНЫЙ БАНК\" (публичное акционе...   \n26         POLY                        Polymetal International plc   \n27         YNDX       Public Limited Liability Company Yandex N.V.   \n41         ALRS  Акционерная компания \"АЛРОСА\" (публичное акцио...   \n101        VTBR          Банк ВТБ (публичное акционерное общество)   \n...         ...                                                ...   \n3782       SAGO  Публичное акционерное общество энергетики и эл...   \n3784       SLEN  Публичное акционерное общество энергетики и эл...   \n3823       PRMB  акционерный коммерческий банк \"Приморье\"  (пуб...   \n3891       KMEZ  публичное акционерное общество \"Ковровский мех...   \n3904       ARSA  публичное акционерное общество \"Управляющая ко...   \n\n                  INSTRUMENT_TYPE    LIST_SECTION  \\\n11             Акция обыкновенная  Первый уровень   \n26    Акции иностранного эмитента  Первый уровень   \n27    Акции иностранного эмитента  Первый уровень   \n41             Акция обыкновенная  Первый уровень   \n101            Акция обыкновенная  Первый уровень   \n...                           ...             ...   \n3782           Акция обыкновенная  Третий уровень   \n3784           Акция обыкновенная  Третий уровень   \n3823           Акция обыкновенная  Третий уровень   \n3891           Акция обыкновенная  Третий уровень   \n3904           Акция обыкновенная  Третий уровень   \n\n                                    INSTRUMENT_CATEGORY    CURRENCY  \n11                                   акции обыкновенные       Рубль  \n26          Акции обыкновенные бездокументарные именные  Доллар США  \n27    Обыкновенные именные бездокументарные акции кл...        Евро  \n41                                   акции обыкновенные       Рубль  \n101                                  акции обыкновенные       Рубль  \n...                                                 ...         ...  \n3782                                 акции обыкновенные       Рубль  \n3784                                 акции обыкновенные       Рубль  \n3823                                 акции обыкновенные       Рубль  \n3891                                 акции обыкновенные       Рубль  \n3904                                 акции обыкновенные       Рубль  \n\n[820 rows x 6 columns]",
      "text/html": "<div>\n<style scoped>\n    .dataframe tbody tr th:only-of-type {\n        vertical-align: middle;\n    }\n\n    .dataframe tbody tr th {\n        vertical-align: top;\n    }\n\n    .dataframe thead th {\n        text-align: right;\n    }\n</style>\n<table border=\"1\" class=\"dataframe\">\n  <thead>\n    <tr style=\"text-align: right;\">\n      <th></th>\n      <th>TRADE_CODE</th>\n      <th>EMITENT_FULL_NAME</th>\n      <th>INSTRUMENT_TYPE</th>\n      <th>LIST_SECTION</th>\n      <th>INSTRUMENT_CATEGORY</th>\n      <th>CURRENCY</th>\n    </tr>\n  </thead>\n  <tbody>\n    <tr>\n      <th>11</th>\n      <td>CBOM</td>\n      <td>\"МОСКОВСКИЙ КРЕДИТНЫЙ БАНК\" (публичное акционе...</td>\n      <td>Акция обыкновенная</td>\n      <td>Первый уровень</td>\n      <td>акции обыкновенные</td>\n      <td>Рубль</td>\n    </tr>\n    <tr>\n      <th>26</th>\n      <td>POLY</td>\n      <td>Polymetal International plc</td>\n      <td>Акции иностранного эмитента</td>\n      <td>Первый уровень</td>\n      <td>Акции обыкновенные бездокументарные именные</td>\n      <td>Доллар США</td>\n    </tr>\n    <tr>\n      <th>27</th>\n      <td>YNDX</td>\n      <td>Public Limited Liability Company Yandex N.V.</td>\n      <td>Акции иностранного эмитента</td>\n      <td>Первый уровень</td>\n      <td>Обыкновенные именные бездокументарные акции кл...</td>\n      <td>Евро</td>\n    </tr>\n    <tr>\n      <th>41</th>\n      <td>ALRS</td>\n      <td>Акционерная компания \"АЛРОСА\" (публичное акцио...</td>\n      <td>Акция обыкновенная</td>\n      <td>Первый уровень</td>\n      <td>акции обыкновенные</td>\n      <td>Рубль</td>\n    </tr>\n    <tr>\n      <th>101</th>\n      <td>VTBR</td>\n      <td>Банк ВТБ (публичное акционерное общество)</td>\n      <td>Акция обыкновенная</td>\n      <td>Первый уровень</td>\n      <td>акции обыкновенные</td>\n      <td>Рубль</td>\n    </tr>\n    <tr>\n      <th>...</th>\n      <td>...</td>\n      <td>...</td>\n      <td>...</td>\n      <td>...</td>\n      <td>...</td>\n      <td>...</td>\n    </tr>\n    <tr>\n      <th>3782</th>\n      <td>SAGO</td>\n      <td>Публичное акционерное общество энергетики и эл...</td>\n      <td>Акция обыкновенная</td>\n      <td>Третий уровень</td>\n      <td>акции обыкновенные</td>\n      <td>Рубль</td>\n    </tr>\n    <tr>\n      <th>3784</th>\n      <td>SLEN</td>\n      <td>Публичное акционерное общество энергетики и эл...</td>\n      <td>Акция обыкновенная</td>\n      <td>Третий уровень</td>\n      <td>акции обыкновенные</td>\n      <td>Рубль</td>\n    </tr>\n    <tr>\n      <th>3823</th>\n      <td>PRMB</td>\n      <td>акционерный коммерческий банк \"Приморье\"  (пуб...</td>\n      <td>Акция обыкновенная</td>\n      <td>Третий уровень</td>\n      <td>акции обыкновенные</td>\n      <td>Рубль</td>\n    </tr>\n    <tr>\n      <th>3891</th>\n      <td>KMEZ</td>\n      <td>публичное акционерное общество \"Ковровский мех...</td>\n      <td>Акция обыкновенная</td>\n      <td>Третий уровень</td>\n      <td>акции обыкновенные</td>\n      <td>Рубль</td>\n    </tr>\n    <tr>\n      <th>3904</th>\n      <td>ARSA</td>\n      <td>публичное акционерное общество \"Управляющая ко...</td>\n      <td>Акция обыкновенная</td>\n      <td>Третий уровень</td>\n      <td>акции обыкновенные</td>\n      <td>Рубль</td>\n    </tr>\n  </tbody>\n</table>\n<p>820 rows × 6 columns</p>\n</div>"
     },
     "execution_count": 41,
     "metadata": {},
     "output_type": "execute_result"
    }
   ],
   "source": [
    "df[(df['INSTRUMENT_TYPE'] == 'Акция обыкновенная') | (df['INSTRUMENT_TYPE'] == 'Акции иностранного эмитента')]"
   ],
   "metadata": {
    "collapsed": false,
    "ExecuteTime": {
     "end_time": "2023-12-02T12:10:22.503348Z",
     "start_time": "2023-12-02T12:10:22.493502Z"
    }
   },
   "id": "8b4b74dc17807f39"
  },
  {
   "cell_type": "code",
   "execution_count": 43,
   "outputs": [],
   "source": [
    "# Акции SBER\n",
    "sber = Ticker('POLY')\n",
    "\n",
    "# Все акции\n",
    "stocks = Market('stocks')"
   ],
   "metadata": {
    "collapsed": false,
    "ExecuteTime": {
     "end_time": "2023-12-02T12:12:05.584618Z",
     "start_time": "2023-12-02T12:12:05.191858Z"
    }
   },
   "id": "77ee8728e8ba13b7"
  },
  {
   "cell_type": "code",
   "execution_count": 44,
   "outputs": [
    {
     "data": {
      "text/plain": "    open  close   high    low       value   volume               begin  \\\n0  525.3  525.3  525.3  525.3   2129566.2   4054.0 2023-10-10 09:50:00   \n1  525.2  520.9  525.2  519.5  35211261.8  67509.0 2023-10-10 10:00:00   \n2  521.2  519.3  522.7  517.3  27345103.6  52578.0 2023-10-10 10:10:00   \n3  518.8  519.0  519.5  516.3  23626505.3  45626.0 2023-10-10 10:20:00   \n4  519.1  519.3  519.4  518.3   6536669.2  12599.0 2023-10-10 10:30:00   \n\n                  end  \n0 2023-10-10 09:59:59  \n1 2023-10-10 10:09:59  \n2 2023-10-10 10:19:59  \n3 2023-10-10 10:29:59  \n4 2023-10-10 10:39:59  ",
      "text/html": "<div>\n<style scoped>\n    .dataframe tbody tr th:only-of-type {\n        vertical-align: middle;\n    }\n\n    .dataframe tbody tr th {\n        vertical-align: top;\n    }\n\n    .dataframe thead th {\n        text-align: right;\n    }\n</style>\n<table border=\"1\" class=\"dataframe\">\n  <thead>\n    <tr style=\"text-align: right;\">\n      <th></th>\n      <th>open</th>\n      <th>close</th>\n      <th>high</th>\n      <th>low</th>\n      <th>value</th>\n      <th>volume</th>\n      <th>begin</th>\n      <th>end</th>\n    </tr>\n  </thead>\n  <tbody>\n    <tr>\n      <th>0</th>\n      <td>525.3</td>\n      <td>525.3</td>\n      <td>525.3</td>\n      <td>525.3</td>\n      <td>2129566.2</td>\n      <td>4054.0</td>\n      <td>2023-10-10 09:50:00</td>\n      <td>2023-10-10 09:59:59</td>\n    </tr>\n    <tr>\n      <th>1</th>\n      <td>525.2</td>\n      <td>520.9</td>\n      <td>525.2</td>\n      <td>519.5</td>\n      <td>35211261.8</td>\n      <td>67509.0</td>\n      <td>2023-10-10 10:00:00</td>\n      <td>2023-10-10 10:09:59</td>\n    </tr>\n    <tr>\n      <th>2</th>\n      <td>521.2</td>\n      <td>519.3</td>\n      <td>522.7</td>\n      <td>517.3</td>\n      <td>27345103.6</td>\n      <td>52578.0</td>\n      <td>2023-10-10 10:10:00</td>\n      <td>2023-10-10 10:19:59</td>\n    </tr>\n    <tr>\n      <th>3</th>\n      <td>518.8</td>\n      <td>519.0</td>\n      <td>519.5</td>\n      <td>516.3</td>\n      <td>23626505.3</td>\n      <td>45626.0</td>\n      <td>2023-10-10 10:20:00</td>\n      <td>2023-10-10 10:29:59</td>\n    </tr>\n    <tr>\n      <th>4</th>\n      <td>519.1</td>\n      <td>519.3</td>\n      <td>519.4</td>\n      <td>518.3</td>\n      <td>6536669.2</td>\n      <td>12599.0</td>\n      <td>2023-10-10 10:30:00</td>\n      <td>2023-10-10 10:39:59</td>\n    </tr>\n  </tbody>\n</table>\n</div>"
     },
     "execution_count": 44,
     "metadata": {},
     "output_type": "execute_result"
    }
   ],
   "source": [
    "# Свечи по акциям SBER за период\n",
    "sber.candles(date='2023-10-10', till_date='2023-10-18', period='10m').head()"
   ],
   "metadata": {
    "collapsed": false,
    "ExecuteTime": {
     "end_time": "2023-12-02T12:12:16.331858Z",
     "start_time": "2023-12-02T12:12:15.876864Z"
    }
   },
   "id": "7598fc823850b060"
  },
  {
   "cell_type": "code",
   "execution_count": 45,
   "outputs": [
    {
     "data": {
      "text/plain": "  ticker   tradedate tradetime  pr_open  pr_high  pr_low  pr_close  pr_std  \\\n0   POLY  2023-10-10  10:05:00    525.2    525.2   520.1     521.5  0.0006   \n1   POLY  2023-10-10  10:10:00    521.2    521.8   519.5     520.9  0.0003   \n2   POLY  2023-10-10  10:15:00    521.2    522.7   520.5     521.8  0.0003   \n3   POLY  2023-10-10  10:20:00    521.8    522.3   517.3     519.3  0.0003   \n4   POLY  2023-10-10  10:25:00    518.8    519.4   516.3     518.5  0.0002   \n\n     vol         val  ...  trades_b  trades_s      val_b       val_s  vol_b  \\\n0  49832  26003519.0  ...       388       536  9434366.0  16569152.0  18069   \n1  17677   9207742.0  ...       204       314  3774020.0   5433722.0   7240   \n2  16104   8401222.0  ...       183       146  4696774.0   3704447.0   8999   \n3  36474  18943881.0  ...       200       492  1989287.0  16954594.0   3825   \n4  34749  17982224.0  ...       285       497  4033887.0  13948337.0   7789   \n\n   vol_s  disb  pr_vwap_b  pr_vwap_s             systime  \n0  31763 -0.27      522.1      521.6 2023-10-26 15:44:37  \n1  10437 -0.18      521.3      520.6 2023-10-26 15:44:38  \n2   7105  0.12      521.9      521.4 2023-10-26 15:44:38  \n3  32649 -0.79      520.1      519.3 2023-10-26 15:44:39  \n4  26960 -0.55      517.9      517.4 2023-10-26 15:44:39  \n\n[5 rows x 23 columns]",
      "text/html": "<div>\n<style scoped>\n    .dataframe tbody tr th:only-of-type {\n        vertical-align: middle;\n    }\n\n    .dataframe tbody tr th {\n        vertical-align: top;\n    }\n\n    .dataframe thead th {\n        text-align: right;\n    }\n</style>\n<table border=\"1\" class=\"dataframe\">\n  <thead>\n    <tr style=\"text-align: right;\">\n      <th></th>\n      <th>ticker</th>\n      <th>tradedate</th>\n      <th>tradetime</th>\n      <th>pr_open</th>\n      <th>pr_high</th>\n      <th>pr_low</th>\n      <th>pr_close</th>\n      <th>pr_std</th>\n      <th>vol</th>\n      <th>val</th>\n      <th>...</th>\n      <th>trades_b</th>\n      <th>trades_s</th>\n      <th>val_b</th>\n      <th>val_s</th>\n      <th>vol_b</th>\n      <th>vol_s</th>\n      <th>disb</th>\n      <th>pr_vwap_b</th>\n      <th>pr_vwap_s</th>\n      <th>systime</th>\n    </tr>\n  </thead>\n  <tbody>\n    <tr>\n      <th>0</th>\n      <td>POLY</td>\n      <td>2023-10-10</td>\n      <td>10:05:00</td>\n      <td>525.2</td>\n      <td>525.2</td>\n      <td>520.1</td>\n      <td>521.5</td>\n      <td>0.0006</td>\n      <td>49832</td>\n      <td>26003519.0</td>\n      <td>...</td>\n      <td>388</td>\n      <td>536</td>\n      <td>9434366.0</td>\n      <td>16569152.0</td>\n      <td>18069</td>\n      <td>31763</td>\n      <td>-0.27</td>\n      <td>522.1</td>\n      <td>521.6</td>\n      <td>2023-10-26 15:44:37</td>\n    </tr>\n    <tr>\n      <th>1</th>\n      <td>POLY</td>\n      <td>2023-10-10</td>\n      <td>10:10:00</td>\n      <td>521.2</td>\n      <td>521.8</td>\n      <td>519.5</td>\n      <td>520.9</td>\n      <td>0.0003</td>\n      <td>17677</td>\n      <td>9207742.0</td>\n      <td>...</td>\n      <td>204</td>\n      <td>314</td>\n      <td>3774020.0</td>\n      <td>5433722.0</td>\n      <td>7240</td>\n      <td>10437</td>\n      <td>-0.18</td>\n      <td>521.3</td>\n      <td>520.6</td>\n      <td>2023-10-26 15:44:38</td>\n    </tr>\n    <tr>\n      <th>2</th>\n      <td>POLY</td>\n      <td>2023-10-10</td>\n      <td>10:15:00</td>\n      <td>521.2</td>\n      <td>522.7</td>\n      <td>520.5</td>\n      <td>521.8</td>\n      <td>0.0003</td>\n      <td>16104</td>\n      <td>8401222.0</td>\n      <td>...</td>\n      <td>183</td>\n      <td>146</td>\n      <td>4696774.0</td>\n      <td>3704447.0</td>\n      <td>8999</td>\n      <td>7105</td>\n      <td>0.12</td>\n      <td>521.9</td>\n      <td>521.4</td>\n      <td>2023-10-26 15:44:38</td>\n    </tr>\n    <tr>\n      <th>3</th>\n      <td>POLY</td>\n      <td>2023-10-10</td>\n      <td>10:20:00</td>\n      <td>521.8</td>\n      <td>522.3</td>\n      <td>517.3</td>\n      <td>519.3</td>\n      <td>0.0003</td>\n      <td>36474</td>\n      <td>18943881.0</td>\n      <td>...</td>\n      <td>200</td>\n      <td>492</td>\n      <td>1989287.0</td>\n      <td>16954594.0</td>\n      <td>3825</td>\n      <td>32649</td>\n      <td>-0.79</td>\n      <td>520.1</td>\n      <td>519.3</td>\n      <td>2023-10-26 15:44:39</td>\n    </tr>\n    <tr>\n      <th>4</th>\n      <td>POLY</td>\n      <td>2023-10-10</td>\n      <td>10:25:00</td>\n      <td>518.8</td>\n      <td>519.4</td>\n      <td>516.3</td>\n      <td>518.5</td>\n      <td>0.0002</td>\n      <td>34749</td>\n      <td>17982224.0</td>\n      <td>...</td>\n      <td>285</td>\n      <td>497</td>\n      <td>4033887.0</td>\n      <td>13948337.0</td>\n      <td>7789</td>\n      <td>26960</td>\n      <td>-0.55</td>\n      <td>517.9</td>\n      <td>517.4</td>\n      <td>2023-10-26 15:44:39</td>\n    </tr>\n  </tbody>\n</table>\n<p>5 rows × 23 columns</p>\n</div>"
     },
     "execution_count": 45,
     "metadata": {},
     "output_type": "execute_result"
    }
   ],
   "source": [
    "# Данные по акциям SBER за период\n",
    "sber.tradestats(date='2023-10-10', till_date='2023-10-18').head()"
   ],
   "metadata": {
    "collapsed": false,
    "ExecuteTime": {
     "end_time": "2023-12-02T12:12:36.959842Z",
     "start_time": "2023-12-02T12:12:36.383096Z"
    }
   },
   "id": "e52da95c7e859e7e"
  },
  {
   "cell_type": "code",
   "execution_count": 46,
   "outputs": [
    {
     "data": {
      "text/plain": "  ticker   tradedate tradetime   pr_open   pr_high    pr_low  pr_close  \\\n0   ABIO  2023-10-10  10:05:00   119.520   119.800   114.000   117.380   \n1   ABRD  2023-10-10  10:05:00   305.600   307.400   305.600   306.600   \n2   AFKS  2023-10-10  10:05:00    17.601    17.606    17.501    17.511   \n3   AFLT  2023-10-10  10:05:00    40.560    40.590    40.470    40.550   \n4   AGRO  2023-10-10  10:05:00  1200.000  1209.600  1200.000  1209.600   \n\n   pr_std    vol         val  ...  trades_b  trades_s       val_b       val_s  \\\n0  0.0017  45904  53480659.0  ...       647       790  26741563.0  26739095.0   \n1  0.0007    480   1471600.0  ...        36        13   1141020.0    330580.0   \n2  0.0003  10943  19184629.0  ...       206       152   5859774.0  13324855.0   \n3  0.0004   4517   1830400.0  ...       139        46   1352553.0    477847.0   \n4  0.0004   5834   7036248.0  ...       265        60   5784024.0   1252224.0   \n\n   vol_b  vol_s  disb  pr_vwap_b  pr_vwap_s             systime  \n0  22932  22972  0.00    116.610    116.400 2023-10-26 15:44:37  \n1    372    108  0.55    306.700    306.100 2023-10-26 15:44:37  \n2   3341   7602 -0.39     17.539     17.528 2023-10-26 15:44:37  \n3   3337   1180  0.48     40.530     40.500 2023-10-26 15:44:37  \n4   4795   1039  0.64   1206.300   1205.200 2023-10-26 15:44:37  \n\n[5 rows x 23 columns]",
      "text/html": "<div>\n<style scoped>\n    .dataframe tbody tr th:only-of-type {\n        vertical-align: middle;\n    }\n\n    .dataframe tbody tr th {\n        vertical-align: top;\n    }\n\n    .dataframe thead th {\n        text-align: right;\n    }\n</style>\n<table border=\"1\" class=\"dataframe\">\n  <thead>\n    <tr style=\"text-align: right;\">\n      <th></th>\n      <th>ticker</th>\n      <th>tradedate</th>\n      <th>tradetime</th>\n      <th>pr_open</th>\n      <th>pr_high</th>\n      <th>pr_low</th>\n      <th>pr_close</th>\n      <th>pr_std</th>\n      <th>vol</th>\n      <th>val</th>\n      <th>...</th>\n      <th>trades_b</th>\n      <th>trades_s</th>\n      <th>val_b</th>\n      <th>val_s</th>\n      <th>vol_b</th>\n      <th>vol_s</th>\n      <th>disb</th>\n      <th>pr_vwap_b</th>\n      <th>pr_vwap_s</th>\n      <th>systime</th>\n    </tr>\n  </thead>\n  <tbody>\n    <tr>\n      <th>0</th>\n      <td>ABIO</td>\n      <td>2023-10-10</td>\n      <td>10:05:00</td>\n      <td>119.520</td>\n      <td>119.800</td>\n      <td>114.000</td>\n      <td>117.380</td>\n      <td>0.0017</td>\n      <td>45904</td>\n      <td>53480659.0</td>\n      <td>...</td>\n      <td>647</td>\n      <td>790</td>\n      <td>26741563.0</td>\n      <td>26739095.0</td>\n      <td>22932</td>\n      <td>22972</td>\n      <td>0.00</td>\n      <td>116.610</td>\n      <td>116.400</td>\n      <td>2023-10-26 15:44:37</td>\n    </tr>\n    <tr>\n      <th>1</th>\n      <td>ABRD</td>\n      <td>2023-10-10</td>\n      <td>10:05:00</td>\n      <td>305.600</td>\n      <td>307.400</td>\n      <td>305.600</td>\n      <td>306.600</td>\n      <td>0.0007</td>\n      <td>480</td>\n      <td>1471600.0</td>\n      <td>...</td>\n      <td>36</td>\n      <td>13</td>\n      <td>1141020.0</td>\n      <td>330580.0</td>\n      <td>372</td>\n      <td>108</td>\n      <td>0.55</td>\n      <td>306.700</td>\n      <td>306.100</td>\n      <td>2023-10-26 15:44:37</td>\n    </tr>\n    <tr>\n      <th>2</th>\n      <td>AFKS</td>\n      <td>2023-10-10</td>\n      <td>10:05:00</td>\n      <td>17.601</td>\n      <td>17.606</td>\n      <td>17.501</td>\n      <td>17.511</td>\n      <td>0.0003</td>\n      <td>10943</td>\n      <td>19184629.0</td>\n      <td>...</td>\n      <td>206</td>\n      <td>152</td>\n      <td>5859774.0</td>\n      <td>13324855.0</td>\n      <td>3341</td>\n      <td>7602</td>\n      <td>-0.39</td>\n      <td>17.539</td>\n      <td>17.528</td>\n      <td>2023-10-26 15:44:37</td>\n    </tr>\n    <tr>\n      <th>3</th>\n      <td>AFLT</td>\n      <td>2023-10-10</td>\n      <td>10:05:00</td>\n      <td>40.560</td>\n      <td>40.590</td>\n      <td>40.470</td>\n      <td>40.550</td>\n      <td>0.0004</td>\n      <td>4517</td>\n      <td>1830400.0</td>\n      <td>...</td>\n      <td>139</td>\n      <td>46</td>\n      <td>1352553.0</td>\n      <td>477847.0</td>\n      <td>3337</td>\n      <td>1180</td>\n      <td>0.48</td>\n      <td>40.530</td>\n      <td>40.500</td>\n      <td>2023-10-26 15:44:37</td>\n    </tr>\n    <tr>\n      <th>4</th>\n      <td>AGRO</td>\n      <td>2023-10-10</td>\n      <td>10:05:00</td>\n      <td>1200.000</td>\n      <td>1209.600</td>\n      <td>1200.000</td>\n      <td>1209.600</td>\n      <td>0.0004</td>\n      <td>5834</td>\n      <td>7036248.0</td>\n      <td>...</td>\n      <td>265</td>\n      <td>60</td>\n      <td>5784024.0</td>\n      <td>1252224.0</td>\n      <td>4795</td>\n      <td>1039</td>\n      <td>0.64</td>\n      <td>1206.300</td>\n      <td>1205.200</td>\n      <td>2023-10-26 15:44:37</td>\n    </tr>\n  </tbody>\n</table>\n<p>5 rows × 23 columns</p>\n</div>"
     },
     "execution_count": 46,
     "metadata": {},
     "output_type": "execute_result"
    }
   ],
   "source": [
    "# Данные по всем акциям за дату. Чтобы получить данные за период, нужно запустить цикл по датам\n",
    "stocks.tradestats(date='2023-10-10').head()"
   ],
   "metadata": {
    "collapsed": false,
    "ExecuteTime": {
     "end_time": "2023-12-02T12:13:16.674863Z",
     "start_time": "2023-12-02T12:13:14.068421Z"
    }
   },
   "id": "431ce1b673b9361e"
  },
  {
   "cell_type": "code",
   "execution_count": null,
   "outputs": [],
   "source": [],
   "metadata": {
    "collapsed": false
   },
   "id": "96f5eb435c0e16d5"
  }
 ],
 "metadata": {
  "kernelspec": {
   "display_name": "Python 3",
   "language": "python",
   "name": "python3"
  },
  "language_info": {
   "codemirror_mode": {
    "name": "ipython",
    "version": 2
   },
   "file_extension": ".py",
   "mimetype": "text/x-python",
   "name": "python",
   "nbconvert_exporter": "python",
   "pygments_lexer": "ipython2",
   "version": "2.7.6"
  }
 },
 "nbformat": 4,
 "nbformat_minor": 5
}
