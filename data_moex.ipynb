{
 "cells": [
  {
   "cell_type": "code",
   "execution_count": null,
   "outputs": [],
   "source": [
    "!pip install pytz"
   ],
   "metadata": {
    "collapsed": false
   },
   "id": "245ecea3eb87c20"
  },
  {
   "cell_type": "code",
   "execution_count": 2,
   "id": "initial_id",
   "metadata": {
    "collapsed": true,
    "ExecuteTime": {
     "end_time": "2023-12-09T21:50:46.619031Z",
     "start_time": "2023-12-09T21:50:45.948200Z"
    }
   },
   "outputs": [],
   "source": [
    "import pandas as pd\n",
    "from moexalgo import Market, Ticker"
   ]
  },
  {
   "cell_type": "code",
   "execution_count": null,
   "outputs": [],
   "source": [
    "df = pd.read_csv('data/ListingSecurityList.csv', engine='python', encoding='cp1251', sep=';')"
   ],
   "metadata": {
    "collapsed": false
   },
   "id": "138d3d6d109de82b"
  },
  {
   "cell_type": "code",
   "execution_count": null,
   "outputs": [],
   "source": [
    "df.columns"
   ],
   "metadata": {
    "collapsed": false
   },
   "id": "77b9b32c9d2e20d1"
  },
  {
   "cell_type": "code",
   "execution_count": null,
   "outputs": [],
   "source": [
    "df = df[['TRADE_CODE','EMITENT_FULL_NAME','INSTRUMENT_TYPE', 'LIST_SECTION', 'INSTRUMENT_CATEGORY','CURRENCY','NOMINAL','ISSUE_AMOUNT']]"
   ],
   "metadata": {
    "collapsed": false
   },
   "id": "c93b7a9c00f24931"
  },
  {
   "cell_type": "code",
   "execution_count": null,
   "outputs": [],
   "source": [
    "df['TRADE_CODE'][11]"
   ],
   "metadata": {
    "collapsed": false
   },
   "id": "ed6f3cd19f9cad84"
  },
  {
   "cell_type": "code",
   "execution_count": null,
   "outputs": [],
   "source": [
    "df = df.reset_index(drop=True)"
   ],
   "metadata": {
    "collapsed": false
   },
   "id": "c8dfd4e990fa15a8"
  },
  {
   "cell_type": "code",
   "execution_count": null,
   "outputs": [],
   "source": [
    "df.head()"
   ],
   "metadata": {
    "collapsed": false
   },
   "id": "bdaf3a8f641e5e2"
  },
  {
   "cell_type": "code",
   "execution_count": null,
   "outputs": [],
   "source": [
    "pd.set_option('display.max_columns', 100)"
   ],
   "metadata": {
    "collapsed": false
   },
   "id": "b45d8ed2a8757661"
  },
  {
   "cell_type": "code",
   "execution_count": null,
   "outputs": [],
   "source": [
    "df = df[(df['INSTRUMENT_TYPE'] == 'Акция обыкновенная') | (df['INSTRUMENT_TYPE'] == 'Акции иностранного эмитента')]"
   ],
   "metadata": {
    "collapsed": false
   },
   "id": "8b4b74dc17807f39"
  },
  {
   "cell_type": "code",
   "execution_count": null,
   "outputs": [],
   "source": [
    "# Акции SBER\n",
    "sber = Ticker('POLY')\n",
    "\n",
    "# Все акции\n",
    "stocks = Market('stocks')"
   ],
   "metadata": {
    "collapsed": false
   },
   "id": "77ee8728e8ba13b7"
  },
  {
   "cell_type": "code",
   "execution_count": null,
   "outputs": [],
   "source": [
    "# Свечи по акциям SBER за период\n",
    "sber.candles(date='2023-10-10', till_date='2023-10-18', period='10m').head()"
   ],
   "metadata": {
    "collapsed": false
   },
   "id": "7598fc823850b060"
  },
  {
   "cell_type": "code",
   "execution_count": null,
   "outputs": [],
   "source": [
    "DATE_START = '2023-01-01'\n",
    "DATE_END = '2023-01-02'"
   ],
   "metadata": {
    "collapsed": false
   },
   "id": "790cdff19c4ea42b"
  },
  {
   "cell_type": "code",
   "execution_count": null,
   "outputs": [],
   "source": [
    "sber.tradestats(date='2023-01-01', till_date='2023-01-02').head()"
   ],
   "metadata": {
    "collapsed": false
   },
   "id": "f7f62d19b1cc7380"
  },
  {
   "cell_type": "code",
   "execution_count": null,
   "outputs": [],
   "source": [
    "# Данные по акциям SBER за период\n",
    "sber.tradestats(date=DATE_START, till_date=DATE_END).head()"
   ],
   "metadata": {
    "collapsed": false
   },
   "id": "e52da95c7e859e7e"
  },
  {
   "cell_type": "code",
   "execution_count": null,
   "outputs": [],
   "source": [
    "df_poly.info()"
   ],
   "metadata": {
    "collapsed": false
   },
   "id": "dd2e1eda24342940"
  },
  {
   "cell_type": "code",
   "execution_count": null,
   "outputs": [],
   "source": [
    "# Данные по всем акциям за дату. Чтобы получить данные за период, нужно запустить цикл по датам\n",
    "stocks.tradestats(date='2023-10-10')['ticker'].unique().tolist()"
   ],
   "metadata": {
    "collapsed": false
   },
   "id": "431ce1b673b9361e"
  },
  {
   "cell_type": "code",
   "execution_count": null,
   "outputs": [],
   "source": [],
   "metadata": {
    "collapsed": false
   },
   "id": "ba7d694919891831"
  },
  {
   "cell_type": "code",
   "execution_count": null,
   "outputs": [],
   "source": [
    "df = pd.read_csv('tradestats_CBOM.csv', engine='python', encoding='cp1251', sep=',')"
   ],
   "metadata": {
    "collapsed": false
   },
   "id": "96f5eb435c0e16d5"
  },
  {
   "cell_type": "code",
   "execution_count": null,
   "outputs": [],
   "source": [
    "from matplotlib import pyplot as plt   \n",
    "   \n",
    "x = df[df['tradedate']=='2023-10-02']['tradetime']   \n",
    "y = df[df['tradedate']=='2023-10-02']['pr_close']   \n",
    "   \n",
    "plt.plot(x,y)   \n",
    "   \n",
    "plt.title(\"Line graph\")   \n",
    "plt.ylabel('pr_close')   \n",
    "plt.xlabel('tradetime')   \n",
    "plt.show()   "
   ],
   "metadata": {
    "collapsed": false
   },
   "id": "35d4f68f7c05e260"
  },
  {
   "cell_type": "code",
   "execution_count": null,
   "outputs": [],
   "source": [
    "x = df[df['tradedate']=='2023-10-02']['tradetime']   \n",
    "y = df[df['tradedate']=='2023-10-02']['trades']   \n",
    "   \n",
    "plt.plot(x,y)   \n",
    "   \n",
    "plt.title(\"Line graph\")   \n",
    "plt.ylabel('pr_close')   \n",
    "plt.xlabel('trades')   \n",
    "plt.show()   "
   ],
   "metadata": {
    "collapsed": false
   },
   "id": "937463989ad08e95"
  },
  {
   "cell_type": "code",
   "execution_count": null,
   "outputs": [],
   "source": [
    "df.columns"
   ],
   "metadata": {
    "collapsed": false
   },
   "id": "ca74c8b3cd4bb050"
  },
  {
   "cell_type": "markdown",
   "source": [],
   "metadata": {
    "collapsed": false
   },
   "id": "6979e3241203c8b0"
  },
  {
   "cell_type": "code",
   "execution_count": null,
   "outputs": [],
   "source": [
    "df.sort_values(by='tradetime', ascending=True)"
   ],
   "metadata": {
    "collapsed": false
   },
   "id": "8636127741d4a7a4"
  },
  {
   "cell_type": "code",
   "execution_count": null,
   "outputs": [],
   "source": [
    "df['tradedate']"
   ],
   "metadata": {
    "collapsed": false
   },
   "id": "50acc2c0cb7d6ad7"
  },
  {
   "cell_type": "code",
   "execution_count": null,
   "outputs": [],
   "source": [
    "df.head()"
   ],
   "metadata": {
    "collapsed": false
   },
   "id": "8b6fb1b0dca16419"
  },
  {
   "cell_type": "code",
   "execution_count": null,
   "outputs": [],
   "source": [
    "df.columns"
   ],
   "metadata": {
    "collapsed": false
   },
   "id": "bfdd593556dc8f11"
  },
  {
   "cell_type": "code",
   "execution_count": null,
   "outputs": [],
   "source": [
    "df = pd.read_csv('tradestats_CBOM.csv', engine='python', encoding='cp1251', sep=',')"
   ],
   "metadata": {
    "collapsed": false
   },
   "id": "981319b8a50580e8"
  },
  {
   "cell_type": "code",
   "execution_count": null,
   "outputs": [],
   "source": [
    "df.loc[:,'trade_datetime'] = pd.to_datetime(df.tradedate.astype(str)+' '+df.tradetime.astype(str))\n",
    "\n",
    "df = df[['trade_datetime', 'pr_open', 'pr_high', 'pr_low', 'vol', 'val', 'trades','trades_b', 'trades_s', 'val_b', 'val_s', 'vol_b', 'vol_s','pr_close']]\n",
    "\n",
    "df.columns = ['trade_datetime', 'pr_open', 'pr_high', 'pr_low', 'vol', 'val', 'trades','trades_b', 'trades_s', 'val_b', 'val_s', 'vol_b', 'vol_s','target']\n",
    "\n",
    "df[\"segment\"] = \"main\"\n",
    "\n",
    "df_etna = df\n"
   ],
   "metadata": {
    "collapsed": false
   },
   "id": "16667581683f532c"
  },
  {
   "cell_type": "code",
   "execution_count": null,
   "outputs": [],
   "source": [
    "df_etna.info()"
   ],
   "metadata": {
    "collapsed": false
   },
   "id": "a724ff75ad926437"
  },
  {
   "cell_type": "raw",
   "source": [
    "!conda install python=3.10"
   ],
   "metadata": {
    "collapsed": false
   },
   "id": "3f9c8e2958ef54ea"
  },
  {
   "cell_type": "code",
   "execution_count": null,
   "outputs": [],
   "source": [
    "!python -V "
   ],
   "metadata": {
    "collapsed": false
   },
   "id": "391b6d2a7dcfb3ce"
  },
  {
   "cell_type": "code",
   "execution_count": null,
   "outputs": [],
   "source": [
    "!pip install --upgrade pip\n",
    "!pip install etna\n",
    "!pip install 'etna[all]'"
   ],
   "metadata": {
    "collapsed": false
   },
   "id": "3f6241f6a8acbcfc"
  },
  {
   "cell_type": "code",
   "execution_count": null,
   "outputs": [],
   "source": [
    "from etna.datasets.tsdataset import TSDataset"
   ],
   "metadata": {
    "collapsed": false
   },
   "id": "c6c19c6933b6f581"
  },
  {
   "cell_type": "code",
   "execution_count": 3,
   "outputs": [],
   "source": [
    "df = pd.read_csv('tradestats_CBOM.csv', engine='python', encoding='cp1251', sep=',')"
   ],
   "metadata": {
    "collapsed": false,
    "ExecuteTime": {
     "end_time": "2023-12-09T21:51:03.230309Z",
     "start_time": "2023-12-09T21:51:03.200577Z"
    }
   },
   "id": "9becf5aebb9ab34b"
  },
  {
   "cell_type": "code",
   "execution_count": 5,
   "outputs": [
    {
     "data": {
      "text/plain": "      tradedate tradetime secid  pr_open  pr_high  pr_low  pr_close  pr_std  \\\n724  2023-10-10  18:35:00  CBOM    7.016    7.018   7.012     7.012  0.0004   \n725  2023-10-10  18:40:00  CBOM    7.012    7.012   7.012     7.012     NaN   \n\n     vol    val  ...  trades_b  trades_s  val_b  val_s  vol_b  vol_s  disb  \\\n724   42  29456  ...         4         4  21042   8414     30     12  0.43   \n725    3   2103  ...         0         1      0   2103      0      3 -1.00   \n\n     pr_vwap_b  pr_vwap_s              SYSTIME  \n724      7.014      7.012  2023-10-26 15:45:39  \n725        NaN      7.012  2023-10-26 15:45:39  \n\n[2 rows x 23 columns]",
      "text/html": "<div>\n<style scoped>\n    .dataframe tbody tr th:only-of-type {\n        vertical-align: middle;\n    }\n\n    .dataframe tbody tr th {\n        vertical-align: top;\n    }\n\n    .dataframe thead th {\n        text-align: right;\n    }\n</style>\n<table border=\"1\" class=\"dataframe\">\n  <thead>\n    <tr style=\"text-align: right;\">\n      <th></th>\n      <th>tradedate</th>\n      <th>tradetime</th>\n      <th>secid</th>\n      <th>pr_open</th>\n      <th>pr_high</th>\n      <th>pr_low</th>\n      <th>pr_close</th>\n      <th>pr_std</th>\n      <th>vol</th>\n      <th>val</th>\n      <th>...</th>\n      <th>trades_b</th>\n      <th>trades_s</th>\n      <th>val_b</th>\n      <th>val_s</th>\n      <th>vol_b</th>\n      <th>vol_s</th>\n      <th>disb</th>\n      <th>pr_vwap_b</th>\n      <th>pr_vwap_s</th>\n      <th>SYSTIME</th>\n    </tr>\n  </thead>\n  <tbody>\n    <tr>\n      <th>724</th>\n      <td>2023-10-10</td>\n      <td>18:35:00</td>\n      <td>CBOM</td>\n      <td>7.016</td>\n      <td>7.018</td>\n      <td>7.012</td>\n      <td>7.012</td>\n      <td>0.0004</td>\n      <td>42</td>\n      <td>29456</td>\n      <td>...</td>\n      <td>4</td>\n      <td>4</td>\n      <td>21042</td>\n      <td>8414</td>\n      <td>30</td>\n      <td>12</td>\n      <td>0.43</td>\n      <td>7.014</td>\n      <td>7.012</td>\n      <td>2023-10-26 15:45:39</td>\n    </tr>\n    <tr>\n      <th>725</th>\n      <td>2023-10-10</td>\n      <td>18:40:00</td>\n      <td>CBOM</td>\n      <td>7.012</td>\n      <td>7.012</td>\n      <td>7.012</td>\n      <td>7.012</td>\n      <td>NaN</td>\n      <td>3</td>\n      <td>2103</td>\n      <td>...</td>\n      <td>0</td>\n      <td>1</td>\n      <td>0</td>\n      <td>2103</td>\n      <td>0</td>\n      <td>3</td>\n      <td>-1.00</td>\n      <td>NaN</td>\n      <td>7.012</td>\n      <td>2023-10-26 15:45:39</td>\n    </tr>\n  </tbody>\n</table>\n<p>2 rows × 23 columns</p>\n</div>"
     },
     "execution_count": 5,
     "metadata": {},
     "output_type": "execute_result"
    }
   ],
   "source": [
    "df.iloc[-2:]"
   ],
   "metadata": {
    "collapsed": false,
    "ExecuteTime": {
     "end_time": "2023-12-09T21:51:12.470431Z",
     "start_time": "2023-12-09T21:51:12.435407Z"
    }
   },
   "id": "4f20906667147f60"
  },
  {
   "cell_type": "code",
   "execution_count": 14,
   "outputs": [
    {
     "name": "stdout",
     "output_type": "stream",
     "text": [
      "         Date  Price        DEMA\n",
      "0  2023-01-01    100  100.000000\n",
      "1  2023-01-02    150  122.222222\n",
      "2  2023-01-03    130  128.148148\n",
      "3  2023-01-04    200  160.740741\n",
      "4  2023-01-05    180  172.921811\n"
     ]
    }
   ],
   "source": [
    "import pandas as pd\n",
    "\n",
    "# Создание DataFrame (замените эту часть кода вашим собственным способом получения DataFrame)\n",
    "data = {\n",
    "    'Date': ['2023-01-01', '2023-01-02', '2023-01-03', '2023-01-04', '2023-01-05'],\n",
    "    'Price': [100, 150, 130, 200, 180]\n",
    "}\n",
    "df = pd.DataFrame(data)\n",
    "\n",
    "# Рассчет EMA по значениям цены актива\n",
    "ema = df['Price'].ewm(span=2, adjust=False).mean()\n",
    "\n",
    "# Считаем DEMA от этого индикатора\n",
    "dema = 2 * ema - ema.ewm(span=2, adjust=False).mean()\n",
    "\n",
    "# Рассчет индикатора = ( 2 х EMA ) — DEMA\n",
    "indicator = 2 * ema - dema\n",
    "\n",
    "df['DEMA'] = indicator  # добавление DEMA в DataFrame\n",
    "\n",
    "print(df)"
   ],
   "metadata": {
    "collapsed": false,
    "ExecuteTime": {
     "end_time": "2023-12-09T23:03:40.900075Z",
     "start_time": "2023-12-09T23:03:40.864546Z"
    }
   },
   "id": "374d07f3cfac9b"
  },
  {
   "cell_type": "code",
   "execution_count": 15,
   "outputs": [
    {
     "name": "stdout",
     "output_type": "stream",
     "text": [
      "0    100.000000\n",
      "1    133.333333\n",
      "2    131.111111\n",
      "3    177.037037\n",
      "4    179.012346\n",
      "Name: Price, dtype: float64\n"
     ]
    }
   ],
   "source": [
    "print(ema)"
   ],
   "metadata": {
    "collapsed": false,
    "ExecuteTime": {
     "end_time": "2023-12-09T23:05:01.712208Z",
     "start_time": "2023-12-09T23:05:01.692450Z"
    }
   },
   "id": "d2de821293322864"
  },
  {
   "cell_type": "code",
   "execution_count": 8,
   "outputs": [],
   "source": [
    "df['50-Day-SMA'] = df['pr_close'].rolling(window=50).mean()"
   ],
   "metadata": {
    "collapsed": false,
    "ExecuteTime": {
     "end_time": "2023-12-09T22:38:13.850890Z",
     "start_time": "2023-12-09T22:38:13.813219Z"
    }
   },
   "id": "89e3c73f796401ca"
  },
  {
   "cell_type": "code",
   "execution_count": 11,
   "outputs": [
    {
     "data": {
      "text/plain": "array([    nan, 7.07614, 7.0771 , 7.07798, 7.07896, 7.07978, 7.08052,\n       7.08094, 7.08116, 7.0813 , 7.08166, 7.082  , 7.0824 , 7.08272,\n       7.08308, 7.08366, 7.08418, 7.08468, 7.08532, 7.08626, 7.08698,\n       7.08766, 7.08836, 7.08912, 7.08954, 7.08996, 7.09026, 7.09054,\n       7.09084, 7.09112, 7.09132, 7.09154, 7.0916 , 7.09176, 7.0919 ,\n       7.09202, 7.09214, 7.09212, 7.09196, 7.09224, 7.09232, 7.09234,\n       7.0924 , 7.0919 , 7.09128, 7.09066, 7.08966, 7.08848, 7.08722,\n       7.0859 , 7.08458, 7.0832 , 7.0817 , 7.08034, 7.07822, 7.07652,\n       7.07466, 7.07262, 7.0705 , 7.06856, 7.06646, 7.06408, 7.06146,\n       7.05906, 7.05668, 7.05434, 7.05204, 7.04956, 7.04728, 7.04522,\n       7.04334, 7.04132, 7.03942, 7.03756, 7.03532, 7.03326, 7.03122,\n       7.02916, 7.02722, 7.02506, 7.02318, 7.02132, 7.01938, 7.01742,\n       7.0153 , 7.01314, 7.01116, 7.00932, 7.00726, 7.00512, 7.00304,\n       7.00084, 6.99854, 6.99662, 6.99462, 6.99258, 6.9909 , 6.98952,\n       6.98804, 6.98678, 6.98554, 6.98418, 6.98304, 6.98192, 6.9816 ,\n       6.98112, 6.98072, 6.98066, 6.98084, 6.98078, 6.98096, 6.9814 ,\n       6.98222, 6.98258, 6.98314, 6.98366, 6.9841 , 6.98428, 6.98454,\n       6.98472, 6.98478, 6.98496, 6.9849 , 6.98472, 6.98492, 6.98524,\n       6.98572, 6.98614, 6.98658, 6.98732, 6.98772, 6.98828, 6.98888,\n       6.9895 , 6.99032, 6.99106, 6.99162, 6.99204, 6.9926 , 6.9933 ,\n       6.99398, 6.99472, 6.9956 , 6.99666, 6.99792, 6.99908, 7.00032,\n       7.00156, 7.0029 , 7.00424, 7.00544, 7.00694, 7.0082 , 7.00924,\n       7.01032, 7.01128, 7.0124 , 7.01316, 7.01362, 7.014  , 7.01394,\n       7.01406, 7.01396, 7.0141 , 7.01424, 7.0146 , 7.01504, 7.0154 ,\n       7.01566, 7.0159 , 7.01608, 7.01656, 7.01738, 7.01726, 7.01666,\n       7.01584, 7.01514, 7.01432, 7.01338, 7.01254, 7.0115 , 7.01046,\n       7.00938, 7.00832, 7.0062 , 7.00524, 7.00386, 7.00274, 7.00162,\n       7.00052, 6.99944, 6.9985 , 6.99736, 6.9962 , 6.995  , 6.99372,\n       6.99254, 6.99112, 6.98988, 6.98852, 6.98732, 6.9861 , 6.98486,\n       6.98358, 6.98224, 6.98108, 6.98004, 6.97904, 6.97834, 6.97756,\n       6.9768 , 6.97608, 6.9753 , 6.97446, 6.97344, 6.97256, 6.97162,\n       6.97068, 6.96978, 6.96884, 6.96784, 6.96654, 6.96622, 6.96606,\n       6.96598, 6.96584, 6.96564, 6.96552, 6.96542, 6.96538, 6.96536,\n       6.96528, 6.9653 , 6.96524, 6.96518, 6.96556, 6.96566, 6.9656 ,\n       6.96556, 6.96554, 6.96534, 6.96514, 6.9651 , 6.96504, 6.96502,\n       6.965  , 6.96494, 6.96486, 6.96472, 6.96462, 6.96448, 6.96434,\n       6.96438, 6.9644 , 6.96434, 6.96414, 6.96506, 6.966  , 6.96674,\n       6.96764, 6.96856, 6.96932, 6.97018, 6.971  , 6.97202, 6.97302,\n       6.97394, 6.9748 , 6.97572, 6.97796, 6.97908, 6.98008, 6.98036,\n       6.9805 , 6.98064, 6.98092, 6.98042, 6.97988, 6.97922, 6.97876,\n       6.9783 , 6.97784, 6.97742, 6.97702, 6.97648, 6.97596, 6.9755 ,\n       6.97508, 6.97458, 6.97408, 6.9736 , 6.97308, 6.97262, 6.97202,\n       6.97142, 6.97078, 6.97028, 6.96998, 6.96942, 6.96886, 6.96824,\n       6.96688, 6.96616, 6.96564, 6.96378, 6.96198, 6.96026, 6.95846,\n       6.95658, 6.955  , 6.95328, 6.95158, 6.94984, 6.94806, 6.94632,\n       6.9446 , 6.94304, 6.9416 , 6.9399 , 6.93824, 6.93666, 6.93578,\n       6.93498, 6.93414, 6.93324, 6.93298, 6.9324 , 6.93206, 6.93148,\n       6.93098, 6.93058, 6.93022, 6.92978, 6.92938, 6.92904, 6.92864,\n       6.9282 , 6.92794, 6.92764, 6.92728, 6.92696, 6.92656, 6.92622,\n       6.9258 , 6.92558, 6.9252 , 6.92472, 6.9244 , 6.9241 , 6.92398,\n       6.9238 , 6.92374, 6.92386, 6.92392, 6.9243 , 6.9245 , 6.92468,\n       6.92514, 6.92538, 6.92534, 6.9257 , 6.926  , 6.92612, 6.92634,\n       6.92662, 6.92692, 6.92702, 6.92676, 6.92674, 6.92664, 6.92654,\n       6.92636, 6.92618, 6.92578, 6.92522, 6.9248 , 6.92494, 6.92496,\n       6.92496, 6.925  , 6.92484, 6.92478, 6.92452, 6.92432, 6.9243 ,\n       6.92414, 6.92412, 6.92388, 6.9237 , 6.92364, 6.92356, 6.92344,\n       6.92324, 6.9231 , 6.92292, 6.92276, 6.9226 , 6.92278, 6.9227 ,\n       6.92268, 6.92258, 6.9229 , 6.92302, 6.92282, 6.92304, 6.92328,\n       6.9233 , 6.9233 , 6.9234 , 6.92352, 6.92362, 6.92386, 6.9239 ,\n       6.92442, 6.9257 , 6.92628, 6.9267 , 6.9271 , 6.92754, 6.928  ,\n       6.92848, 6.92878, 6.92932, 6.92976, 6.93044, 6.93088, 6.93138,\n       6.93174, 6.93234, 6.93258, 6.933  , 6.93336, 6.93386, 6.93434,\n       6.9348 , 6.9353 , 6.93594, 6.93662, 6.93726, 6.93806, 6.9388 ,\n       6.93936, 6.93976, 6.93984, 6.94012, 6.93988, 6.93992, 6.93998,\n       6.93994, 6.94102, 6.94178, 6.94244, 6.94314, 6.9439 , 6.94472,\n       6.94568, 6.94684, 6.94802, 6.94918, 6.9502 , 6.95146, 6.9528 ,\n       6.95404, 6.95526, 6.95644, 6.95794, 6.95922, 6.96048, 6.96178,\n       6.96296, 6.96418, 6.96554, 6.9683 , 6.9696 , 6.97234, 6.97376,\n       6.97512, 6.97674, 6.97824, 6.97968, 6.98118, 6.98254, 6.98388,\n       6.9852 , 6.98644, 6.98764, 6.98896, 6.98986, 6.99094, 6.99196,\n       6.9932 , 6.99478, 6.99606, 6.99762, 6.99914, 7.00068, 7.00216,\n       7.00272, 7.0035 , 7.00444, 7.00634, 7.00716, 7.00774, 7.00808,\n       7.00854, 7.00894, 7.0095 , 7.0101 , 7.01052, 7.01098, 7.01148,\n       7.01198, 7.0122 , 7.01268, 7.0132 , 7.01374, 7.0142 , 7.0145 ,\n       7.01478, 7.0149 , 7.0151 , 7.01516, 7.01528, 7.01534, 7.01536,\n       7.01532, 7.01544, 7.01552, 7.01554, 7.01578, 7.01606, 7.01628,\n       7.0165 , 7.01668, 7.01702, 7.0174 , 7.01768, 7.0179 , 7.01806,\n       7.01816, 7.01824, 7.01828, 7.01836, 7.01846, 7.01852, 7.01846,\n       7.01824, 7.018  , 7.01764, 7.01722, 7.01682, 7.01636, 7.01586,\n       7.01488, 7.01456, 7.01392, 7.01318, 7.01262, 7.01208, 7.01162,\n       7.01102, 7.0104 , 7.0098 , 7.0091 , 7.00846, 7.00802, 7.00736,\n       7.00676, 7.00624, 7.00548, 7.00478, 7.00404, 7.00342, 7.00218,\n       7.00154, 7.00104, 7.00042, 6.99966, 6.99868, 6.99784, 6.99714,\n       6.99646, 6.99534, 6.99448, 6.99366, 6.99288, 6.99202, 6.99026,\n       6.98938, 6.98866, 6.9881 , 6.98756, 6.9872 , 6.98686, 6.98656,\n       6.98632, 6.9863 , 6.98636, 6.98654, 6.98656, 6.9866 , 6.98662,\n       6.98688, 6.98696, 6.9869 , 6.98702, 6.98734, 6.9875 , 6.98778,\n       6.98814, 6.9884 , 6.98886, 6.98926, 6.98976, 6.99036, 6.99102,\n       6.99164, 6.99214, 6.99274, 6.99334, 6.99382, 6.99416, 6.99458,\n       6.99496, 6.99552, 6.996  , 6.9964 , 6.9968 , 6.99752, 6.998  ,\n       6.99844, 6.99882, 6.9994 , 7.00004, 7.00078, 7.00152, 7.0027 ,\n       7.00326, 7.00374, 7.00434, 7.00494, 7.00588, 7.00612, 7.0063 ,\n       7.00664])"
     },
     "execution_count": 11,
     "metadata": {},
     "output_type": "execute_result"
    }
   ],
   "source": [
    "df['50-Day-SMA'].unique()"
   ],
   "metadata": {
    "collapsed": false,
    "ExecuteTime": {
     "end_time": "2023-12-09T22:39:03.227506Z",
     "start_time": "2023-12-09T22:39:03.201788Z"
    }
   },
   "id": "afd8293b40028d22"
  },
  {
   "cell_type": "code",
   "execution_count": 10,
   "outputs": [
    {
     "data": {
      "text/plain": "      tradedate tradetime secid  pr_open  pr_high  pr_low  pr_close  pr_std  \\\n0    2023-10-02  10:05:00  CBOM    7.050    7.050   7.043     7.048  0.0002   \n1    2023-10-02  10:10:00  CBOM    7.049    7.054   7.045     7.053  0.0002   \n2    2023-10-02  10:15:00  CBOM    7.053    7.054   7.031     7.047  0.0003   \n3    2023-10-02  10:20:00  CBOM    7.047    7.067   7.047     7.058  0.0002   \n4    2023-10-02  10:25:00  CBOM    7.058    7.060   7.054     7.059  0.0003   \n..          ...       ...   ...      ...      ...     ...       ...     ...   \n721  2023-10-10  18:20:00  CBOM    7.020    7.032   7.017     7.018  0.0002   \n722  2023-10-10  18:25:00  CBOM    7.018    7.019   7.015     7.019  0.0002   \n723  2023-10-10  18:30:00  CBOM    7.016    7.016   7.016     7.016     NaN   \n724  2023-10-10  18:35:00  CBOM    7.016    7.018   7.012     7.012  0.0004   \n725  2023-10-10  18:40:00  CBOM    7.012    7.012   7.012     7.012     NaN   \n\n      vol      val  ...  trades_s    val_b    val_s  vol_b  vol_s  disb  \\\n0    3556  2506629  ...        17  1294299  1212330   1836   1720  0.03   \n1    3284  2314612  ...        17   881339  1433272   1250   2034 -0.24   \n2    6544  4610734  ...        28  1855260  2755473   2633   3911 -0.20   \n3    2754  1941936  ...        23  1719004   222932   2438    316  0.77   \n4    1766  1246480  ...        20  1028474   218005   1457    309  0.65   \n..    ...      ...  ...       ...      ...      ...    ...    ...   ...   \n721  6056  4256237  ...        12  3813846   442391   5426    630  0.79   \n722   212   148799  ...         5   133360    15438    190     22  0.79   \n723    20    14032  ...         1        0    14032      0     20 -1.00   \n724    42    29456  ...         4    21042     8414     30     12  0.43   \n725     3     2103  ...         1        0     2103      0      3 -1.00   \n\n     pr_vwap_b  pr_vwap_s              SYSTIME  50-Day-SMA  \n0        7.050      7.048  2023-10-26 16:02:26         NaN  \n1        7.051      7.047  2023-10-26 16:02:26         NaN  \n2        7.046      7.045  2023-10-26 16:02:27         NaN  \n3        7.051      7.055  2023-10-26 16:02:27         NaN  \n4        7.059      7.055  2023-10-26 16:02:28         NaN  \n..         ...        ...                  ...         ...  \n721      7.029      7.022  2023-10-26 15:45:37     7.00548  \n722      7.019      7.017  2023-10-26 15:45:37     7.00588  \n723        NaN      7.016  2023-10-26 15:45:38     7.00612  \n724      7.014      7.012  2023-10-26 15:45:39     7.00630  \n725        NaN      7.012  2023-10-26 15:45:39     7.00664  \n\n[726 rows x 24 columns]",
      "text/html": "<div>\n<style scoped>\n    .dataframe tbody tr th:only-of-type {\n        vertical-align: middle;\n    }\n\n    .dataframe tbody tr th {\n        vertical-align: top;\n    }\n\n    .dataframe thead th {\n        text-align: right;\n    }\n</style>\n<table border=\"1\" class=\"dataframe\">\n  <thead>\n    <tr style=\"text-align: right;\">\n      <th></th>\n      <th>tradedate</th>\n      <th>tradetime</th>\n      <th>secid</th>\n      <th>pr_open</th>\n      <th>pr_high</th>\n      <th>pr_low</th>\n      <th>pr_close</th>\n      <th>pr_std</th>\n      <th>vol</th>\n      <th>val</th>\n      <th>...</th>\n      <th>trades_s</th>\n      <th>val_b</th>\n      <th>val_s</th>\n      <th>vol_b</th>\n      <th>vol_s</th>\n      <th>disb</th>\n      <th>pr_vwap_b</th>\n      <th>pr_vwap_s</th>\n      <th>SYSTIME</th>\n      <th>50-Day-SMA</th>\n    </tr>\n  </thead>\n  <tbody>\n    <tr>\n      <th>0</th>\n      <td>2023-10-02</td>\n      <td>10:05:00</td>\n      <td>CBOM</td>\n      <td>7.050</td>\n      <td>7.050</td>\n      <td>7.043</td>\n      <td>7.048</td>\n      <td>0.0002</td>\n      <td>3556</td>\n      <td>2506629</td>\n      <td>...</td>\n      <td>17</td>\n      <td>1294299</td>\n      <td>1212330</td>\n      <td>1836</td>\n      <td>1720</td>\n      <td>0.03</td>\n      <td>7.050</td>\n      <td>7.048</td>\n      <td>2023-10-26 16:02:26</td>\n      <td>NaN</td>\n    </tr>\n    <tr>\n      <th>1</th>\n      <td>2023-10-02</td>\n      <td>10:10:00</td>\n      <td>CBOM</td>\n      <td>7.049</td>\n      <td>7.054</td>\n      <td>7.045</td>\n      <td>7.053</td>\n      <td>0.0002</td>\n      <td>3284</td>\n      <td>2314612</td>\n      <td>...</td>\n      <td>17</td>\n      <td>881339</td>\n      <td>1433272</td>\n      <td>1250</td>\n      <td>2034</td>\n      <td>-0.24</td>\n      <td>7.051</td>\n      <td>7.047</td>\n      <td>2023-10-26 16:02:26</td>\n      <td>NaN</td>\n    </tr>\n    <tr>\n      <th>2</th>\n      <td>2023-10-02</td>\n      <td>10:15:00</td>\n      <td>CBOM</td>\n      <td>7.053</td>\n      <td>7.054</td>\n      <td>7.031</td>\n      <td>7.047</td>\n      <td>0.0003</td>\n      <td>6544</td>\n      <td>4610734</td>\n      <td>...</td>\n      <td>28</td>\n      <td>1855260</td>\n      <td>2755473</td>\n      <td>2633</td>\n      <td>3911</td>\n      <td>-0.20</td>\n      <td>7.046</td>\n      <td>7.045</td>\n      <td>2023-10-26 16:02:27</td>\n      <td>NaN</td>\n    </tr>\n    <tr>\n      <th>3</th>\n      <td>2023-10-02</td>\n      <td>10:20:00</td>\n      <td>CBOM</td>\n      <td>7.047</td>\n      <td>7.067</td>\n      <td>7.047</td>\n      <td>7.058</td>\n      <td>0.0002</td>\n      <td>2754</td>\n      <td>1941936</td>\n      <td>...</td>\n      <td>23</td>\n      <td>1719004</td>\n      <td>222932</td>\n      <td>2438</td>\n      <td>316</td>\n      <td>0.77</td>\n      <td>7.051</td>\n      <td>7.055</td>\n      <td>2023-10-26 16:02:27</td>\n      <td>NaN</td>\n    </tr>\n    <tr>\n      <th>4</th>\n      <td>2023-10-02</td>\n      <td>10:25:00</td>\n      <td>CBOM</td>\n      <td>7.058</td>\n      <td>7.060</td>\n      <td>7.054</td>\n      <td>7.059</td>\n      <td>0.0003</td>\n      <td>1766</td>\n      <td>1246480</td>\n      <td>...</td>\n      <td>20</td>\n      <td>1028474</td>\n      <td>218005</td>\n      <td>1457</td>\n      <td>309</td>\n      <td>0.65</td>\n      <td>7.059</td>\n      <td>7.055</td>\n      <td>2023-10-26 16:02:28</td>\n      <td>NaN</td>\n    </tr>\n    <tr>\n      <th>...</th>\n      <td>...</td>\n      <td>...</td>\n      <td>...</td>\n      <td>...</td>\n      <td>...</td>\n      <td>...</td>\n      <td>...</td>\n      <td>...</td>\n      <td>...</td>\n      <td>...</td>\n      <td>...</td>\n      <td>...</td>\n      <td>...</td>\n      <td>...</td>\n      <td>...</td>\n      <td>...</td>\n      <td>...</td>\n      <td>...</td>\n      <td>...</td>\n      <td>...</td>\n      <td>...</td>\n    </tr>\n    <tr>\n      <th>721</th>\n      <td>2023-10-10</td>\n      <td>18:20:00</td>\n      <td>CBOM</td>\n      <td>7.020</td>\n      <td>7.032</td>\n      <td>7.017</td>\n      <td>7.018</td>\n      <td>0.0002</td>\n      <td>6056</td>\n      <td>4256237</td>\n      <td>...</td>\n      <td>12</td>\n      <td>3813846</td>\n      <td>442391</td>\n      <td>5426</td>\n      <td>630</td>\n      <td>0.79</td>\n      <td>7.029</td>\n      <td>7.022</td>\n      <td>2023-10-26 15:45:37</td>\n      <td>7.00548</td>\n    </tr>\n    <tr>\n      <th>722</th>\n      <td>2023-10-10</td>\n      <td>18:25:00</td>\n      <td>CBOM</td>\n      <td>7.018</td>\n      <td>7.019</td>\n      <td>7.015</td>\n      <td>7.019</td>\n      <td>0.0002</td>\n      <td>212</td>\n      <td>148799</td>\n      <td>...</td>\n      <td>5</td>\n      <td>133360</td>\n      <td>15438</td>\n      <td>190</td>\n      <td>22</td>\n      <td>0.79</td>\n      <td>7.019</td>\n      <td>7.017</td>\n      <td>2023-10-26 15:45:37</td>\n      <td>7.00588</td>\n    </tr>\n    <tr>\n      <th>723</th>\n      <td>2023-10-10</td>\n      <td>18:30:00</td>\n      <td>CBOM</td>\n      <td>7.016</td>\n      <td>7.016</td>\n      <td>7.016</td>\n      <td>7.016</td>\n      <td>NaN</td>\n      <td>20</td>\n      <td>14032</td>\n      <td>...</td>\n      <td>1</td>\n      <td>0</td>\n      <td>14032</td>\n      <td>0</td>\n      <td>20</td>\n      <td>-1.00</td>\n      <td>NaN</td>\n      <td>7.016</td>\n      <td>2023-10-26 15:45:38</td>\n      <td>7.00612</td>\n    </tr>\n    <tr>\n      <th>724</th>\n      <td>2023-10-10</td>\n      <td>18:35:00</td>\n      <td>CBOM</td>\n      <td>7.016</td>\n      <td>7.018</td>\n      <td>7.012</td>\n      <td>7.012</td>\n      <td>0.0004</td>\n      <td>42</td>\n      <td>29456</td>\n      <td>...</td>\n      <td>4</td>\n      <td>21042</td>\n      <td>8414</td>\n      <td>30</td>\n      <td>12</td>\n      <td>0.43</td>\n      <td>7.014</td>\n      <td>7.012</td>\n      <td>2023-10-26 15:45:39</td>\n      <td>7.00630</td>\n    </tr>\n    <tr>\n      <th>725</th>\n      <td>2023-10-10</td>\n      <td>18:40:00</td>\n      <td>CBOM</td>\n      <td>7.012</td>\n      <td>7.012</td>\n      <td>7.012</td>\n      <td>7.012</td>\n      <td>NaN</td>\n      <td>3</td>\n      <td>2103</td>\n      <td>...</td>\n      <td>1</td>\n      <td>0</td>\n      <td>2103</td>\n      <td>0</td>\n      <td>3</td>\n      <td>-1.00</td>\n      <td>NaN</td>\n      <td>7.012</td>\n      <td>2023-10-26 15:45:39</td>\n      <td>7.00664</td>\n    </tr>\n  </tbody>\n</table>\n<p>726 rows × 24 columns</p>\n</div>"
     },
     "execution_count": 10,
     "metadata": {},
     "output_type": "execute_result"
    }
   ],
   "source": [
    "df.head(1000)"
   ],
   "metadata": {
    "collapsed": false,
    "ExecuteTime": {
     "end_time": "2023-12-09T22:38:34.596961Z",
     "start_time": "2023-12-09T22:38:34.558587Z"
    }
   },
   "id": "85fe83be512e104c"
  },
  {
   "cell_type": "code",
   "execution_count": null,
   "outputs": [],
   "source": [
    "df.columns"
   ],
   "metadata": {
    "collapsed": false
   },
   "id": "de4564e2d09b66c6"
  },
  {
   "cell_type": "code",
   "execution_count": null,
   "outputs": [],
   "source": [
    "df.loc[:, 'trade_datetime'] = pd.to_datetime(df.tradedate.astype(str) + ' ' + df.tradetime.astype(str))\n",
    "\n",
    "df = df[\n",
    "            ['secid', 'trade_datetime', 'pr_open', 'pr_high', 'pr_low', 'vol', 'val', 'trades', 'trades_b', 'trades_s',\n",
    "             'val_b',\n",
    "             'val_s', 'vol_b', 'vol_s', 'pr_close']]\n",
    "\n",
    "df.columns = ['segment', 'timestamp', 'pr_open', 'pr_high', 'pr_low', 'vol', 'val', 'trades', 'trades_b',\n",
    "                      'trades_s',\n",
    "                      'val_b', 'val_s', 'vol_b', 'vol_s', 'target']\n",
    "\n",
    "etna_df = TSDataset.to_dataset(df)"
   ],
   "metadata": {
    "collapsed": false
   },
   "id": "2ad159d259eec81"
  },
  {
   "cell_type": "code",
   "execution_count": null,
   "outputs": [],
   "source": [
    "etna_df.head()"
   ],
   "metadata": {
    "collapsed": false
   },
   "id": "26778cfdb9243aa5"
  },
  {
   "cell_type": "code",
   "execution_count": 16,
   "outputs": [
    {
     "data": {
      "text/plain": "  ticker   tradedate tradetime  pr_open  pr_high  pr_low  pr_close  pr_std  \\\n0   CBOM  2022-01-03  10:05:00    6.962    6.966   6.953     6.954  0.0006   \n1   CBOM  2022-01-03  10:10:00    6.954    6.963   6.952     6.959  0.0005   \n2   CBOM  2022-01-03  10:15:00    6.956    6.974   6.955     6.972  0.0005   \n3   CBOM  2022-01-03  10:20:00    6.972    6.983   6.965     6.974  0.0004   \n4   CBOM  2022-01-03  10:25:00    6.974    7.008   6.974     7.002  0.0003   \n\n    vol        val  ...  trades_b  trades_s      val_b      val_s  vol_b  \\\n0  1890  1315538.0  ...        27        31   937165.0   378373.0   1346   \n1  2610  1815868.0  ...        34        41  1102448.0   713420.0   1584   \n2  4503  3135623.0  ...        35        41  1608630.0  1526992.0   2309   \n3  2044  1425500.0  ...        20        36   584611.0   840888.0    838   \n4  3178  2222124.0  ...        68        13  1886272.0   335852.0   2697   \n\n   vol_s  disb  pr_vwap_b  pr_vwap_s             systime  \n0    544  0.42      6.963      6.955 2023-10-27 10:15:10  \n1   1026  0.21      6.960      6.953 2023-10-27 10:15:11  \n2   2194  0.03      6.967      6.960 2023-10-27 10:15:12  \n3   1206 -0.18      6.976      6.973 2023-10-27 10:15:13  \n4    481  0.70      6.994      6.982 2023-10-27 10:16:03  \n\n[5 rows x 23 columns]",
      "text/html": "<div>\n<style scoped>\n    .dataframe tbody tr th:only-of-type {\n        vertical-align: middle;\n    }\n\n    .dataframe tbody tr th {\n        vertical-align: top;\n    }\n\n    .dataframe thead th {\n        text-align: right;\n    }\n</style>\n<table border=\"1\" class=\"dataframe\">\n  <thead>\n    <tr style=\"text-align: right;\">\n      <th></th>\n      <th>ticker</th>\n      <th>tradedate</th>\n      <th>tradetime</th>\n      <th>pr_open</th>\n      <th>pr_high</th>\n      <th>pr_low</th>\n      <th>pr_close</th>\n      <th>pr_std</th>\n      <th>vol</th>\n      <th>val</th>\n      <th>...</th>\n      <th>trades_b</th>\n      <th>trades_s</th>\n      <th>val_b</th>\n      <th>val_s</th>\n      <th>vol_b</th>\n      <th>vol_s</th>\n      <th>disb</th>\n      <th>pr_vwap_b</th>\n      <th>pr_vwap_s</th>\n      <th>systime</th>\n    </tr>\n  </thead>\n  <tbody>\n    <tr>\n      <th>0</th>\n      <td>CBOM</td>\n      <td>2022-01-03</td>\n      <td>10:05:00</td>\n      <td>6.962</td>\n      <td>6.966</td>\n      <td>6.953</td>\n      <td>6.954</td>\n      <td>0.0006</td>\n      <td>1890</td>\n      <td>1315538.0</td>\n      <td>...</td>\n      <td>27</td>\n      <td>31</td>\n      <td>937165.0</td>\n      <td>378373.0</td>\n      <td>1346</td>\n      <td>544</td>\n      <td>0.42</td>\n      <td>6.963</td>\n      <td>6.955</td>\n      <td>2023-10-27 10:15:10</td>\n    </tr>\n    <tr>\n      <th>1</th>\n      <td>CBOM</td>\n      <td>2022-01-03</td>\n      <td>10:10:00</td>\n      <td>6.954</td>\n      <td>6.963</td>\n      <td>6.952</td>\n      <td>6.959</td>\n      <td>0.0005</td>\n      <td>2610</td>\n      <td>1815868.0</td>\n      <td>...</td>\n      <td>34</td>\n      <td>41</td>\n      <td>1102448.0</td>\n      <td>713420.0</td>\n      <td>1584</td>\n      <td>1026</td>\n      <td>0.21</td>\n      <td>6.960</td>\n      <td>6.953</td>\n      <td>2023-10-27 10:15:11</td>\n    </tr>\n    <tr>\n      <th>2</th>\n      <td>CBOM</td>\n      <td>2022-01-03</td>\n      <td>10:15:00</td>\n      <td>6.956</td>\n      <td>6.974</td>\n      <td>6.955</td>\n      <td>6.972</td>\n      <td>0.0005</td>\n      <td>4503</td>\n      <td>3135623.0</td>\n      <td>...</td>\n      <td>35</td>\n      <td>41</td>\n      <td>1608630.0</td>\n      <td>1526992.0</td>\n      <td>2309</td>\n      <td>2194</td>\n      <td>0.03</td>\n      <td>6.967</td>\n      <td>6.960</td>\n      <td>2023-10-27 10:15:12</td>\n    </tr>\n    <tr>\n      <th>3</th>\n      <td>CBOM</td>\n      <td>2022-01-03</td>\n      <td>10:20:00</td>\n      <td>6.972</td>\n      <td>6.983</td>\n      <td>6.965</td>\n      <td>6.974</td>\n      <td>0.0004</td>\n      <td>2044</td>\n      <td>1425500.0</td>\n      <td>...</td>\n      <td>20</td>\n      <td>36</td>\n      <td>584611.0</td>\n      <td>840888.0</td>\n      <td>838</td>\n      <td>1206</td>\n      <td>-0.18</td>\n      <td>6.976</td>\n      <td>6.973</td>\n      <td>2023-10-27 10:15:13</td>\n    </tr>\n    <tr>\n      <th>4</th>\n      <td>CBOM</td>\n      <td>2022-01-03</td>\n      <td>10:25:00</td>\n      <td>6.974</td>\n      <td>7.008</td>\n      <td>6.974</td>\n      <td>7.002</td>\n      <td>0.0003</td>\n      <td>3178</td>\n      <td>2222124.0</td>\n      <td>...</td>\n      <td>68</td>\n      <td>13</td>\n      <td>1886272.0</td>\n      <td>335852.0</td>\n      <td>2697</td>\n      <td>481</td>\n      <td>0.70</td>\n      <td>6.994</td>\n      <td>6.982</td>\n      <td>2023-10-27 10:16:03</td>\n    </tr>\n  </tbody>\n</table>\n<p>5 rows × 23 columns</p>\n</div>"
     },
     "execution_count": 16,
     "metadata": {},
     "output_type": "execute_result"
    }
   ],
   "source": [
    "from moexalgo import Market, Ticker\n",
    "\n",
    "# Акции SBER\n",
    "sber = Ticker('CBOM')\n",
    "CBOM = sber.tradestats(date='2022-01-01', till_date='2022-08-01')\n",
    "\n",
    "CBOM.head()"
   ],
   "metadata": {
    "collapsed": false,
    "ExecuteTime": {
     "end_time": "2023-12-09T23:24:59.509596Z",
     "start_time": "2023-12-09T23:24:53.260542Z"
    }
   },
   "id": "3f9580b4794eee81"
  },
  {
   "cell_type": "code",
   "execution_count": 28,
   "outputs": [
    {
     "data": {
      "text/plain": "126"
     },
     "execution_count": 28,
     "metadata": {},
     "output_type": "execute_result"
    }
   ],
   "source": [
    "len(CBOM['tradedate'].unique().tolist())"
   ],
   "metadata": {
    "collapsed": false,
    "ExecuteTime": {
     "end_time": "2023-12-09T14:08:14.357394Z",
     "start_time": "2023-12-09T14:08:14.326819Z"
    }
   },
   "id": "218d6efee785f503"
  },
  {
   "cell_type": "code",
   "execution_count": 24,
   "outputs": [],
   "source": [
    "CBOM.loc[:, 'trade_datetime'] = pd.to_datetime(CBOM.tradedate.astype(str) + ' ' + CBOM.tradetime.astype(str))\n",
    "\n",
    "CBOM = CBOM.drop(columns=['tradedate', 'tradetime','systime'])"
   ],
   "metadata": {
    "collapsed": false,
    "ExecuteTime": {
     "end_time": "2023-12-09T14:07:08.110958Z",
     "start_time": "2023-12-09T14:07:08.100150Z"
    }
   },
   "id": "82bf5a87f80545cf"
  },
  {
   "cell_type": "markdown",
   "source": [
    "orderstats"
   ],
   "metadata": {
    "collapsed": false
   },
   "id": "d1034cbb5ba447b3"
  },
  {
   "cell_type": "code",
   "execution_count": 4,
   "outputs": [],
   "source": [
    "CBOM['orders_true'] = CBOM['put_orders']-CBOM['cancel_orders']\n",
    "CBOM['orders_true_b'] = CBOM['put_orders_b']-CBOM['cancel_orders_b']\n",
    "CBOM['orders_true_s'] = CBOM['put_orders_s']-CBOM['cancel_orders_s']"
   ],
   "metadata": {
    "collapsed": false,
    "ExecuteTime": {
     "end_time": "2023-12-09T14:05:46.027002Z",
     "start_time": "2023-12-09T14:05:46.022383Z"
    }
   },
   "id": "9c861fed41853f66"
  },
  {
   "cell_type": "code",
   "execution_count": 5,
   "outputs": [],
   "source": [
    "CBOM['vol_true_put'] = CBOM['put_vol']-CBOM['cancel_vol']\n",
    "CBOM['vol_true_put_b'] = CBOM['put_vol_b']-CBOM['cancel_vol_b']\n",
    "CBOM['vol_true_put_s'] = CBOM['put_vol_s']-CBOM['cancel_vol_s']"
   ],
   "metadata": {
    "collapsed": false,
    "ExecuteTime": {
     "end_time": "2023-12-09T14:05:46.049564Z",
     "start_time": "2023-12-09T14:05:46.026832Z"
    }
   },
   "id": "5fe2a450768357d3"
  },
  {
   "cell_type": "code",
   "execution_count": 6,
   "outputs": [],
   "source": [
    "CBOM['val_true_put'] = CBOM['put_val']-CBOM['cancel_val']\n",
    "CBOM['val_true_put_b'] = CBOM['put_val_b']-CBOM['cancel_val_b']\n",
    "CBOM['val_true_put_s'] = CBOM['put_val_s']-CBOM['cancel_val_s']"
   ],
   "metadata": {
    "collapsed": false,
    "ExecuteTime": {
     "end_time": "2023-12-09T14:05:46.051940Z",
     "start_time": "2023-12-09T14:05:46.030226Z"
    }
   },
   "id": "fe8773e59879f59f"
  },
  {
   "cell_type": "code",
   "execution_count": 7,
   "outputs": [],
   "source": [
    "test = CBOM[['trade_datetime','ticker','put_vwap_s','orders_true','orders_true_b', 'orders_true_s','vol_true_put','vol_true_put_b','vol_true_put_s','val_true_put','val_true_put_b','val_true_put_s']]"
   ],
   "metadata": {
    "collapsed": false,
    "ExecuteTime": {
     "end_time": "2023-12-09T14:05:46.053755Z",
     "start_time": "2023-12-09T14:05:46.033263Z"
    }
   },
   "id": "bb9767588dd74888"
  },
  {
   "cell_type": "code",
   "execution_count": 8,
   "outputs": [
    {
     "name": "stderr",
     "output_type": "stream",
     "text": [
      "/var/folders/mw/pz7p6b0x7j7355t1s1v855dh0000gn/T/ipykernel_3743/2056560319.py:14: SettingWithCopyWarning: \n",
      "A value is trying to be set on a copy of a slice from a DataFrame.\n",
      "Try using .loc[row_indexer,col_indexer] = value instead\n",
      "\n",
      "See the caveats in the documentation: https://pandas.pydata.org/pandas-docs/stable/user_guide/indexing.html#returning-a-view-versus-a-copy\n",
      "  test['fake_datetime'] = list_datetime\n"
     ]
    }
   ],
   "source": [
    "from datetime import timedelta\n",
    "\n",
    "start = test['trade_datetime'][0]\n",
    "\n",
    "list_datetime = []\n",
    "\n",
    "for i in range(len(test['trade_datetime'])):\n",
    "    if i == 0 :\n",
    "        list_datetime.append(start)\n",
    "    else:\n",
    "        start = list_datetime[i-1]\n",
    "        list_datetime.append(start + timedelta(minutes=1))\n",
    "\n",
    "test['fake_datetime'] = list_datetime\n"
   ],
   "metadata": {
    "collapsed": false,
    "ExecuteTime": {
     "end_time": "2023-12-09T14:05:46.084854Z",
     "start_time": "2023-12-09T14:05:46.043748Z"
    }
   },
   "id": "4e69e99261615b46"
  },
  {
   "cell_type": "code",
   "execution_count": 22,
   "outputs": [
    {
     "data": {
      "text/plain": "  ticker  put_orders_b  put_orders_s    put_val_b   put_val_s  put_vol_b  \\\n0   CBOM           105           162   32126892.0  36957073.0      46607   \n1   CBOM           164           213   52250626.0  46357097.0      52871   \n2   CBOM           195           195   77762824.0  55984890.0      72703   \n3   CBOM           155           204   76612680.0  78694848.0      99173   \n4   CBOM           212           240  100106839.0  92944406.0     121647   \n\n   put_vol_s  put_vwap_b  put_vwap_s  put_vol  ...      trade_datetime  \\\n0      52858       6.893       6.992    99465  ... 2022-01-03 10:05:00   \n1      59563       9.883       7.783   112434  ... 2022-01-03 10:10:00   \n2      73846      10.696       7.581   146549  ... 2022-01-03 10:15:00   \n3     109042       7.725       7.217   208215  ... 2022-01-03 10:20:00   \n4     125627       8.229       7.398   247274  ... 2022-01-03 10:25:00   \n\n   orders_true  orders_true_b  orders_true_s  vol_true_put  vol_true_put_b  \\\n0           94             44             50         24718           14557   \n1           92             38             54          4279            2369   \n2           83             53             30          8094            6128   \n3           70             24             46         14908            5624   \n4          103             51             52          7825            3411   \n\n   vol_true_put_s  val_true_put  val_true_put_b  val_true_put_s  \n0           10161    17074566.0       9982722.0       7091843.0  \n1            1910     4918298.0       3688510.0       1229787.0  \n2            1966     5590207.0       4292001.0       1298205.0  \n3            9284    10453460.0       3955235.0       6498226.0  \n4            4414     5670944.0       2451346.0       3219599.0  \n\n[5 rows x 33 columns]",
      "text/html": "<div>\n<style scoped>\n    .dataframe tbody tr th:only-of-type {\n        vertical-align: middle;\n    }\n\n    .dataframe tbody tr th {\n        vertical-align: top;\n    }\n\n    .dataframe thead th {\n        text-align: right;\n    }\n</style>\n<table border=\"1\" class=\"dataframe\">\n  <thead>\n    <tr style=\"text-align: right;\">\n      <th></th>\n      <th>ticker</th>\n      <th>put_orders_b</th>\n      <th>put_orders_s</th>\n      <th>put_val_b</th>\n      <th>put_val_s</th>\n      <th>put_vol_b</th>\n      <th>put_vol_s</th>\n      <th>put_vwap_b</th>\n      <th>put_vwap_s</th>\n      <th>put_vol</th>\n      <th>...</th>\n      <th>trade_datetime</th>\n      <th>orders_true</th>\n      <th>orders_true_b</th>\n      <th>orders_true_s</th>\n      <th>vol_true_put</th>\n      <th>vol_true_put_b</th>\n      <th>vol_true_put_s</th>\n      <th>val_true_put</th>\n      <th>val_true_put_b</th>\n      <th>val_true_put_s</th>\n    </tr>\n  </thead>\n  <tbody>\n    <tr>\n      <th>0</th>\n      <td>CBOM</td>\n      <td>105</td>\n      <td>162</td>\n      <td>32126892.0</td>\n      <td>36957073.0</td>\n      <td>46607</td>\n      <td>52858</td>\n      <td>6.893</td>\n      <td>6.992</td>\n      <td>99465</td>\n      <td>...</td>\n      <td>2022-01-03 10:05:00</td>\n      <td>94</td>\n      <td>44</td>\n      <td>50</td>\n      <td>24718</td>\n      <td>14557</td>\n      <td>10161</td>\n      <td>17074566.0</td>\n      <td>9982722.0</td>\n      <td>7091843.0</td>\n    </tr>\n    <tr>\n      <th>1</th>\n      <td>CBOM</td>\n      <td>164</td>\n      <td>213</td>\n      <td>52250626.0</td>\n      <td>46357097.0</td>\n      <td>52871</td>\n      <td>59563</td>\n      <td>9.883</td>\n      <td>7.783</td>\n      <td>112434</td>\n      <td>...</td>\n      <td>2022-01-03 10:10:00</td>\n      <td>92</td>\n      <td>38</td>\n      <td>54</td>\n      <td>4279</td>\n      <td>2369</td>\n      <td>1910</td>\n      <td>4918298.0</td>\n      <td>3688510.0</td>\n      <td>1229787.0</td>\n    </tr>\n    <tr>\n      <th>2</th>\n      <td>CBOM</td>\n      <td>195</td>\n      <td>195</td>\n      <td>77762824.0</td>\n      <td>55984890.0</td>\n      <td>72703</td>\n      <td>73846</td>\n      <td>10.696</td>\n      <td>7.581</td>\n      <td>146549</td>\n      <td>...</td>\n      <td>2022-01-03 10:15:00</td>\n      <td>83</td>\n      <td>53</td>\n      <td>30</td>\n      <td>8094</td>\n      <td>6128</td>\n      <td>1966</td>\n      <td>5590207.0</td>\n      <td>4292001.0</td>\n      <td>1298205.0</td>\n    </tr>\n    <tr>\n      <th>3</th>\n      <td>CBOM</td>\n      <td>155</td>\n      <td>204</td>\n      <td>76612680.0</td>\n      <td>78694848.0</td>\n      <td>99173</td>\n      <td>109042</td>\n      <td>7.725</td>\n      <td>7.217</td>\n      <td>208215</td>\n      <td>...</td>\n      <td>2022-01-03 10:20:00</td>\n      <td>70</td>\n      <td>24</td>\n      <td>46</td>\n      <td>14908</td>\n      <td>5624</td>\n      <td>9284</td>\n      <td>10453460.0</td>\n      <td>3955235.0</td>\n      <td>6498226.0</td>\n    </tr>\n    <tr>\n      <th>4</th>\n      <td>CBOM</td>\n      <td>212</td>\n      <td>240</td>\n      <td>100106839.0</td>\n      <td>92944406.0</td>\n      <td>121647</td>\n      <td>125627</td>\n      <td>8.229</td>\n      <td>7.398</td>\n      <td>247274</td>\n      <td>...</td>\n      <td>2022-01-03 10:25:00</td>\n      <td>103</td>\n      <td>51</td>\n      <td>52</td>\n      <td>7825</td>\n      <td>3411</td>\n      <td>4414</td>\n      <td>5670944.0</td>\n      <td>2451346.0</td>\n      <td>3219599.0</td>\n    </tr>\n  </tbody>\n</table>\n<p>5 rows × 33 columns</p>\n</div>"
     },
     "execution_count": 22,
     "metadata": {},
     "output_type": "execute_result"
    }
   ],
   "source": [
    "CBOM.head()"
   ],
   "metadata": {
    "collapsed": false,
    "ExecuteTime": {
     "end_time": "2023-12-09T14:06:37.714060Z",
     "start_time": "2023-12-09T14:06:37.684301Z"
    }
   },
   "id": "195b9af78ea4aa20"
  },
  {
   "cell_type": "code",
   "execution_count": 9,
   "outputs": [],
   "source": [
    "# , 'cancel_vwap_b', 'cancel_vwap_s', 'put_vwap_b', 'put_vwap_s'"
   ],
   "metadata": {
    "collapsed": false,
    "ExecuteTime": {
     "end_time": "2023-12-09T14:05:46.087168Z",
     "start_time": "2023-12-09T14:05:46.064960Z"
    }
   },
   "id": "f1d7f17fc5edc547"
  },
  {
   "cell_type": "code",
   "execution_count": 10,
   "outputs": [
    {
     "data": {
      "text/plain": "       trade_datetime ticker  put_vwap_s  orders_true  orders_true_b  \\\n0 2022-01-03 10:05:00   CBOM       6.992           94             44   \n1 2022-01-03 10:10:00   CBOM       7.783           92             38   \n2 2022-01-03 10:15:00   CBOM       7.581           83             53   \n3 2022-01-03 10:20:00   CBOM       7.217           70             24   \n4 2022-01-03 10:25:00   CBOM       7.398          103             51   \n\n   orders_true_s  vol_true_put  vol_true_put_b  vol_true_put_s  val_true_put  \\\n0             50         24718           14557           10161    17074566.0   \n1             54          4279            2369            1910     4918298.0   \n2             30          8094            6128            1966     5590207.0   \n3             46         14908            5624            9284    10453460.0   \n4             52          7825            3411            4414     5670944.0   \n\n   val_true_put_b  val_true_put_s       fake_datetime  \n0       9982722.0       7091843.0 2022-01-03 10:05:00  \n1       3688510.0       1229787.0 2022-01-03 10:06:00  \n2       4292001.0       1298205.0 2022-01-03 10:07:00  \n3       3955235.0       6498226.0 2022-01-03 10:08:00  \n4       2451346.0       3219599.0 2022-01-03 10:09:00  ",
      "text/html": "<div>\n<style scoped>\n    .dataframe tbody tr th:only-of-type {\n        vertical-align: middle;\n    }\n\n    .dataframe tbody tr th {\n        vertical-align: top;\n    }\n\n    .dataframe thead th {\n        text-align: right;\n    }\n</style>\n<table border=\"1\" class=\"dataframe\">\n  <thead>\n    <tr style=\"text-align: right;\">\n      <th></th>\n      <th>trade_datetime</th>\n      <th>ticker</th>\n      <th>put_vwap_s</th>\n      <th>orders_true</th>\n      <th>orders_true_b</th>\n      <th>orders_true_s</th>\n      <th>vol_true_put</th>\n      <th>vol_true_put_b</th>\n      <th>vol_true_put_s</th>\n      <th>val_true_put</th>\n      <th>val_true_put_b</th>\n      <th>val_true_put_s</th>\n      <th>fake_datetime</th>\n    </tr>\n  </thead>\n  <tbody>\n    <tr>\n      <th>0</th>\n      <td>2022-01-03 10:05:00</td>\n      <td>CBOM</td>\n      <td>6.992</td>\n      <td>94</td>\n      <td>44</td>\n      <td>50</td>\n      <td>24718</td>\n      <td>14557</td>\n      <td>10161</td>\n      <td>17074566.0</td>\n      <td>9982722.0</td>\n      <td>7091843.0</td>\n      <td>2022-01-03 10:05:00</td>\n    </tr>\n    <tr>\n      <th>1</th>\n      <td>2022-01-03 10:10:00</td>\n      <td>CBOM</td>\n      <td>7.783</td>\n      <td>92</td>\n      <td>38</td>\n      <td>54</td>\n      <td>4279</td>\n      <td>2369</td>\n      <td>1910</td>\n      <td>4918298.0</td>\n      <td>3688510.0</td>\n      <td>1229787.0</td>\n      <td>2022-01-03 10:06:00</td>\n    </tr>\n    <tr>\n      <th>2</th>\n      <td>2022-01-03 10:15:00</td>\n      <td>CBOM</td>\n      <td>7.581</td>\n      <td>83</td>\n      <td>53</td>\n      <td>30</td>\n      <td>8094</td>\n      <td>6128</td>\n      <td>1966</td>\n      <td>5590207.0</td>\n      <td>4292001.0</td>\n      <td>1298205.0</td>\n      <td>2022-01-03 10:07:00</td>\n    </tr>\n    <tr>\n      <th>3</th>\n      <td>2022-01-03 10:20:00</td>\n      <td>CBOM</td>\n      <td>7.217</td>\n      <td>70</td>\n      <td>24</td>\n      <td>46</td>\n      <td>14908</td>\n      <td>5624</td>\n      <td>9284</td>\n      <td>10453460.0</td>\n      <td>3955235.0</td>\n      <td>6498226.0</td>\n      <td>2022-01-03 10:08:00</td>\n    </tr>\n    <tr>\n      <th>4</th>\n      <td>2022-01-03 10:25:00</td>\n      <td>CBOM</td>\n      <td>7.398</td>\n      <td>103</td>\n      <td>51</td>\n      <td>52</td>\n      <td>7825</td>\n      <td>3411</td>\n      <td>4414</td>\n      <td>5670944.0</td>\n      <td>2451346.0</td>\n      <td>3219599.0</td>\n      <td>2022-01-03 10:09:00</td>\n    </tr>\n  </tbody>\n</table>\n</div>"
     },
     "execution_count": 10,
     "metadata": {},
     "output_type": "execute_result"
    }
   ],
   "source": [
    "test.head()"
   ],
   "metadata": {
    "collapsed": false,
    "ExecuteTime": {
     "end_time": "2023-12-09T14:05:46.089646Z",
     "start_time": "2023-12-09T14:05:46.069345Z"
    }
   },
   "id": "fe11af4b4a6eb0c5"
  },
  {
   "cell_type": "code",
   "execution_count": 11,
   "outputs": [
    {
     "name": "stderr",
     "output_type": "stream",
     "text": [
      "/var/folders/mw/pz7p6b0x7j7355t1s1v855dh0000gn/T/ipykernel_3743/3699620102.py:1: SettingWithCopyWarning: \n",
      "A value is trying to be set on a copy of a slice from a DataFrame.\n",
      "Try using .loc[row_indexer,col_indexer] = value instead\n",
      "\n",
      "See the caveats in the documentation: https://pandas.pydata.org/pandas-docs/stable/user_guide/indexing.html#returning-a-view-versus-a-copy\n",
      "  test['fake_datetime'] = pd.to_datetime(test['fake_datetime'],format='%Y-%m-%d %H:%M')\n"
     ]
    }
   ],
   "source": [
    "test['fake_datetime'] = pd.to_datetime(test['fake_datetime'],format='%Y-%m-%d %H:%M')"
   ],
   "metadata": {
    "collapsed": false,
    "ExecuteTime": {
     "end_time": "2023-12-09T14:05:46.098934Z",
     "start_time": "2023-12-09T14:05:46.081605Z"
    }
   },
   "id": "1a6c691d52a0e2f3"
  },
  {
   "cell_type": "code",
   "execution_count": 12,
   "outputs": [],
   "source": [
    "df = test[['fake_datetime','ticker','put_vwap_s']]\n",
    "\n",
    "# ,'orders_true','orders_true_b', 'orders_true_s','vol_true_put','vol_true_put_b','vol_true_put_s','val_true_put','val_true_put_b','val_true_put_s'\n",
    "\n",
    "\n",
    "df.columns = ['timestamp','segment','target']\n",
    "\n",
    "# ,'orders_true','orders_true_b', 'orders_true_s','vol_true_put','vol_true_put_b','vol_true_put_s','val_true_put','val_true_put_b','val_true_put_s'\n",
    "    "
   ],
   "metadata": {
    "collapsed": false,
    "ExecuteTime": {
     "end_time": "2023-12-09T14:05:46.107558Z",
     "start_time": "2023-12-09T14:05:46.084251Z"
    }
   },
   "id": "ba3db9ddcfefc5a"
  },
  {
   "cell_type": "code",
   "execution_count": 13,
   "outputs": [
    {
     "data": {
      "text/plain": "segment               CBOM\nfeature             target\ntimestamp                 \n2022-01-03 10:05:00  6.992\n2022-01-03 10:06:00  7.783\n2022-01-03 10:07:00  7.581\n2022-01-03 10:08:00  7.217\n2022-01-03 10:09:00  7.398",
      "text/html": "<div>\n<style scoped>\n    .dataframe tbody tr th:only-of-type {\n        vertical-align: middle;\n    }\n\n    .dataframe tbody tr th {\n        vertical-align: top;\n    }\n\n    .dataframe thead tr th {\n        text-align: left;\n    }\n\n    .dataframe thead tr:last-of-type th {\n        text-align: right;\n    }\n</style>\n<table border=\"1\" class=\"dataframe\">\n  <thead>\n    <tr>\n      <th>segment</th>\n      <th>CBOM</th>\n    </tr>\n    <tr>\n      <th>feature</th>\n      <th>target</th>\n    </tr>\n    <tr>\n      <th>timestamp</th>\n      <th></th>\n    </tr>\n  </thead>\n  <tbody>\n    <tr>\n      <th>2022-01-03 10:05:00</th>\n      <td>6.992</td>\n    </tr>\n    <tr>\n      <th>2022-01-03 10:06:00</th>\n      <td>7.783</td>\n    </tr>\n    <tr>\n      <th>2022-01-03 10:07:00</th>\n      <td>7.581</td>\n    </tr>\n    <tr>\n      <th>2022-01-03 10:08:00</th>\n      <td>7.217</td>\n    </tr>\n    <tr>\n      <th>2022-01-03 10:09:00</th>\n      <td>7.398</td>\n    </tr>\n  </tbody>\n</table>\n</div>"
     },
     "execution_count": 13,
     "metadata": {},
     "output_type": "execute_result"
    }
   ],
   "source": [
    "from etna.datasets.tsdataset import TSDataset\n",
    "etna_df = TSDataset.to_dataset(df)\n",
    "etna_df.head()\n",
    "# segment\n",
    "# feature\n",
    "# timestamp\n",
    "# df.columns = ['timestamp','segment','orders_true','orders_true_b', 'orders_true_s','vol_true_put','vol_true_put_b','vol_true_put_s','val_true_put','val_true_put_b','val_true_put_s','target']"
   ],
   "metadata": {
    "collapsed": false,
    "ExecuteTime": {
     "end_time": "2023-12-09T14:05:48.343581Z",
     "start_time": "2023-12-09T14:05:46.087878Z"
    }
   },
   "id": "c11fd70a033798c9"
  },
  {
   "cell_type": "code",
   "execution_count": 14,
   "outputs": [
    {
     "name": "stdout",
     "output_type": "stream",
     "text": [
      "<class 'pandas.core.frame.DataFrame'>\n",
      "DatetimeIndex: 12818 entries, 2022-01-03 10:05:00 to 2022-01-12 07:42:00\n",
      "Data columns (total 1 columns):\n",
      " #   Column          Non-Null Count  Dtype  \n",
      "---  ------          --------------  -----  \n",
      " 0   (CBOM, target)  12813 non-null  float64\n",
      "dtypes: float64(1)\n",
      "memory usage: 200.3 KB\n"
     ]
    }
   ],
   "source": [
    "etna_df.info()"
   ],
   "metadata": {
    "collapsed": false,
    "ExecuteTime": {
     "end_time": "2023-12-09T14:05:48.347948Z",
     "start_time": "2023-12-09T14:05:48.344792Z"
    }
   },
   "id": "842ad858a4934730"
  },
  {
   "cell_type": "code",
   "execution_count": 15,
   "outputs": [],
   "source": [
    "ts = TSDataset(etna_df, freq=\"T\")\n",
    "\n",
    "# Choose a horizon\n",
    "HORIZON = 14\n",
    "\n",
    "# Make train/test split\n",
    "train_ts, test_ts = ts.train_test_split(test_size=HORIZON)"
   ],
   "metadata": {
    "collapsed": false,
    "ExecuteTime": {
     "end_time": "2023-12-09T14:05:48.392011Z",
     "start_time": "2023-12-09T14:05:48.356903Z"
    }
   },
   "id": "e3ae690f0e4c030b"
  },
  {
   "cell_type": "code",
   "execution_count": 16,
   "outputs": [
    {
     "data": {
      "text/plain": "<Figure size 1000x500 with 1 Axes>",
      "image/png": "[encoded data removed]"
     },
     "metadata": {},
     "output_type": "display_data"
    }
   ],
   "source": [
    "ts.plot(segments=[\"CBOM\"])"
   ],
   "metadata": {
    "collapsed": false,
    "ExecuteTime": {
     "end_time": "2023-12-09T14:05:48.603716Z",
     "start_time": "2023-12-09T14:05:48.370828Z"
    }
   },
   "id": "98a4048a1273ca3e"
  },
  {
   "cell_type": "code",
   "execution_count": 17,
   "outputs": [],
   "source": [
    "from etna.transforms import DensityOutliersTransform, TimeSeriesImputerTransform, LinearTrendTransform, TrendTransform, \\\n",
    "    LagTransform, DateFlagsTransform, FourierTransform, SegmentEncoderTransform, MeanTransform\n",
    "\n",
    "# Prepare transforms\n",
    "transforms = [\n",
    "    DensityOutliersTransform(in_column=\"target\", distance_coef=3.0),\n",
    "    TimeSeriesImputerTransform(in_column=\"target\", strategy=\"forward_fill\"),\n",
    "    LinearTrendTransform(in_column=\"target\"),\n",
    "    TrendTransform(in_column=\"target\", out_column=\"trend\"),\n",
    "    LagTransform(in_column=\"target\", lags=list(range(HORIZON, 122)), out_column=\"target_lag\"),\n",
    "    DateFlagsTransform(week_number_in_month=True, out_column=\"date_flag\"),\n",
    "    FourierTransform(period=360.25, order=6, out_column=\"fourier\"),\n",
    "    SegmentEncoderTransform(),\n",
    "    MeanTransform(in_column=f\"target_lag_{HORIZON}\", window=12, seasonality=7),\n",
    "    MeanTransform(in_column=f\"target_lag_{HORIZON}\", window=7),\n",
    "]"
   ],
   "metadata": {
    "collapsed": false,
    "ExecuteTime": {
     "end_time": "2023-12-09T14:05:50.432474Z",
     "start_time": "2023-12-09T14:05:48.567882Z"
    }
   },
   "id": "f442248b72258fc0"
  },
  {
   "cell_type": "code",
   "execution_count": 18,
   "outputs": [
    {
     "name": "stderr",
     "output_type": "stream",
     "text": [
      "/Users/valentin/anaconda3/envs/Go_Algo_3_10/lib/python3.10/site-packages/etna/datasets/tsdataset.py:282: FutureWarning: Argument `closed` is deprecated in favor of `inclusive`.\n",
      "  future_dates = pd.date_range(\n"
     ]
    }
   ],
   "source": [
    "from etna.models import CatBoostMultiSegmentModel\n",
    "from etna.pipeline import Pipeline\n",
    "model = CatBoostMultiSegmentModel()\n",
    "\n",
    "# Create and fit the pipeline\n",
    "pipeline = Pipeline(model=model, transforms=transforms, horizon=HORIZON)\n",
    "pipeline.fit(train_ts)\n",
    "\n",
    "# Make a forecast\n",
    "forecast_ts = pipeline.forecast()"
   ],
   "metadata": {
    "collapsed": false,
    "ExecuteTime": {
     "end_time": "2023-12-09T14:06:01.417731Z",
     "start_time": "2023-12-09T14:05:50.431140Z"
    }
   },
   "id": "2d14a62d3504eaac"
  },
  {
   "cell_type": "code",
   "execution_count": 19,
   "outputs": [
    {
     "data": {
      "text/plain": "<Figure size 1000x500 with 1 Axes>",
      "image/png": "[encoded data removed]"
     },
     "metadata": {},
     "output_type": "display_data"
    }
   ],
   "source": [
    "from etna.analysis import plot_forecast\n",
    "\n",
    "plot_forecast(forecast_ts=forecast_ts , test_ts=test_ts, train_ts=train_ts, n_train_samples=100,  prediction_intervals=True)"
   ],
   "metadata": {
    "collapsed": false,
    "ExecuteTime": {
     "end_time": "2023-12-09T14:06:01.698814Z",
     "start_time": "2023-12-09T14:06:01.412172Z"
    }
   },
   "id": "70e5b1c96a2281c6"
  },
  {
   "cell_type": "code",
   "execution_count": 20,
   "outputs": [],
   "source": [
    "from etna.metrics import MAE, MSE, SMAPE"
   ],
   "metadata": {
    "collapsed": false,
    "ExecuteTime": {
     "end_time": "2023-12-09T14:06:01.701057Z",
     "start_time": "2023-12-09T14:06:01.694676Z"
    }
   },
   "id": "41adc59942cc72a2"
  },
  {
   "cell_type": "code",
   "execution_count": 21,
   "outputs": [],
   "source": [
    "# pipeline.backtest(ts=ts, metrics=[MAE(), MSE(), SMAPE()], n_folds=3, mode=\"expand\")"
   ],
   "metadata": {
    "collapsed": false,
    "ExecuteTime": {
     "end_time": "2023-12-09T14:06:01.704536Z",
     "start_time": "2023-12-09T14:06:01.696863Z"
    }
   },
   "id": "a1532f68760d090f"
  },
  {
   "cell_type": "code",
   "execution_count": 31,
   "outputs": [],
   "source": [
    "import warnings\n",
    "\n",
    "warnings.filterwarnings(\"ignore\")"
   ],
   "metadata": {
    "collapsed": false,
    "ExecuteTime": {
     "end_time": "2023-12-09T14:48:17.905137Z",
     "start_time": "2023-12-09T14:48:17.865100Z"
    }
   },
   "id": "70917980a334abeb"
  },
  {
   "cell_type": "code",
   "execution_count": 32,
   "outputs": [
    {
     "name": "stderr",
     "output_type": "stream",
     "text": [
      "[Parallel(n_jobs=-1)]: Using backend MultiprocessingBackend with 8 concurrent workers.\n",
      "[Parallel(n_jobs=-1)]: Done   1 tasks      | elapsed:   30.3s\n",
      "[Parallel(n_jobs=-1)]: Done   2 out of   4 | elapsed:   47.4s remaining:   47.4s\n",
      "[Parallel(n_jobs=-1)]: Done   4 out of   4 | elapsed:  1.0min finished\n",
      "[Parallel(n_jobs=-1)]: Using backend MultiprocessingBackend with 8 concurrent workers.\n",
      "/Users/valentin/anaconda3/envs/Go_Algo_3_10/lib/python3.10/site-packages/etna/datasets/tsdataset.py:282: FutureWarning: Argument `closed` is deprecated in favor of `inclusive`.\n",
      "  future_dates = pd.date_range(\n",
      "[Parallel(n_jobs=-1)]: Done   1 tasks      | elapsed:    4.4s\n",
      "/Users/valentin/anaconda3/envs/Go_Algo_3_10/lib/python3.10/site-packages/etna/datasets/tsdataset.py:282: FutureWarning: Argument `closed` is deprecated in favor of `inclusive`.\n",
      "  future_dates = pd.date_range(\n",
      "/Users/valentin/anaconda3/envs/Go_Algo_3_10/lib/python3.10/site-packages/etna/datasets/tsdataset.py:282: FutureWarning: Argument `closed` is deprecated in favor of `inclusive`.\n",
      "  future_dates = pd.date_range(\n",
      "[Parallel(n_jobs=-1)]: Done   2 out of   4 | elapsed:   10.3s remaining:   10.3s\n",
      "/Users/valentin/anaconda3/envs/Go_Algo_3_10/lib/python3.10/site-packages/etna/datasets/tsdataset.py:282: FutureWarning: Argument `closed` is deprecated in favor of `inclusive`.\n",
      "  future_dates = pd.date_range(\n",
      "Process SpawnPoolWorker-39:\n",
      "Process SpawnPoolWorker-35:\n",
      "Process SpawnPoolWorker-37:\n",
      "Process SpawnPoolWorker-33:\n",
      "Process SpawnPoolWorker-34:\n",
      "Process SpawnPoolWorker-36:\n",
      "Traceback (most recent call last):\n",
      "  File \"/Users/valentin/anaconda3/envs/Go_Algo_3_10/lib/python3.10/multiprocessing/process.py\", line 314, in _bootstrap\n",
      "    self.run()\n",
      "  File \"/Users/valentin/anaconda3/envs/Go_Algo_3_10/lib/python3.10/multiprocessing/process.py\", line 108, in run\n",
      "    self._target(*self._args, **self._kwargs)\n",
      "  File \"/Users/valentin/anaconda3/envs/Go_Algo_3_10/lib/python3.10/multiprocessing/pool.py\", line 114, in worker\n",
      "    task = get()\n",
      "  File \"/Users/valentin/anaconda3/envs/Go_Algo_3_10/lib/python3.10/site-packages/joblib/pool.py\", line 145, in get\n",
      "    racquire()\n",
      "KeyboardInterrupt\n",
      "Process SpawnPoolWorker-40:\n",
      "Traceback (most recent call last):\n",
      "Traceback (most recent call last):\n",
      "  File \"/Users/valentin/anaconda3/envs/Go_Algo_3_10/lib/python3.10/multiprocessing/process.py\", line 314, in _bootstrap\n",
      "    self.run()\n",
      "  File \"/Users/valentin/anaconda3/envs/Go_Algo_3_10/lib/python3.10/multiprocessing/process.py\", line 108, in run\n",
      "    self._target(*self._args, **self._kwargs)\n",
      "  File \"/Users/valentin/anaconda3/envs/Go_Algo_3_10/lib/python3.10/multiprocessing/pool.py\", line 114, in worker\n",
      "    task = get()\n",
      "  File \"/Users/valentin/anaconda3/envs/Go_Algo_3_10/lib/python3.10/site-packages/joblib/pool.py\", line 145, in get\n",
      "    racquire()\n",
      "  File \"/Users/valentin/anaconda3/envs/Go_Algo_3_10/lib/python3.10/multiprocessing/process.py\", line 314, in _bootstrap\n",
      "    self.run()\n",
      "  File \"/Users/valentin/anaconda3/envs/Go_Algo_3_10/lib/python3.10/multiprocessing/process.py\", line 108, in run\n",
      "    self._target(*self._args, **self._kwargs)\n",
      "  File \"/Users/valentin/anaconda3/envs/Go_Algo_3_10/lib/python3.10/multiprocessing/pool.py\", line 114, in worker\n",
      "    task = get()\n",
      "  File \"/Users/valentin/anaconda3/envs/Go_Algo_3_10/lib/python3.10/site-packages/joblib/pool.py\", line 147, in get\n",
      "    return recv()\n",
      "  File \"/Users/valentin/anaconda3/envs/Go_Algo_3_10/lib/python3.10/multiprocessing/connection.py\", line 250, in recv\n",
      "    buf = self._recv_bytes()\n",
      "  File \"/Users/valentin/anaconda3/envs/Go_Algo_3_10/lib/python3.10/multiprocessing/connection.py\", line 414, in _recv_bytes\n",
      "    buf = self._recv(4)\n",
      "  File \"/Users/valentin/anaconda3/envs/Go_Algo_3_10/lib/python3.10/multiprocessing/connection.py\", line 379, in _recv\n",
      "    chunk = read(handle, remaining)\n",
      "KeyboardInterrupt\n",
      "KeyboardInterrupt\n",
      "Traceback (most recent call last):\n",
      "  File \"/Users/valentin/anaconda3/envs/Go_Algo_3_10/lib/python3.10/multiprocessing/process.py\", line 314, in _bootstrap\n",
      "    self.run()\n",
      "  File \"/Users/valentin/anaconda3/envs/Go_Algo_3_10/lib/python3.10/multiprocessing/process.py\", line 108, in run\n",
      "    self._target(*self._args, **self._kwargs)\n",
      "  File \"/Users/valentin/anaconda3/envs/Go_Algo_3_10/lib/python3.10/multiprocessing/pool.py\", line 114, in worker\n",
      "    task = get()\n",
      "  File \"/Users/valentin/anaconda3/envs/Go_Algo_3_10/lib/python3.10/site-packages/joblib/pool.py\", line 145, in get\n",
      "    racquire()\n",
      "KeyboardInterrupt\n",
      "Traceback (most recent call last):\n",
      "  File \"/Users/valentin/anaconda3/envs/Go_Algo_3_10/lib/python3.10/multiprocessing/process.py\", line 314, in _bootstrap\n",
      "    self.run()\n",
      "  File \"/Users/valentin/anaconda3/envs/Go_Algo_3_10/lib/python3.10/multiprocessing/process.py\", line 108, in run\n",
      "    self._target(*self._args, **self._kwargs)\n",
      "  File \"/Users/valentin/anaconda3/envs/Go_Algo_3_10/lib/python3.10/multiprocessing/pool.py\", line 114, in worker\n",
      "    task = get()\n",
      "  File \"/Users/valentin/anaconda3/envs/Go_Algo_3_10/lib/python3.10/site-packages/joblib/pool.py\", line 145, in get\n",
      "    racquire()\n",
      "KeyboardInterrupt\n",
      "Traceback (most recent call last):\n",
      "  File \"/Users/valentin/anaconda3/envs/Go_Algo_3_10/lib/python3.10/multiprocessing/process.py\", line 314, in _bootstrap\n",
      "    self.run()\n",
      "  File \"/Users/valentin/anaconda3/envs/Go_Algo_3_10/lib/python3.10/multiprocessing/process.py\", line 108, in run\n",
      "    self._target(*self._args, **self._kwargs)\n",
      "  File \"/Users/valentin/anaconda3/envs/Go_Algo_3_10/lib/python3.10/multiprocessing/pool.py\", line 114, in worker\n",
      "    task = get()\n",
      "  File \"/Users/valentin/anaconda3/envs/Go_Algo_3_10/lib/python3.10/site-packages/joblib/pool.py\", line 145, in get\n",
      "    racquire()\n",
      "KeyboardInterrupt\n",
      "Traceback (most recent call last):\n",
      "  File \"/Users/valentin/anaconda3/envs/Go_Algo_3_10/lib/python3.10/multiprocessing/process.py\", line 314, in _bootstrap\n",
      "    self.run()\n",
      "  File \"/Users/valentin/anaconda3/envs/Go_Algo_3_10/lib/python3.10/multiprocessing/process.py\", line 108, in run\n",
      "    self._target(*self._args, **self._kwargs)\n",
      "  File \"/Users/valentin/anaconda3/envs/Go_Algo_3_10/lib/python3.10/multiprocessing/pool.py\", line 114, in worker\n",
      "    task = get()\n",
      "  File \"/Users/valentin/anaconda3/envs/Go_Algo_3_10/lib/python3.10/site-packages/joblib/pool.py\", line 145, in get\n",
      "    racquire()\n",
      "KeyboardInterrupt\n"
     ]
    },
    {
     "ename": "KeyboardInterrupt",
     "evalue": "",
     "output_type": "error",
     "traceback": [
      "\u001B[0;31m---------------------------------------------------------------------------\u001B[0m",
      "\u001B[0;31mKeyboardInterrupt\u001B[0m                         Traceback (most recent call last)",
      "File \u001B[0;32m~/anaconda3/envs/Go_Algo_3_10/lib/python3.10/site-packages/joblib/parallel.py:1595\u001B[0m, in \u001B[0;36mParallel._get_outputs\u001B[0;34m(self, iterator, pre_dispatch)\u001B[0m\n\u001B[1;32m   1594\u001B[0m     \u001B[38;5;28;01mwith\u001B[39;00m \u001B[38;5;28mself\u001B[39m\u001B[38;5;241m.\u001B[39m_backend\u001B[38;5;241m.\u001B[39mretrieval_context():\n\u001B[0;32m-> 1595\u001B[0m         \u001B[38;5;28;01myield from\u001B[39;00m \u001B[38;5;28mself\u001B[39m\u001B[38;5;241m.\u001B[39m_retrieve()\n\u001B[1;32m   1597\u001B[0m \u001B[38;5;28;01mexcept\u001B[39;00m \u001B[38;5;167;01mGeneratorExit\u001B[39;00m:\n\u001B[1;32m   1598\u001B[0m     \u001B[38;5;66;03m# The generator has been garbage collected before being fully\u001B[39;00m\n\u001B[1;32m   1599\u001B[0m     \u001B[38;5;66;03m# consumed. This aborts the remaining tasks if possible and warn\u001B[39;00m\n\u001B[1;32m   1600\u001B[0m     \u001B[38;5;66;03m# the user if necessary.\u001B[39;00m\n",
      "File \u001B[0;32m~/anaconda3/envs/Go_Algo_3_10/lib/python3.10/site-packages/joblib/parallel.py:1707\u001B[0m, in \u001B[0;36mParallel._retrieve\u001B[0;34m(self)\u001B[0m\n\u001B[1;32m   1704\u001B[0m \u001B[38;5;28;01mif\u001B[39;00m ((\u001B[38;5;28mlen\u001B[39m(\u001B[38;5;28mself\u001B[39m\u001B[38;5;241m.\u001B[39m_jobs) \u001B[38;5;241m==\u001B[39m \u001B[38;5;241m0\u001B[39m) \u001B[38;5;129;01mor\u001B[39;00m\n\u001B[1;32m   1705\u001B[0m     (\u001B[38;5;28mself\u001B[39m\u001B[38;5;241m.\u001B[39m_jobs[\u001B[38;5;241m0\u001B[39m]\u001B[38;5;241m.\u001B[39mget_status(\n\u001B[1;32m   1706\u001B[0m         timeout\u001B[38;5;241m=\u001B[39m\u001B[38;5;28mself\u001B[39m\u001B[38;5;241m.\u001B[39mtimeout) \u001B[38;5;241m==\u001B[39m TASK_PENDING)):\n\u001B[0;32m-> 1707\u001B[0m     \u001B[43mtime\u001B[49m\u001B[38;5;241;43m.\u001B[39;49m\u001B[43msleep\u001B[49m\u001B[43m(\u001B[49m\u001B[38;5;241;43m0.01\u001B[39;49m\u001B[43m)\u001B[49m\n\u001B[1;32m   1708\u001B[0m     \u001B[38;5;28;01mcontinue\u001B[39;00m\n",
      "\u001B[0;31mKeyboardInterrupt\u001B[0m: ",
      "\nDuring handling of the above exception, another exception occurred:\n",
      "\u001B[0;31mKeyboardInterrupt\u001B[0m                         Traceback (most recent call last)",
      "Cell \u001B[0;32mIn[32], line 1\u001B[0m\n\u001B[0;32m----> 1\u001B[0m metrics_df, forecast_df, fold_info_df  \u001B[38;5;241m=\u001B[39m \u001B[43mpipeline\u001B[49m\u001B[38;5;241;43m.\u001B[39;49m\u001B[43mbacktest\u001B[49m\u001B[43m(\u001B[49m\u001B[43mts\u001B[49m\u001B[38;5;241;43m=\u001B[39;49m\u001B[43mts\u001B[49m\u001B[43m,\u001B[49m\u001B[43m \u001B[49m\u001B[43mmetrics\u001B[49m\u001B[38;5;241;43m=\u001B[39;49m\u001B[43m[\u001B[49m\u001B[43mMAE\u001B[49m\u001B[43m(\u001B[49m\u001B[43m)\u001B[49m\u001B[43m,\u001B[49m\u001B[43m \u001B[49m\u001B[43mMSE\u001B[49m\u001B[43m(\u001B[49m\u001B[43m)\u001B[49m\u001B[43m,\u001B[49m\u001B[43m \u001B[49m\u001B[43mSMAPE\u001B[49m\u001B[43m(\u001B[49m\u001B[43m)\u001B[49m\u001B[43m]\u001B[49m\u001B[43m,\u001B[49m\u001B[43m \u001B[49m\u001B[43mn_folds\u001B[49m\u001B[38;5;241;43m=\u001B[39;49m\u001B[38;5;241;43m4\u001B[39;49m\u001B[43m,\u001B[49m\u001B[43m \u001B[49m\u001B[43mmode\u001B[49m\u001B[38;5;241;43m=\u001B[39;49m\u001B[38;5;124;43m\"\u001B[39;49m\u001B[38;5;124;43mexpand\u001B[39;49m\u001B[38;5;124;43m\"\u001B[39;49m\u001B[43m,\u001B[49m\u001B[43m \u001B[49m\u001B[43mn_jobs\u001B[49m\u001B[38;5;241;43m=\u001B[39;49m\u001B[38;5;241;43m-\u001B[39;49m\u001B[38;5;241;43m1\u001B[39;49m\u001B[43m)\u001B[49m\n",
      "File \u001B[0;32m~/anaconda3/envs/Go_Algo_3_10/lib/python3.10/site-packages/etna/pipeline/base.py:978\u001B[0m, in \u001B[0;36mBasePipeline.backtest\u001B[0;34m(self, ts, metrics, n_folds, mode, aggregate_metrics, n_jobs, refit, stride, joblib_params, forecast_params)\u001B[0m\n\u001B[1;32m    976\u001B[0m \u001B[38;5;28mself\u001B[39m\u001B[38;5;241m.\u001B[39m_validate_backtest_metrics(metrics\u001B[38;5;241m=\u001B[39mmetrics)\n\u001B[1;32m    977\u001B[0m masks \u001B[38;5;241m=\u001B[39m \u001B[38;5;28mself\u001B[39m\u001B[38;5;241m.\u001B[39m_prepare_fold_masks(ts\u001B[38;5;241m=\u001B[39mts, masks\u001B[38;5;241m=\u001B[39mn_folds, mode\u001B[38;5;241m=\u001B[39mmode_enum, stride\u001B[38;5;241m=\u001B[39mstride)\n\u001B[0;32m--> 978\u001B[0m \u001B[38;5;28mself\u001B[39m\u001B[38;5;241m.\u001B[39m_folds \u001B[38;5;241m=\u001B[39m \u001B[38;5;28;43mself\u001B[39;49m\u001B[38;5;241;43m.\u001B[39;49m\u001B[43m_run_all_folds\u001B[49m\u001B[43m(\u001B[49m\n\u001B[1;32m    979\u001B[0m \u001B[43m    \u001B[49m\u001B[43mmasks\u001B[49m\u001B[38;5;241;43m=\u001B[39;49m\u001B[43mmasks\u001B[49m\u001B[43m,\u001B[49m\n\u001B[1;32m    980\u001B[0m \u001B[43m    \u001B[49m\u001B[43mts\u001B[49m\u001B[38;5;241;43m=\u001B[39;49m\u001B[43mts\u001B[49m\u001B[43m,\u001B[49m\n\u001B[1;32m    981\u001B[0m \u001B[43m    \u001B[49m\u001B[43mmetrics\u001B[49m\u001B[38;5;241;43m=\u001B[39;49m\u001B[43mmetrics\u001B[49m\u001B[43m,\u001B[49m\n\u001B[1;32m    982\u001B[0m \u001B[43m    \u001B[49m\u001B[43mn_jobs\u001B[49m\u001B[38;5;241;43m=\u001B[39;49m\u001B[43mn_jobs\u001B[49m\u001B[43m,\u001B[49m\n\u001B[1;32m    983\u001B[0m \u001B[43m    \u001B[49m\u001B[43mrefit\u001B[49m\u001B[38;5;241;43m=\u001B[39;49m\u001B[43mrefit\u001B[49m\u001B[43m,\u001B[49m\n\u001B[1;32m    984\u001B[0m \u001B[43m    \u001B[49m\u001B[43mjoblib_params\u001B[49m\u001B[38;5;241;43m=\u001B[39;49m\u001B[43mjoblib_params\u001B[49m\u001B[43m,\u001B[49m\n\u001B[1;32m    985\u001B[0m \u001B[43m    \u001B[49m\u001B[43mforecast_params\u001B[49m\u001B[38;5;241;43m=\u001B[39;49m\u001B[43mforecast_params\u001B[49m\u001B[43m,\u001B[49m\n\u001B[1;32m    986\u001B[0m \u001B[43m\u001B[49m\u001B[43m)\u001B[49m\n\u001B[1;32m    988\u001B[0m metrics_df \u001B[38;5;241m=\u001B[39m \u001B[38;5;28mself\u001B[39m\u001B[38;5;241m.\u001B[39m_get_backtest_metrics(aggregate_metrics\u001B[38;5;241m=\u001B[39maggregate_metrics)\n\u001B[1;32m    989\u001B[0m forecast_df \u001B[38;5;241m=\u001B[39m \u001B[38;5;28mself\u001B[39m\u001B[38;5;241m.\u001B[39m_get_backtest_forecasts()\n",
      "File \u001B[0;32m~/anaconda3/envs/Go_Algo_3_10/lib/python3.10/site-packages/etna/pipeline/base.py:859\u001B[0m, in \u001B[0;36mBasePipeline._run_all_folds\u001B[0;34m(self, masks, ts, metrics, n_jobs, refit, joblib_params, forecast_params)\u001B[0m\n\u001B[1;32m    849\u001B[0m forecast_masks \u001B[38;5;241m=\u001B[39m [group[\u001B[38;5;124m\"\u001B[39m\u001B[38;5;124mforecast_masks\u001B[39m\u001B[38;5;124m\"\u001B[39m] \u001B[38;5;28;01mfor\u001B[39;00m group \u001B[38;5;129;01min\u001B[39;00m fold_groups]\n\u001B[1;32m    850\u001B[0m forecast_datasets \u001B[38;5;241m=\u001B[39m (\n\u001B[1;32m    851\u001B[0m     (\n\u001B[1;32m    852\u001B[0m         train\n\u001B[0;32m   (...)\u001B[0m\n\u001B[1;32m    857\u001B[0m     \u001B[38;5;28;01mfor\u001B[39;00m group_forecast_masks \u001B[38;5;129;01min\u001B[39;00m forecast_masks\n\u001B[1;32m    858\u001B[0m )\n\u001B[0;32m--> 859\u001B[0m forecasts_flat \u001B[38;5;241m=\u001B[39m \u001B[43mparallel\u001B[49m\u001B[43m(\u001B[49m\n\u001B[1;32m    860\u001B[0m \u001B[43m    \u001B[49m\u001B[43mdelayed\u001B[49m\u001B[43m(\u001B[49m\u001B[38;5;28;43mself\u001B[39;49m\u001B[38;5;241;43m.\u001B[39;49m\u001B[43m_forecast_backtest_pipeline\u001B[49m\u001B[43m)\u001B[49m\u001B[43m(\u001B[49m\n\u001B[1;32m    861\u001B[0m \u001B[43m        \u001B[49m\u001B[43mts\u001B[49m\u001B[38;5;241;43m=\u001B[39;49m\u001B[43mforecast_ts\u001B[49m\u001B[43m,\u001B[49m\n\u001B[1;32m    862\u001B[0m \u001B[43m        \u001B[49m\u001B[43mpipeline\u001B[49m\u001B[38;5;241;43m=\u001B[39;49m\u001B[43mpipelines\u001B[49m\u001B[43m[\u001B[49m\u001B[43mgroup_idx\u001B[49m\u001B[43m]\u001B[49m\u001B[43m,\u001B[49m\n\u001B[1;32m    863\u001B[0m \u001B[43m        \u001B[49m\u001B[43mfold_number\u001B[49m\u001B[38;5;241;43m=\u001B[39;49m\u001B[43mfold_groups\u001B[49m\u001B[43m[\u001B[49m\u001B[43mgroup_idx\u001B[49m\u001B[43m]\u001B[49m\u001B[43m[\u001B[49m\u001B[38;5;124;43m\"\u001B[39;49m\u001B[38;5;124;43mforecast_fold_numbers\u001B[39;49m\u001B[38;5;124;43m\"\u001B[39;49m\u001B[43m]\u001B[49m\u001B[43m[\u001B[49m\u001B[43midx\u001B[49m\u001B[43m]\u001B[49m\u001B[43m,\u001B[49m\n\u001B[1;32m    864\u001B[0m \u001B[43m        \u001B[49m\u001B[43mforecast_params\u001B[49m\u001B[38;5;241;43m=\u001B[39;49m\u001B[43mforecast_params\u001B[49m\u001B[43m,\u001B[49m\n\u001B[1;32m    865\u001B[0m \u001B[43m    \u001B[49m\u001B[43m)\u001B[49m\n\u001B[1;32m    866\u001B[0m \u001B[43m    \u001B[49m\u001B[38;5;28;43;01mfor\u001B[39;49;00m\u001B[43m \u001B[49m\u001B[43mgroup_idx\u001B[49m\u001B[43m,\u001B[49m\u001B[43m \u001B[49m\u001B[43mgroup_forecast_datasets\u001B[49m\u001B[43m \u001B[49m\u001B[38;5;129;43;01min\u001B[39;49;00m\u001B[43m \u001B[49m\u001B[38;5;28;43menumerate\u001B[39;49m\u001B[43m(\u001B[49m\u001B[43mforecast_datasets\u001B[49m\u001B[43m)\u001B[49m\n\u001B[1;32m    867\u001B[0m \u001B[43m    \u001B[49m\u001B[38;5;28;43;01mfor\u001B[39;49;00m\u001B[43m \u001B[49m\u001B[43midx\u001B[49m\u001B[43m,\u001B[49m\u001B[43m \u001B[49m\u001B[43mforecast_ts\u001B[49m\u001B[43m \u001B[49m\u001B[38;5;129;43;01min\u001B[39;49;00m\u001B[43m \u001B[49m\u001B[38;5;28;43menumerate\u001B[39;49m\u001B[43m(\u001B[49m\u001B[43mgroup_forecast_datasets\u001B[49m\u001B[43m)\u001B[49m\n\u001B[1;32m    868\u001B[0m \u001B[43m\u001B[49m\u001B[43m)\u001B[49m\n\u001B[1;32m    870\u001B[0m \u001B[38;5;66;03m# processing forecasts\u001B[39;00m\n\u001B[1;32m    871\u001B[0m fold_process_train_datasets \u001B[38;5;241m=\u001B[39m (\n\u001B[1;32m    872\u001B[0m     train \u001B[38;5;28;01mfor\u001B[39;00m train, _ \u001B[38;5;129;01min\u001B[39;00m \u001B[38;5;28mself\u001B[39m\u001B[38;5;241m.\u001B[39m_generate_folds_datasets(ts\u001B[38;5;241m=\u001B[39mts, masks\u001B[38;5;241m=\u001B[39mfit_masks, horizon\u001B[38;5;241m=\u001B[39m\u001B[38;5;28mself\u001B[39m\u001B[38;5;241m.\u001B[39mhorizon)\n\u001B[1;32m    873\u001B[0m )\n",
      "File \u001B[0;32m~/anaconda3/envs/Go_Algo_3_10/lib/python3.10/site-packages/joblib/parallel.py:1952\u001B[0m, in \u001B[0;36mParallel.__call__\u001B[0;34m(self, iterable)\u001B[0m\n\u001B[1;32m   1946\u001B[0m \u001B[38;5;66;03m# The first item from the output is blank, but it makes the interpreter\u001B[39;00m\n\u001B[1;32m   1947\u001B[0m \u001B[38;5;66;03m# progress until it enters the Try/Except block of the generator and\u001B[39;00m\n\u001B[1;32m   1948\u001B[0m \u001B[38;5;66;03m# reach the first `yield` statement. This starts the aynchronous\u001B[39;00m\n\u001B[1;32m   1949\u001B[0m \u001B[38;5;66;03m# dispatch of the tasks to the workers.\u001B[39;00m\n\u001B[1;32m   1950\u001B[0m \u001B[38;5;28mnext\u001B[39m(output)\n\u001B[0;32m-> 1952\u001B[0m \u001B[38;5;28;01mreturn\u001B[39;00m output \u001B[38;5;28;01mif\u001B[39;00m \u001B[38;5;28mself\u001B[39m\u001B[38;5;241m.\u001B[39mreturn_generator \u001B[38;5;28;01melse\u001B[39;00m \u001B[38;5;28;43mlist\u001B[39;49m\u001B[43m(\u001B[49m\u001B[43moutput\u001B[49m\u001B[43m)\u001B[49m\n",
      "File \u001B[0;32m~/anaconda3/envs/Go_Algo_3_10/lib/python3.10/site-packages/joblib/parallel.py:1648\u001B[0m, in \u001B[0;36mParallel._get_outputs\u001B[0;34m(self, iterator, pre_dispatch)\u001B[0m\n\u001B[1;32m   1646\u001B[0m \u001B[38;5;28;01mexcept\u001B[39;00m \u001B[38;5;167;01mBaseException\u001B[39;00m:\n\u001B[1;32m   1647\u001B[0m     \u001B[38;5;28mself\u001B[39m\u001B[38;5;241m.\u001B[39m_exception \u001B[38;5;241m=\u001B[39m \u001B[38;5;28;01mTrue\u001B[39;00m\n\u001B[0;32m-> 1648\u001B[0m     \u001B[38;5;28;43mself\u001B[39;49m\u001B[38;5;241;43m.\u001B[39;49m\u001B[43m_abort\u001B[49m\u001B[43m(\u001B[49m\u001B[43m)\u001B[49m\n\u001B[1;32m   1649\u001B[0m     \u001B[38;5;28;01mraise\u001B[39;00m\n\u001B[1;32m   1650\u001B[0m \u001B[38;5;28;01mfinally\u001B[39;00m:\n\u001B[1;32m   1651\u001B[0m     \u001B[38;5;66;03m# Store the unconsumed tasks and terminate the workers if necessary\u001B[39;00m\n",
      "File \u001B[0;32m~/anaconda3/envs/Go_Algo_3_10/lib/python3.10/site-packages/joblib/parallel.py:1559\u001B[0m, in \u001B[0;36mParallel._abort\u001B[0;34m(self)\u001B[0m\n\u001B[1;32m   1554\u001B[0m \u001B[38;5;28;01mif\u001B[39;00m (\u001B[38;5;129;01mnot\u001B[39;00m \u001B[38;5;28mself\u001B[39m\u001B[38;5;241m.\u001B[39m_aborted \u001B[38;5;129;01mand\u001B[39;00m \u001B[38;5;28mhasattr\u001B[39m(backend, \u001B[38;5;124m'\u001B[39m\u001B[38;5;124mabort_everything\u001B[39m\u001B[38;5;124m'\u001B[39m)):\n\u001B[1;32m   1555\u001B[0m     \u001B[38;5;66;03m# If the backend is managed externally we need to make sure\u001B[39;00m\n\u001B[1;32m   1556\u001B[0m     \u001B[38;5;66;03m# to leave it in a working state to allow for future jobs\u001B[39;00m\n\u001B[1;32m   1557\u001B[0m     \u001B[38;5;66;03m# scheduling.\u001B[39;00m\n\u001B[1;32m   1558\u001B[0m     ensure_ready \u001B[38;5;241m=\u001B[39m \u001B[38;5;28mself\u001B[39m\u001B[38;5;241m.\u001B[39m_managed_backend\n\u001B[0;32m-> 1559\u001B[0m     \u001B[43mbackend\u001B[49m\u001B[38;5;241;43m.\u001B[39;49m\u001B[43mabort_everything\u001B[49m\u001B[43m(\u001B[49m\u001B[43mensure_ready\u001B[49m\u001B[38;5;241;43m=\u001B[39;49m\u001B[43mensure_ready\u001B[49m\u001B[43m)\u001B[49m\n\u001B[1;32m   1560\u001B[0m \u001B[38;5;28mself\u001B[39m\u001B[38;5;241m.\u001B[39m_aborted \u001B[38;5;241m=\u001B[39m \u001B[38;5;28;01mTrue\u001B[39;00m\n",
      "File \u001B[0;32m~/anaconda3/envs/Go_Algo_3_10/lib/python3.10/site-packages/joblib/_parallel_backends.py:300\u001B[0m, in \u001B[0;36mPoolManagerMixin.abort_everything\u001B[0;34m(self, ensure_ready)\u001B[0m\n\u001B[1;32m    298\u001B[0m \u001B[38;5;28mself\u001B[39m\u001B[38;5;241m.\u001B[39mterminate()\n\u001B[1;32m    299\u001B[0m \u001B[38;5;28;01mif\u001B[39;00m ensure_ready:\n\u001B[0;32m--> 300\u001B[0m     \u001B[38;5;28;43mself\u001B[39;49m\u001B[38;5;241;43m.\u001B[39;49m\u001B[43mconfigure\u001B[49m\u001B[43m(\u001B[49m\u001B[43mn_jobs\u001B[49m\u001B[38;5;241;43m=\u001B[39;49m\u001B[38;5;28;43mself\u001B[39;49m\u001B[38;5;241;43m.\u001B[39;49m\u001B[43mparallel\u001B[49m\u001B[38;5;241;43m.\u001B[39;49m\u001B[43mn_jobs\u001B[49m\u001B[43m,\u001B[49m\u001B[43m \u001B[49m\u001B[43mparallel\u001B[49m\u001B[38;5;241;43m=\u001B[39;49m\u001B[38;5;28;43mself\u001B[39;49m\u001B[38;5;241;43m.\u001B[39;49m\u001B[43mparallel\u001B[49m\u001B[43m,\u001B[49m\n\u001B[1;32m    301\u001B[0m \u001B[43m                   \u001B[49m\u001B[38;5;241;43m*\u001B[39;49m\u001B[38;5;241;43m*\u001B[39;49m\u001B[38;5;28;43mself\u001B[39;49m\u001B[38;5;241;43m.\u001B[39;49m\u001B[43mparallel\u001B[49m\u001B[38;5;241;43m.\u001B[39;49m\u001B[43m_backend_args\u001B[49m\u001B[43m)\u001B[49m\n",
      "File \u001B[0;32m~/anaconda3/envs/Go_Algo_3_10/lib/python3.10/site-packages/joblib/_parallel_backends.py:525\u001B[0m, in \u001B[0;36mMultiprocessingBackend.configure\u001B[0;34m(self, n_jobs, parallel, prefer, require, **memmappingpool_args)\u001B[0m\n\u001B[1;32m    521\u001B[0m     \u001B[38;5;28;01mraise\u001B[39;00m FallbackToBackend(\n\u001B[1;32m    522\u001B[0m         SequentialBackend(nesting_level\u001B[38;5;241m=\u001B[39m\u001B[38;5;28mself\u001B[39m\u001B[38;5;241m.\u001B[39mnesting_level))\n\u001B[1;32m    524\u001B[0m \u001B[38;5;66;03m# Make sure to free as much memory as possible before forking\u001B[39;00m\n\u001B[0;32m--> 525\u001B[0m \u001B[43mgc\u001B[49m\u001B[38;5;241;43m.\u001B[39;49m\u001B[43mcollect\u001B[49m\u001B[43m(\u001B[49m\u001B[43m)\u001B[49m\n\u001B[1;32m    526\u001B[0m \u001B[38;5;28mself\u001B[39m\u001B[38;5;241m.\u001B[39m_pool \u001B[38;5;241m=\u001B[39m MemmappingPool(n_jobs, \u001B[38;5;241m*\u001B[39m\u001B[38;5;241m*\u001B[39mmemmappingpool_args)\n\u001B[1;32m    527\u001B[0m \u001B[38;5;28mself\u001B[39m\u001B[38;5;241m.\u001B[39mparallel \u001B[38;5;241m=\u001B[39m parallel\n",
      "\u001B[0;31mKeyboardInterrupt\u001B[0m: "
     ]
    }
   ],
   "source": [
    "metrics_df, forecast_df, fold_info_df  = pipeline.backtest(ts=ts, metrics=[MAE(), MSE(), SMAPE()], n_folds=4, mode=\"expand\", n_jobs=-1)"
   ],
   "metadata": {
    "collapsed": false,
    "ExecuteTime": {
     "end_time": "2023-12-09T17:24:19.406402Z",
     "start_time": "2023-12-09T14:48:18.377366Z"
    }
   },
   "id": "b86c9451efc2f4af"
  },
  {
   "cell_type": "code",
   "execution_count": null,
   "outputs": [],
   "source": [
    "from etna.analysis import plot_backtest\n",
    "\n",
    "plot_backtest(forecast_df, ts)"
   ],
   "metadata": {
    "collapsed": false,
    "ExecuteTime": {
     "start_time": "2023-12-09T17:24:19.406362Z"
    }
   },
   "id": "bbeafea9c8f1722"
  },
  {
   "cell_type": "code",
   "execution_count": null,
   "outputs": [],
   "source": [
    "metrics_df.head(126)"
   ],
   "metadata": {
    "collapsed": false,
    "ExecuteTime": {
     "end_time": "2023-12-09T17:24:19.448798Z",
     "start_time": "2023-12-09T17:24:19.408539Z"
    }
   },
   "id": "f26f8bfa23c8c760"
  },
  {
   "cell_type": "code",
   "execution_count": null,
   "outputs": [],
   "source": [
    "from etna.analysis import metric_per_segment_distribution_plot\n",
    "\n",
    "metric_per_segment_distribution_plot(metrics_df=metrics_df, metric_name=\"SMAPE\", plot_type=\"box\")"
   ],
   "metadata": {
    "collapsed": false,
    "ExecuteTime": {
     "start_time": "2023-12-09T17:24:19.411443Z"
    }
   },
   "id": "66a0588bacd7ace8"
  },
  {
   "cell_type": "code",
   "execution_count": null,
   "outputs": [],
   "source": [
    "from etna.analysis import plot_residuals\n",
    "\n",
    "plot_residuals(forecast_df=forecast_df, ts=ts)"
   ],
   "metadata": {
    "collapsed": false,
    "ExecuteTime": {
     "start_time": "2023-12-09T17:24:19.412655Z"
    }
   },
   "id": "dda43590d984c71d"
  },
  {
   "cell_type": "code",
   "execution_count": null,
   "outputs": [],
   "source": [
    "from etna.analysis import prediction_actual_scatter_plot\n",
    "\n",
    "prediction_actual_scatter_plot(forecast_df=forecast_df, ts=ts)"
   ],
   "metadata": {
    "collapsed": false,
    "ExecuteTime": {
     "start_time": "2023-12-09T17:24:19.414944Z"
    }
   },
   "id": "53e22c05f5cfea1d"
  },
  {
   "cell_type": "code",
   "execution_count": null,
   "outputs": [],
   "source": [
    "forecast_ts.to_pandas(True)[['timestamp','segment','target']]"
   ],
   "metadata": {
    "collapsed": false
   },
   "id": "b22695e9415d9270"
  },
  {
   "cell_type": "code",
   "execution_count": null,
   "outputs": [],
   "source": [
    "forecast_ts.head()"
   ],
   "metadata": {
    "collapsed": false
   },
   "id": "2800bbf3a960cc01"
  },
  {
   "cell_type": "code",
   "execution_count": null,
   "outputs": [],
   "source": [
    "test_ts"
   ],
   "metadata": {
    "collapsed": false
   },
   "id": "35047dff51c9daa1"
  },
  {
   "cell_type": "code",
   "execution_count": null,
   "outputs": [],
   "source": [
    "from moexalgo import Ticker"
   ],
   "metadata": {
    "collapsed": false
   },
   "id": "b7620c4c1fcdd437"
  },
  {
   "cell_type": "code",
   "execution_count": null,
   "outputs": [],
   "source": [
    "from datetime import date\n",
    "\n",
    "DATE_START = date(2023, 10, 1)\n",
    "DATE_END = date(2023, 10, 2)"
   ],
   "metadata": {
    "collapsed": false
   },
   "id": "28721d3c4b4ba44a"
  },
  {
   "cell_type": "code",
   "execution_count": null,
   "outputs": [],
   "source": [
    "tiket = Ticker('AFKS')\n",
    "type(tiket.orderstats(date=DATE_START, till_date=DATE_END))\n"
   ],
   "metadata": {
    "collapsed": false
   },
   "id": "1ee5496653bfa83e"
  },
  {
   "cell_type": "code",
   "execution_count": null,
   "outputs": [],
   "source": [
    "type(tiket.tradestats(date=DATE_START, till_date=DATE_END))\n"
   ],
   "metadata": {
    "collapsed": false
   },
   "id": "bea04392ef409902"
  },
  {
   "cell_type": "code",
   "execution_count": null,
   "outputs": [],
   "source": [
    "type(tiket.obstats(date=DATE_START, till_date=DATE_END))"
   ],
   "metadata": {
    "collapsed": false
   },
   "id": "5fe394c233d9c704"
  },
  {
   "cell_type": "code",
   "execution_count": null,
   "outputs": [],
   "source": [
    "tradestats = tiket.tradestats(date=DATE_START, till_date=DATE_END)"
   ],
   "metadata": {
    "collapsed": false
   },
   "id": "1b6be3912bda8550"
  },
  {
   "cell_type": "code",
   "execution_count": null,
   "outputs": [],
   "source": [
    "tradestats.info()"
   ],
   "metadata": {
    "collapsed": false
   },
   "id": "af3cb4432d10e3d4"
  },
  {
   "cell_type": "code",
   "execution_count": null,
   "outputs": [],
   "source": [
    "len(tradestats['tradetime'].unique().tolist())"
   ],
   "metadata": {
    "collapsed": false
   },
   "id": "588a4e0691ad7908"
  },
  {
   "cell_type": "code",
   "execution_count": null,
   "outputs": [],
   "source": [
    "tiket.obstats(date=DATE_START, till_date=DATE_END).head()"
   ],
   "metadata": {
    "collapsed": false
   },
   "id": "eecfaca8052424b0"
  },
  {
   "cell_type": "code",
   "execution_count": null,
   "outputs": [],
   "source": [
    "tiket_random = 'APTK'"
   ],
   "metadata": {
    "collapsed": false
   },
   "id": "10d3cd856afc92b3"
  },
  {
   "cell_type": "code",
   "execution_count": null,
   "outputs": [],
   "source": [
    "tradestats[tradestats['ticker'] == tiket_random].sort_values(by='tradedate', ascending=True)"
   ],
   "metadata": {
    "collapsed": false
   },
   "id": "9aaba22c23c83a5b"
  },
  {
   "cell_type": "code",
   "execution_count": null,
   "outputs": [],
   "source": [
    "import pandas as pd"
   ],
   "metadata": {
    "collapsed": false
   },
   "id": "d2e6bf62f6841e14"
  },
  {
   "cell_type": "code",
   "execution_count": null,
   "outputs": [],
   "source": [
    "tradestats.loc[:, 'trade_datetime'] = pd.to_datetime(\n",
    "        tradestats.tradedate.astype(str) + ' ' + tradestats.tradetime.astype(str))"
   ],
   "metadata": {
    "collapsed": false
   },
   "id": "20ff475821af942"
  },
  {
   "cell_type": "code",
   "execution_count": null,
   "outputs": [],
   "source": [
    "tradestats.head()"
   ],
   "metadata": {
    "collapsed": false
   },
   "id": "cbd895a62c75e69b"
  },
  {
   "cell_type": "code",
   "execution_count": null,
   "outputs": [],
   "source": [
    "tradestats.tradedate.astype(str) + ' ' + tradestats.tradetime.astype(str)"
   ],
   "metadata": {
    "collapsed": false
   },
   "id": "1fcef67bf9c129ee"
  },
  {
   "cell_type": "code",
   "execution_count": null,
   "outputs": [],
   "source": [
    "tradestats['trade_datetime'] = pd.to_datetime(tradestats.tradedate.astype(str) + ' ' + tradestats.tradetime.astype(str))"
   ],
   "metadata": {
    "collapsed": false
   },
   "id": "88b1ee963346c660"
  },
  {
   "cell_type": "code",
   "execution_count": null,
   "outputs": [],
   "source": [
    "tradestats.head()"
   ],
   "metadata": {
    "collapsed": false
   },
   "id": "955a2a8529afa22a"
  },
  {
   "cell_type": "code",
   "execution_count": null,
   "outputs": [],
   "source": [
    "from moexalgo import Ticker"
   ],
   "metadata": {
    "collapsed": false
   },
   "id": "a9cf919944660a31"
  },
  {
   "cell_type": "code",
   "execution_count": null,
   "outputs": [],
   "source": [
    "tiket = Ticker('APTK') #tiket_random = 'APTK'"
   ],
   "metadata": {
    "collapsed": false
   },
   "id": "405276b952d2c72d"
  },
  {
   "cell_type": "code",
   "execution_count": null,
   "outputs": [],
   "source": [
    "type()"
   ],
   "metadata": {
    "collapsed": false
   },
   "id": "ab501af255475abd"
  },
  {
   "cell_type": "code",
   "execution_count": null,
   "outputs": [],
   "source": [
    "!python --version "
   ],
   "metadata": {
    "collapsed": false
   },
   "id": "b91cf7b6228721e"
  },
  {
   "cell_type": "code",
   "execution_count": null,
   "outputs": [],
   "source": [
    "df = pd.read_csv('data/obstats_2020.csv', sep=';')\n",
    "df.head()"
   ],
   "metadata": {
    "collapsed": false
   },
   "id": "6c53491781cb103a"
  },
  {
   "cell_type": "code",
   "execution_count": null,
   "outputs": [],
   "source": [
    "df['tradedate']= pd.to_datetime(df['tradedate'])\n",
    "\n",
    "df.info()"
   ],
   "metadata": {
    "collapsed": false
   },
   "id": "897fb8e6eac363bd"
  },
  {
   "cell_type": "code",
   "execution_count": null,
   "outputs": [],
   "source": [
    "df = df[df['tradedate'] >= DATE_START]"
   ],
   "metadata": {
    "collapsed": false
   },
   "id": "11132ff377e99694"
  },
  {
   "cell_type": "code",
   "execution_count": null,
   "outputs": [],
   "source": [
    "print(DATE_START)"
   ],
   "metadata": {
    "collapsed": false
   },
   "id": "1acc04aa5e26e3ac"
  },
  {
   "cell_type": "code",
   "execution_count": null,
   "outputs": [],
   "source": [
    "from datetime import datetime\n",
    "\n"
   ],
   "metadata": {
    "collapsed": false
   },
   "id": "acc66d3d6407ac8e"
  },
  {
   "cell_type": "code",
   "execution_count": null,
   "outputs": [],
   "source": [
    "df.loc[(df['tradedate'] > datetime.strptime('2023-10-01', '%Y-%m-%d'))].head()"
   ],
   "metadata": {
    "collapsed": false
   },
   "id": "41c41da42835257"
  },
  {
   "cell_type": "code",
   "execution_count": null,
   "outputs": [],
   "source": [
    "import pandas as pd\n",
    "\n",
    "from moexalgo import Ticker\n",
    "from settings import DATE_START, DATE_END\n",
    "\n",
    "tiket = Ticker('ALRS')\n",
    "tradestats = pd.DataFrame(tiket.tradestats(date=DATE_START, till_date=DATE_END))\n",
    "\n",
    "print(tradestats.head())"
   ],
   "metadata": {
    "collapsed": false
   },
   "id": "c40490326bf1da08"
  },
  {
   "cell_type": "code",
   "execution_count": null,
   "outputs": [],
   "source": [
    "pd.read_csv('df_after.csv', sep=';').info()"
   ],
   "metadata": {
    "collapsed": false
   },
   "id": "5e4034b28c27819c"
  },
  {
   "cell_type": "code",
   "execution_count": null,
   "outputs": [],
   "source": [
    "pd.read_csv('df_before.csv', sep=';').info()"
   ],
   "metadata": {
    "collapsed": false
   },
   "id": "9d47399f102a6d8"
  },
  {
   "cell_type": "code",
   "execution_count": null,
   "outputs": [],
   "source": [
    "from scipy.signal import medfilt\n",
    "import numpy as np\n",
    "\n",
    "# Пример применения медианного фильтра для снижения шума\n",
    "noisy_data = np.random.random(100)  # Пример шумных данных\n",
    "smoothed_data = medfilt(noisy_data, kernel_size=3)"
   ],
   "metadata": {
    "collapsed": false
   },
   "id": "f5080c7f031473b8"
  },
  {
   "cell_type": "code",
   "execution_count": null,
   "outputs": [],
   "source": [
    "print(noisy_data)"
   ],
   "metadata": {
    "collapsed": false
   },
   "id": "d00b1d28925c7b61"
  },
  {
   "cell_type": "code",
   "execution_count": null,
   "outputs": [],
   "source": [
    "print(smoothed_data)"
   ],
   "metadata": {
    "collapsed": false
   },
   "id": "548bd753f5b2c777"
  },
  {
   "cell_type": "code",
   "execution_count": null,
   "outputs": [],
   "source": [],
   "metadata": {
    "collapsed": false
   },
   "id": "d3aafff74cf62401"
  }
 ],
 "metadata": {
  "kernelspec": {
   "display_name": "Python 3",
   "language": "python",
   "name": "python3"
  },
  "language_info": {
   "codemirror_mode": {
    "name": "ipython",
    "version": 2
   },
   "file_extension": ".py",
   "mimetype": "text/x-python",
   "name": "python",
   "nbconvert_exporter": "python",
   "pygments_lexer": "ipython2",
   "version": "2.7.6"
  }
 },
 "nbformat": 4,
 "nbformat_minor": 5
}
