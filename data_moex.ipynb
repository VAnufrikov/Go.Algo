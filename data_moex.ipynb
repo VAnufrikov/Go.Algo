{
 "cells": [
  {
   "cell_type": "code",
   "execution_count": 42,
   "id": "initial_id",
   "metadata": {
    "collapsed": true,
    "ExecuteTime": {
     "end_time": "2023-12-02T12:11:50.039531Z",
     "start_time": "2023-12-02T12:11:49.873270Z"
    }
   },
   "outputs": [],
   "source": [
    "import pandas as pd\n",
    "from moexalgo import Market, Ticker"
   ]
  },
  {
   "cell_type": "code",
   "execution_count": 70,
   "outputs": [],
   "source": [
    "df = pd.read_csv('data/ListingSecurityList.csv', engine='python', encoding='cp1251', sep=';')"
   ],
   "metadata": {
    "collapsed": false,
    "ExecuteTime": {
     "end_time": "2023-12-02T13:12:07.413981Z",
     "start_time": "2023-12-02T13:12:07.243374Z"
    }
   },
   "id": "138d3d6d109de82b"
  },
  {
   "cell_type": "code",
   "execution_count": 71,
   "outputs": [
    {
     "data": {
      "text/plain": "Index(['DATESTAMP', 'INSTRUMENT_ID', 'LIST_SECTION', 'RN', 'SUPERTYPE',\n       'INSTRUMENT_TYPE', 'INSTRUMENT_CATEGORY', 'TRADE_CODE', 'ISIN',\n       'REGISTRY_NUMBER', 'REGISTRY_DATE', 'EMITENT_FULL_NAME', 'INN',\n       'NOMINAL', 'CURRENCY', 'ISSUE_AMOUNT', 'DECISION_DATE', 'OKSM_EDR',\n       'ONLY_EMITENT_FULL_NAME', 'REG_COUNTRY', 'QUALIFIED_INVESTOR',\n       'HAS_PROSPECTUS', 'IS_CONCESSION_AGREEMENT', 'IS_MORTGAGE_AGENT',\n       'INCLUDED_DURING_CREATION', 'SECURITY_HAS_DEFAULT',\n       'SECURITY_HAS_TECH_DEFAULT', 'INCLUDED_WITHOUT_COMPLIANCE',\n       'RETAINED_WITHOUT_COMPLIANCE', 'HAS_RESTRICTION_CIRCULATION',\n       'LISTING_LEVEL_HIST', 'OBLIGATION_PROGRAM_RN', 'COUPON_PERCENT',\n       'EARLY_REPAYMENT', 'EARLY_REDEMPTION', 'ISS_BOARDS', 'OTHER_SECURITIES',\n       'DISCLOSURE_PART_PAGE', 'DISCLOSURE_RF_INFO_PAGE', 'INCLUDE_DATE',\n       'CFI_FOREIGN', 'ISIN_UNDERLYING_ASSET', 'CFI_UNDERLYING_ASSET',\n       'PIF_STATUS', 'PIF_STATUS_HIST', 'OBLIGATION_PROGRAM_DATE',\n       'ISS_BOARDS_HASH', 'OTHER_SECURITIES_HASH', 'CACHING_TIMESTAMP',\n       'Unnamed: 49'],\n      dtype='object')"
     },
     "execution_count": 71,
     "metadata": {},
     "output_type": "execute_result"
    }
   ],
   "source": [
    "df.columns"
   ],
   "metadata": {
    "collapsed": false,
    "ExecuteTime": {
     "end_time": "2023-12-02T13:12:07.643494Z",
     "start_time": "2023-12-02T13:12:07.636610Z"
    }
   },
   "id": "77b9b32c9d2e20d1"
  },
  {
   "cell_type": "code",
   "execution_count": 40,
   "outputs": [],
   "source": [
    "df = df[['TRADE_CODE','EMITENT_FULL_NAME','INSTRUMENT_TYPE', 'LIST_SECTION', 'INSTRUMENT_CATEGORY','CURRENCY','NOMINAL','ISSUE_AMOUNT']]"
   ],
   "metadata": {
    "collapsed": false,
    "ExecuteTime": {
     "end_time": "2023-12-02T12:10:16.916846Z",
     "start_time": "2023-12-02T12:10:16.903884Z"
    }
   },
   "id": "c93b7a9c00f24931"
  },
  {
   "cell_type": "code",
   "execution_count": 58,
   "outputs": [
    {
     "data": {
      "text/plain": "'CBOM'"
     },
     "execution_count": 58,
     "metadata": {},
     "output_type": "execute_result"
    }
   ],
   "source": [
    "df['TRADE_CODE'][11]"
   ],
   "metadata": {
    "collapsed": false,
    "ExecuteTime": {
     "end_time": "2023-12-02T12:55:48.667489Z",
     "start_time": "2023-12-02T12:55:48.660110Z"
    }
   },
   "id": "ed6f3cd19f9cad84"
  },
  {
   "cell_type": "code",
   "execution_count": 59,
   "outputs": [],
   "source": [
    "df = df.reset_index(drop=True)"
   ],
   "metadata": {
    "collapsed": false,
    "ExecuteTime": {
     "end_time": "2023-12-02T12:56:16.761282Z",
     "start_time": "2023-12-02T12:56:16.758385Z"
    }
   },
   "id": "c8dfd4e990fa15a8"
  },
  {
   "cell_type": "code",
   "execution_count": 74,
   "outputs": [
    {
     "data": {
      "text/plain": "              DATESTAMP  INSTRUMENT_ID    LIST_SECTION   RN SUPERTYPE  \\\n11   01.12.2023 0:00:00           5771  Первый уровень   12     Акции   \n26   01.12.2023 0:00:00           5201  Первый уровень   27     Акции   \n27   01.12.2023 0:00:00           5923  Первый уровень   28     Акции   \n41   01.12.2023 0:00:00           3762  Первый уровень   42     Акции   \n101  01.12.2023 0:00:00             99  Первый уровень  102     Акции   \n\n                 INSTRUMENT_TYPE  \\\n11            Акция обыкновенная   \n26   Акции иностранного эмитента   \n27   Акции иностранного эмитента   \n41            Акция обыкновенная   \n101           Акция обыкновенная   \n\n                                   INSTRUMENT_CATEGORY TRADE_CODE  \\\n11                                  акции обыкновенные       CBOM   \n26         Акции обыкновенные бездокументарные именные       POLY   \n27   Обыкновенные именные бездокументарные акции кл...       YNDX   \n41                                  акции обыкновенные       ALRS   \n101                                 акции обыкновенные       VTBR   \n\n             ISIN REGISTRY_NUMBER       REGISTRY_DATE  \\\n11   RU000A0JUG31       10101978B  18.08.1999 0:00:00   \n26   JE00B6T5S470             NaN                 NaN   \n27   NL0009805522             NaN                 NaN   \n41   RU0007252813    1-03-40046-N  25.08.2011 0:00:00   \n101  RU000A0JP5V6       10401000B  29.09.2006 0:00:00   \n\n                                     EMITENT_FULL_NAME           INN NOMINAL  \\\n11   \"МОСКОВСКИЙ КРЕДИТНЫЙ БАНК\" (публичное акционе...  7.734203e+09       1   \n26                         Polymetal International plc           NaN    0,03   \n27        Public Limited Liability Company Yandex N.V.           NaN    0,01   \n41   Акционерная компания \"АЛРОСА\" (публичное акцио...  1.433000e+09     0,5   \n101          Банк ВТБ (публичное акционерное общество)  7.702070e+09    0,01   \n\n       CURRENCY    ISSUE_AMOUNT       DECISION_DATE OKSM_EDR  \\\n11        Рубль     33429709866  11.03.2014 0:00:00      NaN   \n26   Доллар США       515259819  14.06.2013 0:00:00      NaN   \n27         Евро       326342270  03.06.2014 0:00:00      NaN   \n41        Рубль      7364965630  23.11.2011 0:00:00      NaN   \n101       Рубль  26849669465190  28.04.2007 0:00:00      NaN   \n\n    ONLY_EMITENT_FULL_NAME REG_COUNTRY QUALIFIED_INVESTOR HAS_PROSPECTUS  \\\n11                     NaN         NaN                NaN              +   \n26                     NaN         NaN                NaN            NaN   \n27                     NaN         NaN                NaN            NaN   \n41                     NaN         NaN                NaN              +   \n101                    NaN         NaN                NaN              +   \n\n    IS_CONCESSION_AGREEMENT IS_MORTGAGE_AGENT INCLUDED_DURING_CREATION  \\\n11                      NaN               NaN                      NaN   \n26                      NaN               NaN                      NaN   \n27                      NaN               NaN                      NaN   \n41                      NaN               NaN                      NaN   \n101                     NaN               NaN                      NaN   \n\n    SECURITY_HAS_DEFAULT SECURITY_HAS_TECH_DEFAULT  \\\n11                   NaN                       NaN   \n26                   NaN                       NaN   \n27                   NaN                       NaN   \n41                   NaN                       NaN   \n101                  NaN                       NaN   \n\n    INCLUDED_WITHOUT_COMPLIANCE RETAINED_WITHOUT_COMPLIANCE  \\\n11                          NaN                         NaN   \n26                          NaN                         NaN   \n27                          NaN                         NaN   \n41                          NaN                         NaN   \n101                         NaN                         NaN   \n\n    HAS_RESTRICTION_CIRCULATION  \\\n11                          NaN   \n26                          NaN   \n27                          NaN   \n41                          NaN   \n101                         NaN   \n\n                                    LISTING_LEVEL_HIST OBLIGATION_PROGRAM_RN  \\\n11   22.06.2015 Включение в Первый уровень 09.06.20...                   NaN   \n26   09.06.2014 Включение в Первый уровень 06.08.20...                   NaN   \n27   09.06.2014 Включение в Первый уровень 03.06.20...                   NaN   \n41   09.06.2014 Включение в Первый уровень 02.10.20...                   NaN   \n101  09.06.2014 Включение в Первый уровень 28.02.20...                   NaN   \n\n    COUPON_PERCENT EARLY_REPAYMENT EARLY_REDEMPTION  \\\n11             NaN             NaN              NaN   \n26             NaN             NaN              NaN   \n27             NaN             NaN              NaN   \n41             NaN             NaN              NaN   \n101            NaN             NaN              NaN   \n\n                                            ISS_BOARDS  \\\n11   РПС: Акции - адрес. РЕПО в ин. валюте: USD РЕП...   \n26   РПС: Акции - адрес. РЕПО в ин. валюте: USD РЕП...   \n27   РПС: Акции - адрес. РЕПО в ин. валюте: USD РЕП...   \n41   РПС: Акции - адрес. РЕПО в ин. валюте: USD РЕП...   \n101  РПС: Акции - адрес. РЕПО в ин. валюте: USD РЕП...   \n\n                                      OTHER_SECURITIES  \\\n11   Облигация биржевая, 4B020801978B, RU000A0JV3K6...   \n26                                                 NaN   \n27                                                 NaN   \n41   Облигация биржевая, 4B02-03-40046-N, RU000A101...   \n101  Облигация биржевая, 4B023001000B, RU000A0JV3Q3...   \n\n                                  DISCLOSURE_PART_PAGE  \\\n11                                  http:// www.mkb.ru   \n26   https://www.polymetalinternational.com/ru/inve...   \n27                https://ir.yandex/financial-releases   \n41       http://www.alrosa.ru/инвесторам-и-акционерам/   \n101                                  http://www.vtb.ru   \n\n                               DISCLOSURE_RF_INFO_PAGE        INCLUDE_DATE  \\\n11   http://www.e-disclosure.ru/portal/company.aspx...  22.06.2015 0:00:00   \n26   https://e-disclosure.ru/portal/company.aspx?id...  09.06.2014 0:00:00   \n27   https://e-disclosure.ru/portal/company.aspx?id...  09.06.2014 0:00:00   \n41   https://e-disclosure.ru/portal/company.aspx?id...  09.06.2014 0:00:00   \n101  http://www.e-disclosure.ru/portal/company.aspx...  09.06.2014 0:00:00   \n\n    CFI_FOREIGN ISIN_UNDERLYING_ASSET CFI_UNDERLYING_ASSET PIF_STATUS  \\\n11          NaN                   NaN                  NaN        NaN   \n26       ESVUFR                   NaN                  NaN        NaN   \n27       ESVUFN                   NaN                  NaN        NaN   \n41          NaN                   NaN                  NaN        NaN   \n101         NaN                   NaN                  NaN        NaN   \n\n    PIF_STATUS_HIST OBLIGATION_PROGRAM_DATE  \\\n11              NaN                     NaN   \n26              NaN                     NaN   \n27              NaN                     NaN   \n41              NaN                     NaN   \n101             NaN                     NaN   \n\n                              ISS_BOARDS_HASH  \\\n11   A60652A98E90C448583A793EB5E9E28DF2995C9A   \n26   394491565781EB41BF42CEA3121F14281F3037E3   \n27   394491565781EB41BF42CEA3121F14281F3037E3   \n41   A60652A98E90C448583A793EB5E9E28DF2995C9A   \n101  A60652A98E90C448583A793EB5E9E28DF2995C9A   \n\n                        OTHER_SECURITIES_HASH    CACHING_TIMESTAMP  \\\n11   6E2F5512613604886B4A11CCB20DEDF8C053E1C6  02.12.2023 10:26:12   \n26   DA39A3EE5E6B4B0D3255BFEF95601890AFD80709  02.12.2023 10:26:12   \n27   DA39A3EE5E6B4B0D3255BFEF95601890AFD80709  02.12.2023 10:26:12   \n41   3FED59C01CBE883FF3719BE731A6A0F0A03D72BE  02.12.2023 10:26:12   \n101  2A91C8E5DF920F2FA4CE99FAA143876E6DED45F4  02.12.2023 10:26:12   \n\n     Unnamed: 49  \n11           NaN  \n26           NaN  \n27           NaN  \n41           NaN  \n101          NaN  ",
      "text/html": "<div>\n<style scoped>\n    .dataframe tbody tr th:only-of-type {\n        vertical-align: middle;\n    }\n\n    .dataframe tbody tr th {\n        vertical-align: top;\n    }\n\n    .dataframe thead th {\n        text-align: right;\n    }\n</style>\n<table border=\"1\" class=\"dataframe\">\n  <thead>\n    <tr style=\"text-align: right;\">\n      <th></th>\n      <th>DATESTAMP</th>\n      <th>INSTRUMENT_ID</th>\n      <th>LIST_SECTION</th>\n      <th>RN</th>\n      <th>SUPERTYPE</th>\n      <th>INSTRUMENT_TYPE</th>\n      <th>INSTRUMENT_CATEGORY</th>\n      <th>TRADE_CODE</th>\n      <th>ISIN</th>\n      <th>REGISTRY_NUMBER</th>\n      <th>REGISTRY_DATE</th>\n      <th>EMITENT_FULL_NAME</th>\n      <th>INN</th>\n      <th>NOMINAL</th>\n      <th>CURRENCY</th>\n      <th>ISSUE_AMOUNT</th>\n      <th>DECISION_DATE</th>\n      <th>OKSM_EDR</th>\n      <th>ONLY_EMITENT_FULL_NAME</th>\n      <th>REG_COUNTRY</th>\n      <th>QUALIFIED_INVESTOR</th>\n      <th>HAS_PROSPECTUS</th>\n      <th>IS_CONCESSION_AGREEMENT</th>\n      <th>IS_MORTGAGE_AGENT</th>\n      <th>INCLUDED_DURING_CREATION</th>\n      <th>SECURITY_HAS_DEFAULT</th>\n      <th>SECURITY_HAS_TECH_DEFAULT</th>\n      <th>INCLUDED_WITHOUT_COMPLIANCE</th>\n      <th>RETAINED_WITHOUT_COMPLIANCE</th>\n      <th>HAS_RESTRICTION_CIRCULATION</th>\n      <th>LISTING_LEVEL_HIST</th>\n      <th>OBLIGATION_PROGRAM_RN</th>\n      <th>COUPON_PERCENT</th>\n      <th>EARLY_REPAYMENT</th>\n      <th>EARLY_REDEMPTION</th>\n      <th>ISS_BOARDS</th>\n      <th>OTHER_SECURITIES</th>\n      <th>DISCLOSURE_PART_PAGE</th>\n      <th>DISCLOSURE_RF_INFO_PAGE</th>\n      <th>INCLUDE_DATE</th>\n      <th>CFI_FOREIGN</th>\n      <th>ISIN_UNDERLYING_ASSET</th>\n      <th>CFI_UNDERLYING_ASSET</th>\n      <th>PIF_STATUS</th>\n      <th>PIF_STATUS_HIST</th>\n      <th>OBLIGATION_PROGRAM_DATE</th>\n      <th>ISS_BOARDS_HASH</th>\n      <th>OTHER_SECURITIES_HASH</th>\n      <th>CACHING_TIMESTAMP</th>\n      <th>Unnamed: 49</th>\n    </tr>\n  </thead>\n  <tbody>\n    <tr>\n      <th>11</th>\n      <td>01.12.2023 0:00:00</td>\n      <td>5771</td>\n      <td>Первый уровень</td>\n      <td>12</td>\n      <td>Акции</td>\n      <td>Акция обыкновенная</td>\n      <td>акции обыкновенные</td>\n      <td>CBOM</td>\n      <td>RU000A0JUG31</td>\n      <td>10101978B</td>\n      <td>18.08.1999 0:00:00</td>\n      <td>\"МОСКОВСКИЙ КРЕДИТНЫЙ БАНК\" (публичное акционе...</td>\n      <td>7.734203e+09</td>\n      <td>1</td>\n      <td>Рубль</td>\n      <td>33429709866</td>\n      <td>11.03.2014 0:00:00</td>\n      <td>NaN</td>\n      <td>NaN</td>\n      <td>NaN</td>\n      <td>NaN</td>\n      <td>+</td>\n      <td>NaN</td>\n      <td>NaN</td>\n      <td>NaN</td>\n      <td>NaN</td>\n      <td>NaN</td>\n      <td>NaN</td>\n      <td>NaN</td>\n      <td>NaN</td>\n      <td>22.06.2015 Включение в Первый уровень 09.06.20...</td>\n      <td>NaN</td>\n      <td>NaN</td>\n      <td>NaN</td>\n      <td>NaN</td>\n      <td>РПС: Акции - адрес. РЕПО в ин. валюте: USD РЕП...</td>\n      <td>Облигация биржевая, 4B020801978B, RU000A0JV3K6...</td>\n      <td>http:// www.mkb.ru</td>\n      <td>http://www.e-disclosure.ru/portal/company.aspx...</td>\n      <td>22.06.2015 0:00:00</td>\n      <td>NaN</td>\n      <td>NaN</td>\n      <td>NaN</td>\n      <td>NaN</td>\n      <td>NaN</td>\n      <td>NaN</td>\n      <td>A60652A98E90C448583A793EB5E9E28DF2995C9A</td>\n      <td>6E2F5512613604886B4A11CCB20DEDF8C053E1C6</td>\n      <td>02.12.2023 10:26:12</td>\n      <td>NaN</td>\n    </tr>\n    <tr>\n      <th>26</th>\n      <td>01.12.2023 0:00:00</td>\n      <td>5201</td>\n      <td>Первый уровень</td>\n      <td>27</td>\n      <td>Акции</td>\n      <td>Акции иностранного эмитента</td>\n      <td>Акции обыкновенные бездокументарные именные</td>\n      <td>POLY</td>\n      <td>JE00B6T5S470</td>\n      <td>NaN</td>\n      <td>NaN</td>\n      <td>Polymetal International plc</td>\n      <td>NaN</td>\n      <td>0,03</td>\n      <td>Доллар США</td>\n      <td>515259819</td>\n      <td>14.06.2013 0:00:00</td>\n      <td>NaN</td>\n      <td>NaN</td>\n      <td>NaN</td>\n      <td>NaN</td>\n      <td>NaN</td>\n      <td>NaN</td>\n      <td>NaN</td>\n      <td>NaN</td>\n      <td>NaN</td>\n      <td>NaN</td>\n      <td>NaN</td>\n      <td>NaN</td>\n      <td>NaN</td>\n      <td>09.06.2014 Включение в Первый уровень 06.08.20...</td>\n      <td>NaN</td>\n      <td>NaN</td>\n      <td>NaN</td>\n      <td>NaN</td>\n      <td>РПС: Акции - адрес. РЕПО в ин. валюте: USD РЕП...</td>\n      <td>NaN</td>\n      <td>https://www.polymetalinternational.com/ru/inve...</td>\n      <td>https://e-disclosure.ru/portal/company.aspx?id...</td>\n      <td>09.06.2014 0:00:00</td>\n      <td>ESVUFR</td>\n      <td>NaN</td>\n      <td>NaN</td>\n      <td>NaN</td>\n      <td>NaN</td>\n      <td>NaN</td>\n      <td>394491565781EB41BF42CEA3121F14281F3037E3</td>\n      <td>DA39A3EE5E6B4B0D3255BFEF95601890AFD80709</td>\n      <td>02.12.2023 10:26:12</td>\n      <td>NaN</td>\n    </tr>\n    <tr>\n      <th>27</th>\n      <td>01.12.2023 0:00:00</td>\n      <td>5923</td>\n      <td>Первый уровень</td>\n      <td>28</td>\n      <td>Акции</td>\n      <td>Акции иностранного эмитента</td>\n      <td>Обыкновенные именные бездокументарные акции кл...</td>\n      <td>YNDX</td>\n      <td>NL0009805522</td>\n      <td>NaN</td>\n      <td>NaN</td>\n      <td>Public Limited Liability Company Yandex N.V.</td>\n      <td>NaN</td>\n      <td>0,01</td>\n      <td>Евро</td>\n      <td>326342270</td>\n      <td>03.06.2014 0:00:00</td>\n      <td>NaN</td>\n      <td>NaN</td>\n      <td>NaN</td>\n      <td>NaN</td>\n      <td>NaN</td>\n      <td>NaN</td>\n      <td>NaN</td>\n      <td>NaN</td>\n      <td>NaN</td>\n      <td>NaN</td>\n      <td>NaN</td>\n      <td>NaN</td>\n      <td>NaN</td>\n      <td>09.06.2014 Включение в Первый уровень 03.06.20...</td>\n      <td>NaN</td>\n      <td>NaN</td>\n      <td>NaN</td>\n      <td>NaN</td>\n      <td>РПС: Акции - адрес. РЕПО в ин. валюте: USD РЕП...</td>\n      <td>NaN</td>\n      <td>https://ir.yandex/financial-releases</td>\n      <td>https://e-disclosure.ru/portal/company.aspx?id...</td>\n      <td>09.06.2014 0:00:00</td>\n      <td>ESVUFN</td>\n      <td>NaN</td>\n      <td>NaN</td>\n      <td>NaN</td>\n      <td>NaN</td>\n      <td>NaN</td>\n      <td>394491565781EB41BF42CEA3121F14281F3037E3</td>\n      <td>DA39A3EE5E6B4B0D3255BFEF95601890AFD80709</td>\n      <td>02.12.2023 10:26:12</td>\n      <td>NaN</td>\n    </tr>\n    <tr>\n      <th>41</th>\n      <td>01.12.2023 0:00:00</td>\n      <td>3762</td>\n      <td>Первый уровень</td>\n      <td>42</td>\n      <td>Акции</td>\n      <td>Акция обыкновенная</td>\n      <td>акции обыкновенные</td>\n      <td>ALRS</td>\n      <td>RU0007252813</td>\n      <td>1-03-40046-N</td>\n      <td>25.08.2011 0:00:00</td>\n      <td>Акционерная компания \"АЛРОСА\" (публичное акцио...</td>\n      <td>1.433000e+09</td>\n      <td>0,5</td>\n      <td>Рубль</td>\n      <td>7364965630</td>\n      <td>23.11.2011 0:00:00</td>\n      <td>NaN</td>\n      <td>NaN</td>\n      <td>NaN</td>\n      <td>NaN</td>\n      <td>+</td>\n      <td>NaN</td>\n      <td>NaN</td>\n      <td>NaN</td>\n      <td>NaN</td>\n      <td>NaN</td>\n      <td>NaN</td>\n      <td>NaN</td>\n      <td>NaN</td>\n      <td>09.06.2014 Включение в Первый уровень 02.10.20...</td>\n      <td>NaN</td>\n      <td>NaN</td>\n      <td>NaN</td>\n      <td>NaN</td>\n      <td>РПС: Акции - адрес. РЕПО в ин. валюте: USD РЕП...</td>\n      <td>Облигация биржевая, 4B02-03-40046-N, RU000A101...</td>\n      <td>http://www.alrosa.ru/инвесторам-и-акционерам/</td>\n      <td>https://e-disclosure.ru/portal/company.aspx?id...</td>\n      <td>09.06.2014 0:00:00</td>\n      <td>NaN</td>\n      <td>NaN</td>\n      <td>NaN</td>\n      <td>NaN</td>\n      <td>NaN</td>\n      <td>NaN</td>\n      <td>A60652A98E90C448583A793EB5E9E28DF2995C9A</td>\n      <td>3FED59C01CBE883FF3719BE731A6A0F0A03D72BE</td>\n      <td>02.12.2023 10:26:12</td>\n      <td>NaN</td>\n    </tr>\n    <tr>\n      <th>101</th>\n      <td>01.12.2023 0:00:00</td>\n      <td>99</td>\n      <td>Первый уровень</td>\n      <td>102</td>\n      <td>Акции</td>\n      <td>Акция обыкновенная</td>\n      <td>акции обыкновенные</td>\n      <td>VTBR</td>\n      <td>RU000A0JP5V6</td>\n      <td>10401000B</td>\n      <td>29.09.2006 0:00:00</td>\n      <td>Банк ВТБ (публичное акционерное общество)</td>\n      <td>7.702070e+09</td>\n      <td>0,01</td>\n      <td>Рубль</td>\n      <td>26849669465190</td>\n      <td>28.04.2007 0:00:00</td>\n      <td>NaN</td>\n      <td>NaN</td>\n      <td>NaN</td>\n      <td>NaN</td>\n      <td>+</td>\n      <td>NaN</td>\n      <td>NaN</td>\n      <td>NaN</td>\n      <td>NaN</td>\n      <td>NaN</td>\n      <td>NaN</td>\n      <td>NaN</td>\n      <td>NaN</td>\n      <td>09.06.2014 Включение в Первый уровень 28.02.20...</td>\n      <td>NaN</td>\n      <td>NaN</td>\n      <td>NaN</td>\n      <td>NaN</td>\n      <td>РПС: Акции - адрес. РЕПО в ин. валюте: USD РЕП...</td>\n      <td>Облигация биржевая, 4B023001000B, RU000A0JV3Q3...</td>\n      <td>http://www.vtb.ru</td>\n      <td>http://www.e-disclosure.ru/portal/company.aspx...</td>\n      <td>09.06.2014 0:00:00</td>\n      <td>NaN</td>\n      <td>NaN</td>\n      <td>NaN</td>\n      <td>NaN</td>\n      <td>NaN</td>\n      <td>NaN</td>\n      <td>A60652A98E90C448583A793EB5E9E28DF2995C9A</td>\n      <td>2A91C8E5DF920F2FA4CE99FAA143876E6DED45F4</td>\n      <td>02.12.2023 10:26:12</td>\n      <td>NaN</td>\n    </tr>\n  </tbody>\n</table>\n</div>"
     },
     "execution_count": 74,
     "metadata": {},
     "output_type": "execute_result"
    }
   ],
   "source": [
    "df.head()"
   ],
   "metadata": {
    "collapsed": false,
    "ExecuteTime": {
     "end_time": "2023-12-02T13:12:31.326260Z",
     "start_time": "2023-12-02T13:12:31.317447Z"
    }
   },
   "id": "bdaf3a8f641e5e2"
  },
  {
   "cell_type": "code",
   "execution_count": 47,
   "outputs": [],
   "source": [
    "pd.set_option('display.max_columns', 100)"
   ],
   "metadata": {
    "collapsed": false,
    "ExecuteTime": {
     "end_time": "2023-12-02T12:42:39.307929Z",
     "start_time": "2023-12-02T12:42:39.303744Z"
    }
   },
   "id": "b45d8ed2a8757661"
  },
  {
   "cell_type": "code",
   "execution_count": 73,
   "outputs": [],
   "source": [
    "df = df[(df['INSTRUMENT_TYPE'] == 'Акция обыкновенная') | (df['INSTRUMENT_TYPE'] == 'Акции иностранного эмитента')]"
   ],
   "metadata": {
    "collapsed": false,
    "ExecuteTime": {
     "end_time": "2023-12-02T13:12:29.308848Z",
     "start_time": "2023-12-02T13:12:29.302599Z"
    }
   },
   "id": "8b4b74dc17807f39"
  },
  {
   "cell_type": "code",
   "execution_count": 64,
   "outputs": [],
   "source": [
    "# Акции SBER\n",
    "sber = Ticker('POLY')\n",
    "\n",
    "# Все акции\n",
    "stocks = Market('stocks')"
   ],
   "metadata": {
    "collapsed": false,
    "ExecuteTime": {
     "end_time": "2023-12-02T12:58:37.791282Z",
     "start_time": "2023-12-02T12:58:37.783918Z"
    }
   },
   "id": "77ee8728e8ba13b7"
  },
  {
   "cell_type": "code",
   "execution_count": 75,
   "outputs": [
    {
     "data": {
      "text/plain": "    open  close   high    low       value   volume               begin  \\\n0  525.3  525.3  525.3  525.3   2129566.2   4054.0 2023-10-10 09:50:00   \n1  525.2  520.9  525.2  519.5  35211261.8  67509.0 2023-10-10 10:00:00   \n2  521.2  519.3  522.7  517.3  27345103.6  52578.0 2023-10-10 10:10:00   \n3  518.8  519.0  519.5  516.3  23626505.3  45626.0 2023-10-10 10:20:00   \n4  519.1  519.3  519.4  518.3   6536669.2  12599.0 2023-10-10 10:30:00   \n\n                  end  \n0 2023-10-10 09:59:59  \n1 2023-10-10 10:09:59  \n2 2023-10-10 10:19:59  \n3 2023-10-10 10:29:59  \n4 2023-10-10 10:39:59  ",
      "text/html": "<div>\n<style scoped>\n    .dataframe tbody tr th:only-of-type {\n        vertical-align: middle;\n    }\n\n    .dataframe tbody tr th {\n        vertical-align: top;\n    }\n\n    .dataframe thead th {\n        text-align: right;\n    }\n</style>\n<table border=\"1\" class=\"dataframe\">\n  <thead>\n    <tr style=\"text-align: right;\">\n      <th></th>\n      <th>open</th>\n      <th>close</th>\n      <th>high</th>\n      <th>low</th>\n      <th>value</th>\n      <th>volume</th>\n      <th>begin</th>\n      <th>end</th>\n    </tr>\n  </thead>\n  <tbody>\n    <tr>\n      <th>0</th>\n      <td>525.3</td>\n      <td>525.3</td>\n      <td>525.3</td>\n      <td>525.3</td>\n      <td>2129566.2</td>\n      <td>4054.0</td>\n      <td>2023-10-10 09:50:00</td>\n      <td>2023-10-10 09:59:59</td>\n    </tr>\n    <tr>\n      <th>1</th>\n      <td>525.2</td>\n      <td>520.9</td>\n      <td>525.2</td>\n      <td>519.5</td>\n      <td>35211261.8</td>\n      <td>67509.0</td>\n      <td>2023-10-10 10:00:00</td>\n      <td>2023-10-10 10:09:59</td>\n    </tr>\n    <tr>\n      <th>2</th>\n      <td>521.2</td>\n      <td>519.3</td>\n      <td>522.7</td>\n      <td>517.3</td>\n      <td>27345103.6</td>\n      <td>52578.0</td>\n      <td>2023-10-10 10:10:00</td>\n      <td>2023-10-10 10:19:59</td>\n    </tr>\n    <tr>\n      <th>3</th>\n      <td>518.8</td>\n      <td>519.0</td>\n      <td>519.5</td>\n      <td>516.3</td>\n      <td>23626505.3</td>\n      <td>45626.0</td>\n      <td>2023-10-10 10:20:00</td>\n      <td>2023-10-10 10:29:59</td>\n    </tr>\n    <tr>\n      <th>4</th>\n      <td>519.1</td>\n      <td>519.3</td>\n      <td>519.4</td>\n      <td>518.3</td>\n      <td>6536669.2</td>\n      <td>12599.0</td>\n      <td>2023-10-10 10:30:00</td>\n      <td>2023-10-10 10:39:59</td>\n    </tr>\n  </tbody>\n</table>\n</div>"
     },
     "execution_count": 75,
     "metadata": {},
     "output_type": "execute_result"
    }
   ],
   "source": [
    "# Свечи по акциям SBER за период\n",
    "sber.candles(date='2023-10-10', till_date='2023-10-18', period='10m').head()"
   ],
   "metadata": {
    "collapsed": false,
    "ExecuteTime": {
     "end_time": "2023-12-02T13:21:18.755661Z",
     "start_time": "2023-12-02T13:21:18.025747Z"
    }
   },
   "id": "7598fc823850b060"
  },
  {
   "cell_type": "code",
   "execution_count": 67,
   "outputs": [],
   "source": [
    "DATE_START = '2023-01-01'\n",
    "DATE_END = '2023-01-02'"
   ],
   "metadata": {
    "collapsed": false,
    "ExecuteTime": {
     "end_time": "2023-12-02T13:00:10.474025Z",
     "start_time": "2023-12-02T13:00:10.473081Z"
    }
   },
   "id": "790cdff19c4ea42b"
  },
  {
   "cell_type": "code",
   "execution_count": 78,
   "outputs": [
    {
     "data": {
      "text/plain": "Empty DataFrame\nColumns: []\nIndex: []",
      "text/html": "<div>\n<style scoped>\n    .dataframe tbody tr th:only-of-type {\n        vertical-align: middle;\n    }\n\n    .dataframe tbody tr th {\n        vertical-align: top;\n    }\n\n    .dataframe thead th {\n        text-align: right;\n    }\n</style>\n<table border=\"1\" class=\"dataframe\">\n  <thead>\n    <tr style=\"text-align: right;\">\n      <th></th>\n    </tr>\n  </thead>\n  <tbody>\n  </tbody>\n</table>\n</div>"
     },
     "execution_count": 78,
     "metadata": {},
     "output_type": "execute_result"
    }
   ],
   "source": [
    "sber.tradestats(date='2023-01-01', till_date='2023-01-02').head()"
   ],
   "metadata": {
    "collapsed": false,
    "ExecuteTime": {
     "end_time": "2023-12-02T13:22:20.893866Z",
     "start_time": "2023-12-02T13:22:20.598981Z"
    }
   },
   "id": "f7f62d19b1cc7380"
  },
  {
   "cell_type": "code",
   "execution_count": 76,
   "outputs": [
    {
     "data": {
      "text/plain": "Empty DataFrame\nColumns: []\nIndex: []",
      "text/html": "<div>\n<style scoped>\n    .dataframe tbody tr th:only-of-type {\n        vertical-align: middle;\n    }\n\n    .dataframe tbody tr th {\n        vertical-align: top;\n    }\n\n    .dataframe thead th {\n        text-align: right;\n    }\n</style>\n<table border=\"1\" class=\"dataframe\">\n  <thead>\n    <tr style=\"text-align: right;\">\n      <th></th>\n    </tr>\n  </thead>\n  <tbody>\n  </tbody>\n</table>\n</div>"
     },
     "execution_count": 76,
     "metadata": {},
     "output_type": "execute_result"
    }
   ],
   "source": [
    "# Данные по акциям SBER за период\n",
    "sber.tradestats(date=DATE_START, till_date=DATE_END).head()"
   ],
   "metadata": {
    "collapsed": false,
    "ExecuteTime": {
     "end_time": "2023-12-02T13:21:49.232268Z",
     "start_time": "2023-12-02T13:21:48.920064Z"
    }
   },
   "id": "e52da95c7e859e7e"
  },
  {
   "cell_type": "code",
   "execution_count": 52,
   "outputs": [
    {
     "name": "stdout",
     "output_type": "stream",
     "text": [
      "<class 'pandas.core.frame.DataFrame'>\n",
      "RangeIndex: 5 entries, 0 to 4\n",
      "Data columns (total 23 columns):\n",
      " #   Column     Non-Null Count  Dtype         \n",
      "---  ------     --------------  -----         \n",
      " 0   ticker     5 non-null      object        \n",
      " 1   tradedate  5 non-null      object        \n",
      " 2   tradetime  5 non-null      object        \n",
      " 3   pr_open    5 non-null      float64       \n",
      " 4   pr_high    5 non-null      float64       \n",
      " 5   pr_low     5 non-null      float64       \n",
      " 6   pr_close   5 non-null      float64       \n",
      " 7   pr_std     5 non-null      float64       \n",
      " 8   vol        5 non-null      int64         \n",
      " 9   val        5 non-null      float64       \n",
      " 10  trades     5 non-null      int64         \n",
      " 11  pr_vwap    5 non-null      float64       \n",
      " 12  pr_change  5 non-null      float64       \n",
      " 13  trades_b   5 non-null      int64         \n",
      " 14  trades_s   5 non-null      int64         \n",
      " 15  val_b      5 non-null      float64       \n",
      " 16  val_s      5 non-null      float64       \n",
      " 17  vol_b      5 non-null      int64         \n",
      " 18  vol_s      5 non-null      int64         \n",
      " 19  disb       5 non-null      float64       \n",
      " 20  pr_vwap_b  5 non-null      float64       \n",
      " 21  pr_vwap_s  5 non-null      float64       \n",
      " 22  systime    5 non-null      datetime64[ns]\n",
      "dtypes: datetime64[ns](1), float64(13), int64(6), object(3)\n",
      "memory usage: 1.0+ KB\n"
     ]
    }
   ],
   "source": [
    "df_poly.info()"
   ],
   "metadata": {
    "collapsed": false,
    "ExecuteTime": {
     "end_time": "2023-12-02T12:51:27.556449Z",
     "start_time": "2023-12-02T12:51:27.552567Z"
    }
   },
   "id": "dd2e1eda24342940"
  },
  {
   "cell_type": "code",
   "execution_count": 46,
   "outputs": [
    {
     "data": {
      "text/plain": "  ticker   tradedate tradetime   pr_open   pr_high    pr_low  pr_close  \\\n0   ABIO  2023-10-10  10:05:00   119.520   119.800   114.000   117.380   \n1   ABRD  2023-10-10  10:05:00   305.600   307.400   305.600   306.600   \n2   AFKS  2023-10-10  10:05:00    17.601    17.606    17.501    17.511   \n3   AFLT  2023-10-10  10:05:00    40.560    40.590    40.470    40.550   \n4   AGRO  2023-10-10  10:05:00  1200.000  1209.600  1200.000  1209.600   \n\n   pr_std    vol         val  ...  trades_b  trades_s       val_b       val_s  \\\n0  0.0017  45904  53480659.0  ...       647       790  26741563.0  26739095.0   \n1  0.0007    480   1471600.0  ...        36        13   1141020.0    330580.0   \n2  0.0003  10943  19184629.0  ...       206       152   5859774.0  13324855.0   \n3  0.0004   4517   1830400.0  ...       139        46   1352553.0    477847.0   \n4  0.0004   5834   7036248.0  ...       265        60   5784024.0   1252224.0   \n\n   vol_b  vol_s  disb  pr_vwap_b  pr_vwap_s             systime  \n0  22932  22972  0.00    116.610    116.400 2023-10-26 15:44:37  \n1    372    108  0.55    306.700    306.100 2023-10-26 15:44:37  \n2   3341   7602 -0.39     17.539     17.528 2023-10-26 15:44:37  \n3   3337   1180  0.48     40.530     40.500 2023-10-26 15:44:37  \n4   4795   1039  0.64   1206.300   1205.200 2023-10-26 15:44:37  \n\n[5 rows x 23 columns]",
      "text/html": "<div>\n<style scoped>\n    .dataframe tbody tr th:only-of-type {\n        vertical-align: middle;\n    }\n\n    .dataframe tbody tr th {\n        vertical-align: top;\n    }\n\n    .dataframe thead th {\n        text-align: right;\n    }\n</style>\n<table border=\"1\" class=\"dataframe\">\n  <thead>\n    <tr style=\"text-align: right;\">\n      <th></th>\n      <th>ticker</th>\n      <th>tradedate</th>\n      <th>tradetime</th>\n      <th>pr_open</th>\n      <th>pr_high</th>\n      <th>pr_low</th>\n      <th>pr_close</th>\n      <th>pr_std</th>\n      <th>vol</th>\n      <th>val</th>\n      <th>...</th>\n      <th>trades_b</th>\n      <th>trades_s</th>\n      <th>val_b</th>\n      <th>val_s</th>\n      <th>vol_b</th>\n      <th>vol_s</th>\n      <th>disb</th>\n      <th>pr_vwap_b</th>\n      <th>pr_vwap_s</th>\n      <th>systime</th>\n    </tr>\n  </thead>\n  <tbody>\n    <tr>\n      <th>0</th>\n      <td>ABIO</td>\n      <td>2023-10-10</td>\n      <td>10:05:00</td>\n      <td>119.520</td>\n      <td>119.800</td>\n      <td>114.000</td>\n      <td>117.380</td>\n      <td>0.0017</td>\n      <td>45904</td>\n      <td>53480659.0</td>\n      <td>...</td>\n      <td>647</td>\n      <td>790</td>\n      <td>26741563.0</td>\n      <td>26739095.0</td>\n      <td>22932</td>\n      <td>22972</td>\n      <td>0.00</td>\n      <td>116.610</td>\n      <td>116.400</td>\n      <td>2023-10-26 15:44:37</td>\n    </tr>\n    <tr>\n      <th>1</th>\n      <td>ABRD</td>\n      <td>2023-10-10</td>\n      <td>10:05:00</td>\n      <td>305.600</td>\n      <td>307.400</td>\n      <td>305.600</td>\n      <td>306.600</td>\n      <td>0.0007</td>\n      <td>480</td>\n      <td>1471600.0</td>\n      <td>...</td>\n      <td>36</td>\n      <td>13</td>\n      <td>1141020.0</td>\n      <td>330580.0</td>\n      <td>372</td>\n      <td>108</td>\n      <td>0.55</td>\n      <td>306.700</td>\n      <td>306.100</td>\n      <td>2023-10-26 15:44:37</td>\n    </tr>\n    <tr>\n      <th>2</th>\n      <td>AFKS</td>\n      <td>2023-10-10</td>\n      <td>10:05:00</td>\n      <td>17.601</td>\n      <td>17.606</td>\n      <td>17.501</td>\n      <td>17.511</td>\n      <td>0.0003</td>\n      <td>10943</td>\n      <td>19184629.0</td>\n      <td>...</td>\n      <td>206</td>\n      <td>152</td>\n      <td>5859774.0</td>\n      <td>13324855.0</td>\n      <td>3341</td>\n      <td>7602</td>\n      <td>-0.39</td>\n      <td>17.539</td>\n      <td>17.528</td>\n      <td>2023-10-26 15:44:37</td>\n    </tr>\n    <tr>\n      <th>3</th>\n      <td>AFLT</td>\n      <td>2023-10-10</td>\n      <td>10:05:00</td>\n      <td>40.560</td>\n      <td>40.590</td>\n      <td>40.470</td>\n      <td>40.550</td>\n      <td>0.0004</td>\n      <td>4517</td>\n      <td>1830400.0</td>\n      <td>...</td>\n      <td>139</td>\n      <td>46</td>\n      <td>1352553.0</td>\n      <td>477847.0</td>\n      <td>3337</td>\n      <td>1180</td>\n      <td>0.48</td>\n      <td>40.530</td>\n      <td>40.500</td>\n      <td>2023-10-26 15:44:37</td>\n    </tr>\n    <tr>\n      <th>4</th>\n      <td>AGRO</td>\n      <td>2023-10-10</td>\n      <td>10:05:00</td>\n      <td>1200.000</td>\n      <td>1209.600</td>\n      <td>1200.000</td>\n      <td>1209.600</td>\n      <td>0.0004</td>\n      <td>5834</td>\n      <td>7036248.0</td>\n      <td>...</td>\n      <td>265</td>\n      <td>60</td>\n      <td>5784024.0</td>\n      <td>1252224.0</td>\n      <td>4795</td>\n      <td>1039</td>\n      <td>0.64</td>\n      <td>1206.300</td>\n      <td>1205.200</td>\n      <td>2023-10-26 15:44:37</td>\n    </tr>\n  </tbody>\n</table>\n<p>5 rows × 23 columns</p>\n</div>"
     },
     "execution_count": 46,
     "metadata": {},
     "output_type": "execute_result"
    }
   ],
   "source": [
    "# Данные по всем акциям за дату. Чтобы получить данные за период, нужно запустить цикл по датам\n",
    "stocks.tradestats(date='2023-10-10').head()"
   ],
   "metadata": {
    "collapsed": false,
    "ExecuteTime": {
     "end_time": "2023-12-02T12:13:16.674863Z",
     "start_time": "2023-12-02T12:13:14.068421Z"
    }
   },
   "id": "431ce1b673b9361e"
  },
  {
   "cell_type": "code",
   "execution_count": null,
   "outputs": [],
   "source": [],
   "metadata": {
    "collapsed": false
   },
   "id": "96f5eb435c0e16d5"
  }
 ],
 "metadata": {
  "kernelspec": {
   "display_name": "Python 3",
   "language": "python",
   "name": "python3"
  },
  "language_info": {
   "codemirror_mode": {
    "name": "ipython",
    "version": 2
   },
   "file_extension": ".py",
   "mimetype": "text/x-python",
   "name": "python",
   "nbconvert_exporter": "python",
   "pygments_lexer": "ipython2",
   "version": "2.7.6"
  }
 },
 "nbformat": 4,
 "nbformat_minor": 5
}
